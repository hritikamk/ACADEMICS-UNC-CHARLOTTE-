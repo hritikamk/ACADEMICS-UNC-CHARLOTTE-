{
  "cells": [
    {
      "cell_type": "markdown",
      "metadata": {
        "id": "8m7HQebkIqwG"
      },
      "source": [
        "# Intro to Python and ML Libraries\n",
        "\n",
        "\n",
        "\n",
        "## Intro to Machine Learning\n",
        "### Instructor: Xiang Zhang"
      ]
    },
    {
      "cell_type": "markdown",
      "metadata": {
        "id": "BXEq6u66IqwJ"
      },
      "source": [
        "\n",
        "For those new to Python or NumPy this notebook aims to provide you with a quick and basic introduction to these concepts. You should refer back to this notebook throughout the semester when you need programming help!\n",
        "\n",
        "Each Python library is super comprehensive, and you need around one week for each library if you really want to master it. You don't have enough time to learn everything for sure. So my suggestion is: to get a high-level idea of each tool/library, and search the specific command/function when it's needed in coding.\n",
        "\n",
        "\n",
        "Check the Python cheatsheets for [Numpy, Pandas, Matplotlib, and Sk-Learn](https://web.itu.edu.tr/iguzel/files/Python_Cheat_Sheets.pdf).\n",
        "\n",
        "\n",
        "### Topics\n",
        "- Brief Introduction to Jupyter Notebooks\n",
        "\n",
        "- Python\n",
        "    - Basic Data Types\n",
        "    - Containers\n",
        "    - For Loops and List Comprehension\n",
        "    - Lambda Functions\n",
        "    - Debugging\n",
        "- NumPy\n",
        "    - Generating Arrays (ndarray)\n",
        "    - Indexing Arrays\n",
        "    - Copying and Slices\n",
        "    - Reshaping and Adding New Dimensions\n",
        "    - What is an Axis?\n",
        "    - Datatypes\n",
        "    - List Comprehension with Arrays\n",
        "    - Searching Arrays: Finding Specific Values and Indexes\n",
        "    - Array Operations\n",
        "    - Matmul, Shape Mismatch, and Broadcasting Errors\n",
        "- Pandas\n",
        "    - DataFrames\n",
        "    - Indexing DataFrames\n",
        "- Matplotlib\n",
        "    - Basic Line Plotting\n",
        "<hr>\n",
        "\n",
        "**References**\n",
        "  - [1] Python Numpy Tutorial (with Jupyter and Colab).” https://cs231n.github.io/python-numpy-tutorial/#python\n"
      ]
    },
    {
      "cell_type": "code",
      "execution_count": null,
      "metadata": {
        "id": "NlgVjsqUIqwK"
      },
      "outputs": [],
      "source": [
        "# Additional imports beyond the scope of this lab\n",
        "import traceback # Useful for printing errors cause by try-catches\n",
        "import random\n",
        "\n",
        "# Set NumPy random seed for replication\n",
        "random.seed(0)\n",
        "\n",
        "# Varaible for enabling or disabling debugging\n",
        "# in the debugging sub-section. For TA convenience!\n",
        "enable_debug = True\n",
        "\n",
        "# Assert whether TODO gives the desired output\n",
        "def todo_check(condi_err):\n",
        "    failed_err = \"You passed {}/{} and FAILED the following code checks:{}\"\n",
        "    failed = \"\"\n",
        "    n_failed = 0\n",
        "    for check, (condi, err) in enumerate(condi_err):\n",
        "        if not condi:\n",
        "            n_failed += 1\n",
        "            failed += f\"\\nFailed check [{check+1}]:\\n\\t Tip: {err}\"\n",
        "\n",
        "    if len(failed) != 0:\n",
        "        passed = len(condi_err) - n_failed\n",
        "        err = failed_err.format(passed, len(condi_err), failed)\n",
        "        raise AssertionError(err.format(failed))\n",
        "    print(\"Your code PASSED the code check!\")"
      ]
    },
    {
      "cell_type": "markdown",
      "metadata": {
        "id": "zssC2YXzIqwL"
      },
      "source": [
        "# What is a Jupyter Notebook?"
      ]
    },
    {
      "cell_type": "markdown",
      "metadata": {
        "id": "Ac46cWXdIqwL"
      },
      "source": [
        "A Jupyter notebook is made up of a number of cells. Each cell can contain Python code. There are two main types of cells: `Code` cells and `Markdown` cells. This particular cell is a `Markdown` cell. You can execute a particular cell by double clicking on it (the highlight color will switch from blue to green) and pressing `Shift-Enter`. When you do so, if the cell is a `Code` cell, the code in the cell will run, and the output of the cell will be displayed beneath the cell, and if the cell is a `Markdown` cell, the markdown text will get rendered beneath the cell [1].\n",
        "\n",
        "**On the top menu, click \"Help\" --> \"Edit Keyboard Shortcuts\" to customize the shortcuts that fit your taste!**\n",
        "\n",
        "Go ahead and try executing this cell."
      ]
    },
    {
      "cell_type": "markdown",
      "metadata": {
        "id": "asxU2Y16IqwL"
      },
      "source": [
        "The cell below is a `Code` cell. Go ahead and click it, then execute it as well."
      ]
    },
    {
      "cell_type": "code",
      "execution_count": null,
      "metadata": {
        "id": "el1B2wZNIqwM",
        "outputId": "d1cf4caa-0bb3-4ec8-fc09-8664483d7d52",
        "colab": {
          "base_uri": "https://localhost:8080/"
        }
      },
      "outputs": [
        {
          "output_type": "stream",
          "name": "stdout",
          "text": [
            "1\n"
          ]
        }
      ],
      "source": [
        "x = 1\n",
        "print(x)"
      ]
    },
    {
      "cell_type": "markdown",
      "metadata": {
        "id": "NvAdwnliIqwM"
      },
      "source": [
        "**Global variables** are shared between cells. Notice, **that the `x` defined in the previous cell carries over to this cell.**"
      ]
    },
    {
      "cell_type": "code",
      "execution_count": null,
      "metadata": {
        "id": "TUYRlR7ZIqwN",
        "outputId": "ee8eab9b-ab4e-48ae-e72c-a332cb0141b1",
        "colab": {
          "base_uri": "https://localhost:8080/"
        }
      },
      "outputs": [
        {
          "output_type": "stream",
          "name": "stdout",
          "text": [
            "2\n"
          ]
        }
      ],
      "source": [
        "y = 2 * x\n",
        "print(y)"
      ]
    },
    {
      "cell_type": "markdown",
      "metadata": {
        "id": "eYpa8RMVIqwO"
      },
      "source": [
        "While these global definitions can be useful that can also give beginners some trouble. If you run cells out of order you might get errors you weren't expecting as some cells might depend on other cells being ran first! You typically want to run a notebook sequentially unless you know what you are doing.\n",
        "\n",
        "Notice, when you run the below cell we get the error `NameError: name 'my_variable' is not defined` (notice we caught said error with a try-catch). This is because we haven't ran the cell that defines `my_variable` yet."
      ]
    },
    {
      "cell_type": "code",
      "execution_count": null,
      "metadata": {
        "id": "LJentuM3IqwO",
        "outputId": "62392d4d-178b-459d-e271-2f7f92932d90",
        "colab": {
          "base_uri": "https://localhost:8080/"
        }
      },
      "outputs": [
        {
          "output_type": "stream",
          "name": "stderr",
          "text": [
            "Traceback (most recent call last):\n",
            "  File \"<ipython-input-4-e45cce0f4a4a>\", line 2, in <cell line: 0>\n",
            "    print(my_variable)\n",
            "          ^^^^^^^^^^^\n",
            "NameError: name 'my_variable' is not defined\n"
          ]
        }
      ],
      "source": [
        "try:\n",
        "    print(my_variable)\n",
        "except Exception as e:\n",
        "    traceback.print_exc()"
      ]
    },
    {
      "cell_type": "code",
      "execution_count": null,
      "metadata": {
        "id": "850elIR9IqwO"
      },
      "outputs": [],
      "source": [
        "my_variable = \"This variable is now initialized!\""
      ]
    },
    {
      "cell_type": "markdown",
      "metadata": {
        "id": "LAlqM3tbIqwO"
      },
      "source": [
        "Once we initialize `my_variable`. We can call it without any errors!"
      ]
    },
    {
      "cell_type": "code",
      "execution_count": null,
      "metadata": {
        "id": "_usCBHEVIqwO",
        "outputId": "dc5141d6-db65-4495-8d97-b4c806d4fa8e",
        "colab": {
          "base_uri": "https://localhost:8080/"
        }
      },
      "outputs": [
        {
          "output_type": "stream",
          "name": "stdout",
          "text": [
            "This variable is now initialized!\n"
          ]
        }
      ],
      "source": [
        "print(my_variable)"
      ]
    },
    {
      "cell_type": "markdown",
      "metadata": {
        "id": "AfG1xayTIqwO"
      },
      "source": [
        "## Keyboard Shortcuts\n",
        "\n",
        "There are a few keyboard shortcuts you should be aware of to make your notebook experience more pleasant.\n",
        "\n",
        "* Double click a Markdown cell to edit it\n",
        "* To run a cell and move to the next cell, press `shift+enter`\n",
        "    * Running a Markdown cell will render the cell!\n",
        "* To run a cell and remain on the current cell, press `control+enter`\n",
        "* To place a cell below the current one, press `esc+b`.\n",
        "* To place a cell above the current one, press `esc+a`.\n",
        "* To delete a cell, press `esc+dd`.\n",
        "* To undo deleted cell, press `esc+z`.\n",
        "* To convert a cell to `Markdown` press `esc+m`.\n",
        "* To convert it back to `Code` press `esc+y`.\n",
        "\n",
        "Get familiar with these keyboard shortcuts, they really help!"
      ]
    },
    {
      "cell_type": "markdown",
      "metadata": {
        "id": "T2TV42QjIqwP"
      },
      "source": [
        "### Restarting the notebook kernel\n",
        "You can restart a notebook and clear all cells by clicking `Kernel -> Restart & Clear Output`. If you don't want to clear cell outputs, just hit `Kernel -> Restart`. Once again, restarting will be your go to option when you are getting any weird errors. It is akin to restarting your computer when you run into weird computer errors [1]."
      ]
    },
    {
      "cell_type": "markdown",
      "metadata": {
        "id": "iRCZ91_tIqwP"
      },
      "source": [
        "### Saving the notebook\n",
        "After you have modified a notebook for one of the assignments by modifying or executing some of its cells, remember to save your changes! You can save with the `Command/Control + s` shortcut or by clicking `File -> Save and Checkpoint` [1]."
      ]
    },
    {
      "cell_type": "markdown",
      "metadata": {
        "id": "fLQo8hHhIqwP"
      },
      "source": [
        "# Python\n",
        "\n",
        "Python is a high-level, [dynamically typed](https://stackoverflow.com/questions/1517582/what-is-the-difference-between-statically-typed-and-dynamically-typed-languages) (we don't have to specify the type for the variable) [multiparadigm programming language](https://msritse2012.wordpress.com/2013/01/31/the-concept-of-multi-paradigm-programming-language-manjunath-m/) (supports multiple programming paradigms such as functional and object oriented). Python code is often said to be almost like pseudocode, since it allows you to express very powerful ideas in very few lines of code while being very readable [1].\n",
        "\n",
        "**For this class we will be using Python 3.8 and above.** The below code checks to see if your python version is 3.8 or greater. If it is note, please install a version of Python that is 3.8 or above. You can do so by entering the following line into your command line or Anaconda prompt `conda install python=3.8` or see this [post](https://stackoverflow.com/questions/52035673/how-can-i-update-to-the-latest-python-version-using-conda)."
      ]
    },
    {
      "cell_type": "code",
      "execution_count": null,
      "metadata": {
        "id": "KFUT_y1BIqwP",
        "outputId": "157648bd-7e47-49e6-b2a0-dc99bfa1ac66",
        "colab": {
          "base_uri": "https://localhost:8080/"
        }
      },
      "outputs": [
        {
          "output_type": "stream",
          "name": "stdout",
          "text": [
            "Your python version is 3.11.11\n"
          ]
        }
      ],
      "source": [
        "from platform import python_version\n",
        "import sys\n",
        "print(f\"Your python version is {python_version()}\")\n",
        "assert sys.version_info >= (3, 8), \"Your python version {python_version()} is less than the required version for this course! Please try updating you python version.\""
      ]
    },
    {
      "cell_type": "markdown",
      "metadata": {
        "id": "wumuAP8uIqwP"
      },
      "source": [
        "## Basic Data Types\n",
        "\n",
        "Like most languages, Python has a number of basic types including integers, floats, booleans, and strings. These data types behave in ways that are familiar from other programming languages [1]."
      ]
    },
    {
      "cell_type": "markdown",
      "metadata": {
        "id": "m_sh6jJZIqwP"
      },
      "source": [
        "### Numbers\n",
        "\n",
        "Integers and floats work as you would expect from other languages.\n",
        "\n",
        "Note that we use Python's built in `type` function to check the type of a variable!"
      ]
    },
    {
      "cell_type": "markdown",
      "metadata": {
        "id": "iChk2sdSIqwP"
      },
      "source": [
        "#### TODO 1\n",
        "1. Declare a Python integer by  declaring a variable `x` and setting it equal to 3 using the `=` symbol.\n",
        "\n",
        "**Write your code below the line of \"TODO\"**"
      ]
    },
    {
      "cell_type": "code",
      "execution_count": null,
      "metadata": {
        "id": "UfW7ZA11IqwP",
        "outputId": "6dacc0d8-3957-4b7e-bf85-9ca3fe30bf73",
        "colab": {
          "base_uri": "https://localhost:8080/"
        }
      },
      "outputs": [
        {
          "output_type": "stream",
          "name": "stdout",
          "text": [
            "x is equal to 3\n",
            "Your code PASSED the code check!\n"
          ]
        }
      ],
      "source": [
        "# TODO 1.1\n",
        "x = 3\n",
        "print(f\"x is equal to {x}\")\n",
        "\n",
        "# This a automatic check to make sue your todo was completed correctly!\n",
        "# If you pass this check then you are likely to receive full points on the TODO if\n",
        "# you completed it as specified!\n",
        "todo_check([\n",
        "    (x == 3, 'x is must be set to 3!')\n",
        "])"
      ]
    },
    {
      "cell_type": "markdown",
      "metadata": {
        "id": "ZlSco7fcIqwP"
      },
      "source": [
        "Below are examples some different operations we can perform on integers!"
      ]
    },
    {
      "cell_type": "code",
      "execution_count": null,
      "metadata": {
        "id": "wItENpsIIqwP",
        "colab": {
          "base_uri": "https://localhost:8080/"
        },
        "outputId": "50153fc0-e1be-4e1e-cf4a-f710f3c7e836"
      },
      "outputs": [
        {
          "output_type": "stream",
          "name": "stdout",
          "text": [
            "Check type of x using `type(x)`: <class 'int'>\n",
            "Value of x: 3\n",
            "Value of x + 1: 4\n",
            "Value of x - 1: 2\n",
            "Value of x * 2: 6\n",
            "Value of x^2 or x**2: 9\n"
          ]
        }
      ],
      "source": [
        "print(f\"Check type of x using `type(x)`: {type(x)}\") # Prints \"<class 'int'>\"\n",
        "print(f\"Value of x: {x}\")       # Prints \"3\"\n",
        "print(f\"Value of x + 1: {x + 1}\")   # Addition; prints \"4\"\n",
        "print(f\"Value of x - 1: {x - 1}\")   # Subtraction; prints \"2\"\n",
        "print(f\"Value of x * 2: {x * 2}\")   # Multiplication; prints \"6\"\n",
        "print(f\"Value of x^2 or x**2: {x ** 2}\")  # Exponentiation; prints \"9\""
      ]
    },
    {
      "cell_type": "markdown",
      "metadata": {
        "id": "c28SZa8QIqwQ"
      },
      "source": [
        "We can quickly add to `x` by doing the following. Likewise, this same idea works for multiplication and subtraction."
      ]
    },
    {
      "cell_type": "code",
      "execution_count": null,
      "metadata": {
        "id": "hzimEuzbIqwQ",
        "colab": {
          "base_uri": "https://localhost:8080/"
        },
        "outputId": "94da5e9a-1afc-4196-8882-906607b47bbc"
      },
      "outputs": [
        {
          "output_type": "execute_result",
          "data": {
            "text/plain": [
              "4"
            ]
          },
          "metadata": {},
          "execution_count": 11
        }
      ],
      "source": [
        "x += 1\n",
        "x"
      ]
    },
    {
      "cell_type": "markdown",
      "metadata": {
        "id": "vLZoBZn6IqwQ"
      },
      "source": [
        "Next we can see the same ideas apply to floats.\n",
        "\n",
        "#### TODO 2\n",
        "1. Declare a Python float by declaring a variable `y` and setting it equal to 2.5 using the `=` symbol."
      ]
    },
    {
      "cell_type": "code",
      "execution_count": null,
      "metadata": {
        "id": "iL-g2nuCIqwQ",
        "colab": {
          "base_uri": "https://localhost:8080/"
        },
        "outputId": "095f1bff-05bc-4a12-8446-c8aca175eba2"
      },
      "outputs": [
        {
          "output_type": "stream",
          "name": "stdout",
          "text": [
            "y is equal to 2.5\n",
            "Your code PASSED the code check!\n"
          ]
        }
      ],
      "source": [
        "# TODO 2.1\n",
        "y = 2.5\n",
        "print(f\"y is equal to {y}\")\n",
        "\n",
        "todo_check([\n",
        "    (y == 2.5, 'y is must be set to 2.5!')\n",
        "])"
      ]
    },
    {
      "cell_type": "code",
      "execution_count": null,
      "metadata": {
        "id": "-_73NDxRIqwQ",
        "colab": {
          "base_uri": "https://localhost:8080/"
        },
        "outputId": "94172245-a6d9-4bec-aae5-f20ba6149891"
      },
      "outputs": [
        {
          "output_type": "stream",
          "name": "stdout",
          "text": [
            "Check type of x using `type(y)`: <class 'float'>\n",
            "Value of y: 2.5\n",
            "Value of y + 1: 3.5\n",
            "Value of y - 1: 1.5\n",
            "Value of y * 2: 5.0\n",
            "Value of y^2 or y**2: 6.25\n"
          ]
        }
      ],
      "source": [
        "print(f\"Check type of x using `type(y)`: {type(y)}\") # Prints \"<class 'int'>\"\n",
        "print(f\"Value of y: {y}\")       # Prints \"3\"\n",
        "print(f\"Value of y + 1: {y + 1}\")   # Addition; prints \"4\"\n",
        "print(f\"Value of y - 1: {y - 1}\")   # Subtraction; prints \"2\"\n",
        "print(f\"Value of y * 2: {y * 2}\")   # Multiplication; prints \"6\"\n",
        "print(f\"Value of y^2 or y**2: {y ** 2}\")  # Exponentiation; prints \"9\""
      ]
    },
    {
      "cell_type": "markdown",
      "metadata": {
        "id": "ENv5KTBvIqwQ"
      },
      "source": [
        "### Booleans\n",
        "\n",
        "Python implements all of the usual operators for Boolean logic, but uses English words rather than symbols ($\\&\\&$, $||$, etc.) [1].\n"
      ]
    },
    {
      "cell_type": "markdown",
      "metadata": {
        "id": "cFB33XYOIqwQ"
      },
      "source": [
        "#### TODO 3\n",
        "1. Declare a Python boolean by declaring the variable `t` and setting it equal to True using the `=` symbol.\n",
        "2. Next, declare a Python boolean by declaring the variable `f` and setting it equal to False using the `=` symbol."
      ]
    },
    {
      "cell_type": "code",
      "execution_count": null,
      "metadata": {
        "id": "JwHYB_L-IqwQ",
        "colab": {
          "base_uri": "https://localhost:8080/"
        },
        "outputId": "a99db842-e792-4dd1-a9b4-c3cc71135f6f"
      },
      "outputs": [
        {
          "output_type": "stream",
          "name": "stdout",
          "text": [
            "Your code PASSED the code check!\n"
          ]
        }
      ],
      "source": [
        "# TODO 3.1\n",
        "t = True\n",
        "f = False\n",
        "# TODO 3.2\n",
        "\n",
        "todo_check([\n",
        "    (t == True, 't must be equal to True!'),\n",
        "    (f == False, 'f must be equal to False!'),\n",
        "])\n"
      ]
    },
    {
      "cell_type": "markdown",
      "metadata": {
        "id": "doX4pprzIqwQ"
      },
      "source": [
        "Given two booleans we can perform different boolean operations such as \"and\" and \"or\"."
      ]
    },
    {
      "cell_type": "code",
      "execution_count": null,
      "metadata": {
        "id": "Yo5-Ux5MIqwQ",
        "colab": {
          "base_uri": "https://localhost:8080/"
        },
        "outputId": "627081a1-32b5-4de8-b439-b5ec54e5653b"
      },
      "outputs": [
        {
          "output_type": "stream",
          "name": "stdout",
          "text": [
            "Check type of t using `type(t)`: <class 'bool'>\n",
            "Logical AND: False\n",
            "Logical OR: True\n",
            "NOT or opposite of t value: False\n",
            "Logical XOR: True\n"
          ]
        }
      ],
      "source": [
        "print(f\"Check type of t using `type(t)`: {type(t)}\") # Prints \"<class 'bool'>\"\n",
        "print(f\"Logical AND: {t and f}\") # Logical AND; prints \"False\"\n",
        "print(f\"Logical OR: {t or f}\")\n",
        "print(f\"NOT or opposite of t value: {not t}\")\n",
        "print(f\"Logical XOR: {t != f}\")"
      ]
    },
    {
      "cell_type": "markdown",
      "metadata": {
        "id": "gScQ7jIbIqwQ"
      },
      "source": [
        "### Strings\n",
        "Python has great support for strings, checkout some of the following things you can do [1].\n",
        "\n",
        "Let's practice declaring strings using either single quotes ' ' or double quotes \" \" to declare a string. Typically, people use single quotes ' ' when creating a string that is a single character or word. Likewise, people use double quotes \" \" when creating a string that is a sentence. However, this rule is rather arbitrary and either can be used in practice.  \n",
        "\n",
        "#### TODO 4\n",
        "\n",
        "1. Declare the string \"hello\" and store the it in the variable `hello`.\n",
        "2. Declare the string \"world\" and store the it in the variable `world`."
      ]
    },
    {
      "cell_type": "code",
      "execution_count": null,
      "metadata": {
        "id": "IzpAfSobIqwQ",
        "colab": {
          "base_uri": "https://localhost:8080/"
        },
        "outputId": "fbc6cf1c-ae14-4498-e6d8-a60cee67937f"
      },
      "outputs": [
        {
          "output_type": "stream",
          "name": "stdout",
          "text": [
            "hello world\n",
            "Your code PASSED the code check!\n"
          ]
        }
      ],
      "source": [
        "# TODO 4.1\n",
        "hello = \"hello\"\n",
        "# TODO 4.2\n",
        "world = \"world\"\n",
        "\n",
        "print(hello, world)\n",
        "todo_check([\n",
        "    (hello == 'hello', \"hello should be set to 'hello'\"),\n",
        "    (world == 'world', \"world should be set to 'world'\"),\n",
        "])"
      ]
    },
    {
      "cell_type": "markdown",
      "metadata": {
        "id": "6Du9caXoIqwQ"
      },
      "source": [
        "As we will see, strings are essentially lists so we can use Python's `len()` function to check the length of a string."
      ]
    },
    {
      "cell_type": "code",
      "execution_count": null,
      "metadata": {
        "id": "nIFWlh8_IqwR",
        "colab": {
          "base_uri": "https://localhost:8080/"
        },
        "outputId": "b4796863-1349-4660-c3d5-ba27362793de"
      },
      "outputs": [
        {
          "output_type": "stream",
          "name": "stdout",
          "text": [
            "5\n"
          ]
        }
      ],
      "source": [
        "print(len(hello))  # String length; prints \"5\""
      ]
    },
    {
      "cell_type": "markdown",
      "metadata": {
        "id": "QB2-uz2BIqwU"
      },
      "source": [
        "We can concatenate strings by doing the following."
      ]
    },
    {
      "cell_type": "code",
      "execution_count": null,
      "metadata": {
        "id": "5PLTgmIgIqwU",
        "colab": {
          "base_uri": "https://localhost:8080/",
          "height": 35
        },
        "outputId": "8a05d6a8-9ae2-4cee-9f71-f335f92e7bd9"
      },
      "outputs": [
        {
          "output_type": "execute_result",
          "data": {
            "text/plain": [
              "'hello world'"
            ],
            "application/vnd.google.colaboratory.intrinsic+json": {
              "type": "string"
            }
          },
          "metadata": {},
          "execution_count": 20
        }
      ],
      "source": [
        "hw = hello + ' ' + world  # String concatenation\n",
        "hw"
      ]
    },
    {
      "cell_type": "markdown",
      "metadata": {
        "id": "hmqWtWqOIqwV"
      },
      "source": [
        "Additionally, we can create formatted strings by doing either of the following. Note that the first two methods are the more modern versions of formatting string while the third method is the classical way for formatting string, regardless any of the following are fine."
      ]
    },
    {
      "cell_type": "code",
      "execution_count": null,
      "metadata": {
        "id": "5HhgjL7KIqwV",
        "colab": {
          "base_uri": "https://localhost:8080/"
        },
        "outputId": "5621b397-3229-4f37-d8d6-2816efaa6205"
      },
      "outputs": [
        {
          "output_type": "stream",
          "name": "stdout",
          "text": [
            "hello world 12\n",
            "hello world 12\n",
            "hello world 12\n"
          ]
        }
      ],
      "source": [
        "hw12 = f\"{hello} {world} {12}\"\n",
        "print(hw12)\n",
        "\n",
        "hw12 = \"{} {} {}\".format(hello, world, 12)\n",
        "print(hw12)\n",
        "\n",
        "hw12 = '%s %s %d' % (hello, world, 12)  # sprintf style string formatting\n",
        "print(hw12)"
      ]
    },
    {
      "cell_type": "markdown",
      "metadata": {
        "id": "NBmyLao9IqwV"
      },
      "source": [
        "## Containers\n",
        "\n",
        "Python includes several built-in container types: lists, dictionaries, sets, and tuples [1].\n",
        "\n",
        "### Lists\n",
        "\n",
        "A list is the Python equivalent of an array from Java or C++, however Python lists are resizable and can contain elements of different types. (Soon we will see how NumPy arrays build upon this idea of lists!)\n",
        "\n",
        "- Additional Sources\n",
        "    - [Python List Official Docs](https://docs.python.org/3.5/tutorial/datastructures.html#more-on-lists)\n",
        "    - [Real Python Introduction to Lists and Tuples](https://realpython.com/python-lists-tuples/)"
      ]
    },
    {
      "cell_type": "markdown",
      "metadata": {
        "id": "FdGkr_XPIqwV"
      },
      "source": [
        "To do so, use the using the square bracket syntax `[ ]` as shown in this [guide](https://realpython.com/python-lists-tuples/)."
      ]
    },
    {
      "cell_type": "code",
      "execution_count": null,
      "metadata": {
        "id": "pWH1GG9fIqwV",
        "outputId": "3414800c-be22-4d15-df58-c3593532f0c8",
        "colab": {
          "base_uri": "https://localhost:8080/"
        }
      },
      "outputs": [
        {
          "output_type": "stream",
          "name": "stdout",
          "text": [
            "x_list was set to [3, 1, 2]\n"
          ]
        }
      ],
      "source": [
        "x_list = [3, 1, 2]\n",
        "print(f\"x_list was set to {x_list}\")"
      ]
    },
    {
      "cell_type": "markdown",
      "metadata": {
        "id": "DOHx3SapIqwV"
      },
      "source": [
        "We can check the length of a list using the Python `len()` function mentioned earlier and passing the list to the function `len(x_list)`."
      ]
    },
    {
      "cell_type": "code",
      "execution_count": null,
      "metadata": {
        "id": "Y7emzL8fIqwV",
        "outputId": "35d2fc86-32b9-41fb-c767-67dea8fc1c61",
        "colab": {
          "base_uri": "https://localhost:8080/"
        }
      },
      "outputs": [
        {
          "output_type": "stream",
          "name": "stdout",
          "text": [
            "The length of x_list is 3\n"
          ]
        }
      ],
      "source": [
        "x_list_len = len(x_list)\n",
        "print(f\"The length of x_list is {x_list_len}\")"
      ]
    },
    {
      "cell_type": "markdown",
      "metadata": {
        "id": "Ot4MSJGFIqwV"
      },
      "source": [
        "Here we can index the second element simply by doing the following! (We will look at indexing multiple values in the List Comprehension section which utilizes for loops)"
      ]
    },
    {
      "cell_type": "markdown",
      "metadata": {
        "id": "HVnhGAAUIqwV"
      },
      "source": [
        "The index of the elements start from *0* not 1. Which means, `x_list[0]` is the first element in list `x_list`."
      ]
    },
    {
      "cell_type": "code",
      "execution_count": null,
      "metadata": {
        "id": "mU4Rrh3nIqwV",
        "outputId": "fe9893c2-94ee-4566-fdfc-ab92bee4bbe3",
        "colab": {
          "base_uri": "https://localhost:8080/"
        }
      },
      "outputs": [
        {
          "output_type": "execute_result",
          "data": {
            "text/plain": [
              "1"
            ]
          },
          "metadata": {},
          "execution_count": 24
        }
      ],
      "source": [
        "x_list[1]"
      ]
    },
    {
      "cell_type": "markdown",
      "metadata": {
        "id": "xVAQ-uKUIqwW"
      },
      "source": [
        "Notice that a negative index indicates indexing is down from the end of the list instead. This is a very important idea as it applies to most all container types in Python and also NumPy arrays!"
      ]
    },
    {
      "cell_type": "code",
      "execution_count": null,
      "metadata": {
        "id": "NOaq59hlIqwW",
        "outputId": "abee1a8e-3f7c-4940-9cdd-06ef3adf0830",
        "colab": {
          "base_uri": "https://localhost:8080/"
        }
      },
      "outputs": [
        {
          "output_type": "execute_result",
          "data": {
            "text/plain": [
              "2"
            ]
          },
          "metadata": {},
          "execution_count": 25
        }
      ],
      "source": [
        "x_list[-1]"
      ]
    },
    {
      "cell_type": "markdown",
      "metadata": {
        "id": "n_lsEhRFIqwW"
      },
      "source": [
        "Lists can contain elements of different types and we can set an element by doing the following"
      ]
    },
    {
      "cell_type": "code",
      "execution_count": null,
      "metadata": {
        "id": "L45Hpg8pIqwW",
        "outputId": "509ea52d-fca9-4f39-c148-b0ad9f96f4c4",
        "colab": {
          "base_uri": "https://localhost:8080/"
        }
      },
      "outputs": [
        {
          "output_type": "execute_result",
          "data": {
            "text/plain": [
              "[3, 1, 'foo']"
            ]
          },
          "metadata": {},
          "execution_count": 26
        }
      ],
      "source": [
        "x_list[2] = 'foo'\n",
        "x_list # displays \"[3, 1, 'foo']\""
      ]
    },
    {
      "cell_type": "markdown",
      "metadata": {
        "id": "8J-I1xwUIqwW"
      },
      "source": [
        "Add a new element to the end of the list."
      ]
    },
    {
      "cell_type": "code",
      "execution_count": null,
      "metadata": {
        "id": "XKzU4sieIqwW",
        "outputId": "02d75690-82aa-43b8-a80d-f4762caafb91",
        "colab": {
          "base_uri": "https://localhost:8080/"
        }
      },
      "outputs": [
        {
          "output_type": "execute_result",
          "data": {
            "text/plain": [
              "[3, 1, 'foo', 'bar']"
            ]
          },
          "metadata": {},
          "execution_count": 27
        }
      ],
      "source": [
        "x_list.append('bar')\n",
        "x_list"
      ]
    },
    {
      "cell_type": "markdown",
      "metadata": {
        "id": "0-zdbv2gIqwX"
      },
      "source": [
        "Remove and return the last element of the list."
      ]
    },
    {
      "cell_type": "code",
      "execution_count": null,
      "metadata": {
        "id": "qk5_dp66IqwX",
        "outputId": "f9e3aa73-5a57-4e5e-a1e6-07162d329e9b",
        "colab": {
          "base_uri": "https://localhost:8080/"
        }
      },
      "outputs": [
        {
          "output_type": "stream",
          "name": "stdout",
          "text": [
            "bar [3, 1, 'foo']\n"
          ]
        }
      ],
      "source": [
        "x = x_list.pop()\n",
        "print(x, x_list)\n"
      ]
    },
    {
      "cell_type": "markdown",
      "metadata": {
        "id": "rdCIHLafIqwX"
      },
      "source": [
        "#### Slicing/Indexing\n",
        "\n",
        "In addition to accessing list elements one at a time, Python provides concise syntax to access sublists or multiple elements of data in a list at once. This is known as slicing. (This same idea of slicing will apply to NumPy arrays, TensorFlow Tensors, and Pandas DataFrames later on.)\n",
        "\n",
        "- Additional Sources\n",
        "    - [Stackoverflow discussion](https://stackoverflow.com/questions/4012340/colon-in-python-list-index) on using `:` with lists\n",
        "    - [Real Python intro to slicing](https://realpython.com/lessons/indexing-and-slicing/)"
      ]
    },
    {
      "cell_type": "markdown",
      "metadata": {
        "id": "YAXb_MrVIqwX"
      },
      "source": [
        "We can quickly define a list by using Python's built-in functions `list` and `range`. Range is a built-in function that creates a generator of integers. [Generators](https://realpython.com/introduction-to-python-generators/) are objects that generator outputs on the fly instead of creating all the desired outputs at once and filling up memory."
      ]
    },
    {
      "cell_type": "code",
      "execution_count": null,
      "metadata": {
        "id": "emZxGzlvIqwX",
        "outputId": "0abd09a3-5ca2-4768-8979-361ef28abcb3",
        "colab": {
          "base_uri": "https://localhost:8080/"
        }
      },
      "outputs": [
        {
          "output_type": "execute_result",
          "data": {
            "text/plain": [
              "[0, 1, 2, 3, 4]"
            ]
          },
          "metadata": {},
          "execution_count": 29
        }
      ],
      "source": [
        "nums = list(range(5))# range is a built-in function that creates a list of integers\n",
        "nums"
      ]
    },
    {
      "cell_type": "markdown",
      "metadata": {
        "id": "QyNKL9_0IqwX"
      },
      "source": [
        "We can easily specify a slice of a list by using a colon `:`. To get a slice from index 2 to 4 (exclusive) we do the following."
      ]
    },
    {
      "cell_type": "code",
      "execution_count": null,
      "metadata": {
        "id": "X1rF5hJYIqwX",
        "outputId": "3ad807be-4bf2-4e2b-d052-24bb658b7086",
        "colab": {
          "base_uri": "https://localhost:8080/"
        }
      },
      "outputs": [
        {
          "output_type": "execute_result",
          "data": {
            "text/plain": [
              "[2, 3]"
            ]
          },
          "metadata": {},
          "execution_count": 30
        }
      ],
      "source": [
        "nums[2:4]"
      ]
    },
    {
      "cell_type": "markdown",
      "metadata": {
        "id": "DtFw_H9kIqwX"
      },
      "source": [
        "To get a slice from index 2 to the end we do."
      ]
    },
    {
      "cell_type": "code",
      "execution_count": null,
      "metadata": {
        "id": "lHFAD5hQIqwX",
        "outputId": "d0de0e4a-d103-4935-f0b2-614886d6a837",
        "colab": {
          "base_uri": "https://localhost:8080/"
        }
      },
      "outputs": [
        {
          "output_type": "execute_result",
          "data": {
            "text/plain": [
              "[2, 3, 4]"
            ]
          },
          "metadata": {},
          "execution_count": 31
        }
      ],
      "source": [
        "nums[2:]"
      ]
    },
    {
      "cell_type": "markdown",
      "metadata": {
        "id": "MBaNLVIsIqwX"
      },
      "source": [
        "To get a slice that starts at the beginning and ends at the index 2 (exclusive)."
      ]
    },
    {
      "cell_type": "code",
      "execution_count": null,
      "metadata": {
        "id": "T0HWIr8BIqwY",
        "outputId": "00a9a1f7-5b9a-486c-832d-1d90b16c44b2",
        "colab": {
          "base_uri": "https://localhost:8080/"
        }
      },
      "outputs": [
        {
          "output_type": "execute_result",
          "data": {
            "text/plain": [
              "[0, 1]"
            ]
          },
          "metadata": {},
          "execution_count": 32
        }
      ],
      "source": [
        "nums[:2]"
      ]
    },
    {
      "cell_type": "markdown",
      "metadata": {
        "id": "1--UAw33IqwY"
      },
      "source": [
        "Get a slice of the whole list"
      ]
    },
    {
      "cell_type": "code",
      "execution_count": null,
      "metadata": {
        "id": "B6J0vgOXIqwY",
        "outputId": "3d0954db-f3a3-472f-c49e-b3e7d2572bdd",
        "colab": {
          "base_uri": "https://localhost:8080/"
        }
      },
      "outputs": [
        {
          "output_type": "execute_result",
          "data": {
            "text/plain": [
              "[0, 1, 2, 3, 4]"
            ]
          },
          "metadata": {},
          "execution_count": 33
        }
      ],
      "source": [
        "nums[:]"
      ]
    },
    {
      "cell_type": "markdown",
      "metadata": {
        "id": "jY_bUUPEIqwY"
      },
      "source": [
        "Slice indices can be negative as well."
      ]
    },
    {
      "cell_type": "code",
      "execution_count": null,
      "metadata": {
        "id": "Zx3oboxDIqwY",
        "outputId": "56f25594-57e9-479f-ab7d-1ba42ac00679",
        "colab": {
          "base_uri": "https://localhost:8080/"
        }
      },
      "outputs": [
        {
          "output_type": "execute_result",
          "data": {
            "text/plain": [
              "[0, 1, 2, 3]"
            ]
          },
          "metadata": {},
          "execution_count": 34
        }
      ],
      "source": [
        "nums[:-1]"
      ]
    },
    {
      "cell_type": "markdown",
      "metadata": {
        "id": "deq25ijBIqwY"
      },
      "source": [
        "Finally, we can assign a sub-list to a slice."
      ]
    },
    {
      "cell_type": "code",
      "execution_count": null,
      "metadata": {
        "id": "3AUkX-xxIqwY",
        "outputId": "3dcdfa7b-a44f-49f2-e377-02478f249656",
        "colab": {
          "base_uri": "https://localhost:8080/"
        }
      },
      "outputs": [
        {
          "output_type": "execute_result",
          "data": {
            "text/plain": [
              "[0, 1, 8, 9, 4]"
            ]
          },
          "metadata": {},
          "execution_count": 35
        }
      ],
      "source": [
        "nums[2:4] = [8, 9]\n",
        "nums"
      ]
    },
    {
      "cell_type": "markdown",
      "metadata": {
        "id": "9TWNnPAQIqwY"
      },
      "source": [
        "\n",
        "### TODO 5\n",
        "List and indexing practice.\n",
        "\n",
        "1. Create a list containing all even numbers up to and including 100. Store the list in a variable called `even_list`. Try using Pythons `range()` function ([docs](https://docs.python.org/3/library/functions.html#func-range))and then casting it as a list using `list()`. **You SHOULD NOT write out the list by hand or you will not get any points!**\n",
        "3. Check the length of the `even_list`. Store the output into the `even_list_length` variable.\n",
        "2. Use list indexing to return the last 5 elements of the `even_list`. Store the output into `last_five_even_elements`.\n",
        "3. Use list indexing to return the second to last element of the `even_list`. Store the output into `second_to_last_even_element`.\n",
        "4. Use list indexing to return the first 10 elements of the `even_list`. Store the output into `first_ten_even_elements`."
      ]
    },
    {
      "cell_type": "code",
      "execution_count": null,
      "metadata": {
        "id": "tR0Oz425IqwZ",
        "outputId": "7e91042e-ffba-4de0-cb35-0a5c594a8158",
        "colab": {
          "base_uri": "https://localhost:8080/"
        }
      },
      "outputs": [
        {
          "output_type": "stream",
          "name": "stdout",
          "text": [
            "even_list output: [2, 4, 6, 8, 10, 12, 14, 16, 18, 20, 22, 24, 26, 28, 30, 32, 34, 36, 38, 40, 42, 44, 46, 48, 50, 52, 54, 56, 58, 60, 62, 64, 66, 68, 70, 72, 74, 76, 78, 80, 82, 84, 86, 88, 90, 92, 94, 96, 98, 100]\n",
            "Your code PASSED the code check!\n"
          ]
        }
      ],
      "source": [
        "# TODO 5.1\n",
        "even_list =[x for x in range(2,101, 2 )]\n",
        "print(f\"even_list output: {even_list}\")\n",
        "\n",
        "todo_check([\n",
        "    (even_list == [2,  4,  6,  8,  10,  12,  14,  16,  18,  20,  22,  24,  26,  28,  30,  32,  34,  36,  38,  40,  42,  44,  46,  48,  50,  52,  54,  56,  58,  60,  62,  64,  66,  68,  70,  72,  74,  76,  78,  80,  82,  84,  86,  88,  90,  92,  94,  96,  98,  100],\n",
        "    'even_list does not match the desired output! Make sure you have even numbers from 2 to and including 100!')\n",
        "    ])"
      ]
    },
    {
      "cell_type": "code",
      "execution_count": null,
      "metadata": {
        "id": "u4dG9vD2IqwZ",
        "colab": {
          "base_uri": "https://localhost:8080/"
        },
        "outputId": "16939a0c-134f-4d18-e553-63bbc38af4c1"
      },
      "outputs": [
        {
          "output_type": "stream",
          "name": "stdout",
          "text": [
            "even_list_length output: 50\n",
            "Your code PASSED the code check!\n"
          ]
        }
      ],
      "source": [
        "# TODO 5.2\n",
        "even_list_length = len(even_list)\n",
        "print(f\"even_list_length output: {even_list_length}\")\n",
        "\n",
        "todo_check([\n",
        "    (even_list_length == 50, 'even_list_length should be 50')\n",
        "])"
      ]
    },
    {
      "cell_type": "code",
      "execution_count": null,
      "metadata": {
        "id": "QwemDco3IqwZ",
        "colab": {
          "base_uri": "https://localhost:8080/"
        },
        "outputId": "c0656216-3ddb-43d5-dddb-5a713a5f30f0"
      },
      "outputs": [
        {
          "output_type": "stream",
          "name": "stdout",
          "text": [
            "last_five_even_elements output: [92, 94, 96, 98, 100]\n",
            "Your code PASSED the code check!\n"
          ]
        }
      ],
      "source": [
        "# TODO 5.3\n",
        "last_five_even_elements =even_list[-5:]\n",
        "print(f\"last_five_even_elements output: {last_five_even_elements}\")\n",
        "\n",
        "todo_check([\n",
        "    (last_five_even_elements == [92, 94, 96, 98, 100], 'last_five_even_elements does not match [92, 94, 96, 98, 100]'),\n",
        "])"
      ]
    },
    {
      "cell_type": "code",
      "execution_count": null,
      "metadata": {
        "id": "rEtZUlsRIqwZ",
        "colab": {
          "base_uri": "https://localhost:8080/"
        },
        "outputId": "eb54b781-63aa-4c0c-a71e-384257bc4aa9"
      },
      "outputs": [
        {
          "output_type": "stream",
          "name": "stdout",
          "text": [
            "second_to_last_even_element output: 98\n",
            "Your code PASSED the code check!\n"
          ]
        }
      ],
      "source": [
        "# TODO 5.4\n",
        "second_to_last_even_element = even_list[-2]\n",
        "print(f\"second_to_last_even_element output: {second_to_last_even_element}\")\n",
        "\n",
        "todo_check([\n",
        "    (second_to_last_even_element == 98, \"second_to_last_even_element should be 98\")\n",
        "])"
      ]
    },
    {
      "cell_type": "code",
      "execution_count": null,
      "metadata": {
        "id": "KnQXUfFHIqwZ",
        "outputId": "153d9cb0-b8a2-4fd4-b82b-a1b085de7e25",
        "colab": {
          "base_uri": "https://localhost:8080/"
        }
      },
      "outputs": [
        {
          "output_type": "stream",
          "name": "stdout",
          "text": [
            "first_ten_even_elements output: [2, 4, 6, 8, 10, 12, 14, 16, 18, 20]\n",
            "Your code PASSED the code check!\n"
          ]
        }
      ],
      "source": [
        "# TODO 5.5\n",
        "first_ten_even_elements = even_list[:10]\n",
        "print(f\"first_ten_even_elements output: {first_ten_even_elements}\")\n",
        "\n",
        "todo_check([\n",
        "    (first_ten_even_elements == [2,  4,  6,  8,  10,  12,  14,  16,  18,  20],\n",
        "    \"first_ten_even_elements should be [2,  4,  6,  8,  10,  12,  14,  16,  18,  20]\")\n",
        "])"
      ]
    },
    {
      "cell_type": "markdown",
      "metadata": {
        "id": "pYVhHghJIqwa"
      },
      "source": [
        "### Dictionaries\n",
        "\n",
        "A dictionary stores key-value pairs, similar to a Map in Java. Keys are unique within a dictionary while values may not be. The values of a dictionary can be of any type, but the keys must be of an immutable data type (meaning its values can't be changed once set) such as strings, numbers, or tuples.\n",
        "\n",
        "- Additional Information\n",
        "    - [Real Python Dictionary Tutorial](https://realpython.com/python-dicts/)."
      ]
    },
    {
      "cell_type": "markdown",
      "metadata": {
        "id": "TD5yb1OGIqwa"
      },
      "source": [
        "We can create a dictionary simply by doing either of the following."
      ]
    },
    {
      "cell_type": "code",
      "execution_count": null,
      "metadata": {
        "id": "M2XuUgJiIqwa",
        "outputId": "88e5b631-47a1-484b-eeec-43bf9bf9ef36",
        "colab": {
          "base_uri": "https://localhost:8080/"
        }
      },
      "outputs": [
        {
          "output_type": "execute_result",
          "data": {
            "text/plain": [
              "{'cat': 'cute', 'dog': 'furry'}"
            ]
          },
          "metadata": {},
          "execution_count": 50
        }
      ],
      "source": [
        "d = {'cat': 'cute', 'dog': 'furry'}\n",
        "d"
      ]
    },
    {
      "cell_type": "code",
      "execution_count": null,
      "metadata": {
        "id": "5Ttj_FULIqwa",
        "outputId": "129b16ef-25ec-42da-c9e2-5868b6d99a35",
        "colab": {
          "base_uri": "https://localhost:8080/"
        }
      },
      "outputs": [
        {
          "output_type": "execute_result",
          "data": {
            "text/plain": [
              "{'cat': 'cute', 'dog': 'furry'}"
            ]
          },
          "metadata": {},
          "execution_count": 51
        }
      ],
      "source": [
        "# OR\n",
        "d = dict(cat='cute', dog='furry')\n",
        "d"
      ]
    },
    {
      "cell_type": "markdown",
      "metadata": {
        "id": "ZheTPDubIqwa"
      },
      "source": [
        "To get a value of a particular key simply index said key."
      ]
    },
    {
      "cell_type": "code",
      "execution_count": null,
      "metadata": {
        "id": "0y5s2htiIqwb",
        "outputId": "793342f2-b7db-47a6-a284-17292b7b0c57",
        "colab": {
          "base_uri": "https://localhost:8080/"
        }
      },
      "outputs": [
        {
          "output_type": "stream",
          "name": "stdout",
          "text": [
            "cute\n"
          ]
        }
      ],
      "source": [
        "print(d['cat'])"
      ]
    },
    {
      "cell_type": "markdown",
      "metadata": {
        "id": "rWrH-OZqIqwb"
      },
      "source": [
        "We can easily create an entry by doing the following."
      ]
    },
    {
      "cell_type": "code",
      "execution_count": null,
      "metadata": {
        "id": "fQoGjCkJIqwb",
        "outputId": "286bea79-73fc-40c3-a866-ca59f6dbe7bc",
        "colab": {
          "base_uri": "https://localhost:8080/",
          "height": 35
        }
      },
      "outputs": [
        {
          "output_type": "execute_result",
          "data": {
            "text/plain": [
              "'wet'"
            ],
            "application/vnd.google.colaboratory.intrinsic+json": {
              "type": "string"
            }
          },
          "metadata": {},
          "execution_count": 53
        }
      ],
      "source": [
        "d['fish'] = 'wet'\n",
        "d['fish']"
      ]
    },
    {
      "cell_type": "markdown",
      "metadata": {
        "id": "95Vp4L06Iqwc"
      },
      "source": [
        "If the key doesn't exist Python will throw a runtime error! Below we catch this error for you."
      ]
    },
    {
      "cell_type": "code",
      "execution_count": null,
      "metadata": {
        "id": "bpVEhJSbIqwc",
        "outputId": "915460fc-87c1-4a03-a6c9-44ba24640cf8",
        "colab": {
          "base_uri": "https://localhost:8080/"
        }
      },
      "outputs": [
        {
          "output_type": "stream",
          "name": "stderr",
          "text": [
            "Traceback (most recent call last):\n",
            "  File \"<ipython-input-55-1fefd1064679>\", line 2, in <cell line: 0>\n",
            "    print(d['monkey'])\n",
            "          ~^^^^^^^^^^\n",
            "KeyError: 'monkey'\n"
          ]
        }
      ],
      "source": [
        "try:\n",
        "    print(d['monkey'])\n",
        "except KeyError as e:\n",
        "    traceback.print_exc()"
      ]
    },
    {
      "cell_type": "markdown",
      "metadata": {
        "id": "wekc1rcPIqwc"
      },
      "source": [
        "To check if the key exists, to avoid errors simply use the `in` Python keyword."
      ]
    },
    {
      "cell_type": "code",
      "execution_count": null,
      "metadata": {
        "id": "g1B-x9_QIqwc",
        "outputId": "c013330b-3cbc-444f-ba74-0bd95eadf5f2",
        "colab": {
          "base_uri": "https://localhost:8080/"
        }
      },
      "outputs": [
        {
          "output_type": "stream",
          "name": "stdout",
          "text": [
            "True\n"
          ]
        }
      ],
      "source": [
        "print('cat' in d)"
      ]
    },
    {
      "cell_type": "markdown",
      "metadata": {
        "id": "4qqG_lsxIqwc"
      },
      "source": [
        "If we don't know if a key will exists we can use the `.get()` method to get an element where a default value is return if the key is not found. If no default value is given, then Python uses `None` as the default value."
      ]
    },
    {
      "cell_type": "code",
      "execution_count": null,
      "metadata": {
        "id": "GIeg4R1aIqwc",
        "outputId": "cffd12b7-70b8-43b0-ed04-514fc1b78a53",
        "colab": {
          "base_uri": "https://localhost:8080/",
          "height": 35
        }
      },
      "outputs": [
        {
          "output_type": "execute_result",
          "data": {
            "text/plain": [
              "'Key does not exist'"
            ],
            "application/vnd.google.colaboratory.intrinsic+json": {
              "type": "string"
            }
          },
          "metadata": {},
          "execution_count": 57
        }
      ],
      "source": [
        "d.get('monkey', 'Key does not exist')"
      ]
    },
    {
      "cell_type": "markdown",
      "metadata": {
        "id": "lJoCOCfuIqwc"
      },
      "source": [
        "Get an element with a default value where key exists."
      ]
    },
    {
      "cell_type": "code",
      "execution_count": null,
      "metadata": {
        "id": "SIbUKdTZIqwc",
        "outputId": "7ea30fea-8bc6-4e54-db6b-d3c8d4660062",
        "colab": {
          "base_uri": "https://localhost:8080/",
          "height": 35
        }
      },
      "outputs": [
        {
          "output_type": "execute_result",
          "data": {
            "text/plain": [
              "'wet'"
            ],
            "application/vnd.google.colaboratory.intrinsic+json": {
              "type": "string"
            }
          },
          "metadata": {},
          "execution_count": 58
        }
      ],
      "source": [
        "d.get('fish', 'Key does not exist')"
      ]
    },
    {
      "cell_type": "markdown",
      "metadata": {
        "id": "q6D01TAzIqwc"
      },
      "source": [
        "To remove an element from a dictionary. Notice the key \"fish\" is no longer a key so we get \"N/A\" the default value when using `.get()`."
      ]
    },
    {
      "cell_type": "code",
      "execution_count": null,
      "metadata": {
        "id": "Xp1ko-ilIqwc",
        "colab": {
          "base_uri": "https://localhost:8080/",
          "height": 35
        },
        "outputId": "477f7d0a-7256-42f3-ba05-878136c0ff34"
      },
      "outputs": [
        {
          "output_type": "execute_result",
          "data": {
            "text/plain": [
              "'wet'"
            ],
            "application/vnd.google.colaboratory.intrinsic+json": {
              "type": "string"
            }
          },
          "metadata": {},
          "execution_count": 59
        }
      ],
      "source": [
        "d['fish'] = 'wet'\n",
        "d['fish']"
      ]
    },
    {
      "cell_type": "code",
      "execution_count": null,
      "metadata": {
        "id": "keE-ezdnIqwd",
        "outputId": "8861c9e9-90b4-4dc8-ae17-8d073e28bbea",
        "colab": {
          "base_uri": "https://localhost:8080/",
          "height": 35
        }
      },
      "outputs": [
        {
          "output_type": "execute_result",
          "data": {
            "text/plain": [
              "'Key does not exist'"
            ],
            "application/vnd.google.colaboratory.intrinsic+json": {
              "type": "string"
            }
          },
          "metadata": {},
          "execution_count": 60
        }
      ],
      "source": [
        "del d['fish']\n",
        "d.get('fish', 'Key does not exist')"
      ]
    },
    {
      "cell_type": "markdown",
      "metadata": {
        "id": "_F2HYCNhIqwd"
      },
      "source": [
        "### Tuples\n",
        "\n",
        "A tuple is an immutable (meaning its values can't be changed once set) ordered list of values. A tuple is in many ways similar to a list; one of the most important differences is that tuples can be used as keys in dictionaries and as elements of sets, while lists cannot."
      ]
    },
    {
      "cell_type": "code",
      "execution_count": null,
      "metadata": {
        "id": "aJS2mzcqIqwd",
        "outputId": "ef250a03-8e18-4710-c679-ee0bbef1d097",
        "colab": {
          "base_uri": "https://localhost:8080/"
        }
      },
      "outputs": [
        {
          "output_type": "execute_result",
          "data": {
            "text/plain": [
              "(1, 2, 3, 4, 5)"
            ]
          },
          "metadata": {},
          "execution_count": 61
        }
      ],
      "source": [
        "t = (1, 2, 3, 4, 5)\n",
        "t"
      ]
    },
    {
      "cell_type": "markdown",
      "metadata": {
        "id": "_iLEsK4eIqwd"
      },
      "source": [
        "Notice, since tuples are immutable we can't change a value once set, otherwise we get an error!"
      ]
    },
    {
      "cell_type": "code",
      "execution_count": null,
      "metadata": {
        "id": "Zqk8CZIpIqwd",
        "outputId": "6113369e-68f2-43f3-fa49-22aef38f7e84",
        "colab": {
          "base_uri": "https://localhost:8080/"
        }
      },
      "outputs": [
        {
          "output_type": "stream",
          "name": "stderr",
          "text": [
            "Traceback (most recent call last):\n",
            "  File \"<ipython-input-62-cd2a996e4d60>\", line 2, in <cell line: 0>\n",
            "    t[0] =2\n",
            "    ~^^^\n",
            "TypeError: 'tuple' object does not support item assignment\n"
          ]
        }
      ],
      "source": [
        "try:\n",
        "    t[0] =2\n",
        "except TypeError as e:\n",
        "    traceback.print_exc()"
      ]
    },
    {
      "cell_type": "markdown",
      "metadata": {
        "id": "7Ctba7C8Iqwd"
      },
      "source": [
        "## Functions\n",
        "Python is a functional language, functions in Python can be defined by using Python's keyword `def`. Recall, a function is a block of code which only runs when it is called in which you can pass *arguments* to.\n",
        "\n",
        "- Additional Resources\n",
        "    - [Real Python Function Tutorial](https://realpython.com/defining-your-own-python-function/)"
      ]
    },
    {
      "cell_type": "markdown",
      "metadata": {
        "id": "VJqtCcYmIqwd"
      },
      "source": [
        "Below is a very basic function definition."
      ]
    },
    {
      "cell_type": "code",
      "execution_count": null,
      "metadata": {
        "id": "fGoNSIJTIqwd"
      },
      "outputs": [],
      "source": [
        "def basic_func(a, b, c='default'):\n",
        "    print(a, b, c)"
      ]
    },
    {
      "cell_type": "markdown",
      "metadata": {
        "id": "FQRQtT6fIqwd"
      },
      "source": [
        "We can call a function by specifying all the required arguments. In the above case, we only are required to specify `a` and `b`. Notice, the argument `c` has a default value. This means if we pass nothing to `c` it will use whatever the default value is set to."
      ]
    },
    {
      "cell_type": "code",
      "execution_count": null,
      "metadata": {
        "id": "XC-BHT7hIqwd",
        "outputId": "e12dcdc6-7f94-49d7-fa5b-ee0de6f8e694",
        "colab": {
          "base_uri": "https://localhost:8080/"
        }
      },
      "outputs": [
        {
          "output_type": "stream",
          "name": "stdout",
          "text": [
            "this is a default\n"
          ]
        }
      ],
      "source": [
        "basic_func('this', 'is a')"
      ]
    },
    {
      "cell_type": "markdown",
      "metadata": {
        "id": "GDpoUGnRIqwe"
      },
      "source": [
        "Notice all the arguments are passed in order. Since the value 'this' is first, it is assigned to `a`. As the value 'is a' is second, it is assigned to `b`.\n",
        "\n",
        "We can pass *keyword arguments* to the function by specifying which argument should receive each value. Notice we also override the default value for `c`!"
      ]
    },
    {
      "cell_type": "code",
      "execution_count": null,
      "metadata": {
        "id": "tRPh6XvEIqwe",
        "outputId": "b9cf4692-dcac-47d6-e447-9b2da155219c",
        "colab": {
          "base_uri": "https://localhost:8080/"
        }
      },
      "outputs": [
        {
          "output_type": "stream",
          "name": "stdout",
          "text": [
            "this is a test\n"
          ]
        }
      ],
      "source": [
        "basic_func(a='this', b='is a', c='test')"
      ]
    },
    {
      "cell_type": "markdown",
      "metadata": {
        "id": "5jt2sBZXIqwe"
      },
      "source": [
        "By default, all functions return `None` or no value, similar to Java's `null`."
      ]
    },
    {
      "cell_type": "code",
      "execution_count": null,
      "metadata": {
        "id": "yqrhU6KRIqwe",
        "outputId": "4efefd84-2b9a-4eb9-905e-398f07851859",
        "colab": {
          "base_uri": "https://localhost:8080/"
        }
      },
      "outputs": [
        {
          "output_type": "stream",
          "name": "stdout",
          "text": [
            "this is a test\n",
            "function output: None\n"
          ]
        }
      ],
      "source": [
        "output = basic_func('this', 'is a', 'test')\n",
        "print(f\"function output: {output}\")"
      ]
    },
    {
      "cell_type": "markdown",
      "metadata": {
        "id": "SpLrgOoQIqwe"
      },
      "source": [
        "To return a single or multiple values simply add the `return` keyword."
      ]
    },
    {
      "cell_type": "code",
      "execution_count": null,
      "metadata": {
        "id": "G3ylZtQjIqwe"
      },
      "outputs": [],
      "source": [
        "def basic_func(a, b, c):\n",
        "    print(a, b, c)\n",
        "    return a, b, c"
      ]
    },
    {
      "cell_type": "code",
      "execution_count": null,
      "metadata": {
        "id": "v2bEqgJzIqwe",
        "outputId": "e08f5b40-b946-4065-b674-03dd7ba56bef",
        "colab": {
          "base_uri": "https://localhost:8080/"
        }
      },
      "outputs": [
        {
          "output_type": "stream",
          "name": "stdout",
          "text": [
            "this is a test\n",
            "function returned: this is a test\n"
          ]
        }
      ],
      "source": [
        "a, b, c = basic_func('this', 'is a', 'test')\n",
        "print(f\"function returned: {a} {b} {c}\")"
      ]
    },
    {
      "cell_type": "markdown",
      "metadata": {
        "id": "Zn1ccpe9Iqwe"
      },
      "source": [
        "### TODO 6\n",
        "Complete the following TODO by defining a function called `add_func()`.\n",
        "\n",
        "1. Define a function called `add_func()` that takes two arguments. The function should adds the two arguments together using `+` and return the output. For example, if the input values for the arguments are 1 and 2, then 3 should be returned. Likewise, if the input arguments are \"good\" and \" day\", then \"good day\" should be returned."
      ]
    },
    {
      "cell_type": "code",
      "execution_count": null,
      "metadata": {
        "id": "RCsiTzzKIqwe",
        "outputId": "7cc279dd-34a5-4464-fbde-6f708dd71d08",
        "colab": {
          "base_uri": "https://localhost:8080/"
        }
      },
      "outputs": [
        {
          "output_type": "stream",
          "name": "stdout",
          "text": [
            "add_func output for 1 + 2: 3\n",
            "add_func output for good + day: good day\n",
            "Your code PASSED the code check!\n"
          ]
        }
      ],
      "source": [
        "# TODO 6.1\n",
        "\n",
        "def add_func(a,b) : return a + b\n",
        "\n",
        "print(f\"add_func output for 1 + 2: {add_func(1, 2)}\")\n",
        "print(f\"add_func output for good + day: {add_func('good',' day')}\")\n",
        "\n",
        "todo_check([\n",
        "    (add_func(1, 2) == 3, 'add_func() did not return 3 when using input values 1 and 2.'),\n",
        "    (add_func('good', ' day') == \"good day\", 'add_func() did not return \"good day\" when using input values \"good\" and \" day\"')\n",
        "])"
      ]
    },
    {
      "cell_type": "markdown",
      "metadata": {
        "id": "ut4CWBBKIqwe"
      },
      "source": [
        "## Classes\n",
        "\n",
        "As Python is also an object oriented programming language, classes can be defined by using Python's keyword `class`.\n",
        "\n",
        "- Additional Resources\n",
        "    - [Real Python Classes Tutorial](https://realpython.com/python3-object-oriented-programming/)\n",
        "    - [Understanding 'self'](https://pythonprogramminglanguage.com/python-self/)    -"
      ]
    },
    {
      "cell_type": "markdown",
      "metadata": {
        "id": "czKok2BdIqwf"
      },
      "source": [
        "Below is a very basic class definition. Notice, we use the `class` keyword to define a class.\n",
        "\n",
        "Further, the `def` keywords are used to declared methods. Notice all methods typically take in the `self` argument which is a reference to  current instance of the class, similar to `this` in Java. `self` is used to refer to the class's methods and arguments from inside the class.\n",
        "\n",
        "The constructor for the class is defined by the `__init__` method (though is not required) which is called anytime an class is instantiated. Methods with double leading and trailing underscores are typically methods defined by Python. There are many other types of these methods such as `__call__`, `__str__`, and `__add__`, however a deeper look at this is out of scope for this lab."
      ]
    },
    {
      "cell_type": "code",
      "execution_count": null,
      "metadata": {
        "id": "g_DAQ6B1Iqwf"
      },
      "outputs": [],
      "source": [
        "class BasicClass():\n",
        "    def __init__(self, a, b, c):\n",
        "        self.a = a\n",
        "        self.b = b\n",
        "        self.c = c\n",
        "\n",
        "    def print_args(self):\n",
        "        print(self.a, self.b, self.c)"
      ]
    },
    {
      "cell_type": "code",
      "execution_count": null,
      "metadata": {
        "id": "faAdKhk-Iqwf",
        "colab": {
          "base_uri": "https://localhost:8080/"
        },
        "outputId": "3f03fd2f-6862-4f64-b542-1e9b0f16ad49"
      },
      "outputs": [
        {
          "output_type": "stream",
          "name": "stdout",
          "text": [
            "this is a test\n"
          ]
        }
      ],
      "source": [
        "# Initialize class\n",
        "basic_class = BasicClass('this', 'is a', 'test')\n",
        "# Call method\n",
        "basic_class.print_args()"
      ]
    },
    {
      "cell_type": "markdown",
      "metadata": {
        "id": "sEjMuL7YIqwf"
      },
      "source": [
        "### Inheritance\n",
        "\n",
        "First recall the following inheritance:\n",
        "\n",
        "**Parent class** is the class being inherited from, also called base class.\n",
        "\n",
        "**Child class** is the class that inherits from another class, also called derived class.\n",
        "\n",
        "\n",
        "Thus, inheritance of classes is what is called an *is a* relationship. This means that when you have a Derived class that inherits from a Base class, you created a relationship where Derived is a specialized version of Base.\n",
        "\n",
        "All this means is that inheritance allows us to define a class that inherits all the methods and arguments from another class. (Having inheritance in Python allows Python to be an object oriented language). Essentially, this helps us to organize our code and reuse aspects of our code as well."
      ]
    },
    {
      "cell_type": "markdown",
      "metadata": {
        "id": "rO-4Y8BgIqwf"
      },
      "source": [
        "In Python, to create a class that inherits the methods and variables from another class, send the parent class as an argument when creating the child class as seen below `class Child(Parent)`.\n",
        "\n",
        "Note that the `super().__init__()` line allows us to run the parent classes `__init__` method which then initializes the parent class. Without doing this we wouldn't have access to `self.parent_name` or any variables defined in the `__init__` of the parent class."
      ]
    },
    {
      "cell_type": "code",
      "execution_count": null,
      "metadata": {
        "id": "1yyrGv-KIqwf"
      },
      "outputs": [],
      "source": [
        "class Parent():\n",
        "    def __init__(self):\n",
        "        self.parent_name = \"Parent\"\n",
        "        self.base_variable = 0\n",
        "\n",
        "    def base_class_method(self):\n",
        "        print(f\"This is a base class method\")\n",
        "\n",
        "class Child(Parent):\n",
        "    def __init__(self):\n",
        "        super().__init__()\n",
        "        self.child_name = \"child\"\n",
        "        self.base_variable = 1"
      ]
    },
    {
      "cell_type": "markdown",
      "metadata": {
        "id": "Z-8P2-FFIqwf"
      },
      "source": [
        "After we create an instance of the `Child` class which inherits the `Parent` class, we can use the methods and variables in `Parent`."
      ]
    },
    {
      "cell_type": "code",
      "execution_count": null,
      "metadata": {
        "id": "W1AeQUrBIqwf"
      },
      "outputs": [],
      "source": [
        "parent = Parent()\n",
        "child = Child()"
      ]
    },
    {
      "cell_type": "markdown",
      "metadata": {
        "id": "0pJ4SKK1Iqwf"
      },
      "source": [
        "First, we can start off by referring to the `Parent` class's variables from the `Child` class."
      ]
    },
    {
      "cell_type": "code",
      "execution_count": null,
      "metadata": {
        "id": "THLhpgVAIqwf",
        "outputId": "c384b380-daaa-449b-db6a-d883db544e8f",
        "colab": {
          "base_uri": "https://localhost:8080/"
        }
      },
      "outputs": [
        {
          "output_type": "stream",
          "name": "stdout",
          "text": [
            "The child's parent name is Parent\n"
          ]
        }
      ],
      "source": [
        "print(f\"The child's parent name is {child.parent_name}\")"
      ]
    },
    {
      "cell_type": "markdown",
      "metadata": {
        "id": "MnT8zSBbIqwf"
      },
      "source": [
        "Next, we can try using one of the `Parent` class's methods."
      ]
    },
    {
      "cell_type": "code",
      "execution_count": null,
      "metadata": {
        "id": "RiupZV2qIqwf",
        "outputId": "fe93a209-62c0-43c9-9028-1d3e7268318b",
        "colab": {
          "base_uri": "https://localhost:8080/"
        }
      },
      "outputs": [
        {
          "output_type": "stream",
          "name": "stdout",
          "text": [
            "This is a base class method\n"
          ]
        }
      ],
      "source": [
        "child.base_class_method()"
      ]
    },
    {
      "cell_type": "markdown",
      "metadata": {
        "id": "CE2tHT9AIqwg"
      },
      "source": [
        "Notice, we still have access to the `Child` class's variables as well (this goes for methods as well)."
      ]
    },
    {
      "cell_type": "code",
      "execution_count": null,
      "metadata": {
        "id": "tyq9H8mEIqwg",
        "outputId": "5c55f21b-eda2-48a5-cb31-8e5ff06ed2e1",
        "colab": {
          "base_uri": "https://localhost:8080/"
        }
      },
      "outputs": [
        {
          "output_type": "stream",
          "name": "stdout",
          "text": [
            "The child's name is child\n"
          ]
        }
      ],
      "source": [
        "print(f\"The child's name is {child.child_name}\")"
      ]
    },
    {
      "cell_type": "markdown",
      "metadata": {
        "id": "YY9hwNL9Iqwg"
      },
      "source": [
        "However, also notice that we can overwrite the `Parents` class variables when we inherit (this goes for methods as well)."
      ]
    },
    {
      "cell_type": "code",
      "execution_count": null,
      "metadata": {
        "id": "Tz_UgAqAIqwg",
        "outputId": "4461da67-9ceb-4d5a-c93e-3e7226a3f3e3",
        "colab": {
          "base_uri": "https://localhost:8080/"
        }
      },
      "outputs": [
        {
          "output_type": "stream",
          "name": "stdout",
          "text": [
            "The parents's base_variable is 0\n",
            "The child's base_variable is 1\n"
          ]
        }
      ],
      "source": [
        "print(f\"The parents's base_variable is {parent.base_variable}\")\n",
        "print(f\"The child's base_variable is {child.base_variable}\")"
      ]
    },
    {
      "cell_type": "markdown",
      "metadata": {
        "id": "lzp02rWfIqwg"
      },
      "source": [
        "## For Loops and List Comprehension\n",
        "\n",
        "- Additional Sources\n",
        "    - [GeeksforGeeks Python for loops](https://www.geeksforgeeks.org/python-for-loops/)\n",
        "    - [Python List Comprehension](https://www.programiz.com/python-programming/list-comprehension)\n",
        "    - [Python range() function](https://www.pythoncentral.io/pythons-range-function-explained/)\n",
        "    - [Generators in Python](https://www.edureka.co/blog/generators-in-python/)"
      ]
    },
    {
      "cell_type": "markdown",
      "metadata": {
        "id": "vFZgC0XFIqwg"
      },
      "source": [
        "### For Loops\n"
      ]
    },
    {
      "cell_type": "markdown",
      "metadata": {
        "id": "4UDDNW5XIqwg"
      },
      "source": [
        "A common way to loop over a list or any other sequence (tuple, set, dictionary, strings or any [Iterable object](https://pythonbasics.org/iterable/)) is to pair `for` with the keyword `in`. In the below example you can see that the `in` keyword allows us to loop over each element in the list."
      ]
    },
    {
      "cell_type": "code",
      "execution_count": null,
      "metadata": {
        "id": "AFOJdep_Iqwg",
        "outputId": "a23cd0d8-a01b-433a-9128-99cf42056751",
        "colab": {
          "base_uri": "https://localhost:8080/"
        }
      },
      "outputs": [
        {
          "output_type": "stream",
          "name": "stdout",
          "text": [
            "0\n",
            "1\n",
            "2\n"
          ]
        }
      ],
      "source": [
        "l = [0, 1, 2]\n",
        "for i in l:\n",
        "    print(i)"
      ]
    },
    {
      "cell_type": "markdown",
      "metadata": {
        "id": "vhlCxgJyIqwg"
      },
      "source": [
        "If you want to use a `for` loop to simply repeat some operation a certain number of times, we can once again use the Python keyword range to do so. This operates closer to traditional for loops like `for (i=0; i<n; i++)` in C or Java."
      ]
    },
    {
      "cell_type": "code",
      "execution_count": null,
      "metadata": {
        "id": "49AjzcMDIqwh",
        "outputId": "a5c34fa7-ef8d-4e36-dd29-8c24e05eddcf",
        "colab": {
          "base_uri": "https://localhost:8080/"
        }
      },
      "outputs": [
        {
          "output_type": "stream",
          "name": "stdout",
          "text": [
            "0\n",
            "1\n",
            "2\n"
          ]
        }
      ],
      "source": [
        "for i in range(3):\n",
        "    print(i)"
      ]
    },
    {
      "cell_type": "markdown",
      "metadata": {
        "id": "NChDywa1Iqwh"
      },
      "source": [
        "Lastly, we can still use keywords like `break` to break out of a `for` loop or `continue` to skip a single iteration of a `for` loop."
      ]
    },
    {
      "cell_type": "code",
      "execution_count": null,
      "metadata": {
        "id": "yFnhAsg4Iqwh",
        "outputId": "c9f867c0-fa44-4e93-c51d-85d638de2cfb",
        "colab": {
          "base_uri": "https://localhost:8080/"
        }
      },
      "outputs": [
        {
          "output_type": "stream",
          "name": "stdout",
          "text": [
            "0\n",
            "2\n"
          ]
        }
      ],
      "source": [
        "for i in range(3):\n",
        "    if i == 1:\n",
        "        continue\n",
        "    print(i)"
      ]
    },
    {
      "cell_type": "code",
      "execution_count": null,
      "metadata": {
        "id": "8KrpHQv_Iqwh",
        "outputId": "97dc2ecb-d5d0-44a4-b4d0-dd606111889d",
        "colab": {
          "base_uri": "https://localhost:8080/"
        }
      },
      "outputs": [
        {
          "output_type": "stream",
          "name": "stdout",
          "text": [
            "0\n"
          ]
        }
      ],
      "source": [
        "for i in range(3):\n",
        "    if i == 1:\n",
        "        break\n",
        "    print(i)"
      ]
    },
    {
      "cell_type": "markdown",
      "metadata": {
        "id": "3VUvGnM2Iqwh"
      },
      "source": [
        "### List Comprehension\n",
        "One useful concept that Python allows for is list comprehension. List comprehension allows us to create lists from other lists or iterable objects in **one line of code**. List comprehension can also be thought of as a one line `for` loop.\n",
        "\n",
        "The basic outline for list comprehension is as follows:\n",
        "```\n",
        "[expression for item in list]\n",
        "```\n",
        "Here the `[]` brackets indicate list comprehension and our output will be a list, `expression` represents code that will run and its output will be stored in our list, and `for item in list` loops through each item in the iterable object.\n",
        "\n",
        "Let's test list comprehension by creating a list that contains the numbers 1-10. Recall that `range(1,11)` creates a sequence of numbers. These numbers are given in the form of a Python [generator](https://realpython.com/introduction-to-python-generators/) that we loop over. (Recall, a generator creates the numbers on the fly instead of creating them all at once and filling up memory.)"
      ]
    },
    {
      "cell_type": "code",
      "execution_count": null,
      "metadata": {
        "id": "kvrGbMiYIqwh",
        "outputId": "35d3636a-90e7-4853-b4b9-ba9508e87fa7",
        "colab": {
          "base_uri": "https://localhost:8080/"
        }
      },
      "outputs": [
        {
          "output_type": "execute_result",
          "data": {
            "text/plain": [
              "[1, 2, 3, 4, 5, 6, 7, 8, 9, 10]"
            ]
          },
          "metadata": {},
          "execution_count": 84
        }
      ],
      "source": [
        "x_list = [ele for ele in range(1, 11)]\n",
        "x_list"
      ]
    },
    {
      "cell_type": "markdown",
      "metadata": {
        "id": "KXOAC08KIqwh"
      },
      "source": [
        "**What if we wanted only even numbers? How do we add a condition?**\n",
        "\n",
        "The basic outline for list comprehension with a condition is as follows:\n",
        "```\n",
        "[expression for item in list if condition]\n",
        "```\n",
        "\n",
        "All the below line of code says is iterate over the the list `x_list`, if the the element `ele` is an even number, then store it in our new list. Recall, that the [modulo symbol](https://realpython.com/python-modulo-operator/) `%` computes the remainder."
      ]
    },
    {
      "cell_type": "code",
      "execution_count": null,
      "metadata": {
        "id": "lnrs1JrBIqwh",
        "outputId": "6d945c6f-aa5c-435c-a3f2-a5776c5fbb13",
        "colab": {
          "base_uri": "https://localhost:8080/"
        }
      },
      "outputs": [
        {
          "output_type": "execute_result",
          "data": {
            "text/plain": [
              "[2, 4, 6, 8, 10]"
            ]
          },
          "metadata": {},
          "execution_count": 85
        }
      ],
      "source": [
        "[ele for ele in range(1, 11) if ele%2 == 0]"
      ]
    },
    {
      "cell_type": "markdown",
      "metadata": {
        "id": "H07V6Pk-Iqwh"
      },
      "source": [
        "Additionally, we can create **set** and **dictionary** by replacing the square brackets `[]` with curly braces `{}`."
      ]
    },
    {
      "cell_type": "code",
      "execution_count": null,
      "metadata": {
        "id": "m3ALX4U7Iqwi",
        "outputId": "bdd7ee36-3ff9-4fc0-e68b-f6bb703b0c2e",
        "colab": {
          "base_uri": "https://localhost:8080/"
        }
      },
      "outputs": [
        {
          "output_type": "execute_result",
          "data": {
            "text/plain": [
              "{2, 4, 6, 8, 10}"
            ]
          },
          "metadata": {},
          "execution_count": 86
        }
      ],
      "source": [
        "# Creates a set (unordered list)\n",
        "{ele for ele in range(1, 11) if ele%2 == 0}"
      ]
    },
    {
      "cell_type": "code",
      "execution_count": null,
      "metadata": {
        "id": "1NjlBozNIqwj",
        "outputId": "4088ba75-13b8-4dd5-91ef-8f99969c8639",
        "colab": {
          "base_uri": "https://localhost:8080/"
        }
      },
      "outputs": [
        {
          "output_type": "execute_result",
          "data": {
            "text/plain": [
              "{1: 2, 3: 4, 5: 6, 7: 8, 9: 10}"
            ]
          },
          "metadata": {},
          "execution_count": 87
        }
      ],
      "source": [
        "# Creates a dictionary\n",
        "{idx:ele for idx, ele in enumerate(x_list) if ele%2 == 0}"
      ]
    },
    {
      "cell_type": "markdown",
      "metadata": {
        "id": "Ge9Q_c7GIqwj"
      },
      "source": [
        "Note, that `enumerate` is a built in Python function that returns the index of each element (denoted by `idx` the first position in the loop) in the list and is often used in loops such that we get the index position of the element and the actual element itself. Here it is used to simply create a key."
      ]
    },
    {
      "cell_type": "markdown",
      "metadata": {
        "id": "va2KgQoWIqwj"
      },
      "source": [
        "### TODO 7\n",
        "1. Create a list of all odd numbers up to 50 using list comprehension. Recall, you can use an `if` condition to check if the modulo left over is equal to 1. If true, the list will then only store odd numbers! Store the output into the `odd_list` variable."
      ]
    },
    {
      "cell_type": "code",
      "execution_count": null,
      "metadata": {
        "id": "e-Rq0VmfIqwj",
        "outputId": "f7b1f24b-0691-4d8a-9679-5c0490651a4e",
        "colab": {
          "base_uri": "https://localhost:8080/"
        }
      },
      "outputs": [
        {
          "output_type": "stream",
          "name": "stdout",
          "text": [
            "odd_list output: [1, 3, 5, 7, 9, 11, 13, 15, 17, 19, 21, 23, 25, 27, 29, 31, 33, 35, 37, 39, 41, 43, 45, 47, 49]\n",
            "Your code PASSED the code check!\n"
          ]
        }
      ],
      "source": [
        "#TODO 7.1\n",
        "odd_list = [ele for ele in range(1, 51) if ele%2 == 1]\n",
        "print(f\"odd_list output: {odd_list}\")\n",
        "\n",
        "todo_check([\n",
        "    (odd_list==[1,  3,  5,  7,  9,  11,  13,  15,  17,  19,  21,  23,  25,  27,  29,  31,  33,  35,  37,  39,  41,  43,  45,  47,  49],\n",
        "     'odd_list does not contain all odd numbers between 1 and 49')\n",
        "    ])"
      ]
    },
    {
      "cell_type": "markdown",
      "metadata": {
        "id": "VqOXq3s2Iqwj"
      },
      "source": [
        "## Lambda Functions\n",
        "Sometimes it can be useful to define functions on the go or for only a short period of time. This is where `lambda` functions come into play. The `lambda` keyword allows us to declare an anonymous function or a function with no name on the fly.\n",
        "\n",
        "- Additional Sources\n",
        "    - [What are Lambda Functions?](https://stackabuse.com/lambda-functions-in-python/)\n",
        "    - [Why are Python lambdas useful? - Stack Overflow](https://stackoverflow.com/questions/890128/why-are-python-lambdas-useful)"
      ]
    },
    {
      "cell_type": "code",
      "execution_count": null,
      "metadata": {
        "id": "WLWTjEYXIqwk",
        "colab": {
          "base_uri": "https://localhost:8080/"
        },
        "outputId": "b1e4e5a8-61fa-4f05-82b2-bb130d302b38"
      },
      "outputs": [
        {
          "output_type": "execute_result",
          "data": {
            "text/plain": [
              "[1, 2, 3, 4, 5]"
            ]
          },
          "metadata": {},
          "execution_count": 89
        }
      ],
      "source": [
        "x_list = list(range(1, 6))\n",
        "x_list"
      ]
    },
    {
      "cell_type": "markdown",
      "metadata": {
        "id": "vAr7lJ-rIqwk"
      },
      "source": [
        "If we wanted to double every element in `x_list` we might define a function and use list comprehension."
      ]
    },
    {
      "cell_type": "code",
      "execution_count": null,
      "metadata": {
        "id": "o99HOqqMIqwk",
        "outputId": "440a0e74-5bf8-4d07-f8f2-b7c9e14a406c",
        "colab": {
          "base_uri": "https://localhost:8080/"
        }
      },
      "outputs": [
        {
          "output_type": "execute_result",
          "data": {
            "text/plain": [
              "[2, 4, 6, 8, 10]"
            ]
          },
          "metadata": {},
          "execution_count": 90
        }
      ],
      "source": [
        "def double(x):\n",
        "    return x * 2\n",
        "[double(ele) for ele in x_list]"
      ]
    },
    {
      "cell_type": "markdown",
      "metadata": {
        "id": "_zeNry_PIqwk"
      },
      "source": [
        "Alternatively, instead of defining a function we could define a `lambda` function.\n",
        "\n",
        "The basic outline for a `lambda` function is given below where `p1`, `p2` are the arguments of the function.\n",
        "\n",
        "```\n",
        "lambda p1, p2, ...: expression\n",
        "```"
      ]
    },
    {
      "cell_type": "code",
      "execution_count": null,
      "metadata": {
        "id": "a1Z5Bk0pIqwk",
        "outputId": "d94f2b65-5e52-42bd-c11a-d794a2f027a5",
        "colab": {
          "base_uri": "https://localhost:8080/"
        }
      },
      "outputs": [
        {
          "output_type": "execute_result",
          "data": {
            "text/plain": [
              "[2, 4, 6, 8, 10]"
            ]
          },
          "metadata": {},
          "execution_count": 91
        }
      ],
      "source": [
        "# Nameless function stored inside a variable\n",
        "double_lambda = lambda x: x*2\n",
        "[double_lambda(ele) for ele in x_list]"
      ]
    },
    {
      "cell_type": "markdown",
      "metadata": {
        "id": "D2K7AmX4Iqwk"
      },
      "source": [
        "The real usefullness of `lambda` functions arises when a function takes as input another function. Take the built-in Python function [map](https://realpython.com/python-map-function/) for example. The `map` function applies a the passed function to every element in the list (basically it loops over a list and applies a function to every element like we just did). Note, we need to wrap the `map()` output in a list as maps returns a generator and we want a list so we can see all the output at once.\n",
        "\n",
        "So, we could define a function `double` and then pass it to `map`."
      ]
    },
    {
      "cell_type": "code",
      "execution_count": null,
      "metadata": {
        "id": "L0EdSI6GIqwk",
        "outputId": "a50f3d6d-78e9-4d39-d971-f575b0771bf5",
        "colab": {
          "base_uri": "https://localhost:8080/"
        }
      },
      "outputs": [
        {
          "output_type": "execute_result",
          "data": {
            "text/plain": [
              "[2, 4, 6, 8, 10]"
            ]
          },
          "metadata": {},
          "execution_count": 92
        }
      ],
      "source": [
        "def double(x):\n",
        "    return x * 2\n",
        "list(map(double, x_list))"
      ]
    },
    {
      "cell_type": "markdown",
      "metadata": {
        "id": "waaGbtUOIqwk"
      },
      "source": [
        "However, we can actually do the same thing in one line of code and forego defining a function by using `lambda` functions."
      ]
    },
    {
      "cell_type": "code",
      "execution_count": null,
      "metadata": {
        "id": "QN2VCPSsIqwk",
        "outputId": "5c0f7cd5-66b5-4d4d-a1a9-a7b1eb71baf7",
        "colab": {
          "base_uri": "https://localhost:8080/"
        }
      },
      "outputs": [
        {
          "output_type": "execute_result",
          "data": {
            "text/plain": [
              "[2, 4, 6, 8, 10]"
            ]
          },
          "metadata": {},
          "execution_count": 93
        }
      ],
      "source": [
        "list(map(lambda x: x*2, x_list))"
      ]
    },
    {
      "cell_type": "markdown",
      "metadata": {
        "id": "FHGdBk1rIqwk"
      },
      "source": [
        "## Debugging\n",
        "\n",
        "Frequently you'll find yourself very confused about why you are getting a certain error. One of your best tools to over come errors is through debugging. Learning how to debug in Python is crucial for this class!"
      ]
    },
    {
      "cell_type": "markdown",
      "metadata": {
        "id": "KEX7Qa5JIqwl"
      },
      "source": [
        "### Debugging with `print`\n",
        "The most naive form of debugging that most of us are familiar with is printing out the values of a variable. This is a great method if you just need some quick debugging."
      ]
    },
    {
      "cell_type": "code",
      "execution_count": null,
      "metadata": {
        "id": "v4Fcpv9AIqwl",
        "outputId": "9c807099-ca1e-4d00-df0b-7f83c1d888bd",
        "colab": {
          "base_uri": "https://localhost:8080/"
        }
      },
      "outputs": [
        {
          "output_type": "stream",
          "name": "stdout",
          "text": [
            "Samples: 2 Features: 10\n",
            "Weight shapes: (10,)\n"
          ]
        }
      ],
      "source": [
        "def toy_print_example():\n",
        "    import numpy as np\n",
        "\n",
        "    samples = 2\n",
        "    features = 10\n",
        "    print(\"Samples: {} Features: {}\".format(samples, features))\n",
        "\n",
        "    weights = np.zeros((features,))\n",
        "    print(\"Weight shapes:\", weights.shape)\n",
        "\n",
        "toy_print_example()"
      ]
    },
    {
      "cell_type": "markdown",
      "metadata": {
        "id": "gSlW4OZzIqwl"
      },
      "source": [
        "### Debugging with set_trace()\n",
        "\n",
        "The `set_trace()` method either from `pdb` or `IPython.core.debugger` allows for you to manually set a breakpoint in the code. When the code reaches the `set_trace()` it will pause the code and bring up a terminal like interface that allows you interact the local code scope that has ran so far. `IPython.core.debugger` is specifically adapts `pdb` for Jupyter notebook and adds a little better functionality in Jupyter.\n",
        "\n",
        "- Additional Sources\n",
        "    - [Python PDB documentation](https://docs.python.org/3/library/pdb.html)"
      ]
    },
    {
      "cell_type": "code",
      "execution_count": null,
      "metadata": {
        "id": "Gmo0b1-LIqwl"
      },
      "outputs": [],
      "source": [
        "from IPython.core.debugger import set_trace"
      ]
    },
    {
      "cell_type": "markdown",
      "metadata": {
        "id": "4JRBtVJ1Iqwl"
      },
      "source": [
        "While not recommended, you can use `pdb.set_trace()` though you might run into more errors. For instance, if you run the code cell twice without quiting with `q` the cell will lock-up. Use `pdb.set_trace()` when using an IDE or text editor!"
      ]
    },
    {
      "cell_type": "code",
      "execution_count": null,
      "metadata": {
        "id": "1F3QEaHEIqwl"
      },
      "outputs": [],
      "source": [
        "# from pdb import set_trace"
      ]
    },
    {
      "cell_type": "markdown",
      "metadata": {
        "id": "Kf5YbmhGIqwl"
      },
      "source": [
        "### Breakpoints\n",
        "When the code reaches the breakpoint an input box or terminal will appear where you enter code you want to run or debug commands (see below). For instance, if we want to print a variable called `weights` we can do so by entering either `weights` or `print(weights)` into the terminal. This will be useful when you need to debug your NumPy array shapes so keep this in mind! Further, you can also define new variables by simply entering a variable declaration like `new_variable = 3`.\n",
        "\n",
        "\n",
        "### Useful Commands\n",
        "- `c` Goes to the next breakpoint\n",
        "- `q` exits the debugger\n",
        "- `l` prints out the lines of code relative to the debugger\n",
        "- See [Python PDB documentation](https://docs.python.org/3/library/pdb.html) for all commands"
      ]
    },
    {
      "cell_type": "markdown",
      "metadata": {
        "id": "vmMV8vRUIqwl"
      },
      "source": [
        "Below is an example of a function that has breakpoints set by calling `set_trace()`. Try running the below code. Wait for the interactive debugger terminal to appear once the first breakpoint has been reached. Next, try printing values of samples and features. Next, enter 'c' to continue to the next breakpoint and try printing value and shape of weights.\n",
        "\n",
        "Note, if you run the below cell and a terminal does not appear then make sure the `enable_debug = True` (`enable_debug` is defined at the top of this notebook in the 1st code cell)."
      ]
    },
    {
      "cell_type": "code",
      "execution_count": null,
      "metadata": {
        "scrolled": true,
        "id": "xhMw63FcIqwl",
        "outputId": "ce2f3d3e-f3ee-4202-fe99-98c12c051598",
        "colab": {
          "base_uri": "https://localhost:8080/"
        }
      },
      "outputs": [
        {
          "name": "stdout",
          "output_type": "stream",
          "text": [
            "> \u001b[0;32m<ipython-input-98-345470a437b7>\u001b[0m(11)\u001b[0;36mtoy_ipython_example\u001b[0;34m()\u001b[0m\n",
            "\u001b[0;32m      9 \u001b[0;31m        \u001b[0mset_trace\u001b[0m\u001b[0;34m(\u001b[0m\u001b[0;34m)\u001b[0m\u001b[0;34m\u001b[0m\u001b[0;34m\u001b[0m\u001b[0m\n",
            "\u001b[0m\u001b[0;32m     10 \u001b[0;31m\u001b[0;34m\u001b[0m\u001b[0m\n",
            "\u001b[0m\u001b[0;32m---> 11 \u001b[0;31m    \u001b[0mweights\u001b[0m \u001b[0;34m=\u001b[0m \u001b[0mnp\u001b[0m\u001b[0;34m.\u001b[0m\u001b[0mzeros\u001b[0m\u001b[0;34m(\u001b[0m\u001b[0;34m(\u001b[0m\u001b[0mfeatures\u001b[0m\u001b[0;34m,\u001b[0m\u001b[0;34m)\u001b[0m\u001b[0;34m)\u001b[0m\u001b[0;34m\u001b[0m\u001b[0;34m\u001b[0m\u001b[0m\n",
            "\u001b[0m\u001b[0;32m     12 \u001b[0;31m    \u001b[0;31m# Try printing value and shape of weights\u001b[0m\u001b[0;34m\u001b[0m\u001b[0;34m\u001b[0m\u001b[0m\n",
            "\u001b[0m\u001b[0;32m     13 \u001b[0;31m    \u001b[0;31m# enter the command 'c' to continue running the code or use\u001b[0m\u001b[0;34m\u001b[0m\u001b[0;34m\u001b[0m\u001b[0m\n",
            "\u001b[0m\n",
            "ipdb> 2\n",
            "2\n",
            "ipdb> 10\n",
            "10\n",
            "ipdb> c\n",
            "--Return--\n",
            "None\n",
            "> \u001b[0;32m<ipython-input-98-345470a437b7>\u001b[0m(16)\u001b[0;36mtoy_ipython_example\u001b[0;34m()\u001b[0m\n",
            "\u001b[0;32m     14 \u001b[0;31m    \u001b[0;31m# 'q' to qui\u001b[0m\u001b[0;34m\u001b[0m\u001b[0;34m\u001b[0m\u001b[0m\n",
            "\u001b[0m\u001b[0;32m     15 \u001b[0;31m    \u001b[0;32mif\u001b[0m \u001b[0menable\u001b[0m\u001b[0;34m:\u001b[0m\u001b[0;34m\u001b[0m\u001b[0;34m\u001b[0m\u001b[0m\n",
            "\u001b[0m\u001b[0;32m---> 16 \u001b[0;31m        \u001b[0mset_trace\u001b[0m\u001b[0;34m(\u001b[0m\u001b[0;34m)\u001b[0m\u001b[0;34m\u001b[0m\u001b[0;34m\u001b[0m\u001b[0m\n",
            "\u001b[0m\u001b[0;32m     17 \u001b[0;31m\u001b[0;34m\u001b[0m\u001b[0m\n",
            "\u001b[0m\u001b[0;32m     18 \u001b[0;31m\u001b[0mtoy_ipython_example\u001b[0m\u001b[0;34m(\u001b[0m\u001b[0menable\u001b[0m\u001b[0;34m=\u001b[0m\u001b[0menable_debug\u001b[0m\u001b[0;34m)\u001b[0m\u001b[0;34m\u001b[0m\u001b[0;34m\u001b[0m\u001b[0m\n",
            "\u001b[0m\n",
            "ipdb> q\n"
          ]
        }
      ],
      "source": [
        "def toy_ipython_example(enable=True):\n",
        "    import numpy as np\n",
        "\n",
        "    samples = 2\n",
        "    features = 10\n",
        "    # Try printing values of samples and features\n",
        "    # enter the command 'c' to move to the next break point\n",
        "    if enable:\n",
        "        set_trace()\n",
        "\n",
        "    weights = np.zeros((features,))\n",
        "    # Try printing value and shape of weights\n",
        "    # enter the command 'c' to continue running the code or use\n",
        "    # 'q' to qui\n",
        "    if enable:\n",
        "        set_trace()\n",
        "\n",
        "toy_ipython_example(enable=enable_debug)"
      ]
    },
    {
      "cell_type": "markdown",
      "metadata": {
        "id": "9PZDZlR6Iqwl"
      },
      "source": [
        " # NumPy\n",
        "\n",
        "NumPy is a scientific library that is frequently used for its highly optimized linear algebra powers. One of NumPy's main attractions is its N-dimensional array objects which work great for storing and manipulating datasets! As we will come to see, most datasets are just 2D arrays where the number of data samples corresponds to the number of rows and the number of features corresponds to the number of columns.\n",
        "\n",
        "In later labs we will see examples of N-dimensional datasets. With this in mind, NumPy will be a library we use in almost every lab as it is so essential to manipulating datasets."
      ]
    },
    {
      "cell_type": "code",
      "execution_count": null,
      "metadata": {
        "id": "gxxTJYwwIqwl"
      },
      "outputs": [],
      "source": [
        "import numpy as np\n",
        "\n",
        "# Sets NumPy gloabl seed such that any\n",
        "# randomly generation done by NumPy is seeded\n",
        "np.random.seed(0)"
      ]
    },
    {
      "cell_type": "markdown",
      "metadata": {
        "id": "ZpN7IxZDIqwm"
      },
      "source": [
        "## Generating Arrays\n",
        "\n",
        "A numpy array is a grid of values, typically all of the same type. Array values can be indexed by either a integer or tuple/list of nonnegative integers. The number of dimensions is usually referred to as the rank of the array; the shape of an array is a tuple of integers giving the size of the array along each dimension [1].\n",
        "\n",
        "Let's make this definition concrete by first creating a rank 1 array or an array with 1 dimension (1D)! Notice, we can make an array simply by passing a list as input!"
      ]
    },
    {
      "cell_type": "code",
      "execution_count": null,
      "metadata": {
        "id": "owHgVUFQIqwm",
        "outputId": "97d4b498-206d-4079-ecfe-a5abaa1fc8ad",
        "colab": {
          "base_uri": "https://localhost:8080/"
        }
      },
      "outputs": [
        {
          "output_type": "execute_result",
          "data": {
            "text/plain": [
              "array([1, 2, 3])"
            ]
          },
          "metadata": {},
          "execution_count": 100
        }
      ],
      "source": [
        "a = np.array([1, 2, 3])   # Create a rank 1 array\n",
        "a"
      ]
    },
    {
      "cell_type": "markdown",
      "metadata": {
        "id": "exafLcBDIqwm"
      },
      "source": [
        "We can check the type just like before."
      ]
    },
    {
      "cell_type": "code",
      "execution_count": null,
      "metadata": {
        "id": "8zWmnHttIqwm",
        "outputId": "cdd9e497-f3d1-4f7a-f7d2-e52e22d811f3",
        "colab": {
          "base_uri": "https://localhost:8080/"
        }
      },
      "outputs": [
        {
          "output_type": "execute_result",
          "data": {
            "text/plain": [
              "numpy.ndarray"
            ]
          },
          "metadata": {},
          "execution_count": 101
        }
      ],
      "source": [
        "type(a)"
      ]
    },
    {
      "cell_type": "markdown",
      "metadata": {
        "id": "duK-EPE9Iqwm"
      },
      "source": [
        "Further, we can check the shape of the array which specifies the length of each dimensions. Since we have a 1D array we can only see one dimension!"
      ]
    },
    {
      "cell_type": "code",
      "execution_count": null,
      "metadata": {
        "id": "tQ9saOUJIqwm",
        "outputId": "d22e8bc6-7168-444c-d110-2a66f8a9ae54",
        "colab": {
          "base_uri": "https://localhost:8080/"
        }
      },
      "outputs": [
        {
          "output_type": "execute_result",
          "data": {
            "text/plain": [
              "(3,)"
            ]
          },
          "metadata": {},
          "execution_count": 102
        }
      ],
      "source": [
        "a.shape"
      ]
    },
    {
      "cell_type": "markdown",
      "metadata": {
        "id": "zcbJ-265Iqwm"
      },
      "source": [
        "We can also use Python's `len` built-in function however it only checks the length of the first dimension! So, let's use `shape` for arrays."
      ]
    },
    {
      "cell_type": "code",
      "execution_count": null,
      "metadata": {
        "id": "NbZIYDjLIqwm",
        "outputId": "b5b8bf62-d1ee-4c31-f09f-5acea90f545d",
        "colab": {
          "base_uri": "https://localhost:8080/"
        }
      },
      "outputs": [
        {
          "output_type": "execute_result",
          "data": {
            "text/plain": [
              "3"
            ]
          },
          "metadata": {},
          "execution_count": 103
        }
      ],
      "source": [
        "len(a)"
      ]
    },
    {
      "cell_type": "markdown",
      "metadata": {
        "id": "Z3ucJT7dIqwm"
      },
      "source": [
        "NumPy also let's generate arrays of different sizes that are automatically filled with values. For example, we can generate many different types of 2x2 arrays that are filled with different values automatically. Notice, we pass a tuple of `(2,2)` to define the shape we want.\n",
        "\n",
        "See the [Array Creation Routines docs](https://numpy.org/doc/stable/reference/routines.array-creation.html) to see all the different ways NumPy can generate different arrays."
      ]
    },
    {
      "cell_type": "markdown",
      "metadata": {
        "id": "CaNdtuQyIqwm"
      },
      "source": [
        "`np.zeros` creates an array of zeros."
      ]
    },
    {
      "cell_type": "code",
      "execution_count": null,
      "metadata": {
        "id": "eWImxI4aIqwn",
        "outputId": "3437da0d-c7ce-4293-ec0b-7b4901826479",
        "colab": {
          "base_uri": "https://localhost:8080/"
        }
      },
      "outputs": [
        {
          "output_type": "execute_result",
          "data": {
            "text/plain": [
              "array([[0., 0.],\n",
              "       [0., 0.]])"
            ]
          },
          "metadata": {},
          "execution_count": 104
        }
      ],
      "source": [
        "zeros_arr = np.zeros((2, 2))\n",
        "zeros_arr"
      ]
    },
    {
      "cell_type": "markdown",
      "metadata": {
        "id": "dHdhpiOUIqwn"
      },
      "source": [
        "If we check the shape we can see `zeros_arr` does indeed have 2 rows and 2 columns!"
      ]
    },
    {
      "cell_type": "code",
      "execution_count": null,
      "metadata": {
        "id": "_ixLi8Y3Iqwn",
        "outputId": "21ac88c0-db0c-4916-f791-eaa90a00194b",
        "colab": {
          "base_uri": "https://localhost:8080/"
        }
      },
      "outputs": [
        {
          "output_type": "execute_result",
          "data": {
            "text/plain": [
              "(2, 2)"
            ]
          },
          "metadata": {},
          "execution_count": 105
        }
      ],
      "source": [
        "zeros_arr.shape"
      ]
    },
    {
      "cell_type": "markdown",
      "metadata": {
        "id": "2AJ0dGg1Iqwn"
      },
      "source": [
        "`np.ones` creates an array of ones."
      ]
    },
    {
      "cell_type": "code",
      "execution_count": null,
      "metadata": {
        "id": "Q1VKHVVxIqwn",
        "outputId": "52bf0032-cf55-4103-aa14-883fb1d4e5cb",
        "colab": {
          "base_uri": "https://localhost:8080/"
        }
      },
      "outputs": [
        {
          "output_type": "execute_result",
          "data": {
            "text/plain": [
              "array([[1., 1.],\n",
              "       [1., 1.]])"
            ]
          },
          "metadata": {},
          "execution_count": 106
        }
      ],
      "source": [
        "ones_arr = np.ones((2, 2))\n",
        "ones_arr"
      ]
    },
    {
      "cell_type": "markdown",
      "metadata": {
        "id": "Z1ODiUb8Iqwn"
      },
      "source": [
        "`np.full` fills and array with any specified number."
      ]
    },
    {
      "cell_type": "code",
      "execution_count": null,
      "metadata": {
        "id": "Ebqs3lrrIqwn",
        "outputId": "93b95be1-47b5-4073-8a7c-3f192809452d",
        "colab": {
          "base_uri": "https://localhost:8080/"
        }
      },
      "outputs": [
        {
          "output_type": "execute_result",
          "data": {
            "text/plain": [
              "array([[10, 10],\n",
              "       [10, 10]])"
            ]
          },
          "metadata": {},
          "execution_count": 107
        }
      ],
      "source": [
        "tens_arr = np.full((2, 2), 10)\n",
        "tens_arr"
      ]
    },
    {
      "cell_type": "markdown",
      "metadata": {
        "id": "q137ELh8Iqwn"
      },
      "source": [
        "`np.arange` makes an array of evenly spaced values within a given interval (much like Python's range function)."
      ]
    },
    {
      "cell_type": "code",
      "execution_count": null,
      "metadata": {
        "id": "t7XnjJc8Iqwn",
        "outputId": "2d7b5883-3601-4aa9-f49c-e77eab12cd54",
        "colab": {
          "base_uri": "https://localhost:8080/"
        }
      },
      "outputs": [
        {
          "output_type": "execute_result",
          "data": {
            "text/plain": [
              "array([0, 1, 2, 3, 4, 5, 6, 7, 8, 9])"
            ]
          },
          "metadata": {},
          "execution_count": 108
        }
      ],
      "source": [
        "aranged_arr = np.arange(10)\n",
        "aranged_arr"
      ]
    },
    {
      "cell_type": "markdown",
      "metadata": {
        "id": "AC5gumv-Iqwn"
      },
      "source": [
        "`np.random.rand` creates an array with random values. Note that you can use `np.random.seed` to set a global seed such that the same random array will always be generated. You can also use `rng = np.random.RandomState` to set a local seed and then use `rng.rand` to use said local seed!"
      ]
    },
    {
      "cell_type": "code",
      "execution_count": null,
      "metadata": {
        "id": "IS3uP-tuIqwn",
        "outputId": "6efcbef0-757d-4cde-fdeb-e09033729a89",
        "colab": {
          "base_uri": "https://localhost:8080/"
        }
      },
      "outputs": [
        {
          "output_type": "execute_result",
          "data": {
            "text/plain": [
              "array([[0.5488135 , 0.71518937],\n",
              "       [0.60276338, 0.54488318],\n",
              "       [0.4236548 , 0.64589411]])"
            ]
          },
          "metadata": {},
          "execution_count": 109
        }
      ],
      "source": [
        "# Creates an array with random values using global seed\n",
        "random_arr = np.random.rand(3,2)\n",
        "random_arr"
      ]
    },
    {
      "cell_type": "code",
      "execution_count": null,
      "metadata": {
        "id": "u0nSBCNqIqwo",
        "outputId": "95814a70-929e-4d98-8100-02f9032683e6",
        "colab": {
          "base_uri": "https://localhost:8080/"
        }
      },
      "outputs": [
        {
          "output_type": "execute_result",
          "data": {
            "text/plain": [
              "array([[0.4359949 , 0.02592623],\n",
              "       [0.54966248, 0.43532239],\n",
              "       [0.4203678 , 0.33033482]])"
            ]
          },
          "metadata": {},
          "execution_count": 110
        }
      ],
      "source": [
        "# Creates an array with random values using local seed\n",
        "rng = np.random.RandomState(2)\n",
        "random_arr = rng.rand(3,2)\n",
        "random_arr"
      ]
    },
    {
      "cell_type": "markdown",
      "metadata": {
        "id": "lbTJfw2pIqwo"
      },
      "source": [
        "### TODO 8\n",
        "1. Create an array of ones that has a size (10 , 1). Store the output into a variable called `bias_array`.\n",
        "2. Create an array from a the list `[100, 50, 32, 1000]`. Store the output into a variable called `array_from_list`."
      ]
    },
    {
      "cell_type": "code",
      "execution_count": null,
      "metadata": {
        "id": "L5E06HAuIqwo",
        "outputId": "3a11be93-2d62-443f-e29c-34da3455ab14",
        "colab": {
          "base_uri": "https://localhost:8080/",
          "height": 216
        }
      },
      "outputs": [
        {
          "output_type": "error",
          "ename": "NameError",
          "evalue": "name 'np' is not defined",
          "traceback": [
            "\u001b[0;31m---------------------------------------------------------------------------\u001b[0m",
            "\u001b[0;31mNameError\u001b[0m                                 Traceback (most recent call last)",
            "\u001b[0;32m<ipython-input-1-f1a7dacb5275>\u001b[0m in \u001b[0;36m<cell line: 0>\u001b[0;34m()\u001b[0m\n\u001b[1;32m      1\u001b[0m \u001b[0;31m# TODO 8.1\u001b[0m\u001b[0;34m\u001b[0m\u001b[0;34m\u001b[0m\u001b[0m\n\u001b[0;32m----> 2\u001b[0;31m \u001b[0mbias_array\u001b[0m \u001b[0;34m=\u001b[0m \u001b[0mnp\u001b[0m\u001b[0;34m.\u001b[0m\u001b[0mones\u001b[0m\u001b[0;34m(\u001b[0m\u001b[0;34m(\u001b[0m\u001b[0;36m10\u001b[0m\u001b[0;34m,\u001b[0m \u001b[0;36m1\u001b[0m\u001b[0;34m)\u001b[0m\u001b[0;34m)\u001b[0m\u001b[0;34m\u001b[0m\u001b[0;34m\u001b[0m\u001b[0m\n\u001b[0m\u001b[1;32m      3\u001b[0m \u001b[0;34m\u001b[0m\u001b[0m\n\u001b[1;32m      4\u001b[0m \u001b[0mprint\u001b[0m\u001b[0;34m(\u001b[0m\u001b[0;34mf\"bias_array output: \\n{bias_array}\"\u001b[0m\u001b[0;34m)\u001b[0m\u001b[0;34m\u001b[0m\u001b[0;34m\u001b[0m\u001b[0m\n\u001b[1;32m      5\u001b[0m \u001b[0mprint\u001b[0m\u001b[0;34m(\u001b[0m\u001b[0;34mf\"bias_array shape: {bias_array.shape}\"\u001b[0m\u001b[0;34m)\u001b[0m\u001b[0;34m\u001b[0m\u001b[0;34m\u001b[0m\u001b[0m\n",
            "\u001b[0;31mNameError\u001b[0m: name 'np' is not defined"
          ]
        }
      ],
      "source": [
        "# TODO 8.1\n",
        "bias_array = np.ones((10, 1))\n",
        "\n",
        "print(f\"bias_array output: \\n{bias_array}\")\n",
        "print(f\"bias_array shape: {bias_array.shape}\")\n",
        "\n",
        "todo_check([\n",
        "    (bias_array.shape == (10, 1), 'bias_array does not have the shape (10, 1)'),\n",
        "    (np.all(bias_array == 1), 'all values in bias_array are not 1')\n",
        "])"
      ]
    },
    {
      "cell_type": "code",
      "execution_count": null,
      "metadata": {
        "id": "d5xNxcgXIqwo",
        "outputId": "236d6bf3-b51b-4c8c-c7b0-44986b0d8ade",
        "colab": {
          "base_uri": "https://localhost:8080/"
        }
      },
      "outputs": [
        {
          "output_type": "stream",
          "name": "stdout",
          "text": [
            "array_from_list output: \n",
            "[ 100   50   32 1000]\n",
            "array_from_list shape: (4,)\n",
            "Your code PASSED the code check!\n"
          ]
        }
      ],
      "source": [
        "# TODO 8.2\n",
        "array_from_list = np.array([100,50,32,1000])\n",
        "\n",
        "print(f\"array_from_list output: \\n{array_from_list}\")\n",
        "print(f\"array_from_list shape: {array_from_list.shape}\")\n",
        "\n",
        "todo_check([\n",
        "    (array_from_list.shape == (4,), 'array_from_list did not have the shape (4,)'),\n",
        "    (list(array_from_list) == [100, 50, 32, 1000], 'array_from_list did not contain the values [100, 50, 32, 1000]')\n",
        "])"
      ]
    },
    {
      "cell_type": "markdown",
      "metadata": {
        "id": "ot9DqMW0Iqwo"
      },
      "source": [
        "## Indexing Arrays\n",
        "Indexing works just like with lists. Let's take a look at some examples."
      ]
    },
    {
      "cell_type": "markdown",
      "metadata": {
        "id": "2E86-52IIqwo"
      },
      "source": [
        "Indexing a rank 1 array or 1D array is very straight forward and most similar to indexing lists."
      ]
    },
    {
      "cell_type": "code",
      "execution_count": null,
      "metadata": {
        "id": "sFSHSYBrIqwo",
        "outputId": "a9161141-f8b2-4811-d6b3-528c5b78900c",
        "colab": {
          "base_uri": "https://localhost:8080/"
        }
      },
      "outputs": [
        {
          "output_type": "execute_result",
          "data": {
            "text/plain": [
              "array([1, 2, 3])"
            ]
          },
          "metadata": {},
          "execution_count": 115
        }
      ],
      "source": [
        "one_d = np.array([1, 2, 3])\n",
        "one_d"
      ]
    },
    {
      "cell_type": "code",
      "execution_count": null,
      "metadata": {
        "id": "oAzCVebcIqwp",
        "outputId": "ca12574f-f5c7-432a-86ba-52f7089fd79a",
        "colab": {
          "base_uri": "https://localhost:8080/"
        }
      },
      "outputs": [
        {
          "output_type": "stream",
          "name": "stdout",
          "text": [
            "1 2 3\n"
          ]
        }
      ],
      "source": [
        "print(one_d[0], one_d[1], one_d[2])"
      ]
    },
    {
      "cell_type": "markdown",
      "metadata": {
        "id": "1ww_aYsHIqwp"
      },
      "source": [
        "Furthermore, we can index NumPy arrays with lists or tuples such that we index multiple elements at once!\n",
        "\n",
        "Notice, we have to add a comma after the tuple, otherwise NumPy attempts to check multiple dimensions which we don't have as we only have a rank 1 array!"
      ]
    },
    {
      "cell_type": "code",
      "execution_count": null,
      "metadata": {
        "id": "OPh-1RxnIqwp",
        "outputId": "a0edce1b-f25a-4623-d551-dd73e31b09cd",
        "colab": {
          "base_uri": "https://localhost:8080/"
        }
      },
      "outputs": [
        {
          "output_type": "stream",
          "name": "stdout",
          "text": [
            "[1 2 3]\n",
            "[1 2 3]\n"
          ]
        }
      ],
      "source": [
        "print(one_d[(0,1,2),])\n",
        "print(one_d[[0,1,2]])"
      ]
    },
    {
      "cell_type": "markdown",
      "metadata": {
        "id": "Woxre20OIqwp"
      },
      "source": [
        "We can change an element just like lists."
      ]
    },
    {
      "cell_type": "code",
      "execution_count": null,
      "metadata": {
        "id": "dB7h-lzPIqwp",
        "outputId": "ba67ab89-c9d5-41b2-fab9-ad16b6eafb2d",
        "colab": {
          "base_uri": "https://localhost:8080/"
        }
      },
      "outputs": [
        {
          "output_type": "execute_result",
          "data": {
            "text/plain": [
              "array([5, 2, 3])"
            ]
          },
          "metadata": {},
          "execution_count": 118
        }
      ],
      "source": [
        "one_d[0] = 5\n",
        "one_d"
      ]
    },
    {
      "cell_type": "markdown",
      "metadata": {
        "id": "LtxmZef0Iqwp"
      },
      "source": [
        "Now let's check indexing with a rank 2 array or a 2D array as follows."
      ]
    },
    {
      "cell_type": "code",
      "execution_count": null,
      "metadata": {
        "id": "doxOqEt9Iqwp",
        "outputId": "8c060481-b5a0-442e-b122-fabe5dabed49",
        "colab": {
          "base_uri": "https://localhost:8080/"
        }
      },
      "outputs": [
        {
          "output_type": "execute_result",
          "data": {
            "text/plain": [
              "array([[1, 2, 3],\n",
              "       [4, 5, 6]])"
            ]
          },
          "metadata": {},
          "execution_count": 119
        }
      ],
      "source": [
        "two_d = np.array([[1,2,3],[4,5,6]])\n",
        "two_d"
      ]
    },
    {
      "cell_type": "markdown",
      "metadata": {
        "id": "_9ChXGkzIqwp"
      },
      "source": [
        "Like before we can get the shape of the array. Notice, since we are a 2D array we now have two dimensions we can index!"
      ]
    },
    {
      "cell_type": "code",
      "execution_count": null,
      "metadata": {
        "id": "x9vT22kQIqwp",
        "outputId": "304acfe6-1e51-4d19-cbb6-d6b397282c4a",
        "colab": {
          "base_uri": "https://localhost:8080/"
        }
      },
      "outputs": [
        {
          "output_type": "execute_result",
          "data": {
            "text/plain": [
              "(2, 3)"
            ]
          },
          "metadata": {},
          "execution_count": 120
        }
      ],
      "source": [
        "two_d.shape"
      ]
    },
    {
      "cell_type": "markdown",
      "metadata": {
        "id": "mE0yLB6EIqwp"
      },
      "source": [
        "Also we can use `len` but notice only the length of the first dimension is returned!"
      ]
    },
    {
      "cell_type": "code",
      "execution_count": null,
      "metadata": {
        "id": "V8ndZ21BIqwp",
        "outputId": "1ec0fdee-02b9-447f-d6c7-303666a47a53",
        "colab": {
          "base_uri": "https://localhost:8080/"
        }
      },
      "outputs": [
        {
          "output_type": "execute_result",
          "data": {
            "text/plain": [
              "2"
            ]
          },
          "metadata": {},
          "execution_count": 121
        }
      ],
      "source": [
        "len(two_d)"
      ]
    },
    {
      "cell_type": "markdown",
      "metadata": {
        "id": "4jzehfKZIqwq"
      },
      "source": [
        "Next, we can index each element by specifying two indices (one for the first dimension and one for the second)."
      ]
    },
    {
      "cell_type": "code",
      "execution_count": null,
      "metadata": {
        "id": "azsjOEa_Iqwr",
        "outputId": "f4621018-1c26-46ec-cf04-a4aaa90773b5",
        "colab": {
          "base_uri": "https://localhost:8080/"
        }
      },
      "outputs": [
        {
          "output_type": "stream",
          "name": "stdout",
          "text": [
            "1 2 4\n"
          ]
        }
      ],
      "source": [
        "print(two_d[0, 0], two_d[0, 1], two_d[1, 0])"
      ]
    },
    {
      "cell_type": "markdown",
      "metadata": {
        "id": "CD7Yt7QkIqwr"
      },
      "source": [
        "Likewise, we can slice arrays just like lists."
      ]
    },
    {
      "cell_type": "code",
      "execution_count": null,
      "metadata": {
        "id": "CalnpE7MIqwr",
        "outputId": "b2a9466f-8767-4f15-bbf1-74f5019dfb71",
        "colab": {
          "base_uri": "https://localhost:8080/"
        }
      },
      "outputs": [
        {
          "output_type": "stream",
          "name": "stdout",
          "text": [
            "Returns the first column for all rows: [1 4]\n",
            "Return all columns for the first row: [1 2 3]\n",
            "Returns the first two columns for all rows: \n",
            " [[1 2]\n",
            " [4 5]]\n"
          ]
        }
      ],
      "source": [
        "print(f\"Returns the first column for all rows: {two_d[:, 0]}\")\n",
        "print(f\"Return all columns for the first row: {two_d[0, :]}\")\n",
        "print(f\"Returns the first two columns for all rows: \\n {two_d[:, :2]}\")"
      ]
    },
    {
      "cell_type": "markdown",
      "metadata": {
        "id": "76rLK3r3Iqwr"
      },
      "source": [
        "Finally, once again we can index using tuples or lists."
      ]
    },
    {
      "cell_type": "code",
      "execution_count": null,
      "metadata": {
        "id": "SnZKCVbiIqwr",
        "outputId": "0ba1e022-42a9-4478-d4a6-dbb992df8706",
        "colab": {
          "base_uri": "https://localhost:8080/"
        }
      },
      "outputs": [
        {
          "output_type": "stream",
          "name": "stdout",
          "text": [
            "Tuple Indexing - Returns the first and last colums for all rows:\n",
            " [[1 3]\n",
            " [4 6]]\n",
            "List Indexing - Returns the first and last colums for all rows:\n",
            " [[1 3]\n",
            " [4 6]]\n"
          ]
        }
      ],
      "source": [
        "print(f\"Tuple Indexing - Returns the first and last colums for all rows:\\n {two_d[:, (0, -1)]}\")\n",
        "print(f\"List Indexing - Returns the first and last colums for all rows:\\n {two_d[:, [0, -1]]}\")"
      ]
    },
    {
      "cell_type": "markdown",
      "metadata": {
        "id": "EwMukRqGIqwr"
      },
      "source": [
        "### TODO 9\n",
        "Using the `dummy_array` given below, complete the following indexing/slicing TODOs.\n",
        "\n",
        "1. Index/slice the first (index 0), third (index 2), and last (index 4 or -1) columns of the array `dummy_array`. Store the output into the variable `column_slice`.\n",
        "    1. Hint: The output shape should be a (2, 3)!\n",
        "2. Index ONLY the first row (think about the corresponding index value) of `dummy_array`. Store the output into the variable `row_slice`.\n",
        "3. Index ONLY the second row and first two columns of `dummy_array`. Store the output into the variable `slice_array`."
      ]
    },
    {
      "cell_type": "code",
      "execution_count": null,
      "metadata": {
        "id": "izjep6RhIqwr",
        "outputId": "0c871081-95ac-4235-9d96-484f12532086",
        "colab": {
          "base_uri": "https://localhost:8080/"
        }
      },
      "outputs": [
        {
          "output_type": "stream",
          "name": "stdout",
          "text": [
            "dummy_array output: \n",
            " [[0 1 2 3 4]\n",
            " [5 6 7 8 9]]\n",
            "dummy_array shape: (2, 5)\n"
          ]
        }
      ],
      "source": [
        "dummy_array = np.arange(10).reshape(2, -1)\n",
        "print(f\"dummy_array output: \\n {dummy_array}\")\n",
        "print(f\"dummy_array shape: {dummy_array.shape}\")"
      ]
    },
    {
      "cell_type": "code",
      "execution_count": null,
      "metadata": {
        "id": "PqIDeZQoIqws",
        "outputId": "e9072b3d-362d-4ca0-d8c2-7e5491280c54",
        "colab": {
          "base_uri": "https://localhost:8080/"
        }
      },
      "outputs": [
        {
          "output_type": "stream",
          "name": "stdout",
          "text": [
            "column_slice output: \n",
            " [[0 2 4]\n",
            " [5 7 9]]\n",
            "column_slice shape: (2, 3)\n",
            "Your code PASSED the code check!\n"
          ]
        }
      ],
      "source": [
        "# TODO 9.1\n",
        "column_slice = dummy_array[:, [0, 2, -1]]\n",
        "\n",
        "print(f\"column_slice output: \\n {column_slice}\")\n",
        "print(f\"column_slice shape: {column_slice.shape}\")\n",
        "\n",
        "todo_check([\n",
        "    (column_slice.shape == (2, 3), 'column_slice did not return the correct shape of (2, 3)'),\n",
        "    (np.all(column_slice == np.array([[0, 2, 4], [5, 7, 9]])), 'column_slice did not return the correct values!')\n",
        "])"
      ]
    },
    {
      "cell_type": "code",
      "execution_count": null,
      "metadata": {
        "id": "QF2kMJLbIqws",
        "outputId": "de04f7f8-30b9-4523-b89f-dc0e79ff2cc1",
        "colab": {
          "base_uri": "https://localhost:8080/"
        }
      },
      "outputs": [
        {
          "output_type": "stream",
          "name": "stdout",
          "text": [
            "row_slice output: \n",
            " [0 1 2 3 4]\n",
            "row_slice shape: (5,)\n",
            "Your code PASSED the code check!\n"
          ]
        }
      ],
      "source": [
        "# TODO 9.2\n",
        "row_slice = dummy_array[0]\n",
        "\n",
        "print(f\"row_slice output: \\n {row_slice}\")\n",
        "print(f\"row_slice shape: {row_slice.shape}\")\n",
        "\n",
        "todo_check([\n",
        "    (row_slice.shape == (5,) or row_slice.shape == (1,5), 'row_slice does not have the correct shape of (5,) or (1, 5)' ),\n",
        "    (np.all(row_slice == np.array([0, 1, 2, 3, 4])), 'row_slice does not contain the correct values')\n",
        "])"
      ]
    },
    {
      "cell_type": "code",
      "execution_count": null,
      "metadata": {
        "id": "t3i0_4nXIqws",
        "outputId": "abcbfb4f-e01c-45ff-c5a2-4369819b0b16",
        "colab": {
          "base_uri": "https://localhost:8080/"
        }
      },
      "outputs": [
        {
          "output_type": "stream",
          "name": "stdout",
          "text": [
            "slice_array output: \n",
            " [5 6]\n",
            "slice_array shape: (2,)\n",
            "Your code PASSED the code check!\n"
          ]
        }
      ],
      "source": [
        "# TODO 9.3\n",
        "slice_array = dummy_array[1, :2]\n",
        "\n",
        "print(f\"slice_array output: \\n {slice_array}\")\n",
        "print(f\"slice_array shape: {slice_array.shape}\")\n",
        "\n",
        "todo_check([\n",
        "    (slice_array.shape == (2,) or slice_array.shape == (1, 2), 'slice_array does not have the correct shape of (2,) or (1, 2)'),\n",
        "    (np.all(slice_array == np.array([5, 6])), 'slice_array does not contain the correct values')\n",
        "])"
      ]
    },
    {
      "cell_type": "markdown",
      "metadata": {
        "id": "kNB9_7FNIqws"
      },
      "source": [
        "## Copying and Slices\n",
        "\n",
        "An important and sometimes confusing concept regarding NumPy arrays is copying. There are typically two methods for copying arrays (and copying in general): shallow copying and deep copying.\n",
        "\n",
        "*Shallow copying* either copies the object or elements memory addresses such that if a copied element is changed then the change is reflected in the original and vice-versa. Further, NumPy allows for what they call *views* or *slices*. Views or slices can be naively thought of as shallow copies of an entire or only part of an array.\n",
        "\n",
        "> View/Slice: An array that does not own its data, but refers to another array’s data instead. For example, we may create a view that only shows every second element of another array:\n",
        "\n",
        "*Deep copying* make stores data in a new memory address such that if we make changes to a copied object or element the changes are **not** reflected in the original and vica-versa.\n",
        "\n",
        "- Additional Sources\n",
        "    - [Offical NumPy slicing docs](https://numpy.org/doc/stable/reference/arrays.indexing.html)\n",
        "    - [Views versus copies in NumPy](https://scipy-cookbook.readthedocs.io/items/ViewsVsCopies.html)\n",
        "    - [Copy and View in NumPy Array](https://www.geeksforgeeks.org/copy-and-view-in-numpy-array/)\n",
        "    - [What's the difference between a view and a shallow copy of a numpy array?](https://stackoverflow.com/questions/50593483/whats-the-difference-between-a-view-and-a-shallow-copy-of-a-numpy-array)"
      ]
    },
    {
      "cell_type": "markdown",
      "metadata": {
        "id": "NSvHFEA7Iqws"
      },
      "source": [
        "Below is an example of which operations will result in a shallow copy and which operations will result in a deep copy. We can check whether a certain operation acted as a shallow or deep copy by looking at the memory address and by physically changing an element of the original array and seeing if the change is reflected in the copied array.\n",
        "\n",
        "Notice that all the copied arrays that mention deep copy have a different memory ID from `a`, the original array. Also notice that the deep copy arrays second index remains unchanged by the change to the original arrays."
      ]
    },
    {
      "cell_type": "markdown",
      "metadata": {
        "id": "YD9hojhkIqws"
      },
      "source": [
        "**In short: if you want to modify the copied arrary while not affact the original array, use .copy() to get the copied array.**"
      ]
    },
    {
      "cell_type": "code",
      "execution_count": null,
      "metadata": {
        "scrolled": true,
        "id": "sadDJj70Iqws",
        "outputId": "e3f268f7-c0a8-49f5-a64f-c68fdee7291c",
        "colab": {
          "base_uri": "https://localhost:8080/"
        }
      },
      "outputs": [
        {
          "output_type": "stream",
          "name": "stdout",
          "text": [
            "Original before change: [0 1 2 3 4 5 6 7 8 9] Memory address: 135588033482448\n",
            "------------------------------------------------------------------------------------------\n",
            "Original after change \n",
            " Array: [  0 999   2   3   4   5   6   7   8   9] Memory address: 135588033482448\n",
            "Simple shallow copy of entire array \n",
            " Array: [  0 999   2   3   4   5   6   7   8   9] Memory address: 135588033482448\n",
            "Slice shallow copy \n",
            " Array: [999   2   3   4] Memory address: 135588033485808\n",
            "Slice enitre array and shallow copy \n",
            " Array: [  0 999   2   3   4   5   6   7   8   9] Memory address: 135588033481296\n",
            "Slice array and deep copy \n",
            " Array: [1 2 3 4] Memory address: 135588033479952\n",
            "Entire array and deep copy with NumPy \n",
            " Array: [0 1 2 3 4 5 6 7 8 9] Memory address: 135588033486576\n",
            "Enitre array and deep copy with Python \n",
            " Array: [0 1 2 3 4 5 6 7 8 9] Memory address: 135588033479472\n",
            "Deep copy elements of `a` into new array `c` \n",
            " Array: [0. 1. 2. 3. 4. 5. 6. 7. 8. 9.] Memory address: 135588033479664\n"
          ]
        }
      ],
      "source": [
        "import copy\n",
        "\n",
        "# Original array\n",
        "a = np.arange(10)\n",
        "\n",
        "object_copy = a # Copy object\n",
        "slice_shallow1 = a[1:5] # Copy select elements\n",
        "slice_shallow2 = a[:] # Copy all elements\n",
        "slice_deep1 = a[1:5].copy() # deep copy select elements\n",
        "deep1 = a.copy() # deep copy all elemenets using NumPy\n",
        "deep2 = copy.deepcopy(a) # deep copy all elements using Python\n",
        "\n",
        "c = np.zeros(a.shape)\n",
        "c[:] = a[:] # deep copy elements of a into a new array\n",
        "\n",
        "print(f\"Original before change: {a} Memory address: {id(a)}\")\n",
        "\n",
        "# Update index 1\n",
        "a[1] = 999\n",
        "\n",
        "# Debug information\n",
        "print('-'*90)\n",
        "print(f\"Original after change \\n Array: {a} Memory address: {id(a)}\")\n",
        "print(f\"Simple shallow copy of entire array \\n Array: {object_copy} Memory address: {id(object_copy)}\")\n",
        "print(f\"Slice shallow copy \\n Array: {slice_shallow1} Memory address: {id(slice_shallow1)}\")\n",
        "print(f\"Slice enitre array and shallow copy \\n Array: {slice_shallow2} Memory address: {id(slice_shallow2)}\")\n",
        "print(f'Slice array and deep copy \\n Array: {slice_deep1} Memory address: {id(slice_deep1)}')\n",
        "print(f'Entire array and deep copy with NumPy \\n Array: {deep1} Memory address: {id(deep1)}')\n",
        "print(f'Enitre array and deep copy with Python \\n Array: {deep2} Memory address: {id(deep2)}')\n",
        "print(f'Deep copy elements of `a` into new array `c` \\n Array: {c} Memory address: {id(c)}')"
      ]
    },
    {
      "cell_type": "markdown",
      "metadata": {
        "id": "CY0fMUfdIqws"
      },
      "source": [
        "## Reshaping and Adding New Dimensions\n",
        "\n",
        "Reshaping allows you to change the shapes of an array without changing data of array. Reshaping is a frequently used functions for making sure array mathematical operations such as the dot product work as intended and errors don't arise (we will see these specific errors shortly)."
      ]
    },
    {
      "cell_type": "code",
      "execution_count": null,
      "metadata": {
        "id": "WIAvAvcOIqwt",
        "outputId": "91d1694b-d44f-4038-d495-f8f6f6f44f56",
        "colab": {
          "base_uri": "https://localhost:8080/"
        }
      },
      "outputs": [
        {
          "output_type": "execute_result",
          "data": {
            "text/plain": [
              "array([1, 2, 3, 4, 5, 6])"
            ]
          },
          "metadata": {},
          "execution_count": 137
        }
      ],
      "source": [
        "reshaping_array = np.arange(1, 7)\n",
        "reshaping_array"
      ]
    },
    {
      "cell_type": "markdown",
      "metadata": {
        "id": "b3PZpIl9Iqwt"
      },
      "source": [
        "If we wanted to change our rank 1 array into a rank 2 array we could then simply do a reshape as follows."
      ]
    },
    {
      "cell_type": "code",
      "execution_count": null,
      "metadata": {
        "id": "E0ISi0ZnIqwt",
        "outputId": "9d194923-b8bf-4b50-c925-bed0bbb4b111",
        "colab": {
          "base_uri": "https://localhost:8080/"
        }
      },
      "outputs": [
        {
          "output_type": "execute_result",
          "data": {
            "text/plain": [
              "array([[1, 2, 3],\n",
              "       [4, 5, 6]])"
            ]
          },
          "metadata": {},
          "execution_count": 138
        }
      ],
      "source": [
        "reshaping_array.reshape(2, 3)"
      ]
    },
    {
      "cell_type": "markdown",
      "metadata": {
        "id": "Wu1Jisy-Iqwt"
      },
      "source": [
        "Notice $2*3 = 6$ where 6 is the total number of elements. This means if we tried to reshape to a  (2,4) we would get an error as follows."
      ]
    },
    {
      "cell_type": "markdown",
      "metadata": {
        "id": "ov48pxhpIqwt"
      },
      "source": [
        "In reshaping, Numpy will fill all the elments into the new shape **row by row**。"
      ]
    },
    {
      "cell_type": "code",
      "execution_count": null,
      "metadata": {
        "scrolled": true,
        "id": "NaQ3m-0EIqwt",
        "outputId": "090c9fd2-1ad0-4a29-842c-be375a0190ba",
        "colab": {
          "base_uri": "https://localhost:8080/"
        }
      },
      "outputs": [
        {
          "output_type": "stream",
          "name": "stderr",
          "text": [
            "Traceback (most recent call last):\n",
            "  File \"<ipython-input-139-ce646fa4ba88>\", line 2, in <cell line: 0>\n",
            "    reshaping_array.reshape(2, 4)\n",
            "ValueError: cannot reshape array of size 6 into shape (2,4)\n"
          ]
        }
      ],
      "source": [
        "try:\n",
        "    reshaping_array.reshape(2, 4)\n",
        "except ValueError as e:\n",
        "    traceback.print_exc()"
      ]
    },
    {
      "cell_type": "markdown",
      "metadata": {
        "id": "G7iAzTDmIqwt"
      },
      "source": [
        "Further, note we can use `-1` in a dimensions. This allows NumPy to automatically determine what the dimension size should be based on the other dimensions!\n",
        "\n",
        "Below is an example of automatically determining the size of the column dimension."
      ]
    },
    {
      "cell_type": "code",
      "execution_count": null,
      "metadata": {
        "id": "Uu1yqTr_Iqwt",
        "outputId": "d975998b-b6e4-44db-f391-93bc6e0dcfa6",
        "colab": {
          "base_uri": "https://localhost:8080/"
        }
      },
      "outputs": [
        {
          "output_type": "stream",
          "name": "stdout",
          "text": [
            "[[1 2 3]\n",
            " [4 5 6]]\n",
            "(2, 3)\n"
          ]
        }
      ],
      "source": [
        "print(reshaping_array.reshape(2, -1))\n",
        "print(reshaping_array.reshape(2, -1).shape)"
      ]
    },
    {
      "cell_type": "markdown",
      "metadata": {
        "id": "5Szn80wlIqwt"
      },
      "source": [
        "Below is an example of automatically determining the size of the row dimension."
      ]
    },
    {
      "cell_type": "code",
      "execution_count": null,
      "metadata": {
        "id": "rParz9R2Iqwt",
        "outputId": "25a735f9-46f6-44f2-c421-75db49864bb4",
        "colab": {
          "base_uri": "https://localhost:8080/"
        }
      },
      "outputs": [
        {
          "output_type": "stream",
          "name": "stdout",
          "text": [
            "[[1 2 3]\n",
            " [4 5 6]]\n",
            "(2, 3)\n"
          ]
        }
      ],
      "source": [
        "print(reshaping_array.reshape(-1, 3))\n",
        "print(reshaping_array.reshape(-1, 3).shape)"
      ]
    },
    {
      "cell_type": "markdown",
      "metadata": {
        "id": "UkTDOLIMIqwu"
      },
      "source": [
        "Lastly, we can also add new dimensions when using reshape by adding a 1."
      ]
    },
    {
      "cell_type": "code",
      "execution_count": null,
      "metadata": {
        "id": "nYIBMp5xIqwu",
        "outputId": "b5caf3e5-3837-4977-a675-1be0993e68fd",
        "colab": {
          "base_uri": "https://localhost:8080/"
        }
      },
      "outputs": [
        {
          "output_type": "execute_result",
          "data": {
            "text/plain": [
              "(2, 3, 1)"
            ]
          },
          "metadata": {},
          "execution_count": 142
        }
      ],
      "source": [
        "reshaping_array.reshape(-1 ,3 ,1).shape"
      ]
    },
    {
      "cell_type": "markdown",
      "metadata": {
        "id": "8JKSgWPwIqwu"
      },
      "source": [
        "Alternatively, we can do the following as well to add a new dimensions."
      ]
    },
    {
      "cell_type": "code",
      "execution_count": null,
      "metadata": {
        "id": "mmuHOgY8Iqwu",
        "outputId": "26a5e6bc-ead9-45f9-cf89-203e3c43045b",
        "colab": {
          "base_uri": "https://localhost:8080/"
        }
      },
      "outputs": [
        {
          "output_type": "stream",
          "name": "stdout",
          "text": [
            "reshaping_array original shape: (6,)\n"
          ]
        },
        {
          "output_type": "execute_result",
          "data": {
            "text/plain": [
              "(6, 1, 1)"
            ]
          },
          "metadata": {},
          "execution_count": 143
        }
      ],
      "source": [
        "print(f\"reshaping_array original shape: {reshaping_array.shape}\")\n",
        "reshaping_array[:, None, None].shape"
      ]
    },
    {
      "cell_type": "markdown",
      "metadata": {
        "id": "--xboFoiIqwu"
      },
      "source": [
        "### TODO 10\n",
        "\n",
        "Use `twod_array` defined below to complete the following TODOs\n",
        "\n",
        "1. Reshape `twod_array` to have the shape (10, 1). Store the output into the variable `reshaped_array`. If you want, try using `-1` instead of hard coding 10!\n",
        "2. Add a third dimension to the `twod_array` such that the shape is (5, 2, 1). Store the output into the variable `three_d_array`"
      ]
    },
    {
      "cell_type": "code",
      "execution_count": null,
      "metadata": {
        "id": "6io9ZVBBIqwu",
        "outputId": "e2849b33-9a8e-408c-e99e-ecadfd29f753",
        "colab": {
          "base_uri": "https://localhost:8080/"
        }
      },
      "outputs": [
        {
          "output_type": "stream",
          "name": "stdout",
          "text": [
            "twod_array output: \n",
            " [[0. 1.]\n",
            " [0. 1.]\n",
            " [0. 1.]\n",
            " [0. 1.]\n",
            " [0. 1.]]\n",
            "twod_array shape: (5, 2)\n"
          ]
        }
      ],
      "source": [
        "twod_array = np.hstack([np.zeros((5, 1)), np.ones((5, 1))])\n",
        "\n",
        "print(f\"twod_array output: \\n {twod_array}\")\n",
        "print(f\"twod_array shape: {twod_array.shape}\")"
      ]
    },
    {
      "cell_type": "code",
      "execution_count": null,
      "metadata": {
        "id": "HTF2ROZGIqwu",
        "outputId": "949717c0-0823-4ba2-a812-0ed51e91033a",
        "colab": {
          "base_uri": "https://localhost:8080/"
        }
      },
      "outputs": [
        {
          "output_type": "stream",
          "name": "stdout",
          "text": [
            "reshaped_array output: \n",
            " [[0.]\n",
            " [1.]\n",
            " [0.]\n",
            " [1.]\n",
            " [0.]\n",
            " [1.]\n",
            " [0.]\n",
            " [1.]\n",
            " [0.]\n",
            " [1.]]\n",
            "reshaped_array shape: (10, 1)\n",
            "Your code PASSED the code check!\n"
          ]
        }
      ],
      "source": [
        "# TODO 10.1\n",
        "reshaped_array =twod_array.reshape(10,1)\n",
        "\n",
        "print(f\"reshaped_array output: \\n {reshaped_array}\")\n",
        "print(f\"reshaped_array shape: {reshaped_array.shape}\")\n",
        "\n",
        "todo_check([\n",
        "    (reshaped_array.shape == (10,1), 'reshaped_array does not have the correct shape of (10 ,1)')\n",
        "])"
      ]
    },
    {
      "cell_type": "code",
      "execution_count": null,
      "metadata": {
        "id": "Ic-Uuys1Iqwu",
        "outputId": "2fb4ffae-76ed-4e4f-d0ed-89a9348523d9",
        "colab": {
          "base_uri": "https://localhost:8080/"
        }
      },
      "outputs": [
        {
          "output_type": "stream",
          "name": "stdout",
          "text": [
            "three_d_array output: \n",
            " [[[0.]\n",
            "  [1.]]\n",
            "\n",
            " [[0.]\n",
            "  [1.]]\n",
            "\n",
            " [[0.]\n",
            "  [1.]]\n",
            "\n",
            " [[0.]\n",
            "  [1.]]\n",
            "\n",
            " [[0.]\n",
            "  [1.]]]\n",
            "three_d_array shape: (5, 2, 1)\n",
            "Your code PASSED the code check!\n"
          ]
        }
      ],
      "source": [
        "# TODO 10.2\n",
        "three_d_array =twod_array.reshape(5,2,1)\n",
        "\n",
        "print(f\"three_d_array output: \\n {three_d_array}\")\n",
        "print(f\"three_d_array shape: {three_d_array.shape}\")\n",
        "\n",
        "todo_check([\n",
        "    (three_d_array.shape == (5, 2, 1), 'three_d_array does not have the correct shape of (5, 2, 1)')\n",
        "])"
      ]
    },
    {
      "cell_type": "markdown",
      "metadata": {
        "id": "cG92IBNiIqwu"
      },
      "source": [
        "## What is an Axis?\n",
        "Axis is a very common parameter found in many NumPy functions that determines which dimension the function will be applied across. In other words, the axis parameter essentially refers to which axis gets collapsed! Below we cover the simple rank 2 array or a 2D array. This idea of axes is correlated with dimensions so if we have a N-dimensional array we can apply a function across any of the possible dimensions.\n",
        "\n",
        "This idea can be really tricky for beginners so don't worry if it doesn't make complete sense at first. Please seek help or check the additional resources below if you are left really confused.\n",
        "\n",
        "```\n",
        "axis=None: Apply function or operation across the entire array-wise.\n",
        "\n",
        "axis=0: Apply operation column-wise, function or operation is applied across all rows for each column\n",
        "(i.e., 1 output for each column).\n",
        "\n",
        "axis=1: Apply operation row-wise, function or operation is applied across all columns for each row\n",
        "(i.e., 1 output for each row).\n",
        "```\n",
        "\n",
        "![](https://vrzkj25a871bpq7t1ugcgmn9-wpengine.netdna-ssl.com/wp-content/uploads/2018/11/numpy-arrays-have-axes.png)\n",
        "\n",
        "- Additional Sources\n",
        "    - [How to Set Axis for Rows and Columns in NumPy](https://machinelearningmastery.com/numpy-axis-for-rows-and-columns/)\n",
        "    - [NumPy Axes explained](https://www.sharpsightlabs.com/blog/numpy-axes-explained/)"
      ]
    },
    {
      "cell_type": "markdown",
      "metadata": {
        "id": "np3cxMrwIqwv"
      },
      "source": [
        "Let's create a simply array with a shape of (3, 4). Notice, we use NumPy's `arange` function ([docs](https://numpy.org/doc/stable/reference/generated/numpy.arange.html)) to quickly generate 3 1D arrays and `vstack` ([docs](https://numpy.org/doc/stable/reference/generated/numpy.vstack.html)) function to stack said arrays into a (3, 4) array."
      ]
    },
    {
      "cell_type": "code",
      "execution_count": null,
      "metadata": {
        "id": "jUO6NwlWIqwv",
        "outputId": "bd783490-2025-4e05-e5fe-c855a7c95462",
        "colab": {
          "base_uri": "https://localhost:8080/"
        }
      },
      "outputs": [
        {
          "output_type": "stream",
          "name": "stdout",
          "text": [
            "axis_array output: \n",
            " [[1 2 3 4]\n",
            " [1 2 3 4]\n",
            " [1 2 3 4]]\n",
            "axis_array shap|e: (3, 4)\n"
          ]
        }
      ],
      "source": [
        "axis_array = np.vstack([np.arange(1,5), np.arange(1,5), np.arange(1,5)])\n",
        "\n",
        "print(f\"axis_array output: \\n {axis_array}\")\n",
        "print(f\"axis_array shap|e: {axis_array.shape}\")"
      ]
    },
    {
      "cell_type": "markdown",
      "metadata": {
        "id": "l7bYQvaEIqwv"
      },
      "source": [
        "Alternatively, we could have used NumPy's `stack` function ([docs](https://numpy.org/doc/stable/reference/generated/numpy.stack.html)) and specified `axis=0` to indicate we have to vertically stack each array on top of one another."
      ]
    },
    {
      "cell_type": "code",
      "execution_count": null,
      "metadata": {
        "id": "F4SE0pAZIqwv",
        "outputId": "dc5dc950-c238-4e3d-a99f-f1518d8d4938",
        "colab": {
          "base_uri": "https://localhost:8080/"
        }
      },
      "outputs": [
        {
          "output_type": "stream",
          "name": "stdout",
          "text": [
            "axis_array output: \n",
            " [[1 2 3 4]\n",
            " [1 2 3 4]\n",
            " [1 2 3 4]]\n",
            "axis_array shape: (3, 4)\n"
          ]
        }
      ],
      "source": [
        "axis_array = np.stack([np.arange(1,5), np.arange(1,5), np.arange(1,5)], axis=0)\n",
        "\n",
        "print(f\"axis_array output: \\n {axis_array}\")\n",
        "print(f\"axis_array shape: {axis_array.shape}\")"
      ]
    },
    {
      "cell_type": "markdown",
      "metadata": {
        "id": "vCtxzCX6Iqwv"
      },
      "source": [
        "Here we take the sum with no axis parameter given (in other words, `axis=None` by default). Thus, the sum of the entire array is computed."
      ]
    },
    {
      "cell_type": "code",
      "execution_count": null,
      "metadata": {
        "id": "LGY4_X6hIqwv",
        "outputId": "e3009846-01f4-49b6-bba3-b4573f51263e",
        "colab": {
          "base_uri": "https://localhost:8080/"
        }
      },
      "outputs": [
        {
          "output_type": "execute_result",
          "data": {
            "text/plain": [
              "30"
            ]
          },
          "metadata": {},
          "execution_count": 150
        }
      ],
      "source": [
        "np.sum(axis_array)"
      ]
    },
    {
      "cell_type": "markdown",
      "metadata": {
        "id": "cfp5ijNHIqwv"
      },
      "source": [
        "Likewise, we can apply the same idea to the `max` function where the max of the entire array is taken."
      ]
    },
    {
      "cell_type": "code",
      "execution_count": null,
      "metadata": {
        "id": "sd3zG2duIqwv",
        "outputId": "0b91f963-8a66-45b7-f698-cfd7f553983c",
        "colab": {
          "base_uri": "https://localhost:8080/"
        }
      },
      "outputs": [
        {
          "output_type": "execute_result",
          "data": {
            "text/plain": [
              "4"
            ]
          },
          "metadata": {},
          "execution_count": 151
        }
      ],
      "source": [
        "np.max(axis_array)"
      ]
    },
    {
      "cell_type": "markdown",
      "metadata": {
        "id": "eufwMQtOIqwv"
      },
      "source": [
        "Here we take the sum and max for each column by passing `axis=0` which means the 1st dimension (the row dimension) is collapsed. Meaning, we now want to take the sum/max across columns!\n",
        "\n",
        "Alternatively, think about the axis visually. Recall, `axis=0` points down vertically (see above picture). This means the operation is applied for each column."
      ]
    },
    {
      "cell_type": "code",
      "execution_count": null,
      "metadata": {
        "id": "F7J2dlMEIqwv",
        "outputId": "8931cc69-5c07-49e0-a56c-023d1f972475",
        "colab": {
          "base_uri": "https://localhost:8080/"
        }
      },
      "outputs": [
        {
          "output_type": "execute_result",
          "data": {
            "text/plain": [
              "array([ 3,  6,  9, 12])"
            ]
          },
          "metadata": {},
          "execution_count": 152
        }
      ],
      "source": [
        "# Column-wise: 1 number for each column\n",
        "np.sum(axis_array,  axis=0)"
      ]
    },
    {
      "cell_type": "code",
      "execution_count": null,
      "metadata": {
        "id": "w6aE6xwLIqww",
        "outputId": "009ae542-bd80-45e6-a9fc-2b9bd5985a58",
        "colab": {
          "base_uri": "https://localhost:8080/"
        }
      },
      "outputs": [
        {
          "output_type": "execute_result",
          "data": {
            "text/plain": [
              "array([1, 2, 3, 4])"
            ]
          },
          "metadata": {},
          "execution_count": 153
        }
      ],
      "source": [
        "# Another example but now using max\n",
        "np.max(axis_array, axis=0)"
      ]
    },
    {
      "cell_type": "markdown",
      "metadata": {
        "id": "XV85rEs7Iqww"
      },
      "source": [
        "Here we take the sum and max row-wise (for each row) by passing `axis=1` which means the 2nd dimension (the column dimension) is collapsed. Meaning, we now want to take the sum/max across rows!\n",
        "\n",
        "Alternatively, think about the axis visually. Recall, `axis=1` points across the array horizontally (see above picture). This means the operation is applied for each row."
      ]
    },
    {
      "cell_type": "code",
      "execution_count": null,
      "metadata": {
        "id": "Qr-Y1bpZIqww",
        "outputId": "41e9c8e5-b952-4062-9eeb-ebcfb4c81d0b",
        "colab": {
          "base_uri": "https://localhost:8080/"
        }
      },
      "outputs": [
        {
          "output_type": "execute_result",
          "data": {
            "text/plain": [
              "array([10, 10, 10])"
            ]
          },
          "metadata": {},
          "execution_count": 154
        }
      ],
      "source": [
        "# Row-wise: 1 number for each row\n",
        "np.sum(axis_array,  axis=1)"
      ]
    },
    {
      "cell_type": "code",
      "execution_count": null,
      "metadata": {
        "id": "5W9OVNyeIqww",
        "outputId": "012fb749-ee81-42ac-8718-f2fe16884475",
        "colab": {
          "base_uri": "https://localhost:8080/"
        }
      },
      "outputs": [
        {
          "output_type": "execute_result",
          "data": {
            "text/plain": [
              "array([4, 4, 4])"
            ]
          },
          "metadata": {},
          "execution_count": 155
        }
      ],
      "source": [
        "# Another example but now using max\n",
        "np.max(axis_array, axis=1)"
      ]
    },
    {
      "cell_type": "markdown",
      "metadata": {
        "id": "k0OQN1EHIqww"
      },
      "source": [
        "### TODO 11\n",
        "\n",
        "Using the `axis_array` defined below complete the following TODOs.\n",
        "\n",
        "**Hint: Think about which axis is being collapsed or the direction of the arrow for each axis in the above picture.**\n",
        "\n",
        "1. Compute the average using `np.average` **for each row**. Store the output into the variable `row_avg`.\n",
        "2. Find the minimum value using `np.min` **for each column**. Store the output into the variable `col_min`."
      ]
    },
    {
      "cell_type": "code",
      "execution_count": null,
      "metadata": {
        "id": "kw03mq42Iqwx",
        "outputId": "0ed5284d-9db8-40fc-fcd6-f331bc8b7829",
        "colab": {
          "base_uri": "https://localhost:8080/"
        }
      },
      "outputs": [
        {
          "output_type": "stream",
          "name": "stdout",
          "text": [
            "axis_array output: \n",
            " [[2 2 2 2 2]\n",
            " [5 5 5 5 5]]\n",
            "axis_array shape: (2, 5)\n"
          ]
        }
      ],
      "source": [
        "axis_array = np.vstack([np.full((1, 5), 2), np.full((1, 5), 5)])\n",
        "print(f\"axis_array output: \\n {axis_array}\")\n",
        "print(f\"axis_array shape: {axis_array.shape}\")"
      ]
    },
    {
      "cell_type": "code",
      "execution_count": null,
      "metadata": {
        "id": "okVz5MzfIqwx",
        "outputId": "a5baf19f-8b46-4107-df8f-d8d40b5a0e3b",
        "colab": {
          "base_uri": "https://localhost:8080/"
        }
      },
      "outputs": [
        {
          "output_type": "stream",
          "name": "stdout",
          "text": [
            "row_avg output: \n",
            " [2. 5.]\n",
            "row_avg shape: (2,)\n",
            "Your code PASSED the code check!\n"
          ]
        }
      ],
      "source": [
        "# TODO 11.1\n",
        "row_avg = np.average(axis_array, axis=1)\n",
        "\n",
        "print(f\"row_avg output: \\n {row_avg}\")\n",
        "print(f\"row_avg shape: {row_avg.shape}\")\n",
        "\n",
        "todo_check([\n",
        "    (row_avg.shape == (2,), 'row_avg does not have the correct shape of (2,)'),\n",
        "    (np.all(row_avg == np.array([2, 5])), 'row_avg does not have the correct values')\n",
        "])"
      ]
    },
    {
      "cell_type": "code",
      "execution_count": null,
      "metadata": {
        "id": "FaONWeAyIqwx",
        "outputId": "5bc5466e-6175-4cdb-9d1f-293402aa990f",
        "colab": {
          "base_uri": "https://localhost:8080/"
        }
      },
      "outputs": [
        {
          "output_type": "stream",
          "name": "stdout",
          "text": [
            "col_min output: \n",
            " [2 2 2 2 2]\n",
            "col_min shape: (5,)\n",
            "Your code PASSED the code check!\n"
          ]
        }
      ],
      "source": [
        "# TODO 11.2\n",
        "col_min = np.min(axis_array, axis=0)\n",
        "\n",
        "print(f\"col_min output: \\n {col_min}\")\n",
        "print(f\"col_min shape: {col_min.shape}\")\n",
        "\n",
        "todo_check([\n",
        "    (col_min.shape == (5,), \"col_min does not have the correct shape of (5,)\"),\n",
        "    (np.all(col_min == np.array([2, 2, 2, 2, 2])), 'col_min does not have the correct values')\n",
        "])"
      ]
    },
    {
      "cell_type": "markdown",
      "metadata": {
        "id": "gbIShM77Iqwx"
      },
      "source": [
        "## Datatypes\n",
        "\n",
        "Every NumPy array is a grid of elements of the same type. NumPy provides a large set of numeric datatypes that you can use to construct arrays. NumPy tries to guess a datatype when you create an array, but functions that construct arrays usually also includes an optional argument to explicitly specify the datatype [1]."
      ]
    },
    {
      "cell_type": "markdown",
      "metadata": {
        "id": "tnTUTJuUIqwx"
      },
      "source": [
        "As we can see below, NumPy automatically detects our list being converted into an array is integers. We use the `dtype` method to check the type of the elements."
      ]
    },
    {
      "cell_type": "code",
      "execution_count": null,
      "metadata": {
        "id": "exACjyutIqwy",
        "outputId": "9d74acd0-e5b7-478d-cc6c-b615c8723517",
        "colab": {
          "base_uri": "https://localhost:8080/"
        }
      },
      "outputs": [
        {
          "output_type": "execute_result",
          "data": {
            "text/plain": [
              "dtype('int64')"
            ]
          },
          "metadata": {},
          "execution_count": 165
        }
      ],
      "source": [
        "x = np.array([1, 2])\n",
        "x.dtype"
      ]
    },
    {
      "cell_type": "markdown",
      "metadata": {
        "id": "WcNUJN2KIqwy"
      },
      "source": [
        "Likewise the same applies to floats."
      ]
    },
    {
      "cell_type": "code",
      "execution_count": null,
      "metadata": {
        "id": "NUYc8fo2Iqwy",
        "outputId": "eafdb404-9244-4350-f9d6-b0019f413a4c",
        "colab": {
          "base_uri": "https://localhost:8080/"
        }
      },
      "outputs": [
        {
          "output_type": "execute_result",
          "data": {
            "text/plain": [
              "dtype('float64')"
            ]
          },
          "metadata": {},
          "execution_count": 166
        }
      ],
      "source": [
        "x = np.array([1.0, 2.0])\n",
        "x.dtype"
      ]
    },
    {
      "cell_type": "markdown",
      "metadata": {
        "id": "npMtK8e6Iqwy"
      },
      "source": [
        "Lastly, we can specify the type either when initializing the array or after the array has been initialized."
      ]
    },
    {
      "cell_type": "code",
      "execution_count": null,
      "metadata": {
        "id": "sOqTfKAGIqwy",
        "outputId": "71ccb72f-f4aa-4ea7-ec37-69b02c37dbd1",
        "colab": {
          "base_uri": "https://localhost:8080/"
        }
      },
      "outputs": [
        {
          "output_type": "execute_result",
          "data": {
            "text/plain": [
              "dtype('float64')"
            ]
          },
          "metadata": {},
          "execution_count": 167
        }
      ],
      "source": [
        "x = np.array([1, 2], dtype=np.float64)\n",
        "x.dtype"
      ]
    },
    {
      "cell_type": "code",
      "execution_count": null,
      "metadata": {
        "id": "cMVL7rt3Iqwy",
        "outputId": "b43f28ea-da12-4b34-8b0d-506284d203e9",
        "colab": {
          "base_uri": "https://localhost:8080/"
        }
      },
      "outputs": [
        {
          "output_type": "execute_result",
          "data": {
            "text/plain": [
              "dtype('int64')"
            ]
          },
          "metadata": {},
          "execution_count": 168
        }
      ],
      "source": [
        "x = x.astype(np.int64)\n",
        "x.dtype"
      ]
    },
    {
      "cell_type": "markdown",
      "metadata": {
        "id": "i_LHZxyVIqwz"
      },
      "source": [
        "## List Comprehension with Arrays"
      ]
    },
    {
      "cell_type": "markdown",
      "metadata": {
        "id": "EdtAh_3pIqwz"
      },
      "source": [
        "The same idea of list comprehension applies to NumPy arrays. However, now when we a 2D array you we need nested loops!"
      ]
    },
    {
      "cell_type": "code",
      "execution_count": null,
      "metadata": {
        "id": "C9v_bcC5Iqwz",
        "outputId": "83400477-649e-4f7c-ce0e-d54545af0723",
        "colab": {
          "base_uri": "https://localhost:8080/"
        }
      },
      "outputs": [
        {
          "output_type": "execute_result",
          "data": {
            "text/plain": [
              "array([[ 1,  2,  3,  4,  5],\n",
              "       [ 6,  7,  8,  9, 10]])"
            ]
          },
          "metadata": {},
          "execution_count": 169
        }
      ],
      "source": [
        "x_list = np.arange(1, 11).reshape(2,5)\n",
        "x_list"
      ]
    },
    {
      "cell_type": "markdown",
      "metadata": {
        "id": "pYqlzILAIqwz"
      },
      "source": [
        "Normally, If we wanted to loop through this array to find all the even numbers we would need a nested for loop."
      ]
    },
    {
      "cell_type": "code",
      "execution_count": null,
      "metadata": {
        "tags": [],
        "id": "2ONKQHS0Iqwz",
        "outputId": "f09b55f4-0054-450c-cf17-8aee6c6b85a4",
        "colab": {
          "base_uri": "https://localhost:8080/"
        }
      },
      "outputs": [
        {
          "output_type": "execute_result",
          "data": {
            "text/plain": [
              "array([ 2,  4,  6,  8, 10])"
            ]
          },
          "metadata": {},
          "execution_count": 170
        }
      ],
      "source": [
        "even = []\n",
        "for row in x_list:\n",
        "    for col in row:\n",
        "        if col%2 == 0:\n",
        "            even.append(col)\n",
        "np.array(even)"
      ]
    },
    {
      "cell_type": "markdown",
      "metadata": {
        "id": "RSmG9pXGIqw0"
      },
      "source": [
        " However, we can easily write this in one line of code with list comprehension, which basically flattens the above nested for loop.\n",
        "\n",
        "The basic outline for list comprehension with nested loops and a condition is as follows:\n",
        " ```\n",
        "[expression for item in list for item2 in item if condition]\n",
        "```"
      ]
    },
    {
      "cell_type": "code",
      "execution_count": null,
      "metadata": {
        "id": "LuONKoCeIqw0",
        "outputId": "10e28ca0-d373-4db5-b980-9a82699e9f7d",
        "colab": {
          "base_uri": "https://localhost:8080/"
        }
      },
      "outputs": [
        {
          "output_type": "execute_result",
          "data": {
            "text/plain": [
              "array([ 2,  4,  6,  8, 10])"
            ]
          },
          "metadata": {},
          "execution_count": 171
        }
      ],
      "source": [
        "evens_array = np.array([col for row in x_list for col in row if col%2==0])\n",
        "evens_array"
      ]
    },
    {
      "cell_type": "markdown",
      "metadata": {
        "id": "f4BtofY6Iqw0"
      },
      "source": [
        "## Searching Arrays: Finding Specific Values and Indexes\n",
        "\n",
        "Frequently in machine learning when you have a dataset you will need to select only certain data samples. For instance, you might want to select only data samples that belong to certain class (in other words, selecting data samples with certain a \"label\"). Luckily, NumPy makes this idea of finding values relatively simply by using concepts such as subsetting.\n",
        "\n",
        "- Additional Sources\n",
        "    - [numpy.where() – Explained with examples](https://thispointer.com/numpy-where-tutorial-examples-python/)\n",
        "    - [fast python numpy where functionality?](https://stackoverflow.com/questions/18452591/fast-python-numpy-where-functionality)\n",
        "    -[np.where docs](https://numpy.org/doc/stable/reference/generated/numpy.where.html)"
      ]
    },
    {
      "cell_type": "markdown",
      "metadata": {
        "id": "tUBwToXxIqw0"
      },
      "source": [
        "Let's say we have a fake dataset where `X` contains the features and `y` contains the labels which correspond to the class each data sample belongs to.\n",
        "\n",
        "Further, let's say we our fake dataset has 20 data samples (rows) and there are 5 features (columns). Additionally, our fake label array `y` contains 20 labels whose values can be either 0, 1, or 2 where each value indicates which class each data sample in `X` belongs to. **Keep in mind, each row in `y` corresponds to the same row in `X`.**"
      ]
    },
    {
      "cell_type": "markdown",
      "metadata": {
        "id": "NMv7fFY6Iqw0"
      },
      "source": [
        "Below creates a fake data set with corresponding labels. We use some NumPy functions to randomly generate them."
      ]
    },
    {
      "cell_type": "code",
      "execution_count": null,
      "metadata": {
        "id": "oQ6sgOmMIqw0"
      },
      "outputs": [],
      "source": [
        "# Here we set a seed such that everytime we run this cell we can the same random array!\n",
        "rng = np.random.RandomState(0)\n",
        "X = rng.normal(size=(20, 5))\n",
        "y = rng.randint(0, 3, size=20)"
      ]
    },
    {
      "cell_type": "code",
      "execution_count": null,
      "metadata": {
        "id": "OD3p_LqiIqw0",
        "outputId": "d19dcf6b-cc03-4238-91ca-3213352599a3",
        "colab": {
          "base_uri": "https://localhost:8080/"
        }
      },
      "outputs": [
        {
          "output_type": "execute_result",
          "data": {
            "text/plain": [
              "array([[ 1.76405235,  0.40015721,  0.97873798,  2.2408932 ,  1.86755799],\n",
              "       [-0.97727788,  0.95008842, -0.15135721, -0.10321885,  0.4105985 ],\n",
              "       [ 0.14404357,  1.45427351,  0.76103773,  0.12167502,  0.44386323],\n",
              "       [ 0.33367433,  1.49407907, -0.20515826,  0.3130677 , -0.85409574],\n",
              "       [-2.55298982,  0.6536186 ,  0.8644362 , -0.74216502,  2.26975462],\n",
              "       [-1.45436567,  0.04575852, -0.18718385,  1.53277921,  1.46935877],\n",
              "       [ 0.15494743,  0.37816252, -0.88778575, -1.98079647, -0.34791215],\n",
              "       [ 0.15634897,  1.23029068,  1.20237985, -0.38732682, -0.30230275],\n",
              "       [-1.04855297, -1.42001794, -1.70627019,  1.9507754 , -0.50965218],\n",
              "       [-0.4380743 , -1.25279536,  0.77749036, -1.61389785, -0.21274028],\n",
              "       [-0.89546656,  0.3869025 , -0.51080514, -1.18063218, -0.02818223],\n",
              "       [ 0.42833187,  0.06651722,  0.3024719 , -0.63432209, -0.36274117],\n",
              "       [-0.67246045, -0.35955316, -0.81314628, -1.7262826 ,  0.17742614],\n",
              "       [-0.40178094, -1.63019835,  0.46278226, -0.90729836,  0.0519454 ],\n",
              "       [ 0.72909056,  0.12898291,  1.13940068, -1.23482582,  0.40234164],\n",
              "       [-0.68481009, -0.87079715, -0.57884966, -0.31155253,  0.05616534],\n",
              "       [-1.16514984,  0.90082649,  0.46566244, -1.53624369,  1.48825219],\n",
              "       [ 1.89588918,  1.17877957, -0.17992484, -1.07075262,  1.05445173],\n",
              "       [-0.40317695,  1.22244507,  0.20827498,  0.97663904,  0.3563664 ],\n",
              "       [ 0.70657317,  0.01050002,  1.78587049,  0.12691209,  0.40198936]])"
            ]
          },
          "metadata": {},
          "execution_count": 173
        }
      ],
      "source": [
        "X"
      ]
    },
    {
      "cell_type": "code",
      "execution_count": null,
      "metadata": {
        "id": "n9XSV7JdIqw0",
        "outputId": "1bb2606a-c909-4440-e3ac-47590d5032af",
        "colab": {
          "base_uri": "https://localhost:8080/"
        }
      },
      "outputs": [
        {
          "output_type": "execute_result",
          "data": {
            "text/plain": [
              "array([[0],\n",
              "       [0],\n",
              "       [1],\n",
              "       [2],\n",
              "       [1],\n",
              "       [1],\n",
              "       [0],\n",
              "       [0],\n",
              "       [1],\n",
              "       [2],\n",
              "       [0],\n",
              "       [2],\n",
              "       [2],\n",
              "       [1],\n",
              "       [1],\n",
              "       [1],\n",
              "       [2],\n",
              "       [0],\n",
              "       [0],\n",
              "       [1]])"
            ]
          },
          "metadata": {},
          "execution_count": 174
        }
      ],
      "source": [
        "y.reshape(-1, 1)"
      ]
    },
    {
      "cell_type": "markdown",
      "metadata": {
        "id": "T14Y7pDTIqw0"
      },
      "source": [
        "Remember that the first data sample `X[0, :]` corresponds to the first label `y[0]`!"
      ]
    },
    {
      "cell_type": "code",
      "execution_count": null,
      "metadata": {
        "id": "wgnY4baCIqw1",
        "outputId": "ff3b6a7f-feb3-46c1-d1f1-2abb2724862f",
        "colab": {
          "base_uri": "https://localhost:8080/"
        }
      },
      "outputs": [
        {
          "output_type": "stream",
          "name": "stdout",
          "text": [
            "1st data sample: [1.76405235 0.40015721 0.97873798 2.2408932  1.86755799] \n",
            "1st data sample's label: 0\n"
          ]
        }
      ],
      "source": [
        "print(f\"1st data sample: {X[0, :]} \\n1st data sample's label: {y[0]}\")"
      ]
    },
    {
      "cell_type": "markdown",
      "metadata": {
        "id": "ZSnNrzKAIqw1"
      },
      "source": [
        "### Subsetting (Boolean Indexing)\n",
        "\n",
        "Subsetting entails finding values in a array based on some condition. This condition creates a boolean array, which is then used to select all the data samples that are true (i.e., meets the specified condition)."
      ]
    },
    {
      "cell_type": "code",
      "execution_count": null,
      "metadata": {
        "id": "B0M25sA5Iqw1",
        "outputId": "6043b474-0911-4e40-e6d8-b70be28b4c1c",
        "colab": {
          "base_uri": "https://localhost:8080/"
        }
      },
      "outputs": [
        {
          "output_type": "execute_result",
          "data": {
            "text/plain": [
              "array([0, 0, 1, 2, 1, 1, 0, 0, 1, 2, 0, 2, 2, 1, 1, 1, 2, 0, 0, 1])"
            ]
          },
          "metadata": {},
          "execution_count": 176
        }
      ],
      "source": [
        "y"
      ]
    },
    {
      "cell_type": "markdown",
      "metadata": {
        "id": "oH7rYcaZIqw1"
      },
      "source": [
        "First, we can make a condition where we only want the labels whose class is 1. Notice that all the 1 elements in the below output are set to True while all the 0 and 2 elements are False."
      ]
    },
    {
      "cell_type": "code",
      "execution_count": null,
      "metadata": {
        "id": "f9hBwjScIqw1",
        "outputId": "42b99c01-8809-4786-fb7e-e14cdbd2b494",
        "colab": {
          "base_uri": "https://localhost:8080/"
        }
      },
      "outputs": [
        {
          "output_type": "execute_result",
          "data": {
            "text/plain": [
              "array([False, False,  True, False,  True,  True, False, False,  True,\n",
              "       False, False, False, False,  True,  True,  True, False, False,\n",
              "       False,  True])"
            ]
          },
          "metadata": {},
          "execution_count": 177
        }
      ],
      "source": [
        "y == 1"
      ]
    },
    {
      "cell_type": "markdown",
      "metadata": {
        "id": "8J8BswRqIqw1"
      },
      "source": [
        "Now we can perform some sort of computation on our selected data. Let's take the mean for each feature/column for all the data samples whose class labels are 1."
      ]
    },
    {
      "cell_type": "code",
      "execution_count": null,
      "metadata": {
        "id": "7CRd0nG3Iqw1",
        "outputId": "9ed80152-336b-4de8-e989-33797b4a24e0",
        "colab": {
          "base_uri": "https://localhost:8080/"
        }
      },
      "outputs": [
        {
          "output_type": "execute_result",
          "data": {
            "text/plain": [
              "array([-0.57034902, -0.20348499,  0.31765296,  0.0670375 ,  0.57322077])"
            ]
          },
          "metadata": {},
          "execution_count": 178
        }
      ],
      "source": [
        "np.mean(X[y == 1], axis=0)"
      ]
    },
    {
      "cell_type": "markdown",
      "metadata": {
        "id": "yT69gt7VIqw1"
      },
      "source": [
        "We can also check the means of the other classes as well!"
      ]
    },
    {
      "cell_type": "code",
      "execution_count": null,
      "metadata": {
        "id": "jTMBO3ObIqw1",
        "outputId": "d35f1bb8-00a5-435a-bb3a-8a5e9876d179",
        "colab": {
          "base_uri": "https://localhost:8080/"
        }
      },
      "outputs": [
        {
          "output_type": "execute_result",
          "data": {
            "text/plain": [
              "array([ 0.24218808,  0.82097514,  0.09421713, -0.21502782,  0.4300825 ])"
            ]
          },
          "metadata": {},
          "execution_count": 179
        }
      ],
      "source": [
        "np.mean(X[y == 0], axis=0)"
      ]
    },
    {
      "cell_type": "code",
      "execution_count": null,
      "metadata": {
        "id": "bMnZB1fCIqw1",
        "outputId": "8a42a9fc-465e-4f6d-fa90-dfc9a9845615",
        "colab": {
          "base_uri": "https://localhost:8080/"
        }
      },
      "outputs": [
        {
          "output_type": "execute_result",
          "data": {
            "text/plain": [
              "array([-0.30273568,  0.16981485,  0.10546403, -1.03953571,  0.04722023])"
            ]
          },
          "metadata": {},
          "execution_count": 180
        }
      ],
      "source": [
        "np.mean(X[y == 2], axis=0)"
      ]
    },
    {
      "cell_type": "markdown",
      "metadata": {
        "id": "JL-8eousIqw2"
      },
      "source": [
        "Additionally, we can combine conditions (**make sure to include parenthesis surrounding each condition**). So we can want to take the mean of the data samples whose class labels are 1 and 2."
      ]
    },
    {
      "cell_type": "code",
      "execution_count": null,
      "metadata": {
        "id": "A-_Rd-9uIqw2",
        "outputId": "ae3b5f8f-7e09-4acf-fd27-5dc0adc68d84",
        "colab": {
          "base_uri": "https://localhost:8080/"
        }
      },
      "outputs": [
        {
          "output_type": "execute_result",
          "data": {
            "text/plain": [
              "array([-0.46742081, -0.05990812,  0.23604183, -0.35856758,  0.37091287])"
            ]
          },
          "metadata": {},
          "execution_count": 181
        }
      ],
      "source": [
        "np.mean( X[(y == 1) | (y == 2)], axis=0)"
      ]
    },
    {
      "cell_type": "markdown",
      "metadata": {
        "id": "3sG2IStMIqw2"
      },
      "source": [
        "### Finding Data Locations\n",
        "Subsetting is great for accessing data but what if we want the indexes or locations instead? For instance, what do we do if we want to get all the data sample **indexes** whose class label is 1? This is where the NumPy `where()` function comes into play as it will find all the indexes in the array that satisfy some condition.\n",
        "\n",
        "**Note, we index `np.where(y == 1)[0]` at 0 because `np.where` returns a tuple of rows and columns indexes. Since our labels `y` is a 1D array it only returns a tuple with only row information.**"
      ]
    },
    {
      "cell_type": "code",
      "execution_count": null,
      "metadata": {
        "id": "0Tf9MbgcIqw2"
      },
      "outputs": [],
      "source": [
        "locs = np.where(y == 1)[0]"
      ]
    },
    {
      "cell_type": "markdown",
      "metadata": {
        "id": "3XDPGxK8Iqw2"
      },
      "source": [
        "Here we can see `locs` holds all the index values which have labels equal to 1."
      ]
    },
    {
      "cell_type": "code",
      "execution_count": null,
      "metadata": {
        "id": "QxF0MKUmIqw2",
        "outputId": "81005b03-3ff2-458b-c94f-5c559bedf797",
        "colab": {
          "base_uri": "https://localhost:8080/"
        }
      },
      "outputs": [
        {
          "output_type": "execute_result",
          "data": {
            "text/plain": [
              "array([ 2,  4,  5,  8, 13, 14, 15, 19])"
            ]
          },
          "metadata": {},
          "execution_count": 183
        }
      ],
      "source": [
        "locs"
      ]
    },
    {
      "cell_type": "markdown",
      "metadata": {
        "id": "M4rcX4ILIqw2"
      },
      "source": [
        "We can see what the corresponding data samples are by indexing `X` with `locs`."
      ]
    },
    {
      "cell_type": "code",
      "execution_count": null,
      "metadata": {
        "id": "WP8xiMMQIqw2",
        "outputId": "4517e04b-3766-4905-839f-812f24eef578",
        "colab": {
          "base_uri": "https://localhost:8080/"
        }
      },
      "outputs": [
        {
          "output_type": "execute_result",
          "data": {
            "text/plain": [
              "array([[ 0.14404357,  1.45427351,  0.76103773,  0.12167502,  0.44386323],\n",
              "       [-2.55298982,  0.6536186 ,  0.8644362 , -0.74216502,  2.26975462],\n",
              "       [-1.45436567,  0.04575852, -0.18718385,  1.53277921,  1.46935877],\n",
              "       [-1.04855297, -1.42001794, -1.70627019,  1.9507754 , -0.50965218],\n",
              "       [-0.40178094, -1.63019835,  0.46278226, -0.90729836,  0.0519454 ],\n",
              "       [ 0.72909056,  0.12898291,  1.13940068, -1.23482582,  0.40234164],\n",
              "       [-0.68481009, -0.87079715, -0.57884966, -0.31155253,  0.05616534],\n",
              "       [ 0.70657317,  0.01050002,  1.78587049,  0.12691209,  0.40198936]])"
            ]
          },
          "metadata": {},
          "execution_count": 184
        }
      ],
      "source": [
        "X[locs]"
      ]
    },
    {
      "cell_type": "markdown",
      "metadata": {
        "id": "tpEm4ifEIqw2"
      },
      "source": [
        "Moreover, we can check to make sure each sample has label 1 by indexing `T` with `locs`."
      ]
    },
    {
      "cell_type": "code",
      "execution_count": null,
      "metadata": {
        "id": "F3HOBxhrIqw2",
        "outputId": "cce90bdb-32d2-4559-9ffe-dd2de750b00b",
        "colab": {
          "base_uri": "https://localhost:8080/"
        }
      },
      "outputs": [
        {
          "output_type": "execute_result",
          "data": {
            "text/plain": [
              "array([1, 1, 1, 1, 1, 1, 1, 1])"
            ]
          },
          "metadata": {},
          "execution_count": 185
        }
      ],
      "source": [
        "y[locs]"
      ]
    },
    {
      "cell_type": "markdown",
      "metadata": {
        "id": "ZNbS3XEwIqw3"
      },
      "source": [
        "Once again we can perform some operation on all the data samples whose class is 1 just like with subsetting."
      ]
    },
    {
      "cell_type": "code",
      "execution_count": null,
      "metadata": {
        "id": "lYmu_pw8Iqw3",
        "outputId": "84f60d34-f417-4b1e-9c7a-272995f00b3d",
        "colab": {
          "base_uri": "https://localhost:8080/"
        }
      },
      "outputs": [
        {
          "output_type": "execute_result",
          "data": {
            "text/plain": [
              "array([-0.57034902, -0.20348499,  0.31765296,  0.0670375 ,  0.57322077])"
            ]
          },
          "metadata": {},
          "execution_count": 186
        }
      ],
      "source": [
        "X[locs].mean(axis=0)"
      ]
    },
    {
      "cell_type": "markdown",
      "metadata": {
        "id": "AWYTaE2pIqw3"
      },
      "source": [
        "Additionally, we can combine conditions just like with subsetting (make sure to include parenthesis surrounding each condition)."
      ]
    },
    {
      "cell_type": "code",
      "execution_count": null,
      "metadata": {
        "scrolled": true,
        "id": "tEWMuUFdIqw3",
        "outputId": "d38dbf9f-7e38-43c2-b5b6-b485c9bc2d58",
        "colab": {
          "base_uri": "https://localhost:8080/"
        }
      },
      "outputs": [
        {
          "output_type": "execute_result",
          "data": {
            "text/plain": [
              "array([ 2,  3,  4,  5,  8,  9, 11, 12, 13, 14, 15, 16, 19])"
            ]
          },
          "metadata": {},
          "execution_count": 187
        }
      ],
      "source": [
        "np.where((y == 1) | (y == 2))[0]"
      ]
    },
    {
      "cell_type": "markdown",
      "metadata": {
        "id": "y8ECUDxRIqw3"
      },
      "source": [
        "### TODO 12\n",
        "Use `X` and `y` defined below to complete the following TODOs.\n",
        "1. Using `np.where` and the label array `y`, find all the **indexes** whose labels are equal to 2. Store the output into `two_class_idx`.\n",
        "    1. Hint: Don't forget to index `np.where()` at 0 like we did above! Otherwise, you might not pass the todo check!"
      ]
    },
    {
      "cell_type": "code",
      "execution_count": null,
      "metadata": {
        "id": "14F5bpNFIqw3",
        "outputId": "5e6ff0bd-347b-4c0e-dd86-d9ebb90e4395",
        "colab": {
          "base_uri": "https://localhost:8080/"
        }
      },
      "outputs": [
        {
          "output_type": "stream",
          "name": "stdout",
          "text": [
            "two_class_idx output: \n",
            " [ 3  9 11 12 16]\n",
            "two_class_idx shape: (5,)\n",
            "Your code PASSED the code check!\n"
          ]
        }
      ],
      "source": [
        "# TODO 12.1\n",
        "two_class_idx = np.where( y == 2 )[0]\n",
        "\n",
        "print(f\"two_class_idx output: \\n {two_class_idx}\")\n",
        "try:\n",
        "    print(f\"two_class_idx shape: {two_class_idx.shape}\")\n",
        "except Exception:\n",
        "    pass\n",
        "\n",
        "todo_check([\n",
        "    (isinstance(two_class_idx, np.ndarray), f'two_class_idx is not an NumPy array! two_class_idx is currently a {type(two_class_idx)}'),\n",
        "    (np.all(two_class_idx == np.array([ 3,  9, 11, 12, 16])), 'two_class_idx does not contain the correct location values')\n",
        "])"
      ]
    },
    {
      "cell_type": "markdown",
      "metadata": {
        "id": "RWZUNTdaIqw4"
      },
      "source": [
        "## Array Operations\n",
        "NumPy array allows for basic matrix/array operations to be conducted using minimal syntax. For more advanced linear algebra operations, NumPy has specific methods and functions."
      ]
    },
    {
      "cell_type": "code",
      "execution_count": null,
      "metadata": {
        "id": "_cn9w_7VIqw4"
      },
      "outputs": [],
      "source": [
        "x = np.array([[1,2],[3,4]])\n",
        "y = np.array([[5,6],[7,8]])"
      ]
    },
    {
      "cell_type": "code",
      "execution_count": null,
      "metadata": {
        "id": "qivoGkm7Iqw4",
        "outputId": "b35075e3-d2a1-4c86-8321-aee113826217",
        "colab": {
          "base_uri": "https://localhost:8080/"
        }
      },
      "outputs": [
        {
          "output_type": "execute_result",
          "data": {
            "text/plain": [
              "array([[1, 2],\n",
              "       [3, 4]])"
            ]
          },
          "metadata": {},
          "execution_count": 195
        }
      ],
      "source": [
        "x"
      ]
    },
    {
      "cell_type": "code",
      "execution_count": null,
      "metadata": {
        "id": "Ot5O9_LMIqw4",
        "outputId": "7fa758d9-a3e4-45a0-e23f-92323ef07f03",
        "colab": {
          "base_uri": "https://localhost:8080/"
        }
      },
      "outputs": [
        {
          "output_type": "execute_result",
          "data": {
            "text/plain": [
              "array([[5, 6],\n",
              "       [7, 8]])"
            ]
          },
          "metadata": {},
          "execution_count": 196
        }
      ],
      "source": [
        "y"
      ]
    },
    {
      "cell_type": "markdown",
      "metadata": {
        "id": "h6mssFSDIqw4"
      },
      "source": [
        "Below performs elementwise addition"
      ]
    },
    {
      "cell_type": "code",
      "execution_count": null,
      "metadata": {
        "id": "_9cKUddOIqw4",
        "outputId": "3b361338-caff-44ba-debb-34e2b629341e",
        "colab": {
          "base_uri": "https://localhost:8080/"
        }
      },
      "outputs": [
        {
          "output_type": "execute_result",
          "data": {
            "text/plain": [
              "array([[ 6,  8],\n",
              "       [10, 12]])"
            ]
          },
          "metadata": {},
          "execution_count": 197
        }
      ],
      "source": [
        "x + y"
      ]
    },
    {
      "cell_type": "markdown",
      "metadata": {
        "id": "Q8GpQG9WIqw4"
      },
      "source": [
        "Below performs elementwise subtraction"
      ]
    },
    {
      "cell_type": "code",
      "execution_count": null,
      "metadata": {
        "id": "eJTzWPL6Iqw5",
        "outputId": "a7aaaeab-dde0-450f-fc77-8ee2b2443309",
        "colab": {
          "base_uri": "https://localhost:8080/"
        }
      },
      "outputs": [
        {
          "output_type": "execute_result",
          "data": {
            "text/plain": [
              "array([[-4, -4],\n",
              "       [-4, -4]])"
            ]
          },
          "metadata": {},
          "execution_count": 198
        }
      ],
      "source": [
        "x - y"
      ]
    },
    {
      "cell_type": "markdown",
      "metadata": {
        "id": "7p37F-TmIqw5"
      },
      "source": [
        "Below performs elementwise multiplication"
      ]
    },
    {
      "cell_type": "code",
      "execution_count": null,
      "metadata": {
        "id": "tpgcLDciIqw5",
        "outputId": "2d4609e4-19ae-4566-841e-a9e31b7ad0c4",
        "colab": {
          "base_uri": "https://localhost:8080/"
        }
      },
      "outputs": [
        {
          "output_type": "execute_result",
          "data": {
            "text/plain": [
              "array([[ 5, 12],\n",
              "       [21, 32]])"
            ]
          },
          "metadata": {},
          "execution_count": 199
        }
      ],
      "source": [
        "x * y"
      ]
    },
    {
      "cell_type": "markdown",
      "metadata": {
        "id": "wsNY_J7PIqw5"
      },
      "source": [
        "Below performs elementwise division"
      ]
    },
    {
      "cell_type": "code",
      "execution_count": null,
      "metadata": {
        "id": "4Rn_tMDwIqw5",
        "outputId": "8695b222-c94b-42b7-ab98-be3d75731776",
        "colab": {
          "base_uri": "https://localhost:8080/"
        }
      },
      "outputs": [
        {
          "output_type": "execute_result",
          "data": {
            "text/plain": [
              "array([[0.2       , 0.33333333],\n",
              "       [0.42857143, 0.5       ]])"
            ]
          },
          "metadata": {},
          "execution_count": 200
        }
      ],
      "source": [
        "x / y"
      ]
    },
    {
      "cell_type": "markdown",
      "metadata": {
        "id": "TiXyqlv_Iqw5"
      },
      "source": [
        "Below performs the [dot product](https://www.mathsisfun.com/algebra/vectors-dot-product.html)"
      ]
    },
    {
      "cell_type": "code",
      "execution_count": null,
      "metadata": {
        "id": "Kabm_f2qIqw6",
        "outputId": "c4a07846-c698-4c1b-9619-dcd70a8b3912",
        "colab": {
          "base_uri": "https://localhost:8080/"
        }
      },
      "outputs": [
        {
          "output_type": "execute_result",
          "data": {
            "text/plain": [
              "array([[19, 22],\n",
              "       [43, 50]])"
            ]
          },
          "metadata": {},
          "execution_count": 201
        }
      ],
      "source": [
        "x @ y"
      ]
    },
    {
      "cell_type": "markdown",
      "metadata": {
        "id": "N1I_GKzXIqw6"
      },
      "source": [
        "## Matmul, Shape Mismatch, and Broadcasting Errors"
      ]
    },
    {
      "cell_type": "markdown",
      "metadata": {
        "id": "KxPI78gjIqw6"
      },
      "source": [
        "### Matmul and Shape Mismatch Errors\n",
        "\n",
        "Throughout this course you will frequently run into what we refer to as \"matmul\" errors. Matmul errors typically arise when taking the dot product of two arrays and the shapes of the arrays aren't compatible. Recall that the **dot product requires the columns of the first array and rows of the second array to match**!\n",
        "\n",
        "For this example, let's assume `A` is some fake data and `b` is a weight vector. Let's then try to make a prediction by taking the dot product of our data and weights (this is something we will do frequently throughout the semester).\n",
        "\n",
        "Below are a few different ways to compute the dot product. The main difference between `@` or `np.matmul` and `np.dot` only really comes into play when dealing with arrays with dimensions greater than 3. For those interested, see this [post](https://stackoverflow.com/questions/34142485/difference-between-numpy-dot-and-python-3-5-matrix-multiplication) on the differences between the methods. For now, we can assume that all operations are roughly doing the same thing - computing the dot product."
      ]
    },
    {
      "cell_type": "code",
      "execution_count": null,
      "metadata": {
        "scrolled": true,
        "id": "dzOY3a4tIqw6",
        "outputId": "b5186e66-75a7-454a-a4b0-528234424062",
        "colab": {
          "base_uri": "https://localhost:8080/"
        }
      },
      "outputs": [
        {
          "output_type": "stream",
          "name": "stdout",
          "text": [
            "A shape: (5, 3)\n",
            "b shape: (1, 3)\n"
          ]
        }
      ],
      "source": [
        "A = np.ones((5, 3))\n",
        "b = np.arange(3).reshape(1, -1)\n",
        "print(f\"A shape: {A.shape}\")\n",
        "print(f\"b shape: {b.shape}\")"
      ]
    },
    {
      "cell_type": "markdown",
      "metadata": {
        "id": "TVt_b5SzIqw6"
      },
      "source": [
        "Based on these shapes given above, can you see the error we are about to run into? Take a second to think about what conditions need to be met in order for the dot product to be taken."
      ]
    },
    {
      "cell_type": "code",
      "execution_count": null,
      "metadata": {
        "id": "Zm1hgwxHIqw6",
        "outputId": "206db2b7-7a52-4bba-aeb9-8dbc22e077a4",
        "colab": {
          "base_uri": "https://localhost:8080/"
        }
      },
      "outputs": [
        {
          "output_type": "stream",
          "name": "stderr",
          "text": [
            "Traceback (most recent call last):\n",
            "  File \"<ipython-input-203-85de824cb31d>\", line 2, in <cell line: 0>\n",
            "    A @ b\n",
            "    ~~^~~\n",
            "ValueError: matmul: Input operand 1 has a mismatch in its core dimension 0, with gufunc signature (n?,k),(k,m?)->(n?,m?) (size 1 is different from 3)\n"
          ]
        }
      ],
      "source": [
        "try:\n",
        "    A @ b\n",
        "except ValueError as e:\n",
        "    traceback.print_exc()"
      ]
    },
    {
      "cell_type": "code",
      "execution_count": null,
      "metadata": {
        "id": "UB2ZVNfBIqw6",
        "outputId": "8c188c9f-f867-4a5e-9f57-4aa8e2a7f092",
        "colab": {
          "base_uri": "https://localhost:8080/"
        }
      },
      "outputs": [
        {
          "output_type": "stream",
          "name": "stderr",
          "text": [
            "Traceback (most recent call last):\n",
            "  File \"<ipython-input-204-8cbb4048b686>\", line 2, in <cell line: 0>\n",
            "    np.matmul(A, b)\n",
            "ValueError: matmul: Input operand 1 has a mismatch in its core dimension 0, with gufunc signature (n?,k),(k,m?)->(n?,m?) (size 1 is different from 3)\n"
          ]
        }
      ],
      "source": [
        "try:\n",
        "    np.matmul(A, b)\n",
        "except ValueError as e:\n",
        "    traceback.print_exc()"
      ]
    },
    {
      "cell_type": "code",
      "execution_count": null,
      "metadata": {
        "id": "Af7f8CydIqw6",
        "outputId": "2539aeaf-c288-47a7-ed50-1a468d8295a0",
        "colab": {
          "base_uri": "https://localhost:8080/"
        }
      },
      "outputs": [
        {
          "output_type": "stream",
          "name": "stderr",
          "text": [
            "Traceback (most recent call last):\n",
            "  File \"<ipython-input-205-859c32f76ec5>\", line 2, in <cell line: 0>\n",
            "    np.dot(A, b)\n",
            "ValueError: shapes (5,3) and (1,3) not aligned: 3 (dim 1) != 1 (dim 0)\n"
          ]
        }
      ],
      "source": [
        "try:\n",
        "    np.dot(A, b)\n",
        "except ValueError as e:\n",
        "    traceback.print_exc()"
      ]
    },
    {
      "cell_type": "markdown",
      "metadata": {
        "id": "F3G7EKsnIqw7"
      },
      "source": [
        "Notice that none of the above methods work because the shapes of the arrays don't match which means the dot product can't be computed! Also, note that the first two throw slightly different errors than the last method."
      ]
    },
    {
      "cell_type": "markdown",
      "metadata": {
        "id": "YE3pDgAgIqw7"
      },
      "source": [
        "**Templating print statements for equations:**\n",
        "Often times these `matmul` errors leave beginners scratching their heads at what they did wrong. The issue here is that our shapes don't match. One useful method for debugging shape issues is to print the equation of interest where you replace the variables with their shapes. This is a useful practice when you are first learning to covert matrix equations to code.\n",
        "\n",
        "For instance given\n",
        "```\n",
        "A @ b\n",
        "```\n",
        "\n",
        "It can be useful to add the shapes next to the variables in print statements.\n",
        "```\n",
        "A(5, 3) @ b(1, 3)\n",
        "```"
      ]
    },
    {
      "cell_type": "code",
      "execution_count": null,
      "metadata": {
        "id": "td90jQe5Iqw7",
        "outputId": "37ec9adb-9d2f-42a3-a8e3-ee605673f362",
        "colab": {
          "base_uri": "https://localhost:8080/"
        }
      },
      "outputs": [
        {
          "output_type": "stream",
          "name": "stdout",
          "text": [
            "A(5, 3) @ b(1, 3)\n"
          ]
        }
      ],
      "source": [
        "print(f\"A{A.shape} @ b{b.shape}\")"
      ]
    },
    {
      "cell_type": "markdown",
      "metadata": {
        "id": "zUCZKeMWIqw7"
      },
      "source": [
        "See, notice the rows of `b` don't match the columns of `A`. What do we need to do to fix this? One possible solution is simply to transpose `b` using the `.T` method for NumPy arrays."
      ]
    },
    {
      "cell_type": "code",
      "execution_count": null,
      "metadata": {
        "id": "xqV62_JuIqw7",
        "outputId": "2b77c747-09f6-4285-d11f-7b3ab11dceb7",
        "colab": {
          "base_uri": "https://localhost:8080/"
        }
      },
      "outputs": [
        {
          "output_type": "stream",
          "name": "stdout",
          "text": [
            "A(5, 3) @ b(3, 1)\n"
          ]
        }
      ],
      "source": [
        "print(f\"A{A.shape} @ b{b.T.shape}\")"
      ]
    },
    {
      "cell_type": "markdown",
      "metadata": {
        "id": "F76aui5JIqw7"
      },
      "source": [
        "Now, notice the columns of `A` and rows of `b` match! Let's try recomputing the dot product with the rows and columns matching."
      ]
    },
    {
      "cell_type": "code",
      "execution_count": null,
      "metadata": {
        "id": "Jx1poMZvIqw7",
        "outputId": "86e86d68-6f2b-483d-d56f-a24c0a4f84d9",
        "colab": {
          "base_uri": "https://localhost:8080/"
        }
      },
      "outputs": [
        {
          "output_type": "stream",
          "name": "stdout",
          "text": [
            "Result shape: (5, 1)\n"
          ]
        },
        {
          "output_type": "execute_result",
          "data": {
            "text/plain": [
              "array([[3.],\n",
              "       [3.],\n",
              "       [3.],\n",
              "       [3.],\n",
              "       [3.]])"
            ]
          },
          "metadata": {},
          "execution_count": 208
        }
      ],
      "source": [
        "result = A @ b.T\n",
        "print(f\"Result shape: {result.shape}\")\n",
        "result"
      ]
    },
    {
      "cell_type": "markdown",
      "metadata": {
        "id": "0Lc33ah8Iqw7"
      },
      "source": [
        "Alternatively, we can reshape `b` to fix this issue as well."
      ]
    },
    {
      "cell_type": "code",
      "execution_count": null,
      "metadata": {
        "id": "0iraLRXqIqw7",
        "outputId": "ba857a9f-ab9d-4f2e-8b72-83fb1141f458",
        "colab": {
          "base_uri": "https://localhost:8080/"
        }
      },
      "outputs": [
        {
          "output_type": "stream",
          "name": "stdout",
          "text": [
            "Result shape: (5, 1)\n"
          ]
        },
        {
          "output_type": "execute_result",
          "data": {
            "text/plain": [
              "array([[3.],\n",
              "       [3.],\n",
              "       [3.],\n",
              "       [3.],\n",
              "       [3.]])"
            ]
          },
          "metadata": {},
          "execution_count": 209
        }
      ],
      "source": [
        "result = A @ b.reshape(-1, 1)\n",
        "print(f\"Result shape: {result.shape}\")\n",
        "result"
      ]
    },
    {
      "cell_type": "markdown",
      "metadata": {
        "id": "3Qiu6VAhIqw7"
      },
      "source": [
        "### TODO 13\n",
        "\n",
        "Given the below arrays `X` and `w` complete the following TODOs.\n",
        "\n",
        "1. Compute the dot product between `X` and `w`. Store the output into the variable `dotted_array`."
      ]
    },
    {
      "cell_type": "code",
      "execution_count": null,
      "metadata": {
        "id": "YjXFVjZqIqw8",
        "outputId": "c83d7ec6-b8b9-489a-960d-e2679fdcc259",
        "colab": {
          "base_uri": "https://localhost:8080/"
        }
      },
      "outputs": [
        {
          "output_type": "stream",
          "name": "stdout",
          "text": [
            "X shape: (5, 5)\n",
            "w shape: (1, 5)\n"
          ]
        }
      ],
      "source": [
        "X = np.ones((5, 5))\n",
        "w = np.arange(5).reshape(1, -1)\n",
        "print(f\"X shape: {X.shape}\")\n",
        "print(f\"w shape: {w.shape}\")"
      ]
    },
    {
      "cell_type": "code",
      "execution_count": null,
      "metadata": {
        "id": "OlsEZaGnIqw8",
        "outputId": "de6ba08a-d380-4f70-c253-f46669bfba71",
        "colab": {
          "base_uri": "https://localhost:8080/"
        }
      },
      "outputs": [
        {
          "output_type": "stream",
          "name": "stdout",
          "text": [
            "dotted_array output: \n",
            " [[10.]\n",
            " [10.]\n",
            " [10.]\n",
            " [10.]\n",
            " [10.]]\n",
            "dotted_array shape: (5, 1)\n",
            "Your code PASSED the code check!\n"
          ]
        }
      ],
      "source": [
        "# TODO 13.1\n",
        "dotted_array = X @ w.T\n",
        "\n",
        "print(f\"dotted_array output: \\n {dotted_array}\")\n",
        "print(f\"dotted_array shape: {dotted_array.shape}\")\n",
        "\n",
        "todo_check([\n",
        "    (dotted_array.shape == (5, 1), 'dotted_array does not have the correct shape of (5,1)'),\n",
        "    (np.all(dotted_array == np.array([10, 10, 10, 10, 10])), 'dotted_array does not have the correct values')\n",
        "])"
      ]
    },
    {
      "cell_type": "markdown",
      "metadata": {
        "id": "DtRXMY88Iqw8"
      },
      "source": [
        "### Broadcasting\n",
        "\n",
        "Broadcasting is an implicit functionality of NumPy to allow arithmetic between arrays of different dimensions or shapes. This is a functionality you will be aware of as it will naturally arise in your code and can potentially cause you headaches if you don't know how it works! Below are the three general rules that broadcasting follows.\n",
        "\n",
        "> Rule 1: If the two arrays differ in their number of dimensions, the shape of the one with fewer dimensions has its shape padded with ones on its leading (left) side.\n",
        "\n",
        "> Rule 2: If the shape of the two arrays does not match in any dimension, the array with shape equal to 1 in that dimension is stretched to match the other shape.\n",
        "\n",
        "> Rule 3: If in any dimension sizes disagree and neither is equal to 1, an error is raised.\n",
        "\n",
        "\n",
        "Given these rules, let's take a deeper look at what they are actually saying. We are going to reproduce the examples given in the image below and step through them and see how each rule applies to each example. Lastly, note that idea of braodcasting is not limited to the addition operation!\n",
        "\n",
        "![](https://jakevdp.github.io/PythonDataScienceHandbook/figures/02.05-broadcasting.png)\n",
        "\n",
        "- Additional Sources\n",
        "    - [Gentle Introduction to Broadcasting](https://machinelearningmastery.com/broadcasting-with-numpy-arrays)\n",
        "    - [Numpy Broadcasting Docs](https://docs.scipy.org/doc/numpy/user/basics.broadcasting.html)\n",
        "    - [Introduction to Broadcasting](https://jakevdp.github.io/PythonDataScienceHandbook/02.05-computation-on-arrays-broadcasting.html)"
      ]
    },
    {
      "cell_type": "markdown",
      "metadata": {
        "id": "EOxUAburIqw8"
      },
      "source": [
        "**Example 1 - Adding a scalar to an array**\n",
        "\n",
        "1. Initial shapes:\n",
        "Note that `a` is a 1D array and `b` is a scalar and therefore has no shape!\n",
        "```\n",
        "    a.shape = (3,)\n",
        "    b.shape = ()\n",
        "```\n",
        "2. Convert to array:\n",
        "NumPy first turns the scalar `b` into a 1D array.\n",
        "```\n",
        "    a.shape = (3,)\n",
        "    b.shape = (1,)\n",
        "```\n",
        "\n",
        "\n",
        "3. Apply rule 2:\n",
        "NumPy stretches `b` by copying the scalar value of `b` repeatedly until the first dimension of `b` matches the first dimension of `a`. Refer to the above picture where the 5 is copied two more times!\n",
        "```\n",
        "    a.shape = (3,)\n",
        "    b.shape = (3,)\n",
        "```"
      ]
    },
    {
      "cell_type": "code",
      "execution_count": null,
      "metadata": {
        "id": "um-CsDrQIqw8",
        "outputId": "9a9f141a-5878-453a-96d0-771cf8397f66",
        "colab": {
          "base_uri": "https://localhost:8080/"
        }
      },
      "outputs": [
        {
          "output_type": "execute_result",
          "data": {
            "text/plain": [
              "array([5, 6, 7])"
            ]
          },
          "metadata": {},
          "execution_count": 213
        }
      ],
      "source": [
        "a = np.arange(3)\n",
        "b = 5\n",
        "\n",
        "a + 5"
      ]
    },
    {
      "cell_type": "markdown",
      "metadata": {
        "id": "JebHM8XgIqw8"
      },
      "source": [
        "**Example 2 - Adding a 1D array to a 2D array (MOST COMMON SCENARIO)**\n",
        "1. Beginning shapes:\n",
        "```\n",
        "    A.shape = (3, 3)\n",
        "    b.shape = (3,)\n",
        "```\n",
        "\n",
        "\n",
        "2. Apply rule 1 to `b`: NumPy does so by adding a new dimension to the left of the existing dimensions of `b`.\n",
        "\n",
        "```\n",
        "    A.shape = (3, 3)\n",
        "    b.shape = (1, 3)\n",
        "```\n",
        "\n",
        "\n",
        "3. Apply rule 2 to `b`: NumPy stretches `b` by copying `b` repeatedly until the first dimension of `b` matches the first dimension of `A`.  Refer to the above picture where `b` is copied two more additional times!\n",
        "\n",
        "```\n",
        "    A.shape = (3, 3)\n",
        "    b.shape = (3, 3)\n",
        "```"
      ]
    },
    {
      "cell_type": "code",
      "execution_count": null,
      "metadata": {
        "id": "GEjin4gWIqw8",
        "outputId": "e4e43613-c16a-41f6-eb93-9d2d6d1de3c3",
        "colab": {
          "base_uri": "https://localhost:8080/"
        }
      },
      "outputs": [
        {
          "output_type": "execute_result",
          "data": {
            "text/plain": [
              "array([[1., 2., 3.],\n",
              "       [1., 2., 3.],\n",
              "       [1., 2., 3.]])"
            ]
          },
          "metadata": {},
          "execution_count": 214
        }
      ],
      "source": [
        "A = np.ones((3, 3))\n",
        "b = np.arange(3,)\n",
        "\n",
        "A + b"
      ]
    },
    {
      "cell_type": "markdown",
      "metadata": {
        "id": "WuVcHNsWIqw8"
      },
      "source": [
        "**Example 3 - Adding 1D array to a 2D array**\n",
        "1. Beginning shapes:\n",
        "```\n",
        "    A.shape = (3, 1)\n",
        "    b.shape = (3,)\n",
        "```\n",
        "\n",
        "\n",
        "2. Apply rule 1 to `b`: NumPy does so by adding a new dimension to the left of the existing dimensions for `b`.\n",
        "```\n",
        "    A.shape = (3, 1)\n",
        "    b.shape = (1, 3)\n",
        "```\n",
        "\n",
        "\n",
        "3. Apply rule 2 to `A` and `b`:\n",
        "Notice now NumPy needs to stretch both `A` and `b` so their dimension lengths match! NumPy does this once again by copying the values of `A` and `b` each twice.\n",
        "```\n",
        "    A.shape = (3, 3)\n",
        "    b.shape = (3, 3)\n",
        "```"
      ]
    },
    {
      "cell_type": "code",
      "execution_count": null,
      "metadata": {
        "id": "qtAJQDXGIqw8",
        "outputId": "46baba80-aed9-4767-e179-0a2f2424afd7",
        "colab": {
          "base_uri": "https://localhost:8080/"
        }
      },
      "outputs": [
        {
          "output_type": "execute_result",
          "data": {
            "text/plain": [
              "array([[0, 1, 2],\n",
              "       [1, 2, 3],\n",
              "       [2, 3, 4]])"
            ]
          },
          "metadata": {},
          "execution_count": 215
        }
      ],
      "source": [
        "A = np.arange(3).reshape((3, 1))\n",
        "b = np.arange(3)\n",
        "\n",
        "A + b"
      ]
    },
    {
      "cell_type": "markdown",
      "metadata": {
        "id": "UqTxmhbjIqw8"
      },
      "source": [
        "**Example 4 - Broadcasting Error (No corresponding image)**\n",
        "1. Beginning shapes:\n",
        "```\n",
        "    A.shape = (3, 2)\n",
        "    b.shape = (3,)\n",
        "```\n",
        "2. Apply rule 1 to `b`:\n",
        "NumPy does so by adding a new dimension to the left of the existing dimensions for `b`.\n",
        "```\n",
        "    A.shape = (3, 2)\n",
        "    b.shape = (1, 3)\n",
        "```\n",
        "\n",
        "\n",
        "3. Apply rule 2 to `b`:\n",
        "NumPy stretches `b` by copying `b` repeatedly until the first dimension of `b` matches the first dimension of `A`.\n",
        "```\n",
        "    A.shape = (3, 2)\n",
        "    b.shape = (3, 3)\n",
        "```\n",
        "\n",
        "3. Mismatch error is thrown because `A`'s second dimension does not have a length of `1` which means rule 2 can't be applied to it! Meaning, the shapes can not be made to match!\n",
        "```\n",
        "    (3, 2) != (3, 3)\n",
        "```"
      ]
    },
    {
      "cell_type": "code",
      "execution_count": null,
      "metadata": {
        "id": "OL61Zc9zIqw9",
        "outputId": "56e6a1b4-b3f8-47ce-bea7-7f8a8e708f9e",
        "colab": {
          "base_uri": "https://localhost:8080/"
        }
      },
      "outputs": [
        {
          "output_type": "stream",
          "name": "stderr",
          "text": [
            "Traceback (most recent call last):\n",
            "  File \"<ipython-input-217-1daa010f9210>\", line 5, in <cell line: 0>\n",
            "    A + b\n",
            "    ~~^~~\n",
            "ValueError: operands could not be broadcast together with shapes (3,2) (3,) \n"
          ]
        }
      ],
      "source": [
        "A =  np.ones((3, 2))\n",
        "b = np.arange(3)\n",
        "\n",
        "try:\n",
        "    A + b\n",
        "except ValueError as e:\n",
        "    traceback.print_exc()"
      ]
    },
    {
      "cell_type": "markdown",
      "metadata": {
        "id": "mFtOx7TCIqw9"
      },
      "source": [
        "# Pandas\n",
        "\n",
        "While NumPy is great for performing numerical operations with data, Pandas acts as a high-level data analysis and manipulation tool. Typically, our workflow will involves loading data with Pandas, filtering, cleaning, and observing data trends and then converting out data to NumPy arrays to then be used by our machine learning algorithms.\n",
        "\n",
        "In this section we'll take a quick look at Pandas basics and we'll build/reinforce these basics in following labs!\n",
        "\n",
        "- Addtional Sources\n",
        "    - [Pandas Cheat Sheet PDF](https://pandas.pydata.org/Pandas_Cheat_Sheet.pdf)\n",
        "    - [tutorial: loc vs iloc](https://www.marsja.se/how-to-use-iloc-and-loc-for-indexing-and-slicing-pandas-dataframes/)\n",
        "    - [RealPython: Exploring Datasets with Pandas Tutorial](https://realpython.com/pandas-python-explore-dataset/)"
      ]
    },
    {
      "cell_type": "markdown",
      "metadata": {
        "id": "oVRjt_UPIqw9"
      },
      "source": [
        "## DataFrames\n",
        "\n",
        "The main object that the Pandas library is centered around is the `DataFrame` class ([docs](https://pandas.pydata.org/pandas-docs/stable/reference/api/pandas.DataFrame.html)). A `DataFrame` is a 2 dimensional data structure, like a 2 dimensional array, or a table with rows and columns. However, a `DataFrame` is much more akin to what a CSV file is like when using Google Sheets or Excel! Note, `DataFrames` are built ontop of NumPy arrays!\n",
        "\n",
        "Let's take a look to really understand what exactly a `DataFrame` is!"
      ]
    },
    {
      "cell_type": "code",
      "execution_count": null,
      "metadata": {
        "id": "QWZDxfkQIqw9"
      },
      "outputs": [],
      "source": [
        "import pandas as pd"
      ]
    },
    {
      "cell_type": "markdown",
      "metadata": {
        "id": "6S9fAjIxIqw9"
      },
      "source": [
        "To start off we need some fake data, so we generate some using NumPy where we have 20 data samples and 5 features"
      ]
    },
    {
      "cell_type": "code",
      "execution_count": null,
      "metadata": {
        "id": "f1mXkZgmIqw9",
        "outputId": "6751e5e2-3337-4296-a48c-ef794dfa8240",
        "colab": {
          "base_uri": "https://localhost:8080/"
        }
      },
      "outputs": [
        {
          "output_type": "execute_result",
          "data": {
            "text/plain": [
              "array([[ 1.76405235,  0.40015721,  0.97873798,  2.2408932 ,  1.86755799],\n",
              "       [-0.97727788,  0.95008842, -0.15135721, -0.10321885,  0.4105985 ],\n",
              "       [ 0.14404357,  1.45427351,  0.76103773,  0.12167502,  0.44386323],\n",
              "       [ 0.33367433,  1.49407907, -0.20515826,  0.3130677 , -0.85409574],\n",
              "       [-2.55298982,  0.6536186 ,  0.8644362 , -0.74216502,  2.26975462],\n",
              "       [-1.45436567,  0.04575852, -0.18718385,  1.53277921,  1.46935877],\n",
              "       [ 0.15494743,  0.37816252, -0.88778575, -1.98079647, -0.34791215],\n",
              "       [ 0.15634897,  1.23029068,  1.20237985, -0.38732682, -0.30230275],\n",
              "       [-1.04855297, -1.42001794, -1.70627019,  1.9507754 , -0.50965218],\n",
              "       [-0.4380743 , -1.25279536,  0.77749036, -1.61389785, -0.21274028],\n",
              "       [-0.89546656,  0.3869025 , -0.51080514, -1.18063218, -0.02818223],\n",
              "       [ 0.42833187,  0.06651722,  0.3024719 , -0.63432209, -0.36274117],\n",
              "       [-0.67246045, -0.35955316, -0.81314628, -1.7262826 ,  0.17742614],\n",
              "       [-0.40178094, -1.63019835,  0.46278226, -0.90729836,  0.0519454 ],\n",
              "       [ 0.72909056,  0.12898291,  1.13940068, -1.23482582,  0.40234164],\n",
              "       [-0.68481009, -0.87079715, -0.57884966, -0.31155253,  0.05616534],\n",
              "       [-1.16514984,  0.90082649,  0.46566244, -1.53624369,  1.48825219],\n",
              "       [ 1.89588918,  1.17877957, -0.17992484, -1.07075262,  1.05445173],\n",
              "       [-0.40317695,  1.22244507,  0.20827498,  0.97663904,  0.3563664 ],\n",
              "       [ 0.70657317,  0.01050002,  1.78587049,  0.12691209,  0.40198936]])"
            ]
          },
          "metadata": {},
          "execution_count": 219
        }
      ],
      "source": [
        "# Set s generate same data everytime\n",
        "rng = np.random.RandomState(0)\n",
        "rand_data = rng.normal(size=(20, 5))\n",
        "rand_data"
      ]
    },
    {
      "cell_type": "markdown",
      "metadata": {
        "id": "4Ch7bpMwIqw9"
      },
      "source": [
        "We can easily convert a NumPy array into a `DataFrame` as follows."
      ]
    },
    {
      "cell_type": "code",
      "execution_count": null,
      "metadata": {
        "id": "03fZyurrIqw9",
        "outputId": "64c3ecef-65e8-4764-d960-625b13861438",
        "colab": {
          "base_uri": "https://localhost:8080/",
          "height": 677
        }
      },
      "outputs": [
        {
          "output_type": "execute_result",
          "data": {
            "text/plain": [
              "           A         B         C         D         E\n",
              "0   1.764052  0.400157  0.978738  2.240893  1.867558\n",
              "1  -0.977278  0.950088 -0.151357 -0.103219  0.410599\n",
              "2   0.144044  1.454274  0.761038  0.121675  0.443863\n",
              "3   0.333674  1.494079 -0.205158  0.313068 -0.854096\n",
              "4  -2.552990  0.653619  0.864436 -0.742165  2.269755\n",
              "5  -1.454366  0.045759 -0.187184  1.532779  1.469359\n",
              "6   0.154947  0.378163 -0.887786 -1.980796 -0.347912\n",
              "7   0.156349  1.230291  1.202380 -0.387327 -0.302303\n",
              "8  -1.048553 -1.420018 -1.706270  1.950775 -0.509652\n",
              "9  -0.438074 -1.252795  0.777490 -1.613898 -0.212740\n",
              "10 -0.895467  0.386902 -0.510805 -1.180632 -0.028182\n",
              "11  0.428332  0.066517  0.302472 -0.634322 -0.362741\n",
              "12 -0.672460 -0.359553 -0.813146 -1.726283  0.177426\n",
              "13 -0.401781 -1.630198  0.462782 -0.907298  0.051945\n",
              "14  0.729091  0.128983  1.139401 -1.234826  0.402342\n",
              "15 -0.684810 -0.870797 -0.578850 -0.311553  0.056165\n",
              "16 -1.165150  0.900826  0.465662 -1.536244  1.488252\n",
              "17  1.895889  1.178780 -0.179925 -1.070753  1.054452\n",
              "18 -0.403177  1.222445  0.208275  0.976639  0.356366\n",
              "19  0.706573  0.010500  1.785870  0.126912  0.401989"
            ],
            "text/html": [
              "\n",
              "  <div id=\"df-38919896-af6d-4d15-9877-730ca5b06ef9\" class=\"colab-df-container\">\n",
              "    <div>\n",
              "<style scoped>\n",
              "    .dataframe tbody tr th:only-of-type {\n",
              "        vertical-align: middle;\n",
              "    }\n",
              "\n",
              "    .dataframe tbody tr th {\n",
              "        vertical-align: top;\n",
              "    }\n",
              "\n",
              "    .dataframe thead th {\n",
              "        text-align: right;\n",
              "    }\n",
              "</style>\n",
              "<table border=\"1\" class=\"dataframe\">\n",
              "  <thead>\n",
              "    <tr style=\"text-align: right;\">\n",
              "      <th></th>\n",
              "      <th>A</th>\n",
              "      <th>B</th>\n",
              "      <th>C</th>\n",
              "      <th>D</th>\n",
              "      <th>E</th>\n",
              "    </tr>\n",
              "  </thead>\n",
              "  <tbody>\n",
              "    <tr>\n",
              "      <th>0</th>\n",
              "      <td>1.764052</td>\n",
              "      <td>0.400157</td>\n",
              "      <td>0.978738</td>\n",
              "      <td>2.240893</td>\n",
              "      <td>1.867558</td>\n",
              "    </tr>\n",
              "    <tr>\n",
              "      <th>1</th>\n",
              "      <td>-0.977278</td>\n",
              "      <td>0.950088</td>\n",
              "      <td>-0.151357</td>\n",
              "      <td>-0.103219</td>\n",
              "      <td>0.410599</td>\n",
              "    </tr>\n",
              "    <tr>\n",
              "      <th>2</th>\n",
              "      <td>0.144044</td>\n",
              "      <td>1.454274</td>\n",
              "      <td>0.761038</td>\n",
              "      <td>0.121675</td>\n",
              "      <td>0.443863</td>\n",
              "    </tr>\n",
              "    <tr>\n",
              "      <th>3</th>\n",
              "      <td>0.333674</td>\n",
              "      <td>1.494079</td>\n",
              "      <td>-0.205158</td>\n",
              "      <td>0.313068</td>\n",
              "      <td>-0.854096</td>\n",
              "    </tr>\n",
              "    <tr>\n",
              "      <th>4</th>\n",
              "      <td>-2.552990</td>\n",
              "      <td>0.653619</td>\n",
              "      <td>0.864436</td>\n",
              "      <td>-0.742165</td>\n",
              "      <td>2.269755</td>\n",
              "    </tr>\n",
              "    <tr>\n",
              "      <th>5</th>\n",
              "      <td>-1.454366</td>\n",
              "      <td>0.045759</td>\n",
              "      <td>-0.187184</td>\n",
              "      <td>1.532779</td>\n",
              "      <td>1.469359</td>\n",
              "    </tr>\n",
              "    <tr>\n",
              "      <th>6</th>\n",
              "      <td>0.154947</td>\n",
              "      <td>0.378163</td>\n",
              "      <td>-0.887786</td>\n",
              "      <td>-1.980796</td>\n",
              "      <td>-0.347912</td>\n",
              "    </tr>\n",
              "    <tr>\n",
              "      <th>7</th>\n",
              "      <td>0.156349</td>\n",
              "      <td>1.230291</td>\n",
              "      <td>1.202380</td>\n",
              "      <td>-0.387327</td>\n",
              "      <td>-0.302303</td>\n",
              "    </tr>\n",
              "    <tr>\n",
              "      <th>8</th>\n",
              "      <td>-1.048553</td>\n",
              "      <td>-1.420018</td>\n",
              "      <td>-1.706270</td>\n",
              "      <td>1.950775</td>\n",
              "      <td>-0.509652</td>\n",
              "    </tr>\n",
              "    <tr>\n",
              "      <th>9</th>\n",
              "      <td>-0.438074</td>\n",
              "      <td>-1.252795</td>\n",
              "      <td>0.777490</td>\n",
              "      <td>-1.613898</td>\n",
              "      <td>-0.212740</td>\n",
              "    </tr>\n",
              "    <tr>\n",
              "      <th>10</th>\n",
              "      <td>-0.895467</td>\n",
              "      <td>0.386902</td>\n",
              "      <td>-0.510805</td>\n",
              "      <td>-1.180632</td>\n",
              "      <td>-0.028182</td>\n",
              "    </tr>\n",
              "    <tr>\n",
              "      <th>11</th>\n",
              "      <td>0.428332</td>\n",
              "      <td>0.066517</td>\n",
              "      <td>0.302472</td>\n",
              "      <td>-0.634322</td>\n",
              "      <td>-0.362741</td>\n",
              "    </tr>\n",
              "    <tr>\n",
              "      <th>12</th>\n",
              "      <td>-0.672460</td>\n",
              "      <td>-0.359553</td>\n",
              "      <td>-0.813146</td>\n",
              "      <td>-1.726283</td>\n",
              "      <td>0.177426</td>\n",
              "    </tr>\n",
              "    <tr>\n",
              "      <th>13</th>\n",
              "      <td>-0.401781</td>\n",
              "      <td>-1.630198</td>\n",
              "      <td>0.462782</td>\n",
              "      <td>-0.907298</td>\n",
              "      <td>0.051945</td>\n",
              "    </tr>\n",
              "    <tr>\n",
              "      <th>14</th>\n",
              "      <td>0.729091</td>\n",
              "      <td>0.128983</td>\n",
              "      <td>1.139401</td>\n",
              "      <td>-1.234826</td>\n",
              "      <td>0.402342</td>\n",
              "    </tr>\n",
              "    <tr>\n",
              "      <th>15</th>\n",
              "      <td>-0.684810</td>\n",
              "      <td>-0.870797</td>\n",
              "      <td>-0.578850</td>\n",
              "      <td>-0.311553</td>\n",
              "      <td>0.056165</td>\n",
              "    </tr>\n",
              "    <tr>\n",
              "      <th>16</th>\n",
              "      <td>-1.165150</td>\n",
              "      <td>0.900826</td>\n",
              "      <td>0.465662</td>\n",
              "      <td>-1.536244</td>\n",
              "      <td>1.488252</td>\n",
              "    </tr>\n",
              "    <tr>\n",
              "      <th>17</th>\n",
              "      <td>1.895889</td>\n",
              "      <td>1.178780</td>\n",
              "      <td>-0.179925</td>\n",
              "      <td>-1.070753</td>\n",
              "      <td>1.054452</td>\n",
              "    </tr>\n",
              "    <tr>\n",
              "      <th>18</th>\n",
              "      <td>-0.403177</td>\n",
              "      <td>1.222445</td>\n",
              "      <td>0.208275</td>\n",
              "      <td>0.976639</td>\n",
              "      <td>0.356366</td>\n",
              "    </tr>\n",
              "    <tr>\n",
              "      <th>19</th>\n",
              "      <td>0.706573</td>\n",
              "      <td>0.010500</td>\n",
              "      <td>1.785870</td>\n",
              "      <td>0.126912</td>\n",
              "      <td>0.401989</td>\n",
              "    </tr>\n",
              "  </tbody>\n",
              "</table>\n",
              "</div>\n",
              "    <div class=\"colab-df-buttons\">\n",
              "\n",
              "  <div class=\"colab-df-container\">\n",
              "    <button class=\"colab-df-convert\" onclick=\"convertToInteractive('df-38919896-af6d-4d15-9877-730ca5b06ef9')\"\n",
              "            title=\"Convert this dataframe to an interactive table.\"\n",
              "            style=\"display:none;\">\n",
              "\n",
              "  <svg xmlns=\"http://www.w3.org/2000/svg\" height=\"24px\" viewBox=\"0 -960 960 960\">\n",
              "    <path d=\"M120-120v-720h720v720H120Zm60-500h600v-160H180v160Zm220 220h160v-160H400v160Zm0 220h160v-160H400v160ZM180-400h160v-160H180v160Zm440 0h160v-160H620v160ZM180-180h160v-160H180v160Zm440 0h160v-160H620v160Z\"/>\n",
              "  </svg>\n",
              "    </button>\n",
              "\n",
              "  <style>\n",
              "    .colab-df-container {\n",
              "      display:flex;\n",
              "      gap: 12px;\n",
              "    }\n",
              "\n",
              "    .colab-df-convert {\n",
              "      background-color: #E8F0FE;\n",
              "      border: none;\n",
              "      border-radius: 50%;\n",
              "      cursor: pointer;\n",
              "      display: none;\n",
              "      fill: #1967D2;\n",
              "      height: 32px;\n",
              "      padding: 0 0 0 0;\n",
              "      width: 32px;\n",
              "    }\n",
              "\n",
              "    .colab-df-convert:hover {\n",
              "      background-color: #E2EBFA;\n",
              "      box-shadow: 0px 1px 2px rgba(60, 64, 67, 0.3), 0px 1px 3px 1px rgba(60, 64, 67, 0.15);\n",
              "      fill: #174EA6;\n",
              "    }\n",
              "\n",
              "    .colab-df-buttons div {\n",
              "      margin-bottom: 4px;\n",
              "    }\n",
              "\n",
              "    [theme=dark] .colab-df-convert {\n",
              "      background-color: #3B4455;\n",
              "      fill: #D2E3FC;\n",
              "    }\n",
              "\n",
              "    [theme=dark] .colab-df-convert:hover {\n",
              "      background-color: #434B5C;\n",
              "      box-shadow: 0px 1px 3px 1px rgba(0, 0, 0, 0.15);\n",
              "      filter: drop-shadow(0px 1px 2px rgba(0, 0, 0, 0.3));\n",
              "      fill: #FFFFFF;\n",
              "    }\n",
              "  </style>\n",
              "\n",
              "    <script>\n",
              "      const buttonEl =\n",
              "        document.querySelector('#df-38919896-af6d-4d15-9877-730ca5b06ef9 button.colab-df-convert');\n",
              "      buttonEl.style.display =\n",
              "        google.colab.kernel.accessAllowed ? 'block' : 'none';\n",
              "\n",
              "      async function convertToInteractive(key) {\n",
              "        const element = document.querySelector('#df-38919896-af6d-4d15-9877-730ca5b06ef9');\n",
              "        const dataTable =\n",
              "          await google.colab.kernel.invokeFunction('convertToInteractive',\n",
              "                                                    [key], {});\n",
              "        if (!dataTable) return;\n",
              "\n",
              "        const docLinkHtml = 'Like what you see? Visit the ' +\n",
              "          '<a target=\"_blank\" href=https://colab.research.google.com/notebooks/data_table.ipynb>data table notebook</a>'\n",
              "          + ' to learn more about interactive tables.';\n",
              "        element.innerHTML = '';\n",
              "        dataTable['output_type'] = 'display_data';\n",
              "        await google.colab.output.renderOutput(dataTable, element);\n",
              "        const docLink = document.createElement('div');\n",
              "        docLink.innerHTML = docLinkHtml;\n",
              "        element.appendChild(docLink);\n",
              "      }\n",
              "    </script>\n",
              "  </div>\n",
              "\n",
              "\n",
              "<div id=\"df-de0af70c-05ca-4158-a281-ec7e746b6ccd\">\n",
              "  <button class=\"colab-df-quickchart\" onclick=\"quickchart('df-de0af70c-05ca-4158-a281-ec7e746b6ccd')\"\n",
              "            title=\"Suggest charts\"\n",
              "            style=\"display:none;\">\n",
              "\n",
              "<svg xmlns=\"http://www.w3.org/2000/svg\" height=\"24px\"viewBox=\"0 0 24 24\"\n",
              "     width=\"24px\">\n",
              "    <g>\n",
              "        <path d=\"M19 3H5c-1.1 0-2 .9-2 2v14c0 1.1.9 2 2 2h14c1.1 0 2-.9 2-2V5c0-1.1-.9-2-2-2zM9 17H7v-7h2v7zm4 0h-2V7h2v10zm4 0h-2v-4h2v4z\"/>\n",
              "    </g>\n",
              "</svg>\n",
              "  </button>\n",
              "\n",
              "<style>\n",
              "  .colab-df-quickchart {\n",
              "      --bg-color: #E8F0FE;\n",
              "      --fill-color: #1967D2;\n",
              "      --hover-bg-color: #E2EBFA;\n",
              "      --hover-fill-color: #174EA6;\n",
              "      --disabled-fill-color: #AAA;\n",
              "      --disabled-bg-color: #DDD;\n",
              "  }\n",
              "\n",
              "  [theme=dark] .colab-df-quickchart {\n",
              "      --bg-color: #3B4455;\n",
              "      --fill-color: #D2E3FC;\n",
              "      --hover-bg-color: #434B5C;\n",
              "      --hover-fill-color: #FFFFFF;\n",
              "      --disabled-bg-color: #3B4455;\n",
              "      --disabled-fill-color: #666;\n",
              "  }\n",
              "\n",
              "  .colab-df-quickchart {\n",
              "    background-color: var(--bg-color);\n",
              "    border: none;\n",
              "    border-radius: 50%;\n",
              "    cursor: pointer;\n",
              "    display: none;\n",
              "    fill: var(--fill-color);\n",
              "    height: 32px;\n",
              "    padding: 0;\n",
              "    width: 32px;\n",
              "  }\n",
              "\n",
              "  .colab-df-quickchart:hover {\n",
              "    background-color: var(--hover-bg-color);\n",
              "    box-shadow: 0 1px 2px rgba(60, 64, 67, 0.3), 0 1px 3px 1px rgba(60, 64, 67, 0.15);\n",
              "    fill: var(--button-hover-fill-color);\n",
              "  }\n",
              "\n",
              "  .colab-df-quickchart-complete:disabled,\n",
              "  .colab-df-quickchart-complete:disabled:hover {\n",
              "    background-color: var(--disabled-bg-color);\n",
              "    fill: var(--disabled-fill-color);\n",
              "    box-shadow: none;\n",
              "  }\n",
              "\n",
              "  .colab-df-spinner {\n",
              "    border: 2px solid var(--fill-color);\n",
              "    border-color: transparent;\n",
              "    border-bottom-color: var(--fill-color);\n",
              "    animation:\n",
              "      spin 1s steps(1) infinite;\n",
              "  }\n",
              "\n",
              "  @keyframes spin {\n",
              "    0% {\n",
              "      border-color: transparent;\n",
              "      border-bottom-color: var(--fill-color);\n",
              "      border-left-color: var(--fill-color);\n",
              "    }\n",
              "    20% {\n",
              "      border-color: transparent;\n",
              "      border-left-color: var(--fill-color);\n",
              "      border-top-color: var(--fill-color);\n",
              "    }\n",
              "    30% {\n",
              "      border-color: transparent;\n",
              "      border-left-color: var(--fill-color);\n",
              "      border-top-color: var(--fill-color);\n",
              "      border-right-color: var(--fill-color);\n",
              "    }\n",
              "    40% {\n",
              "      border-color: transparent;\n",
              "      border-right-color: var(--fill-color);\n",
              "      border-top-color: var(--fill-color);\n",
              "    }\n",
              "    60% {\n",
              "      border-color: transparent;\n",
              "      border-right-color: var(--fill-color);\n",
              "    }\n",
              "    80% {\n",
              "      border-color: transparent;\n",
              "      border-right-color: var(--fill-color);\n",
              "      border-bottom-color: var(--fill-color);\n",
              "    }\n",
              "    90% {\n",
              "      border-color: transparent;\n",
              "      border-bottom-color: var(--fill-color);\n",
              "    }\n",
              "  }\n",
              "</style>\n",
              "\n",
              "  <script>\n",
              "    async function quickchart(key) {\n",
              "      const quickchartButtonEl =\n",
              "        document.querySelector('#' + key + ' button');\n",
              "      quickchartButtonEl.disabled = true;  // To prevent multiple clicks.\n",
              "      quickchartButtonEl.classList.add('colab-df-spinner');\n",
              "      try {\n",
              "        const charts = await google.colab.kernel.invokeFunction(\n",
              "            'suggestCharts', [key], {});\n",
              "      } catch (error) {\n",
              "        console.error('Error during call to suggestCharts:', error);\n",
              "      }\n",
              "      quickchartButtonEl.classList.remove('colab-df-spinner');\n",
              "      quickchartButtonEl.classList.add('colab-df-quickchart-complete');\n",
              "    }\n",
              "    (() => {\n",
              "      let quickchartButtonEl =\n",
              "        document.querySelector('#df-de0af70c-05ca-4158-a281-ec7e746b6ccd button');\n",
              "      quickchartButtonEl.style.display =\n",
              "        google.colab.kernel.accessAllowed ? 'block' : 'none';\n",
              "    })();\n",
              "  </script>\n",
              "</div>\n",
              "\n",
              "  <div id=\"id_e65c94df-1c70-4e79-9211-44b34d5f6a54\">\n",
              "    <style>\n",
              "      .colab-df-generate {\n",
              "        background-color: #E8F0FE;\n",
              "        border: none;\n",
              "        border-radius: 50%;\n",
              "        cursor: pointer;\n",
              "        display: none;\n",
              "        fill: #1967D2;\n",
              "        height: 32px;\n",
              "        padding: 0 0 0 0;\n",
              "        width: 32px;\n",
              "      }\n",
              "\n",
              "      .colab-df-generate:hover {\n",
              "        background-color: #E2EBFA;\n",
              "        box-shadow: 0px 1px 2px rgba(60, 64, 67, 0.3), 0px 1px 3px 1px rgba(60, 64, 67, 0.15);\n",
              "        fill: #174EA6;\n",
              "      }\n",
              "\n",
              "      [theme=dark] .colab-df-generate {\n",
              "        background-color: #3B4455;\n",
              "        fill: #D2E3FC;\n",
              "      }\n",
              "\n",
              "      [theme=dark] .colab-df-generate:hover {\n",
              "        background-color: #434B5C;\n",
              "        box-shadow: 0px 1px 3px 1px rgba(0, 0, 0, 0.15);\n",
              "        filter: drop-shadow(0px 1px 2px rgba(0, 0, 0, 0.3));\n",
              "        fill: #FFFFFF;\n",
              "      }\n",
              "    </style>\n",
              "    <button class=\"colab-df-generate\" onclick=\"generateWithVariable('df')\"\n",
              "            title=\"Generate code using this dataframe.\"\n",
              "            style=\"display:none;\">\n",
              "\n",
              "  <svg xmlns=\"http://www.w3.org/2000/svg\" height=\"24px\"viewBox=\"0 0 24 24\"\n",
              "       width=\"24px\">\n",
              "    <path d=\"M7,19H8.4L18.45,9,17,7.55,7,17.6ZM5,21V16.75L18.45,3.32a2,2,0,0,1,2.83,0l1.4,1.43a1.91,1.91,0,0,1,.58,1.4,1.91,1.91,0,0,1-.58,1.4L9.25,21ZM18.45,9,17,7.55Zm-12,3A5.31,5.31,0,0,0,4.9,8.1,5.31,5.31,0,0,0,1,6.5,5.31,5.31,0,0,0,4.9,4.9,5.31,5.31,0,0,0,6.5,1,5.31,5.31,0,0,0,8.1,4.9,5.31,5.31,0,0,0,12,6.5,5.46,5.46,0,0,0,6.5,12Z\"/>\n",
              "  </svg>\n",
              "    </button>\n",
              "    <script>\n",
              "      (() => {\n",
              "      const buttonEl =\n",
              "        document.querySelector('#id_e65c94df-1c70-4e79-9211-44b34d5f6a54 button.colab-df-generate');\n",
              "      buttonEl.style.display =\n",
              "        google.colab.kernel.accessAllowed ? 'block' : 'none';\n",
              "\n",
              "      buttonEl.onclick = () => {\n",
              "        google.colab.notebook.generateWithVariable('df');\n",
              "      }\n",
              "      })();\n",
              "    </script>\n",
              "  </div>\n",
              "\n",
              "    </div>\n",
              "  </div>\n"
            ],
            "application/vnd.google.colaboratory.intrinsic+json": {
              "type": "dataframe",
              "variable_name": "df",
              "summary": "{\n  \"name\": \"df\",\n  \"rows\": 20,\n  \"fields\": [\n    {\n      \"column\": \"A\",\n      \"properties\": {\n        \"dtype\": \"number\",\n        \"std\": 1.061908450449331,\n        \"min\": -2.5529898158340787,\n        \"max\": 1.8958891760305832,\n        \"num_unique_values\": 20,\n        \"samples\": [\n          1.764052345967664,\n          1.8958891760305832,\n          -0.6848100909403132\n        ],\n        \"semantic_type\": \"\",\n        \"description\": \"\"\n      }\n    },\n    {\n      \"column\": \"B\",\n      \"properties\": {\n        \"dtype\": \"number\",\n        \"std\": 0.9530879405461116,\n        \"min\": -1.6301983469660446,\n        \"max\": 1.4940790731576061,\n        \"num_unique_values\": 20,\n        \"samples\": [\n          0.4001572083672233,\n          1.1787795711596507,\n          -0.8707971491818818\n        ],\n        \"semantic_type\": \"\",\n        \"description\": \"\"\n      }\n    },\n    {\n      \"column\": \"C\",\n      \"properties\": {\n        \"dtype\": \"number\",\n        \"std\": 0.8516922118298949,\n        \"min\": -1.7062701906250126,\n        \"max\": 1.7858704939058352,\n        \"num_unique_values\": 20,\n        \"samples\": [\n          0.9787379841057392,\n          -0.17992483581235091,\n          -0.5788496647644155\n        ],\n        \"semantic_type\": \"\",\n        \"description\": \"\"\n      }\n    },\n    {\n      \"column\": \"D\",\n      \"properties\": {\n        \"dtype\": \"number\",\n        \"std\": 1.2209912917992876,\n        \"min\": -1.980796468223927,\n        \"max\": 2.240893199201458,\n        \"num_unique_values\": 20,\n        \"samples\": [\n          2.240893199201458,\n          -1.0707526215105425,\n          -0.31155253212737266\n        ],\n        \"semantic_type\": \"\",\n        \"description\": \"\"\n      }\n    },\n    {\n      \"column\": \"E\",\n      \"properties\": {\n        \"dtype\": \"number\",\n        \"std\": 0.8363667007786213,\n        \"min\": -0.8540957393017248,\n        \"max\": 2.2697546239876076,\n        \"num_unique_values\": 20,\n        \"samples\": [\n          1.8675579901499675,\n          1.0544517269311366,\n          0.05616534222974544\n        ],\n        \"semantic_type\": \"\",\n        \"description\": \"\"\n      }\n    }\n  ]\n}"
            }
          },
          "metadata": {},
          "execution_count": 220
        }
      ],
      "source": [
        "df = pd.DataFrame(rand_data, columns=['A', 'B', 'C', 'D', 'E'])\n",
        "df"
      ]
    },
    {
      "cell_type": "markdown",
      "metadata": {
        "id": "UhioE_HgIqw9"
      },
      "source": [
        "Notice how much nicer, visually, the table looks compared to the NumPy version. This is just one benefit of Pandas! Note, if we print the `DataFrame` using `print` we lose some of the nice formatting. However, we can easily recover the formatting by using the `display` provided by Jupyter Notebook."
      ]
    },
    {
      "cell_type": "code",
      "execution_count": null,
      "metadata": {
        "id": "XCHkKX53Iqw9",
        "outputId": "c0b6bb37-b601-489c-b562-a4537a8b7721",
        "colab": {
          "base_uri": "https://localhost:8080/"
        }
      },
      "outputs": [
        {
          "output_type": "stream",
          "name": "stdout",
          "text": [
            "           A         B         C         D         E\n",
            "0   1.764052  0.400157  0.978738  2.240893  1.867558\n",
            "1  -0.977278  0.950088 -0.151357 -0.103219  0.410599\n",
            "2   0.144044  1.454274  0.761038  0.121675  0.443863\n",
            "3   0.333674  1.494079 -0.205158  0.313068 -0.854096\n",
            "4  -2.552990  0.653619  0.864436 -0.742165  2.269755\n",
            "5  -1.454366  0.045759 -0.187184  1.532779  1.469359\n",
            "6   0.154947  0.378163 -0.887786 -1.980796 -0.347912\n",
            "7   0.156349  1.230291  1.202380 -0.387327 -0.302303\n",
            "8  -1.048553 -1.420018 -1.706270  1.950775 -0.509652\n",
            "9  -0.438074 -1.252795  0.777490 -1.613898 -0.212740\n",
            "10 -0.895467  0.386902 -0.510805 -1.180632 -0.028182\n",
            "11  0.428332  0.066517  0.302472 -0.634322 -0.362741\n",
            "12 -0.672460 -0.359553 -0.813146 -1.726283  0.177426\n",
            "13 -0.401781 -1.630198  0.462782 -0.907298  0.051945\n",
            "14  0.729091  0.128983  1.139401 -1.234826  0.402342\n",
            "15 -0.684810 -0.870797 -0.578850 -0.311553  0.056165\n",
            "16 -1.165150  0.900826  0.465662 -1.536244  1.488252\n",
            "17  1.895889  1.178780 -0.179925 -1.070753  1.054452\n",
            "18 -0.403177  1.222445  0.208275  0.976639  0.356366\n",
            "19  0.706573  0.010500  1.785870  0.126912  0.401989\n"
          ]
        }
      ],
      "source": [
        "print(df)"
      ]
    },
    {
      "cell_type": "code",
      "execution_count": null,
      "metadata": {
        "id": "Q0tCdw_bIqw_",
        "outputId": "f2f64e4d-e961-4a36-8031-7917360de40b",
        "colab": {
          "base_uri": "https://localhost:8080/",
          "height": 677
        }
      },
      "outputs": [
        {
          "output_type": "display_data",
          "data": {
            "text/plain": [
              "           A         B         C         D         E\n",
              "0   1.764052  0.400157  0.978738  2.240893  1.867558\n",
              "1  -0.977278  0.950088 -0.151357 -0.103219  0.410599\n",
              "2   0.144044  1.454274  0.761038  0.121675  0.443863\n",
              "3   0.333674  1.494079 -0.205158  0.313068 -0.854096\n",
              "4  -2.552990  0.653619  0.864436 -0.742165  2.269755\n",
              "5  -1.454366  0.045759 -0.187184  1.532779  1.469359\n",
              "6   0.154947  0.378163 -0.887786 -1.980796 -0.347912\n",
              "7   0.156349  1.230291  1.202380 -0.387327 -0.302303\n",
              "8  -1.048553 -1.420018 -1.706270  1.950775 -0.509652\n",
              "9  -0.438074 -1.252795  0.777490 -1.613898 -0.212740\n",
              "10 -0.895467  0.386902 -0.510805 -1.180632 -0.028182\n",
              "11  0.428332  0.066517  0.302472 -0.634322 -0.362741\n",
              "12 -0.672460 -0.359553 -0.813146 -1.726283  0.177426\n",
              "13 -0.401781 -1.630198  0.462782 -0.907298  0.051945\n",
              "14  0.729091  0.128983  1.139401 -1.234826  0.402342\n",
              "15 -0.684810 -0.870797 -0.578850 -0.311553  0.056165\n",
              "16 -1.165150  0.900826  0.465662 -1.536244  1.488252\n",
              "17  1.895889  1.178780 -0.179925 -1.070753  1.054452\n",
              "18 -0.403177  1.222445  0.208275  0.976639  0.356366\n",
              "19  0.706573  0.010500  1.785870  0.126912  0.401989"
            ],
            "text/html": [
              "\n",
              "  <div id=\"df-c7ab3f4a-1b99-4281-9f67-e431a29daba3\" class=\"colab-df-container\">\n",
              "    <div>\n",
              "<style scoped>\n",
              "    .dataframe tbody tr th:only-of-type {\n",
              "        vertical-align: middle;\n",
              "    }\n",
              "\n",
              "    .dataframe tbody tr th {\n",
              "        vertical-align: top;\n",
              "    }\n",
              "\n",
              "    .dataframe thead th {\n",
              "        text-align: right;\n",
              "    }\n",
              "</style>\n",
              "<table border=\"1\" class=\"dataframe\">\n",
              "  <thead>\n",
              "    <tr style=\"text-align: right;\">\n",
              "      <th></th>\n",
              "      <th>A</th>\n",
              "      <th>B</th>\n",
              "      <th>C</th>\n",
              "      <th>D</th>\n",
              "      <th>E</th>\n",
              "    </tr>\n",
              "  </thead>\n",
              "  <tbody>\n",
              "    <tr>\n",
              "      <th>0</th>\n",
              "      <td>1.764052</td>\n",
              "      <td>0.400157</td>\n",
              "      <td>0.978738</td>\n",
              "      <td>2.240893</td>\n",
              "      <td>1.867558</td>\n",
              "    </tr>\n",
              "    <tr>\n",
              "      <th>1</th>\n",
              "      <td>-0.977278</td>\n",
              "      <td>0.950088</td>\n",
              "      <td>-0.151357</td>\n",
              "      <td>-0.103219</td>\n",
              "      <td>0.410599</td>\n",
              "    </tr>\n",
              "    <tr>\n",
              "      <th>2</th>\n",
              "      <td>0.144044</td>\n",
              "      <td>1.454274</td>\n",
              "      <td>0.761038</td>\n",
              "      <td>0.121675</td>\n",
              "      <td>0.443863</td>\n",
              "    </tr>\n",
              "    <tr>\n",
              "      <th>3</th>\n",
              "      <td>0.333674</td>\n",
              "      <td>1.494079</td>\n",
              "      <td>-0.205158</td>\n",
              "      <td>0.313068</td>\n",
              "      <td>-0.854096</td>\n",
              "    </tr>\n",
              "    <tr>\n",
              "      <th>4</th>\n",
              "      <td>-2.552990</td>\n",
              "      <td>0.653619</td>\n",
              "      <td>0.864436</td>\n",
              "      <td>-0.742165</td>\n",
              "      <td>2.269755</td>\n",
              "    </tr>\n",
              "    <tr>\n",
              "      <th>5</th>\n",
              "      <td>-1.454366</td>\n",
              "      <td>0.045759</td>\n",
              "      <td>-0.187184</td>\n",
              "      <td>1.532779</td>\n",
              "      <td>1.469359</td>\n",
              "    </tr>\n",
              "    <tr>\n",
              "      <th>6</th>\n",
              "      <td>0.154947</td>\n",
              "      <td>0.378163</td>\n",
              "      <td>-0.887786</td>\n",
              "      <td>-1.980796</td>\n",
              "      <td>-0.347912</td>\n",
              "    </tr>\n",
              "    <tr>\n",
              "      <th>7</th>\n",
              "      <td>0.156349</td>\n",
              "      <td>1.230291</td>\n",
              "      <td>1.202380</td>\n",
              "      <td>-0.387327</td>\n",
              "      <td>-0.302303</td>\n",
              "    </tr>\n",
              "    <tr>\n",
              "      <th>8</th>\n",
              "      <td>-1.048553</td>\n",
              "      <td>-1.420018</td>\n",
              "      <td>-1.706270</td>\n",
              "      <td>1.950775</td>\n",
              "      <td>-0.509652</td>\n",
              "    </tr>\n",
              "    <tr>\n",
              "      <th>9</th>\n",
              "      <td>-0.438074</td>\n",
              "      <td>-1.252795</td>\n",
              "      <td>0.777490</td>\n",
              "      <td>-1.613898</td>\n",
              "      <td>-0.212740</td>\n",
              "    </tr>\n",
              "    <tr>\n",
              "      <th>10</th>\n",
              "      <td>-0.895467</td>\n",
              "      <td>0.386902</td>\n",
              "      <td>-0.510805</td>\n",
              "      <td>-1.180632</td>\n",
              "      <td>-0.028182</td>\n",
              "    </tr>\n",
              "    <tr>\n",
              "      <th>11</th>\n",
              "      <td>0.428332</td>\n",
              "      <td>0.066517</td>\n",
              "      <td>0.302472</td>\n",
              "      <td>-0.634322</td>\n",
              "      <td>-0.362741</td>\n",
              "    </tr>\n",
              "    <tr>\n",
              "      <th>12</th>\n",
              "      <td>-0.672460</td>\n",
              "      <td>-0.359553</td>\n",
              "      <td>-0.813146</td>\n",
              "      <td>-1.726283</td>\n",
              "      <td>0.177426</td>\n",
              "    </tr>\n",
              "    <tr>\n",
              "      <th>13</th>\n",
              "      <td>-0.401781</td>\n",
              "      <td>-1.630198</td>\n",
              "      <td>0.462782</td>\n",
              "      <td>-0.907298</td>\n",
              "      <td>0.051945</td>\n",
              "    </tr>\n",
              "    <tr>\n",
              "      <th>14</th>\n",
              "      <td>0.729091</td>\n",
              "      <td>0.128983</td>\n",
              "      <td>1.139401</td>\n",
              "      <td>-1.234826</td>\n",
              "      <td>0.402342</td>\n",
              "    </tr>\n",
              "    <tr>\n",
              "      <th>15</th>\n",
              "      <td>-0.684810</td>\n",
              "      <td>-0.870797</td>\n",
              "      <td>-0.578850</td>\n",
              "      <td>-0.311553</td>\n",
              "      <td>0.056165</td>\n",
              "    </tr>\n",
              "    <tr>\n",
              "      <th>16</th>\n",
              "      <td>-1.165150</td>\n",
              "      <td>0.900826</td>\n",
              "      <td>0.465662</td>\n",
              "      <td>-1.536244</td>\n",
              "      <td>1.488252</td>\n",
              "    </tr>\n",
              "    <tr>\n",
              "      <th>17</th>\n",
              "      <td>1.895889</td>\n",
              "      <td>1.178780</td>\n",
              "      <td>-0.179925</td>\n",
              "      <td>-1.070753</td>\n",
              "      <td>1.054452</td>\n",
              "    </tr>\n",
              "    <tr>\n",
              "      <th>18</th>\n",
              "      <td>-0.403177</td>\n",
              "      <td>1.222445</td>\n",
              "      <td>0.208275</td>\n",
              "      <td>0.976639</td>\n",
              "      <td>0.356366</td>\n",
              "    </tr>\n",
              "    <tr>\n",
              "      <th>19</th>\n",
              "      <td>0.706573</td>\n",
              "      <td>0.010500</td>\n",
              "      <td>1.785870</td>\n",
              "      <td>0.126912</td>\n",
              "      <td>0.401989</td>\n",
              "    </tr>\n",
              "  </tbody>\n",
              "</table>\n",
              "</div>\n",
              "    <div class=\"colab-df-buttons\">\n",
              "\n",
              "  <div class=\"colab-df-container\">\n",
              "    <button class=\"colab-df-convert\" onclick=\"convertToInteractive('df-c7ab3f4a-1b99-4281-9f67-e431a29daba3')\"\n",
              "            title=\"Convert this dataframe to an interactive table.\"\n",
              "            style=\"display:none;\">\n",
              "\n",
              "  <svg xmlns=\"http://www.w3.org/2000/svg\" height=\"24px\" viewBox=\"0 -960 960 960\">\n",
              "    <path d=\"M120-120v-720h720v720H120Zm60-500h600v-160H180v160Zm220 220h160v-160H400v160Zm0 220h160v-160H400v160ZM180-400h160v-160H180v160Zm440 0h160v-160H620v160ZM180-180h160v-160H180v160Zm440 0h160v-160H620v160Z\"/>\n",
              "  </svg>\n",
              "    </button>\n",
              "\n",
              "  <style>\n",
              "    .colab-df-container {\n",
              "      display:flex;\n",
              "      gap: 12px;\n",
              "    }\n",
              "\n",
              "    .colab-df-convert {\n",
              "      background-color: #E8F0FE;\n",
              "      border: none;\n",
              "      border-radius: 50%;\n",
              "      cursor: pointer;\n",
              "      display: none;\n",
              "      fill: #1967D2;\n",
              "      height: 32px;\n",
              "      padding: 0 0 0 0;\n",
              "      width: 32px;\n",
              "    }\n",
              "\n",
              "    .colab-df-convert:hover {\n",
              "      background-color: #E2EBFA;\n",
              "      box-shadow: 0px 1px 2px rgba(60, 64, 67, 0.3), 0px 1px 3px 1px rgba(60, 64, 67, 0.15);\n",
              "      fill: #174EA6;\n",
              "    }\n",
              "\n",
              "    .colab-df-buttons div {\n",
              "      margin-bottom: 4px;\n",
              "    }\n",
              "\n",
              "    [theme=dark] .colab-df-convert {\n",
              "      background-color: #3B4455;\n",
              "      fill: #D2E3FC;\n",
              "    }\n",
              "\n",
              "    [theme=dark] .colab-df-convert:hover {\n",
              "      background-color: #434B5C;\n",
              "      box-shadow: 0px 1px 3px 1px rgba(0, 0, 0, 0.15);\n",
              "      filter: drop-shadow(0px 1px 2px rgba(0, 0, 0, 0.3));\n",
              "      fill: #FFFFFF;\n",
              "    }\n",
              "  </style>\n",
              "\n",
              "    <script>\n",
              "      const buttonEl =\n",
              "        document.querySelector('#df-c7ab3f4a-1b99-4281-9f67-e431a29daba3 button.colab-df-convert');\n",
              "      buttonEl.style.display =\n",
              "        google.colab.kernel.accessAllowed ? 'block' : 'none';\n",
              "\n",
              "      async function convertToInteractive(key) {\n",
              "        const element = document.querySelector('#df-c7ab3f4a-1b99-4281-9f67-e431a29daba3');\n",
              "        const dataTable =\n",
              "          await google.colab.kernel.invokeFunction('convertToInteractive',\n",
              "                                                    [key], {});\n",
              "        if (!dataTable) return;\n",
              "\n",
              "        const docLinkHtml = 'Like what you see? Visit the ' +\n",
              "          '<a target=\"_blank\" href=https://colab.research.google.com/notebooks/data_table.ipynb>data table notebook</a>'\n",
              "          + ' to learn more about interactive tables.';\n",
              "        element.innerHTML = '';\n",
              "        dataTable['output_type'] = 'display_data';\n",
              "        await google.colab.output.renderOutput(dataTable, element);\n",
              "        const docLink = document.createElement('div');\n",
              "        docLink.innerHTML = docLinkHtml;\n",
              "        element.appendChild(docLink);\n",
              "      }\n",
              "    </script>\n",
              "  </div>\n",
              "\n",
              "\n",
              "<div id=\"df-bb6ac1dc-c58b-4c8c-9b5d-2430f1786a93\">\n",
              "  <button class=\"colab-df-quickchart\" onclick=\"quickchart('df-bb6ac1dc-c58b-4c8c-9b5d-2430f1786a93')\"\n",
              "            title=\"Suggest charts\"\n",
              "            style=\"display:none;\">\n",
              "\n",
              "<svg xmlns=\"http://www.w3.org/2000/svg\" height=\"24px\"viewBox=\"0 0 24 24\"\n",
              "     width=\"24px\">\n",
              "    <g>\n",
              "        <path d=\"M19 3H5c-1.1 0-2 .9-2 2v14c0 1.1.9 2 2 2h14c1.1 0 2-.9 2-2V5c0-1.1-.9-2-2-2zM9 17H7v-7h2v7zm4 0h-2V7h2v10zm4 0h-2v-4h2v4z\"/>\n",
              "    </g>\n",
              "</svg>\n",
              "  </button>\n",
              "\n",
              "<style>\n",
              "  .colab-df-quickchart {\n",
              "      --bg-color: #E8F0FE;\n",
              "      --fill-color: #1967D2;\n",
              "      --hover-bg-color: #E2EBFA;\n",
              "      --hover-fill-color: #174EA6;\n",
              "      --disabled-fill-color: #AAA;\n",
              "      --disabled-bg-color: #DDD;\n",
              "  }\n",
              "\n",
              "  [theme=dark] .colab-df-quickchart {\n",
              "      --bg-color: #3B4455;\n",
              "      --fill-color: #D2E3FC;\n",
              "      --hover-bg-color: #434B5C;\n",
              "      --hover-fill-color: #FFFFFF;\n",
              "      --disabled-bg-color: #3B4455;\n",
              "      --disabled-fill-color: #666;\n",
              "  }\n",
              "\n",
              "  .colab-df-quickchart {\n",
              "    background-color: var(--bg-color);\n",
              "    border: none;\n",
              "    border-radius: 50%;\n",
              "    cursor: pointer;\n",
              "    display: none;\n",
              "    fill: var(--fill-color);\n",
              "    height: 32px;\n",
              "    padding: 0;\n",
              "    width: 32px;\n",
              "  }\n",
              "\n",
              "  .colab-df-quickchart:hover {\n",
              "    background-color: var(--hover-bg-color);\n",
              "    box-shadow: 0 1px 2px rgba(60, 64, 67, 0.3), 0 1px 3px 1px rgba(60, 64, 67, 0.15);\n",
              "    fill: var(--button-hover-fill-color);\n",
              "  }\n",
              "\n",
              "  .colab-df-quickchart-complete:disabled,\n",
              "  .colab-df-quickchart-complete:disabled:hover {\n",
              "    background-color: var(--disabled-bg-color);\n",
              "    fill: var(--disabled-fill-color);\n",
              "    box-shadow: none;\n",
              "  }\n",
              "\n",
              "  .colab-df-spinner {\n",
              "    border: 2px solid var(--fill-color);\n",
              "    border-color: transparent;\n",
              "    border-bottom-color: var(--fill-color);\n",
              "    animation:\n",
              "      spin 1s steps(1) infinite;\n",
              "  }\n",
              "\n",
              "  @keyframes spin {\n",
              "    0% {\n",
              "      border-color: transparent;\n",
              "      border-bottom-color: var(--fill-color);\n",
              "      border-left-color: var(--fill-color);\n",
              "    }\n",
              "    20% {\n",
              "      border-color: transparent;\n",
              "      border-left-color: var(--fill-color);\n",
              "      border-top-color: var(--fill-color);\n",
              "    }\n",
              "    30% {\n",
              "      border-color: transparent;\n",
              "      border-left-color: var(--fill-color);\n",
              "      border-top-color: var(--fill-color);\n",
              "      border-right-color: var(--fill-color);\n",
              "    }\n",
              "    40% {\n",
              "      border-color: transparent;\n",
              "      border-right-color: var(--fill-color);\n",
              "      border-top-color: var(--fill-color);\n",
              "    }\n",
              "    60% {\n",
              "      border-color: transparent;\n",
              "      border-right-color: var(--fill-color);\n",
              "    }\n",
              "    80% {\n",
              "      border-color: transparent;\n",
              "      border-right-color: var(--fill-color);\n",
              "      border-bottom-color: var(--fill-color);\n",
              "    }\n",
              "    90% {\n",
              "      border-color: transparent;\n",
              "      border-bottom-color: var(--fill-color);\n",
              "    }\n",
              "  }\n",
              "</style>\n",
              "\n",
              "  <script>\n",
              "    async function quickchart(key) {\n",
              "      const quickchartButtonEl =\n",
              "        document.querySelector('#' + key + ' button');\n",
              "      quickchartButtonEl.disabled = true;  // To prevent multiple clicks.\n",
              "      quickchartButtonEl.classList.add('colab-df-spinner');\n",
              "      try {\n",
              "        const charts = await google.colab.kernel.invokeFunction(\n",
              "            'suggestCharts', [key], {});\n",
              "      } catch (error) {\n",
              "        console.error('Error during call to suggestCharts:', error);\n",
              "      }\n",
              "      quickchartButtonEl.classList.remove('colab-df-spinner');\n",
              "      quickchartButtonEl.classList.add('colab-df-quickchart-complete');\n",
              "    }\n",
              "    (() => {\n",
              "      let quickchartButtonEl =\n",
              "        document.querySelector('#df-bb6ac1dc-c58b-4c8c-9b5d-2430f1786a93 button');\n",
              "      quickchartButtonEl.style.display =\n",
              "        google.colab.kernel.accessAllowed ? 'block' : 'none';\n",
              "    })();\n",
              "  </script>\n",
              "</div>\n",
              "\n",
              "  <div id=\"id_3b508188-07a5-4102-aa6a-9c2bd1a0fe2a\">\n",
              "    <style>\n",
              "      .colab-df-generate {\n",
              "        background-color: #E8F0FE;\n",
              "        border: none;\n",
              "        border-radius: 50%;\n",
              "        cursor: pointer;\n",
              "        display: none;\n",
              "        fill: #1967D2;\n",
              "        height: 32px;\n",
              "        padding: 0 0 0 0;\n",
              "        width: 32px;\n",
              "      }\n",
              "\n",
              "      .colab-df-generate:hover {\n",
              "        background-color: #E2EBFA;\n",
              "        box-shadow: 0px 1px 2px rgba(60, 64, 67, 0.3), 0px 1px 3px 1px rgba(60, 64, 67, 0.15);\n",
              "        fill: #174EA6;\n",
              "      }\n",
              "\n",
              "      [theme=dark] .colab-df-generate {\n",
              "        background-color: #3B4455;\n",
              "        fill: #D2E3FC;\n",
              "      }\n",
              "\n",
              "      [theme=dark] .colab-df-generate:hover {\n",
              "        background-color: #434B5C;\n",
              "        box-shadow: 0px 1px 3px 1px rgba(0, 0, 0, 0.15);\n",
              "        filter: drop-shadow(0px 1px 2px rgba(0, 0, 0, 0.3));\n",
              "        fill: #FFFFFF;\n",
              "      }\n",
              "    </style>\n",
              "    <button class=\"colab-df-generate\" onclick=\"generateWithVariable('df')\"\n",
              "            title=\"Generate code using this dataframe.\"\n",
              "            style=\"display:none;\">\n",
              "\n",
              "  <svg xmlns=\"http://www.w3.org/2000/svg\" height=\"24px\"viewBox=\"0 0 24 24\"\n",
              "       width=\"24px\">\n",
              "    <path d=\"M7,19H8.4L18.45,9,17,7.55,7,17.6ZM5,21V16.75L18.45,3.32a2,2,0,0,1,2.83,0l1.4,1.43a1.91,1.91,0,0,1,.58,1.4,1.91,1.91,0,0,1-.58,1.4L9.25,21ZM18.45,9,17,7.55Zm-12,3A5.31,5.31,0,0,0,4.9,8.1,5.31,5.31,0,0,0,1,6.5,5.31,5.31,0,0,0,4.9,4.9,5.31,5.31,0,0,0,6.5,1,5.31,5.31,0,0,0,8.1,4.9,5.31,5.31,0,0,0,12,6.5,5.46,5.46,0,0,0,6.5,12Z\"/>\n",
              "  </svg>\n",
              "    </button>\n",
              "    <script>\n",
              "      (() => {\n",
              "      const buttonEl =\n",
              "        document.querySelector('#id_3b508188-07a5-4102-aa6a-9c2bd1a0fe2a button.colab-df-generate');\n",
              "      buttonEl.style.display =\n",
              "        google.colab.kernel.accessAllowed ? 'block' : 'none';\n",
              "\n",
              "      buttonEl.onclick = () => {\n",
              "        google.colab.notebook.generateWithVariable('df');\n",
              "      }\n",
              "      })();\n",
              "    </script>\n",
              "  </div>\n",
              "\n",
              "    </div>\n",
              "  </div>\n"
            ],
            "application/vnd.google.colaboratory.intrinsic+json": {
              "type": "dataframe",
              "variable_name": "df",
              "summary": "{\n  \"name\": \"df\",\n  \"rows\": 20,\n  \"fields\": [\n    {\n      \"column\": \"A\",\n      \"properties\": {\n        \"dtype\": \"number\",\n        \"std\": 1.061908450449331,\n        \"min\": -2.5529898158340787,\n        \"max\": 1.8958891760305832,\n        \"num_unique_values\": 20,\n        \"samples\": [\n          1.764052345967664,\n          1.8958891760305832,\n          -0.6848100909403132\n        ],\n        \"semantic_type\": \"\",\n        \"description\": \"\"\n      }\n    },\n    {\n      \"column\": \"B\",\n      \"properties\": {\n        \"dtype\": \"number\",\n        \"std\": 0.9530879405461116,\n        \"min\": -1.6301983469660446,\n        \"max\": 1.4940790731576061,\n        \"num_unique_values\": 20,\n        \"samples\": [\n          0.4001572083672233,\n          1.1787795711596507,\n          -0.8707971491818818\n        ],\n        \"semantic_type\": \"\",\n        \"description\": \"\"\n      }\n    },\n    {\n      \"column\": \"C\",\n      \"properties\": {\n        \"dtype\": \"number\",\n        \"std\": 0.8516922118298949,\n        \"min\": -1.7062701906250126,\n        \"max\": 1.7858704939058352,\n        \"num_unique_values\": 20,\n        \"samples\": [\n          0.9787379841057392,\n          -0.17992483581235091,\n          -0.5788496647644155\n        ],\n        \"semantic_type\": \"\",\n        \"description\": \"\"\n      }\n    },\n    {\n      \"column\": \"D\",\n      \"properties\": {\n        \"dtype\": \"number\",\n        \"std\": 1.2209912917992876,\n        \"min\": -1.980796468223927,\n        \"max\": 2.240893199201458,\n        \"num_unique_values\": 20,\n        \"samples\": [\n          2.240893199201458,\n          -1.0707526215105425,\n          -0.31155253212737266\n        ],\n        \"semantic_type\": \"\",\n        \"description\": \"\"\n      }\n    },\n    {\n      \"column\": \"E\",\n      \"properties\": {\n        \"dtype\": \"number\",\n        \"std\": 0.8363667007786213,\n        \"min\": -0.8540957393017248,\n        \"max\": 2.2697546239876076,\n        \"num_unique_values\": 20,\n        \"samples\": [\n          1.8675579901499675,\n          1.0544517269311366,\n          0.05616534222974544\n        ],\n        \"semantic_type\": \"\",\n        \"description\": \"\"\n      }\n    }\n  ]\n}"
            }
          },
          "metadata": {}
        }
      ],
      "source": [
        "display(df)"
      ]
    },
    {
      "cell_type": "markdown",
      "metadata": {
        "id": "7QqoD9z4Iqw_"
      },
      "source": [
        "One of the useful methods we can call on our `DataFrame` is the `describe()` method which provides a statistical summary of our data. Here we can see the mean, std, min, max, ect stats for each feature or column in our `DataFrame`."
      ]
    },
    {
      "cell_type": "code",
      "execution_count": null,
      "metadata": {
        "id": "hFdA2ZZIIqw_",
        "outputId": "d0f21aea-8dc6-4d15-d869-a6c158935e4c",
        "colab": {
          "base_uri": "https://localhost:8080/",
          "height": 300
        }
      },
      "outputs": [
        {
          "output_type": "execute_result",
          "data": {
            "text/plain": [
              "               A          B          C          D          E\n",
              "count  20.000000  20.000000  20.000000  20.000000  20.000000\n",
              "mean   -0.219058   0.248401   0.186403  -0.308329   0.391622\n",
              "std     1.061908   0.953088   0.851692   1.220991   0.836367\n",
              "min    -2.552990  -1.630198  -1.706270  -1.980796  -0.854096\n",
              "25%    -0.915919  -0.082013  -0.281570  -1.194181  -0.235131\n",
              "50%    -0.402479   0.382533   0.255373  -0.510824   0.266896\n",
              "75%     0.357339   1.007261   0.799227   0.173451   0.596510\n",
              "max     1.895889   1.494079   1.785870   2.240893   2.269755"
            ],
            "text/html": [
              "\n",
              "  <div id=\"df-f9e975bc-0efe-4338-b33d-c8d98542fab0\" class=\"colab-df-container\">\n",
              "    <div>\n",
              "<style scoped>\n",
              "    .dataframe tbody tr th:only-of-type {\n",
              "        vertical-align: middle;\n",
              "    }\n",
              "\n",
              "    .dataframe tbody tr th {\n",
              "        vertical-align: top;\n",
              "    }\n",
              "\n",
              "    .dataframe thead th {\n",
              "        text-align: right;\n",
              "    }\n",
              "</style>\n",
              "<table border=\"1\" class=\"dataframe\">\n",
              "  <thead>\n",
              "    <tr style=\"text-align: right;\">\n",
              "      <th></th>\n",
              "      <th>A</th>\n",
              "      <th>B</th>\n",
              "      <th>C</th>\n",
              "      <th>D</th>\n",
              "      <th>E</th>\n",
              "    </tr>\n",
              "  </thead>\n",
              "  <tbody>\n",
              "    <tr>\n",
              "      <th>count</th>\n",
              "      <td>20.000000</td>\n",
              "      <td>20.000000</td>\n",
              "      <td>20.000000</td>\n",
              "      <td>20.000000</td>\n",
              "      <td>20.000000</td>\n",
              "    </tr>\n",
              "    <tr>\n",
              "      <th>mean</th>\n",
              "      <td>-0.219058</td>\n",
              "      <td>0.248401</td>\n",
              "      <td>0.186403</td>\n",
              "      <td>-0.308329</td>\n",
              "      <td>0.391622</td>\n",
              "    </tr>\n",
              "    <tr>\n",
              "      <th>std</th>\n",
              "      <td>1.061908</td>\n",
              "      <td>0.953088</td>\n",
              "      <td>0.851692</td>\n",
              "      <td>1.220991</td>\n",
              "      <td>0.836367</td>\n",
              "    </tr>\n",
              "    <tr>\n",
              "      <th>min</th>\n",
              "      <td>-2.552990</td>\n",
              "      <td>-1.630198</td>\n",
              "      <td>-1.706270</td>\n",
              "      <td>-1.980796</td>\n",
              "      <td>-0.854096</td>\n",
              "    </tr>\n",
              "    <tr>\n",
              "      <th>25%</th>\n",
              "      <td>-0.915919</td>\n",
              "      <td>-0.082013</td>\n",
              "      <td>-0.281570</td>\n",
              "      <td>-1.194181</td>\n",
              "      <td>-0.235131</td>\n",
              "    </tr>\n",
              "    <tr>\n",
              "      <th>50%</th>\n",
              "      <td>-0.402479</td>\n",
              "      <td>0.382533</td>\n",
              "      <td>0.255373</td>\n",
              "      <td>-0.510824</td>\n",
              "      <td>0.266896</td>\n",
              "    </tr>\n",
              "    <tr>\n",
              "      <th>75%</th>\n",
              "      <td>0.357339</td>\n",
              "      <td>1.007261</td>\n",
              "      <td>0.799227</td>\n",
              "      <td>0.173451</td>\n",
              "      <td>0.596510</td>\n",
              "    </tr>\n",
              "    <tr>\n",
              "      <th>max</th>\n",
              "      <td>1.895889</td>\n",
              "      <td>1.494079</td>\n",
              "      <td>1.785870</td>\n",
              "      <td>2.240893</td>\n",
              "      <td>2.269755</td>\n",
              "    </tr>\n",
              "  </tbody>\n",
              "</table>\n",
              "</div>\n",
              "    <div class=\"colab-df-buttons\">\n",
              "\n",
              "  <div class=\"colab-df-container\">\n",
              "    <button class=\"colab-df-convert\" onclick=\"convertToInteractive('df-f9e975bc-0efe-4338-b33d-c8d98542fab0')\"\n",
              "            title=\"Convert this dataframe to an interactive table.\"\n",
              "            style=\"display:none;\">\n",
              "\n",
              "  <svg xmlns=\"http://www.w3.org/2000/svg\" height=\"24px\" viewBox=\"0 -960 960 960\">\n",
              "    <path d=\"M120-120v-720h720v720H120Zm60-500h600v-160H180v160Zm220 220h160v-160H400v160Zm0 220h160v-160H400v160ZM180-400h160v-160H180v160Zm440 0h160v-160H620v160ZM180-180h160v-160H180v160Zm440 0h160v-160H620v160Z\"/>\n",
              "  </svg>\n",
              "    </button>\n",
              "\n",
              "  <style>\n",
              "    .colab-df-container {\n",
              "      display:flex;\n",
              "      gap: 12px;\n",
              "    }\n",
              "\n",
              "    .colab-df-convert {\n",
              "      background-color: #E8F0FE;\n",
              "      border: none;\n",
              "      border-radius: 50%;\n",
              "      cursor: pointer;\n",
              "      display: none;\n",
              "      fill: #1967D2;\n",
              "      height: 32px;\n",
              "      padding: 0 0 0 0;\n",
              "      width: 32px;\n",
              "    }\n",
              "\n",
              "    .colab-df-convert:hover {\n",
              "      background-color: #E2EBFA;\n",
              "      box-shadow: 0px 1px 2px rgba(60, 64, 67, 0.3), 0px 1px 3px 1px rgba(60, 64, 67, 0.15);\n",
              "      fill: #174EA6;\n",
              "    }\n",
              "\n",
              "    .colab-df-buttons div {\n",
              "      margin-bottom: 4px;\n",
              "    }\n",
              "\n",
              "    [theme=dark] .colab-df-convert {\n",
              "      background-color: #3B4455;\n",
              "      fill: #D2E3FC;\n",
              "    }\n",
              "\n",
              "    [theme=dark] .colab-df-convert:hover {\n",
              "      background-color: #434B5C;\n",
              "      box-shadow: 0px 1px 3px 1px rgba(0, 0, 0, 0.15);\n",
              "      filter: drop-shadow(0px 1px 2px rgba(0, 0, 0, 0.3));\n",
              "      fill: #FFFFFF;\n",
              "    }\n",
              "  </style>\n",
              "\n",
              "    <script>\n",
              "      const buttonEl =\n",
              "        document.querySelector('#df-f9e975bc-0efe-4338-b33d-c8d98542fab0 button.colab-df-convert');\n",
              "      buttonEl.style.display =\n",
              "        google.colab.kernel.accessAllowed ? 'block' : 'none';\n",
              "\n",
              "      async function convertToInteractive(key) {\n",
              "        const element = document.querySelector('#df-f9e975bc-0efe-4338-b33d-c8d98542fab0');\n",
              "        const dataTable =\n",
              "          await google.colab.kernel.invokeFunction('convertToInteractive',\n",
              "                                                    [key], {});\n",
              "        if (!dataTable) return;\n",
              "\n",
              "        const docLinkHtml = 'Like what you see? Visit the ' +\n",
              "          '<a target=\"_blank\" href=https://colab.research.google.com/notebooks/data_table.ipynb>data table notebook</a>'\n",
              "          + ' to learn more about interactive tables.';\n",
              "        element.innerHTML = '';\n",
              "        dataTable['output_type'] = 'display_data';\n",
              "        await google.colab.output.renderOutput(dataTable, element);\n",
              "        const docLink = document.createElement('div');\n",
              "        docLink.innerHTML = docLinkHtml;\n",
              "        element.appendChild(docLink);\n",
              "      }\n",
              "    </script>\n",
              "  </div>\n",
              "\n",
              "\n",
              "<div id=\"df-b52d6630-984d-4074-b939-e52fced33649\">\n",
              "  <button class=\"colab-df-quickchart\" onclick=\"quickchart('df-b52d6630-984d-4074-b939-e52fced33649')\"\n",
              "            title=\"Suggest charts\"\n",
              "            style=\"display:none;\">\n",
              "\n",
              "<svg xmlns=\"http://www.w3.org/2000/svg\" height=\"24px\"viewBox=\"0 0 24 24\"\n",
              "     width=\"24px\">\n",
              "    <g>\n",
              "        <path d=\"M19 3H5c-1.1 0-2 .9-2 2v14c0 1.1.9 2 2 2h14c1.1 0 2-.9 2-2V5c0-1.1-.9-2-2-2zM9 17H7v-7h2v7zm4 0h-2V7h2v10zm4 0h-2v-4h2v4z\"/>\n",
              "    </g>\n",
              "</svg>\n",
              "  </button>\n",
              "\n",
              "<style>\n",
              "  .colab-df-quickchart {\n",
              "      --bg-color: #E8F0FE;\n",
              "      --fill-color: #1967D2;\n",
              "      --hover-bg-color: #E2EBFA;\n",
              "      --hover-fill-color: #174EA6;\n",
              "      --disabled-fill-color: #AAA;\n",
              "      --disabled-bg-color: #DDD;\n",
              "  }\n",
              "\n",
              "  [theme=dark] .colab-df-quickchart {\n",
              "      --bg-color: #3B4455;\n",
              "      --fill-color: #D2E3FC;\n",
              "      --hover-bg-color: #434B5C;\n",
              "      --hover-fill-color: #FFFFFF;\n",
              "      --disabled-bg-color: #3B4455;\n",
              "      --disabled-fill-color: #666;\n",
              "  }\n",
              "\n",
              "  .colab-df-quickchart {\n",
              "    background-color: var(--bg-color);\n",
              "    border: none;\n",
              "    border-radius: 50%;\n",
              "    cursor: pointer;\n",
              "    display: none;\n",
              "    fill: var(--fill-color);\n",
              "    height: 32px;\n",
              "    padding: 0;\n",
              "    width: 32px;\n",
              "  }\n",
              "\n",
              "  .colab-df-quickchart:hover {\n",
              "    background-color: var(--hover-bg-color);\n",
              "    box-shadow: 0 1px 2px rgba(60, 64, 67, 0.3), 0 1px 3px 1px rgba(60, 64, 67, 0.15);\n",
              "    fill: var(--button-hover-fill-color);\n",
              "  }\n",
              "\n",
              "  .colab-df-quickchart-complete:disabled,\n",
              "  .colab-df-quickchart-complete:disabled:hover {\n",
              "    background-color: var(--disabled-bg-color);\n",
              "    fill: var(--disabled-fill-color);\n",
              "    box-shadow: none;\n",
              "  }\n",
              "\n",
              "  .colab-df-spinner {\n",
              "    border: 2px solid var(--fill-color);\n",
              "    border-color: transparent;\n",
              "    border-bottom-color: var(--fill-color);\n",
              "    animation:\n",
              "      spin 1s steps(1) infinite;\n",
              "  }\n",
              "\n",
              "  @keyframes spin {\n",
              "    0% {\n",
              "      border-color: transparent;\n",
              "      border-bottom-color: var(--fill-color);\n",
              "      border-left-color: var(--fill-color);\n",
              "    }\n",
              "    20% {\n",
              "      border-color: transparent;\n",
              "      border-left-color: var(--fill-color);\n",
              "      border-top-color: var(--fill-color);\n",
              "    }\n",
              "    30% {\n",
              "      border-color: transparent;\n",
              "      border-left-color: var(--fill-color);\n",
              "      border-top-color: var(--fill-color);\n",
              "      border-right-color: var(--fill-color);\n",
              "    }\n",
              "    40% {\n",
              "      border-color: transparent;\n",
              "      border-right-color: var(--fill-color);\n",
              "      border-top-color: var(--fill-color);\n",
              "    }\n",
              "    60% {\n",
              "      border-color: transparent;\n",
              "      border-right-color: var(--fill-color);\n",
              "    }\n",
              "    80% {\n",
              "      border-color: transparent;\n",
              "      border-right-color: var(--fill-color);\n",
              "      border-bottom-color: var(--fill-color);\n",
              "    }\n",
              "    90% {\n",
              "      border-color: transparent;\n",
              "      border-bottom-color: var(--fill-color);\n",
              "    }\n",
              "  }\n",
              "</style>\n",
              "\n",
              "  <script>\n",
              "    async function quickchart(key) {\n",
              "      const quickchartButtonEl =\n",
              "        document.querySelector('#' + key + ' button');\n",
              "      quickchartButtonEl.disabled = true;  // To prevent multiple clicks.\n",
              "      quickchartButtonEl.classList.add('colab-df-spinner');\n",
              "      try {\n",
              "        const charts = await google.colab.kernel.invokeFunction(\n",
              "            'suggestCharts', [key], {});\n",
              "      } catch (error) {\n",
              "        console.error('Error during call to suggestCharts:', error);\n",
              "      }\n",
              "      quickchartButtonEl.classList.remove('colab-df-spinner');\n",
              "      quickchartButtonEl.classList.add('colab-df-quickchart-complete');\n",
              "    }\n",
              "    (() => {\n",
              "      let quickchartButtonEl =\n",
              "        document.querySelector('#df-b52d6630-984d-4074-b939-e52fced33649 button');\n",
              "      quickchartButtonEl.style.display =\n",
              "        google.colab.kernel.accessAllowed ? 'block' : 'none';\n",
              "    })();\n",
              "  </script>\n",
              "</div>\n",
              "\n",
              "    </div>\n",
              "  </div>\n"
            ],
            "application/vnd.google.colaboratory.intrinsic+json": {
              "type": "dataframe",
              "summary": "{\n  \"name\": \"df\",\n  \"rows\": 8,\n  \"fields\": [\n    {\n      \"column\": \"A\",\n      \"properties\": {\n        \"dtype\": \"number\",\n        \"std\": 7.233037167214803,\n        \"min\": -2.5529898158340787,\n        \"max\": 20.0,\n        \"num_unique_values\": 8,\n        \"samples\": [\n          -0.21905770223140397,\n          -0.40247894159072073,\n          20.0\n        ],\n        \"semantic_type\": \"\",\n        \"description\": \"\"\n      }\n    },\n    {\n      \"column\": \"B\",\n      \"properties\": {\n        \"dtype\": \"number\",\n        \"std\": 7.014859740394984,\n        \"min\": -1.6301983469660446,\n        \"max\": 20.0,\n        \"num_unique_values\": 8,\n        \"samples\": [\n          0.24840101721923263,\n          0.38253250873071776,\n          20.0\n        ],\n        \"semantic_type\": \"\",\n        \"description\": \"\"\n      }\n    },\n    {\n      \"column\": \"C\",\n      \"properties\": {\n        \"dtype\": \"number\",\n        \"std\": 7.048237798631347,\n        \"min\": -1.7062701906250126,\n        \"max\": 20.0,\n        \"num_unique_values\": 8,\n        \"samples\": [\n          0.186403184085801,\n          0.25537343790832084,\n          20.0\n        ],\n        \"semantic_type\": \"\",\n        \"description\": \"\"\n      }\n    },\n    {\n      \"column\": \"D\",\n      \"properties\": {\n        \"dtype\": \"number\",\n        \"std\": 7.211360275915131,\n        \"min\": -1.980796468223927,\n        \"max\": 20.0,\n        \"num_unique_values\": 8,\n        \"samples\": [\n          -0.3083286627027074,\n          -0.5108244555444579,\n          20.0\n        ],\n        \"semantic_type\": \"\",\n        \"description\": \"\"\n      }\n    },\n    {\n      \"column\": \"E\",\n      \"properties\": {\n        \"dtype\": \"number\",\n        \"std\": 6.964385772758229,\n        \"min\": -0.8540957393017248,\n        \"max\": 20.0,\n        \"num_unique_values\": 8,\n        \"samples\": [\n          0.3916222413015028,\n          0.26689626971407737,\n          20.0\n        ],\n        \"semantic_type\": \"\",\n        \"description\": \"\"\n      }\n    }\n  ]\n}"
            }
          },
          "metadata": {},
          "execution_count": 223
        }
      ],
      "source": [
        "df.describe()"
      ]
    },
    {
      "cell_type": "markdown",
      "metadata": {
        "id": "pyFijyutIqw_"
      },
      "source": [
        "To get back out NumPy array we can use the `values` method."
      ]
    },
    {
      "cell_type": "code",
      "execution_count": null,
      "metadata": {
        "id": "g3_6QZSIIqw_",
        "outputId": "b1f98e3e-828b-4ab5-bb74-8bc382bbfbb2",
        "colab": {
          "base_uri": "https://localhost:8080/"
        }
      },
      "outputs": [
        {
          "output_type": "execute_result",
          "data": {
            "text/plain": [
              "array([[ 1.76405235,  0.40015721,  0.97873798,  2.2408932 ,  1.86755799],\n",
              "       [-0.97727788,  0.95008842, -0.15135721, -0.10321885,  0.4105985 ],\n",
              "       [ 0.14404357,  1.45427351,  0.76103773,  0.12167502,  0.44386323],\n",
              "       [ 0.33367433,  1.49407907, -0.20515826,  0.3130677 , -0.85409574],\n",
              "       [-2.55298982,  0.6536186 ,  0.8644362 , -0.74216502,  2.26975462],\n",
              "       [-1.45436567,  0.04575852, -0.18718385,  1.53277921,  1.46935877],\n",
              "       [ 0.15494743,  0.37816252, -0.88778575, -1.98079647, -0.34791215],\n",
              "       [ 0.15634897,  1.23029068,  1.20237985, -0.38732682, -0.30230275],\n",
              "       [-1.04855297, -1.42001794, -1.70627019,  1.9507754 , -0.50965218],\n",
              "       [-0.4380743 , -1.25279536,  0.77749036, -1.61389785, -0.21274028],\n",
              "       [-0.89546656,  0.3869025 , -0.51080514, -1.18063218, -0.02818223],\n",
              "       [ 0.42833187,  0.06651722,  0.3024719 , -0.63432209, -0.36274117],\n",
              "       [-0.67246045, -0.35955316, -0.81314628, -1.7262826 ,  0.17742614],\n",
              "       [-0.40178094, -1.63019835,  0.46278226, -0.90729836,  0.0519454 ],\n",
              "       [ 0.72909056,  0.12898291,  1.13940068, -1.23482582,  0.40234164],\n",
              "       [-0.68481009, -0.87079715, -0.57884966, -0.31155253,  0.05616534],\n",
              "       [-1.16514984,  0.90082649,  0.46566244, -1.53624369,  1.48825219],\n",
              "       [ 1.89588918,  1.17877957, -0.17992484, -1.07075262,  1.05445173],\n",
              "       [-0.40317695,  1.22244507,  0.20827498,  0.97663904,  0.3563664 ],\n",
              "       [ 0.70657317,  0.01050002,  1.78587049,  0.12691209,  0.40198936]])"
            ]
          },
          "metadata": {},
          "execution_count": 224
        }
      ],
      "source": [
        "df.values"
      ]
    },
    {
      "cell_type": "markdown",
      "metadata": {
        "id": "h6leTjqmIqw_"
      },
      "source": [
        "Lastly, Pandas shares many similarly named methods to NumPy. For instance, if we wanted to check the shape of the `DataFrame` we still use the `shape` method."
      ]
    },
    {
      "cell_type": "code",
      "execution_count": null,
      "metadata": {
        "id": "OFZXQJWAIqxA",
        "outputId": "004e3a1a-e7a6-49a3-97c3-df5d6e54cf1a",
        "colab": {
          "base_uri": "https://localhost:8080/"
        }
      },
      "outputs": [
        {
          "output_type": "execute_result",
          "data": {
            "text/plain": [
              "(20, 5)"
            ]
          },
          "metadata": {},
          "execution_count": 225
        }
      ],
      "source": [
        "df.shape"
      ]
    },
    {
      "cell_type": "markdown",
      "metadata": {
        "id": "i-xE4o68IqxA"
      },
      "source": [
        "## Indexing DataFrames\n",
        "\n",
        "Indexing DataFrames can be a little weird for beginners as it is slightly different from NumPy. To index we have three options: `iloc`, `loc`, and brackets `[ ]`."
      ]
    },
    {
      "cell_type": "markdown",
      "metadata": {
        "id": "T_Piakn5IqxA"
      },
      "source": [
        "`iloc` ([docs](https://pandas.pydata.org/pandas-docs/stable/reference/api/pandas.DataFrame.iloc.html)) works similar to NumPy where you use integers to index the `DataFrame`. Note that the idea of dimensions still applies just like in NumPy."
      ]
    },
    {
      "cell_type": "markdown",
      "metadata": {
        "id": "-GrVVq4tIqxA"
      },
      "source": [
        "To index the first row we can simply pass `0`."
      ]
    },
    {
      "cell_type": "code",
      "execution_count": null,
      "metadata": {
        "id": "qttR42kqIqxA",
        "outputId": "04865d10-8ed4-4b9b-d9eb-f5ccbc9adfe2",
        "colab": {
          "base_uri": "https://localhost:8080/",
          "height": 241
        }
      },
      "outputs": [
        {
          "output_type": "execute_result",
          "data": {
            "text/plain": [
              "A    1.764052\n",
              "B    0.400157\n",
              "C    0.978738\n",
              "D    2.240893\n",
              "E    1.867558\n",
              "Name: 0, dtype: float64"
            ],
            "text/html": [
              "<div>\n",
              "<style scoped>\n",
              "    .dataframe tbody tr th:only-of-type {\n",
              "        vertical-align: middle;\n",
              "    }\n",
              "\n",
              "    .dataframe tbody tr th {\n",
              "        vertical-align: top;\n",
              "    }\n",
              "\n",
              "    .dataframe thead th {\n",
              "        text-align: right;\n",
              "    }\n",
              "</style>\n",
              "<table border=\"1\" class=\"dataframe\">\n",
              "  <thead>\n",
              "    <tr style=\"text-align: right;\">\n",
              "      <th></th>\n",
              "      <th>0</th>\n",
              "    </tr>\n",
              "  </thead>\n",
              "  <tbody>\n",
              "    <tr>\n",
              "      <th>A</th>\n",
              "      <td>1.764052</td>\n",
              "    </tr>\n",
              "    <tr>\n",
              "      <th>B</th>\n",
              "      <td>0.400157</td>\n",
              "    </tr>\n",
              "    <tr>\n",
              "      <th>C</th>\n",
              "      <td>0.978738</td>\n",
              "    </tr>\n",
              "    <tr>\n",
              "      <th>D</th>\n",
              "      <td>2.240893</td>\n",
              "    </tr>\n",
              "    <tr>\n",
              "      <th>E</th>\n",
              "      <td>1.867558</td>\n",
              "    </tr>\n",
              "  </tbody>\n",
              "</table>\n",
              "</div><br><label><b>dtype:</b> float64</label>"
            ]
          },
          "metadata": {},
          "execution_count": 226
        }
      ],
      "source": [
        "df.iloc[0]"
      ]
    },
    {
      "cell_type": "markdown",
      "metadata": {
        "id": "v1NJ51lzIqxA"
      },
      "source": [
        "To index all rows we can pass `:` and to index the first column we can additionally pass `0` just like in NumPy."
      ]
    },
    {
      "cell_type": "code",
      "execution_count": null,
      "metadata": {
        "id": "cn5Ujjs4IqxA",
        "outputId": "263ff44a-28d6-4ac3-cfd2-57292f322203",
        "colab": {
          "base_uri": "https://localhost:8080/",
          "height": 711
        }
      },
      "outputs": [
        {
          "output_type": "execute_result",
          "data": {
            "text/plain": [
              "0     1.764052\n",
              "1    -0.977278\n",
              "2     0.144044\n",
              "3     0.333674\n",
              "4    -2.552990\n",
              "5    -1.454366\n",
              "6     0.154947\n",
              "7     0.156349\n",
              "8    -1.048553\n",
              "9    -0.438074\n",
              "10   -0.895467\n",
              "11    0.428332\n",
              "12   -0.672460\n",
              "13   -0.401781\n",
              "14    0.729091\n",
              "15   -0.684810\n",
              "16   -1.165150\n",
              "17    1.895889\n",
              "18   -0.403177\n",
              "19    0.706573\n",
              "Name: A, dtype: float64"
            ],
            "text/html": [
              "<div>\n",
              "<style scoped>\n",
              "    .dataframe tbody tr th:only-of-type {\n",
              "        vertical-align: middle;\n",
              "    }\n",
              "\n",
              "    .dataframe tbody tr th {\n",
              "        vertical-align: top;\n",
              "    }\n",
              "\n",
              "    .dataframe thead th {\n",
              "        text-align: right;\n",
              "    }\n",
              "</style>\n",
              "<table border=\"1\" class=\"dataframe\">\n",
              "  <thead>\n",
              "    <tr style=\"text-align: right;\">\n",
              "      <th></th>\n",
              "      <th>A</th>\n",
              "    </tr>\n",
              "  </thead>\n",
              "  <tbody>\n",
              "    <tr>\n",
              "      <th>0</th>\n",
              "      <td>1.764052</td>\n",
              "    </tr>\n",
              "    <tr>\n",
              "      <th>1</th>\n",
              "      <td>-0.977278</td>\n",
              "    </tr>\n",
              "    <tr>\n",
              "      <th>2</th>\n",
              "      <td>0.144044</td>\n",
              "    </tr>\n",
              "    <tr>\n",
              "      <th>3</th>\n",
              "      <td>0.333674</td>\n",
              "    </tr>\n",
              "    <tr>\n",
              "      <th>4</th>\n",
              "      <td>-2.552990</td>\n",
              "    </tr>\n",
              "    <tr>\n",
              "      <th>5</th>\n",
              "      <td>-1.454366</td>\n",
              "    </tr>\n",
              "    <tr>\n",
              "      <th>6</th>\n",
              "      <td>0.154947</td>\n",
              "    </tr>\n",
              "    <tr>\n",
              "      <th>7</th>\n",
              "      <td>0.156349</td>\n",
              "    </tr>\n",
              "    <tr>\n",
              "      <th>8</th>\n",
              "      <td>-1.048553</td>\n",
              "    </tr>\n",
              "    <tr>\n",
              "      <th>9</th>\n",
              "      <td>-0.438074</td>\n",
              "    </tr>\n",
              "    <tr>\n",
              "      <th>10</th>\n",
              "      <td>-0.895467</td>\n",
              "    </tr>\n",
              "    <tr>\n",
              "      <th>11</th>\n",
              "      <td>0.428332</td>\n",
              "    </tr>\n",
              "    <tr>\n",
              "      <th>12</th>\n",
              "      <td>-0.672460</td>\n",
              "    </tr>\n",
              "    <tr>\n",
              "      <th>13</th>\n",
              "      <td>-0.401781</td>\n",
              "    </tr>\n",
              "    <tr>\n",
              "      <th>14</th>\n",
              "      <td>0.729091</td>\n",
              "    </tr>\n",
              "    <tr>\n",
              "      <th>15</th>\n",
              "      <td>-0.684810</td>\n",
              "    </tr>\n",
              "    <tr>\n",
              "      <th>16</th>\n",
              "      <td>-1.165150</td>\n",
              "    </tr>\n",
              "    <tr>\n",
              "      <th>17</th>\n",
              "      <td>1.895889</td>\n",
              "    </tr>\n",
              "    <tr>\n",
              "      <th>18</th>\n",
              "      <td>-0.403177</td>\n",
              "    </tr>\n",
              "    <tr>\n",
              "      <th>19</th>\n",
              "      <td>0.706573</td>\n",
              "    </tr>\n",
              "  </tbody>\n",
              "</table>\n",
              "</div><br><label><b>dtype:</b> float64</label>"
            ]
          },
          "metadata": {},
          "execution_count": 227
        }
      ],
      "source": [
        "df.iloc[:, 0]"
      ]
    },
    {
      "cell_type": "markdown",
      "metadata": {
        "id": "YnNKQxKaIqxA"
      },
      "source": [
        "Slicing a part of the `DataFrame` also works just like in NumPy."
      ]
    },
    {
      "cell_type": "code",
      "execution_count": null,
      "metadata": {
        "id": "UEqeWWg9IqxB",
        "outputId": "10b864b0-4f47-4dca-e74b-4c4547af6ddd",
        "colab": {
          "base_uri": "https://localhost:8080/",
          "height": 175
        }
      },
      "outputs": [
        {
          "output_type": "execute_result",
          "data": {
            "text/plain": [
              "          C         D\n",
              "1 -0.151357 -0.103219\n",
              "2  0.761038  0.121675\n",
              "3 -0.205158  0.313068\n",
              "4  0.864436 -0.742165"
            ],
            "text/html": [
              "\n",
              "  <div id=\"df-a182e2c1-6a11-4831-8ed9-2ff29b37c5e5\" class=\"colab-df-container\">\n",
              "    <div>\n",
              "<style scoped>\n",
              "    .dataframe tbody tr th:only-of-type {\n",
              "        vertical-align: middle;\n",
              "    }\n",
              "\n",
              "    .dataframe tbody tr th {\n",
              "        vertical-align: top;\n",
              "    }\n",
              "\n",
              "    .dataframe thead th {\n",
              "        text-align: right;\n",
              "    }\n",
              "</style>\n",
              "<table border=\"1\" class=\"dataframe\">\n",
              "  <thead>\n",
              "    <tr style=\"text-align: right;\">\n",
              "      <th></th>\n",
              "      <th>C</th>\n",
              "      <th>D</th>\n",
              "    </tr>\n",
              "  </thead>\n",
              "  <tbody>\n",
              "    <tr>\n",
              "      <th>1</th>\n",
              "      <td>-0.151357</td>\n",
              "      <td>-0.103219</td>\n",
              "    </tr>\n",
              "    <tr>\n",
              "      <th>2</th>\n",
              "      <td>0.761038</td>\n",
              "      <td>0.121675</td>\n",
              "    </tr>\n",
              "    <tr>\n",
              "      <th>3</th>\n",
              "      <td>-0.205158</td>\n",
              "      <td>0.313068</td>\n",
              "    </tr>\n",
              "    <tr>\n",
              "      <th>4</th>\n",
              "      <td>0.864436</td>\n",
              "      <td>-0.742165</td>\n",
              "    </tr>\n",
              "  </tbody>\n",
              "</table>\n",
              "</div>\n",
              "    <div class=\"colab-df-buttons\">\n",
              "\n",
              "  <div class=\"colab-df-container\">\n",
              "    <button class=\"colab-df-convert\" onclick=\"convertToInteractive('df-a182e2c1-6a11-4831-8ed9-2ff29b37c5e5')\"\n",
              "            title=\"Convert this dataframe to an interactive table.\"\n",
              "            style=\"display:none;\">\n",
              "\n",
              "  <svg xmlns=\"http://www.w3.org/2000/svg\" height=\"24px\" viewBox=\"0 -960 960 960\">\n",
              "    <path d=\"M120-120v-720h720v720H120Zm60-500h600v-160H180v160Zm220 220h160v-160H400v160Zm0 220h160v-160H400v160ZM180-400h160v-160H180v160Zm440 0h160v-160H620v160ZM180-180h160v-160H180v160Zm440 0h160v-160H620v160Z\"/>\n",
              "  </svg>\n",
              "    </button>\n",
              "\n",
              "  <style>\n",
              "    .colab-df-container {\n",
              "      display:flex;\n",
              "      gap: 12px;\n",
              "    }\n",
              "\n",
              "    .colab-df-convert {\n",
              "      background-color: #E8F0FE;\n",
              "      border: none;\n",
              "      border-radius: 50%;\n",
              "      cursor: pointer;\n",
              "      display: none;\n",
              "      fill: #1967D2;\n",
              "      height: 32px;\n",
              "      padding: 0 0 0 0;\n",
              "      width: 32px;\n",
              "    }\n",
              "\n",
              "    .colab-df-convert:hover {\n",
              "      background-color: #E2EBFA;\n",
              "      box-shadow: 0px 1px 2px rgba(60, 64, 67, 0.3), 0px 1px 3px 1px rgba(60, 64, 67, 0.15);\n",
              "      fill: #174EA6;\n",
              "    }\n",
              "\n",
              "    .colab-df-buttons div {\n",
              "      margin-bottom: 4px;\n",
              "    }\n",
              "\n",
              "    [theme=dark] .colab-df-convert {\n",
              "      background-color: #3B4455;\n",
              "      fill: #D2E3FC;\n",
              "    }\n",
              "\n",
              "    [theme=dark] .colab-df-convert:hover {\n",
              "      background-color: #434B5C;\n",
              "      box-shadow: 0px 1px 3px 1px rgba(0, 0, 0, 0.15);\n",
              "      filter: drop-shadow(0px 1px 2px rgba(0, 0, 0, 0.3));\n",
              "      fill: #FFFFFF;\n",
              "    }\n",
              "  </style>\n",
              "\n",
              "    <script>\n",
              "      const buttonEl =\n",
              "        document.querySelector('#df-a182e2c1-6a11-4831-8ed9-2ff29b37c5e5 button.colab-df-convert');\n",
              "      buttonEl.style.display =\n",
              "        google.colab.kernel.accessAllowed ? 'block' : 'none';\n",
              "\n",
              "      async function convertToInteractive(key) {\n",
              "        const element = document.querySelector('#df-a182e2c1-6a11-4831-8ed9-2ff29b37c5e5');\n",
              "        const dataTable =\n",
              "          await google.colab.kernel.invokeFunction('convertToInteractive',\n",
              "                                                    [key], {});\n",
              "        if (!dataTable) return;\n",
              "\n",
              "        const docLinkHtml = 'Like what you see? Visit the ' +\n",
              "          '<a target=\"_blank\" href=https://colab.research.google.com/notebooks/data_table.ipynb>data table notebook</a>'\n",
              "          + ' to learn more about interactive tables.';\n",
              "        element.innerHTML = '';\n",
              "        dataTable['output_type'] = 'display_data';\n",
              "        await google.colab.output.renderOutput(dataTable, element);\n",
              "        const docLink = document.createElement('div');\n",
              "        docLink.innerHTML = docLinkHtml;\n",
              "        element.appendChild(docLink);\n",
              "      }\n",
              "    </script>\n",
              "  </div>\n",
              "\n",
              "\n",
              "<div id=\"df-2e1dfa61-37d6-4ac6-a78d-f16f897aeee5\">\n",
              "  <button class=\"colab-df-quickchart\" onclick=\"quickchart('df-2e1dfa61-37d6-4ac6-a78d-f16f897aeee5')\"\n",
              "            title=\"Suggest charts\"\n",
              "            style=\"display:none;\">\n",
              "\n",
              "<svg xmlns=\"http://www.w3.org/2000/svg\" height=\"24px\"viewBox=\"0 0 24 24\"\n",
              "     width=\"24px\">\n",
              "    <g>\n",
              "        <path d=\"M19 3H5c-1.1 0-2 .9-2 2v14c0 1.1.9 2 2 2h14c1.1 0 2-.9 2-2V5c0-1.1-.9-2-2-2zM9 17H7v-7h2v7zm4 0h-2V7h2v10zm4 0h-2v-4h2v4z\"/>\n",
              "    </g>\n",
              "</svg>\n",
              "  </button>\n",
              "\n",
              "<style>\n",
              "  .colab-df-quickchart {\n",
              "      --bg-color: #E8F0FE;\n",
              "      --fill-color: #1967D2;\n",
              "      --hover-bg-color: #E2EBFA;\n",
              "      --hover-fill-color: #174EA6;\n",
              "      --disabled-fill-color: #AAA;\n",
              "      --disabled-bg-color: #DDD;\n",
              "  }\n",
              "\n",
              "  [theme=dark] .colab-df-quickchart {\n",
              "      --bg-color: #3B4455;\n",
              "      --fill-color: #D2E3FC;\n",
              "      --hover-bg-color: #434B5C;\n",
              "      --hover-fill-color: #FFFFFF;\n",
              "      --disabled-bg-color: #3B4455;\n",
              "      --disabled-fill-color: #666;\n",
              "  }\n",
              "\n",
              "  .colab-df-quickchart {\n",
              "    background-color: var(--bg-color);\n",
              "    border: none;\n",
              "    border-radius: 50%;\n",
              "    cursor: pointer;\n",
              "    display: none;\n",
              "    fill: var(--fill-color);\n",
              "    height: 32px;\n",
              "    padding: 0;\n",
              "    width: 32px;\n",
              "  }\n",
              "\n",
              "  .colab-df-quickchart:hover {\n",
              "    background-color: var(--hover-bg-color);\n",
              "    box-shadow: 0 1px 2px rgba(60, 64, 67, 0.3), 0 1px 3px 1px rgba(60, 64, 67, 0.15);\n",
              "    fill: var(--button-hover-fill-color);\n",
              "  }\n",
              "\n",
              "  .colab-df-quickchart-complete:disabled,\n",
              "  .colab-df-quickchart-complete:disabled:hover {\n",
              "    background-color: var(--disabled-bg-color);\n",
              "    fill: var(--disabled-fill-color);\n",
              "    box-shadow: none;\n",
              "  }\n",
              "\n",
              "  .colab-df-spinner {\n",
              "    border: 2px solid var(--fill-color);\n",
              "    border-color: transparent;\n",
              "    border-bottom-color: var(--fill-color);\n",
              "    animation:\n",
              "      spin 1s steps(1) infinite;\n",
              "  }\n",
              "\n",
              "  @keyframes spin {\n",
              "    0% {\n",
              "      border-color: transparent;\n",
              "      border-bottom-color: var(--fill-color);\n",
              "      border-left-color: var(--fill-color);\n",
              "    }\n",
              "    20% {\n",
              "      border-color: transparent;\n",
              "      border-left-color: var(--fill-color);\n",
              "      border-top-color: var(--fill-color);\n",
              "    }\n",
              "    30% {\n",
              "      border-color: transparent;\n",
              "      border-left-color: var(--fill-color);\n",
              "      border-top-color: var(--fill-color);\n",
              "      border-right-color: var(--fill-color);\n",
              "    }\n",
              "    40% {\n",
              "      border-color: transparent;\n",
              "      border-right-color: var(--fill-color);\n",
              "      border-top-color: var(--fill-color);\n",
              "    }\n",
              "    60% {\n",
              "      border-color: transparent;\n",
              "      border-right-color: var(--fill-color);\n",
              "    }\n",
              "    80% {\n",
              "      border-color: transparent;\n",
              "      border-right-color: var(--fill-color);\n",
              "      border-bottom-color: var(--fill-color);\n",
              "    }\n",
              "    90% {\n",
              "      border-color: transparent;\n",
              "      border-bottom-color: var(--fill-color);\n",
              "    }\n",
              "  }\n",
              "</style>\n",
              "\n",
              "  <script>\n",
              "    async function quickchart(key) {\n",
              "      const quickchartButtonEl =\n",
              "        document.querySelector('#' + key + ' button');\n",
              "      quickchartButtonEl.disabled = true;  // To prevent multiple clicks.\n",
              "      quickchartButtonEl.classList.add('colab-df-spinner');\n",
              "      try {\n",
              "        const charts = await google.colab.kernel.invokeFunction(\n",
              "            'suggestCharts', [key], {});\n",
              "      } catch (error) {\n",
              "        console.error('Error during call to suggestCharts:', error);\n",
              "      }\n",
              "      quickchartButtonEl.classList.remove('colab-df-spinner');\n",
              "      quickchartButtonEl.classList.add('colab-df-quickchart-complete');\n",
              "    }\n",
              "    (() => {\n",
              "      let quickchartButtonEl =\n",
              "        document.querySelector('#df-2e1dfa61-37d6-4ac6-a78d-f16f897aeee5 button');\n",
              "      quickchartButtonEl.style.display =\n",
              "        google.colab.kernel.accessAllowed ? 'block' : 'none';\n",
              "    })();\n",
              "  </script>\n",
              "</div>\n",
              "\n",
              "    </div>\n",
              "  </div>\n"
            ],
            "application/vnd.google.colaboratory.intrinsic+json": {
              "type": "dataframe",
              "summary": "{\n  \"name\": \"df\",\n  \"rows\": 4,\n  \"fields\": [\n    {\n      \"column\": \"C\",\n      \"properties\": {\n        \"dtype\": \"number\",\n        \"std\": 0.5741264060876194,\n        \"min\": -0.20515826376580087,\n        \"max\": 0.8644361988595057,\n        \"num_unique_values\": 4,\n        \"samples\": [\n          0.7610377251469934,\n          0.8644361988595057,\n          -0.1513572082976979\n        ],\n        \"semantic_type\": \"\",\n        \"description\": \"\"\n      }\n    },\n    {\n      \"column\": \"D\",\n      \"properties\": {\n        \"dtype\": \"number\",\n        \"std\": 0.4590289406216912,\n        \"min\": -0.7421650204064419,\n        \"max\": 0.31306770165090136,\n        \"num_unique_values\": 4,\n        \"samples\": [\n          0.12167501649282841,\n          -0.7421650204064419,\n          -0.10321885179355784\n        ],\n        \"semantic_type\": \"\",\n        \"description\": \"\"\n      }\n    }\n  ]\n}"
            }
          },
          "metadata": {},
          "execution_count": 228
        }
      ],
      "source": [
        "df.iloc[1:5, 2:4]"
      ]
    },
    {
      "cell_type": "markdown",
      "metadata": {
        "id": "UMkNGF7NIqxB"
      },
      "source": [
        "Next, is `loc` ([docs](https://pandas.pydata.org/pandas-docs/stable/reference/api/pandas.DataFrame.loc.html)) which access the rows and columns of the `DataFrame` using the labels."
      ]
    },
    {
      "cell_type": "markdown",
      "metadata": {
        "id": "GY9pK6q4IqxB"
      },
      "source": [
        "To see the labels for your rows you can use the `index` method. You can also manually set the `index` label but by default it is just a sequence of numbers."
      ]
    },
    {
      "cell_type": "code",
      "execution_count": null,
      "metadata": {
        "id": "RLs4YPIwIqxB",
        "outputId": "e4ac6f32-50e2-4989-c765-4dc0728e18a4",
        "colab": {
          "base_uri": "https://localhost:8080/"
        }
      },
      "outputs": [
        {
          "output_type": "execute_result",
          "data": {
            "text/plain": [
              "[0, 1, 2, 3, 4, 5, 6, 7, 8, 9, 10, 11, 12, 13, 14, 15, 16, 17, 18, 19]"
            ]
          },
          "metadata": {},
          "execution_count": 229
        }
      ],
      "source": [
        "list(df.index)"
      ]
    },
    {
      "cell_type": "markdown",
      "metadata": {
        "id": "fpEltmfSIqxB"
      },
      "source": [
        "To see the labels for your columns you can use the `columns` method. Note, we set the columns when we created the `DataFrame`. You can also change the `column` labels after creation."
      ]
    },
    {
      "cell_type": "code",
      "execution_count": null,
      "metadata": {
        "id": "6Ja4W_-xIqxB",
        "outputId": "09c4ace9-69d4-42ef-d8fd-7776eb55593e",
        "colab": {
          "base_uri": "https://localhost:8080/"
        }
      },
      "outputs": [
        {
          "output_type": "execute_result",
          "data": {
            "text/plain": [
              "Index(['A', 'B', 'C', 'D', 'E'], dtype='object')"
            ]
          },
          "metadata": {},
          "execution_count": 230
        }
      ],
      "source": [
        "df.columns"
      ]
    },
    {
      "cell_type": "markdown",
      "metadata": {
        "id": "0x41ytQYIqxB"
      },
      "source": [
        "Knowing what our row and column labels are we can now index using `iloc`. We can index a single row by referring to its label. In this case, it is just an integer so it works just like `loc`!"
      ]
    },
    {
      "cell_type": "code",
      "execution_count": null,
      "metadata": {
        "id": "O7fnuIaMIqxC",
        "outputId": "fdaa0fc6-4f56-41ab-c89d-9ffde5df6e70",
        "colab": {
          "base_uri": "https://localhost:8080/",
          "height": 241
        }
      },
      "outputs": [
        {
          "output_type": "execute_result",
          "data": {
            "text/plain": [
              "A    1.764052\n",
              "B    0.400157\n",
              "C    0.978738\n",
              "D    2.240893\n",
              "E    1.867558\n",
              "Name: 0, dtype: float64"
            ],
            "text/html": [
              "<div>\n",
              "<style scoped>\n",
              "    .dataframe tbody tr th:only-of-type {\n",
              "        vertical-align: middle;\n",
              "    }\n",
              "\n",
              "    .dataframe tbody tr th {\n",
              "        vertical-align: top;\n",
              "    }\n",
              "\n",
              "    .dataframe thead th {\n",
              "        text-align: right;\n",
              "    }\n",
              "</style>\n",
              "<table border=\"1\" class=\"dataframe\">\n",
              "  <thead>\n",
              "    <tr style=\"text-align: right;\">\n",
              "      <th></th>\n",
              "      <th>0</th>\n",
              "    </tr>\n",
              "  </thead>\n",
              "  <tbody>\n",
              "    <tr>\n",
              "      <th>A</th>\n",
              "      <td>1.764052</td>\n",
              "    </tr>\n",
              "    <tr>\n",
              "      <th>B</th>\n",
              "      <td>0.400157</td>\n",
              "    </tr>\n",
              "    <tr>\n",
              "      <th>C</th>\n",
              "      <td>0.978738</td>\n",
              "    </tr>\n",
              "    <tr>\n",
              "      <th>D</th>\n",
              "      <td>2.240893</td>\n",
              "    </tr>\n",
              "    <tr>\n",
              "      <th>E</th>\n",
              "      <td>1.867558</td>\n",
              "    </tr>\n",
              "  </tbody>\n",
              "</table>\n",
              "</div><br><label><b>dtype:</b> float64</label>"
            ]
          },
          "metadata": {},
          "execution_count": 231
        }
      ],
      "source": [
        "df.loc[0]"
      ]
    },
    {
      "cell_type": "markdown",
      "metadata": {
        "id": "tdrcjpclIqxC"
      },
      "source": [
        "We can index all rows using `:` and a single column by referring to its label as well."
      ]
    },
    {
      "cell_type": "code",
      "execution_count": null,
      "metadata": {
        "id": "TCvY8FD5IqxC",
        "outputId": "4baebbea-c1f2-4678-e3ed-0bcfce60183a",
        "colab": {
          "base_uri": "https://localhost:8080/",
          "height": 711
        }
      },
      "outputs": [
        {
          "output_type": "execute_result",
          "data": {
            "text/plain": [
              "0     1.764052\n",
              "1    -0.977278\n",
              "2     0.144044\n",
              "3     0.333674\n",
              "4    -2.552990\n",
              "5    -1.454366\n",
              "6     0.154947\n",
              "7     0.156349\n",
              "8    -1.048553\n",
              "9    -0.438074\n",
              "10   -0.895467\n",
              "11    0.428332\n",
              "12   -0.672460\n",
              "13   -0.401781\n",
              "14    0.729091\n",
              "15   -0.684810\n",
              "16   -1.165150\n",
              "17    1.895889\n",
              "18   -0.403177\n",
              "19    0.706573\n",
              "Name: A, dtype: float64"
            ],
            "text/html": [
              "<div>\n",
              "<style scoped>\n",
              "    .dataframe tbody tr th:only-of-type {\n",
              "        vertical-align: middle;\n",
              "    }\n",
              "\n",
              "    .dataframe tbody tr th {\n",
              "        vertical-align: top;\n",
              "    }\n",
              "\n",
              "    .dataframe thead th {\n",
              "        text-align: right;\n",
              "    }\n",
              "</style>\n",
              "<table border=\"1\" class=\"dataframe\">\n",
              "  <thead>\n",
              "    <tr style=\"text-align: right;\">\n",
              "      <th></th>\n",
              "      <th>A</th>\n",
              "    </tr>\n",
              "  </thead>\n",
              "  <tbody>\n",
              "    <tr>\n",
              "      <th>0</th>\n",
              "      <td>1.764052</td>\n",
              "    </tr>\n",
              "    <tr>\n",
              "      <th>1</th>\n",
              "      <td>-0.977278</td>\n",
              "    </tr>\n",
              "    <tr>\n",
              "      <th>2</th>\n",
              "      <td>0.144044</td>\n",
              "    </tr>\n",
              "    <tr>\n",
              "      <th>3</th>\n",
              "      <td>0.333674</td>\n",
              "    </tr>\n",
              "    <tr>\n",
              "      <th>4</th>\n",
              "      <td>-2.552990</td>\n",
              "    </tr>\n",
              "    <tr>\n",
              "      <th>5</th>\n",
              "      <td>-1.454366</td>\n",
              "    </tr>\n",
              "    <tr>\n",
              "      <th>6</th>\n",
              "      <td>0.154947</td>\n",
              "    </tr>\n",
              "    <tr>\n",
              "      <th>7</th>\n",
              "      <td>0.156349</td>\n",
              "    </tr>\n",
              "    <tr>\n",
              "      <th>8</th>\n",
              "      <td>-1.048553</td>\n",
              "    </tr>\n",
              "    <tr>\n",
              "      <th>9</th>\n",
              "      <td>-0.438074</td>\n",
              "    </tr>\n",
              "    <tr>\n",
              "      <th>10</th>\n",
              "      <td>-0.895467</td>\n",
              "    </tr>\n",
              "    <tr>\n",
              "      <th>11</th>\n",
              "      <td>0.428332</td>\n",
              "    </tr>\n",
              "    <tr>\n",
              "      <th>12</th>\n",
              "      <td>-0.672460</td>\n",
              "    </tr>\n",
              "    <tr>\n",
              "      <th>13</th>\n",
              "      <td>-0.401781</td>\n",
              "    </tr>\n",
              "    <tr>\n",
              "      <th>14</th>\n",
              "      <td>0.729091</td>\n",
              "    </tr>\n",
              "    <tr>\n",
              "      <th>15</th>\n",
              "      <td>-0.684810</td>\n",
              "    </tr>\n",
              "    <tr>\n",
              "      <th>16</th>\n",
              "      <td>-1.165150</td>\n",
              "    </tr>\n",
              "    <tr>\n",
              "      <th>17</th>\n",
              "      <td>1.895889</td>\n",
              "    </tr>\n",
              "    <tr>\n",
              "      <th>18</th>\n",
              "      <td>-0.403177</td>\n",
              "    </tr>\n",
              "    <tr>\n",
              "      <th>19</th>\n",
              "      <td>0.706573</td>\n",
              "    </tr>\n",
              "  </tbody>\n",
              "</table>\n",
              "</div><br><label><b>dtype:</b> float64</label>"
            ]
          },
          "metadata": {},
          "execution_count": 232
        }
      ],
      "source": [
        "df.loc[:, 'A']"
      ]
    },
    {
      "cell_type": "markdown",
      "metadata": {
        "id": "sNaHu1BnIqxC"
      },
      "source": [
        "Since we only passed a single column a Pandas `Series` ([docs](https://pandas.pydata.org/pandas-docs/stable/reference/api/pandas.Series.html)) was returned instead of another `DataFrame`. A `Series` is essentially just a 1D DataFrame. (Notice some of the nice formating features are gone!)"
      ]
    },
    {
      "cell_type": "code",
      "execution_count": null,
      "metadata": {
        "id": "84UVmbs9IqxC",
        "outputId": "fc576543-7bb1-4b6a-8173-c06d9ab3e902",
        "colab": {
          "base_uri": "https://localhost:8080/",
          "height": 204
        }
      },
      "outputs": [
        {
          "output_type": "execute_result",
          "data": {
            "text/plain": [
              "pandas.core.series.Series"
            ],
            "text/html": [
              "<div style=\"max-width:800px; border: 1px solid var(--colab-border-color);\"><style>\n",
              "      pre.function-repr-contents {\n",
              "        overflow-x: auto;\n",
              "        padding: 8px 12px;\n",
              "        max-height: 500px;\n",
              "      }\n",
              "\n",
              "      pre.function-repr-contents.function-repr-contents-collapsed {\n",
              "        cursor: pointer;\n",
              "        max-height: 100px;\n",
              "      }\n",
              "    </style>\n",
              "    <pre style=\"white-space: initial; background:\n",
              "         var(--colab-secondary-surface-color); padding: 8px 12px;\n",
              "         border-bottom: 1px solid var(--colab-border-color);\"><b>pandas.core.series.Series</b><br/>def __init__(data=None, index=None, dtype: Dtype | None=None, name=None, copy: bool | None=None, fastpath: bool | lib.NoDefault=lib.no_default) -&gt; None</pre><pre class=\"function-repr-contents function-repr-contents-collapsed\" style=\"\"><a class=\"filepath\" style=\"display:none\" href=\"#\">/usr/local/lib/python3.11/dist-packages/pandas/core/series.py</a>One-dimensional ndarray with axis labels (including time series).\n",
              "\n",
              "Labels need not be unique but must be a hashable type. The object\n",
              "supports both integer- and label-based indexing and provides a host of\n",
              "methods for performing operations involving the index. Statistical\n",
              "methods from ndarray have been overridden to automatically exclude\n",
              "missing data (currently represented as NaN).\n",
              "\n",
              "Operations between Series (+, -, /, \\*, \\*\\*) align values based on their\n",
              "associated index values-- they need not be the same length. The result\n",
              "index will be the sorted union of the two indexes.\n",
              "\n",
              "Parameters\n",
              "----------\n",
              "data : array-like, Iterable, dict, or scalar value\n",
              "    Contains data stored in Series. If data is a dict, argument order is\n",
              "    maintained.\n",
              "index : array-like or Index (1d)\n",
              "    Values must be hashable and have the same length as `data`.\n",
              "    Non-unique index values are allowed. Will default to\n",
              "    RangeIndex (0, 1, 2, ..., n) if not provided. If data is dict-like\n",
              "    and index is None, then the keys in the data are used as the index. If the\n",
              "    index is not None, the resulting Series is reindexed with the index values.\n",
              "dtype : str, numpy.dtype, or ExtensionDtype, optional\n",
              "    Data type for the output Series. If not specified, this will be\n",
              "    inferred from `data`.\n",
              "    See the :ref:`user guide &lt;basics.dtypes&gt;` for more usages.\n",
              "name : Hashable, default None\n",
              "    The name to give to the Series.\n",
              "copy : bool, default False\n",
              "    Copy input data. Only affects Series or 1d ndarray input. See examples.\n",
              "\n",
              "Notes\n",
              "-----\n",
              "Please reference the :ref:`User Guide &lt;basics.series&gt;` for more information.\n",
              "\n",
              "Examples\n",
              "--------\n",
              "Constructing Series from a dictionary with an Index specified\n",
              "\n",
              "&gt;&gt;&gt; d = {&#x27;a&#x27;: 1, &#x27;b&#x27;: 2, &#x27;c&#x27;: 3}\n",
              "&gt;&gt;&gt; ser = pd.Series(data=d, index=[&#x27;a&#x27;, &#x27;b&#x27;, &#x27;c&#x27;])\n",
              "&gt;&gt;&gt; ser\n",
              "a   1\n",
              "b   2\n",
              "c   3\n",
              "dtype: int64\n",
              "\n",
              "The keys of the dictionary match with the Index values, hence the Index\n",
              "values have no effect.\n",
              "\n",
              "&gt;&gt;&gt; d = {&#x27;a&#x27;: 1, &#x27;b&#x27;: 2, &#x27;c&#x27;: 3}\n",
              "&gt;&gt;&gt; ser = pd.Series(data=d, index=[&#x27;x&#x27;, &#x27;y&#x27;, &#x27;z&#x27;])\n",
              "&gt;&gt;&gt; ser\n",
              "x   NaN\n",
              "y   NaN\n",
              "z   NaN\n",
              "dtype: float64\n",
              "\n",
              "Note that the Index is first build with the keys from the dictionary.\n",
              "After this the Series is reindexed with the given Index values, hence we\n",
              "get all NaN as a result.\n",
              "\n",
              "Constructing Series from a list with `copy=False`.\n",
              "\n",
              "&gt;&gt;&gt; r = [1, 2]\n",
              "&gt;&gt;&gt; ser = pd.Series(r, copy=False)\n",
              "&gt;&gt;&gt; ser.iloc[0] = 999\n",
              "&gt;&gt;&gt; r\n",
              "[1, 2]\n",
              "&gt;&gt;&gt; ser\n",
              "0    999\n",
              "1      2\n",
              "dtype: int64\n",
              "\n",
              "Due to input data type the Series has a `copy` of\n",
              "the original data even though `copy=False`, so\n",
              "the data is unchanged.\n",
              "\n",
              "Constructing Series from a 1d ndarray with `copy=False`.\n",
              "\n",
              "&gt;&gt;&gt; r = np.array([1, 2])\n",
              "&gt;&gt;&gt; ser = pd.Series(r, copy=False)\n",
              "&gt;&gt;&gt; ser.iloc[0] = 999\n",
              "&gt;&gt;&gt; r\n",
              "array([999,   2])\n",
              "&gt;&gt;&gt; ser\n",
              "0    999\n",
              "1      2\n",
              "dtype: int64\n",
              "\n",
              "Due to input data type the Series has a `view` on\n",
              "the original data, so\n",
              "the data is changed as well.</pre>\n",
              "      <script>\n",
              "      if (google.colab.kernel.accessAllowed && google.colab.files && google.colab.files.view) {\n",
              "        for (const element of document.querySelectorAll('.filepath')) {\n",
              "          element.style.display = 'block'\n",
              "          element.onclick = (event) => {\n",
              "            event.preventDefault();\n",
              "            event.stopPropagation();\n",
              "            google.colab.files.view(element.textContent, 263);\n",
              "          };\n",
              "        }\n",
              "      }\n",
              "      for (const element of document.querySelectorAll('.function-repr-contents')) {\n",
              "        element.onclick = (event) => {\n",
              "          event.preventDefault();\n",
              "          event.stopPropagation();\n",
              "          element.classList.toggle('function-repr-contents-collapsed');\n",
              "        };\n",
              "      }\n",
              "      </script>\n",
              "      </div>"
            ]
          },
          "metadata": {},
          "execution_count": 233
        }
      ],
      "source": [
        "type(df.loc[:, 'A'])"
      ]
    },
    {
      "cell_type": "markdown",
      "metadata": {
        "id": "YO1x65VGIqxC"
      },
      "source": [
        "To get back a `DataFrame` simply pass the desired column in a list."
      ]
    },
    {
      "cell_type": "code",
      "execution_count": null,
      "metadata": {
        "id": "AFijuv8oIqxC",
        "outputId": "d63f5b65-b950-4b21-8a0e-fd0270b5e77e",
        "colab": {
          "base_uri": "https://localhost:8080/",
          "height": 677
        }
      },
      "outputs": [
        {
          "output_type": "execute_result",
          "data": {
            "text/plain": [
              "           A\n",
              "0   1.764052\n",
              "1  -0.977278\n",
              "2   0.144044\n",
              "3   0.333674\n",
              "4  -2.552990\n",
              "5  -1.454366\n",
              "6   0.154947\n",
              "7   0.156349\n",
              "8  -1.048553\n",
              "9  -0.438074\n",
              "10 -0.895467\n",
              "11  0.428332\n",
              "12 -0.672460\n",
              "13 -0.401781\n",
              "14  0.729091\n",
              "15 -0.684810\n",
              "16 -1.165150\n",
              "17  1.895889\n",
              "18 -0.403177\n",
              "19  0.706573"
            ],
            "text/html": [
              "\n",
              "  <div id=\"df-e06aa3b8-7fed-460d-a365-3224ce0e96cb\" class=\"colab-df-container\">\n",
              "    <div>\n",
              "<style scoped>\n",
              "    .dataframe tbody tr th:only-of-type {\n",
              "        vertical-align: middle;\n",
              "    }\n",
              "\n",
              "    .dataframe tbody tr th {\n",
              "        vertical-align: top;\n",
              "    }\n",
              "\n",
              "    .dataframe thead th {\n",
              "        text-align: right;\n",
              "    }\n",
              "</style>\n",
              "<table border=\"1\" class=\"dataframe\">\n",
              "  <thead>\n",
              "    <tr style=\"text-align: right;\">\n",
              "      <th></th>\n",
              "      <th>A</th>\n",
              "    </tr>\n",
              "  </thead>\n",
              "  <tbody>\n",
              "    <tr>\n",
              "      <th>0</th>\n",
              "      <td>1.764052</td>\n",
              "    </tr>\n",
              "    <tr>\n",
              "      <th>1</th>\n",
              "      <td>-0.977278</td>\n",
              "    </tr>\n",
              "    <tr>\n",
              "      <th>2</th>\n",
              "      <td>0.144044</td>\n",
              "    </tr>\n",
              "    <tr>\n",
              "      <th>3</th>\n",
              "      <td>0.333674</td>\n",
              "    </tr>\n",
              "    <tr>\n",
              "      <th>4</th>\n",
              "      <td>-2.552990</td>\n",
              "    </tr>\n",
              "    <tr>\n",
              "      <th>5</th>\n",
              "      <td>-1.454366</td>\n",
              "    </tr>\n",
              "    <tr>\n",
              "      <th>6</th>\n",
              "      <td>0.154947</td>\n",
              "    </tr>\n",
              "    <tr>\n",
              "      <th>7</th>\n",
              "      <td>0.156349</td>\n",
              "    </tr>\n",
              "    <tr>\n",
              "      <th>8</th>\n",
              "      <td>-1.048553</td>\n",
              "    </tr>\n",
              "    <tr>\n",
              "      <th>9</th>\n",
              "      <td>-0.438074</td>\n",
              "    </tr>\n",
              "    <tr>\n",
              "      <th>10</th>\n",
              "      <td>-0.895467</td>\n",
              "    </tr>\n",
              "    <tr>\n",
              "      <th>11</th>\n",
              "      <td>0.428332</td>\n",
              "    </tr>\n",
              "    <tr>\n",
              "      <th>12</th>\n",
              "      <td>-0.672460</td>\n",
              "    </tr>\n",
              "    <tr>\n",
              "      <th>13</th>\n",
              "      <td>-0.401781</td>\n",
              "    </tr>\n",
              "    <tr>\n",
              "      <th>14</th>\n",
              "      <td>0.729091</td>\n",
              "    </tr>\n",
              "    <tr>\n",
              "      <th>15</th>\n",
              "      <td>-0.684810</td>\n",
              "    </tr>\n",
              "    <tr>\n",
              "      <th>16</th>\n",
              "      <td>-1.165150</td>\n",
              "    </tr>\n",
              "    <tr>\n",
              "      <th>17</th>\n",
              "      <td>1.895889</td>\n",
              "    </tr>\n",
              "    <tr>\n",
              "      <th>18</th>\n",
              "      <td>-0.403177</td>\n",
              "    </tr>\n",
              "    <tr>\n",
              "      <th>19</th>\n",
              "      <td>0.706573</td>\n",
              "    </tr>\n",
              "  </tbody>\n",
              "</table>\n",
              "</div>\n",
              "    <div class=\"colab-df-buttons\">\n",
              "\n",
              "  <div class=\"colab-df-container\">\n",
              "    <button class=\"colab-df-convert\" onclick=\"convertToInteractive('df-e06aa3b8-7fed-460d-a365-3224ce0e96cb')\"\n",
              "            title=\"Convert this dataframe to an interactive table.\"\n",
              "            style=\"display:none;\">\n",
              "\n",
              "  <svg xmlns=\"http://www.w3.org/2000/svg\" height=\"24px\" viewBox=\"0 -960 960 960\">\n",
              "    <path d=\"M120-120v-720h720v720H120Zm60-500h600v-160H180v160Zm220 220h160v-160H400v160Zm0 220h160v-160H400v160ZM180-400h160v-160H180v160Zm440 0h160v-160H620v160ZM180-180h160v-160H180v160Zm440 0h160v-160H620v160Z\"/>\n",
              "  </svg>\n",
              "    </button>\n",
              "\n",
              "  <style>\n",
              "    .colab-df-container {\n",
              "      display:flex;\n",
              "      gap: 12px;\n",
              "    }\n",
              "\n",
              "    .colab-df-convert {\n",
              "      background-color: #E8F0FE;\n",
              "      border: none;\n",
              "      border-radius: 50%;\n",
              "      cursor: pointer;\n",
              "      display: none;\n",
              "      fill: #1967D2;\n",
              "      height: 32px;\n",
              "      padding: 0 0 0 0;\n",
              "      width: 32px;\n",
              "    }\n",
              "\n",
              "    .colab-df-convert:hover {\n",
              "      background-color: #E2EBFA;\n",
              "      box-shadow: 0px 1px 2px rgba(60, 64, 67, 0.3), 0px 1px 3px 1px rgba(60, 64, 67, 0.15);\n",
              "      fill: #174EA6;\n",
              "    }\n",
              "\n",
              "    .colab-df-buttons div {\n",
              "      margin-bottom: 4px;\n",
              "    }\n",
              "\n",
              "    [theme=dark] .colab-df-convert {\n",
              "      background-color: #3B4455;\n",
              "      fill: #D2E3FC;\n",
              "    }\n",
              "\n",
              "    [theme=dark] .colab-df-convert:hover {\n",
              "      background-color: #434B5C;\n",
              "      box-shadow: 0px 1px 3px 1px rgba(0, 0, 0, 0.15);\n",
              "      filter: drop-shadow(0px 1px 2px rgba(0, 0, 0, 0.3));\n",
              "      fill: #FFFFFF;\n",
              "    }\n",
              "  </style>\n",
              "\n",
              "    <script>\n",
              "      const buttonEl =\n",
              "        document.querySelector('#df-e06aa3b8-7fed-460d-a365-3224ce0e96cb button.colab-df-convert');\n",
              "      buttonEl.style.display =\n",
              "        google.colab.kernel.accessAllowed ? 'block' : 'none';\n",
              "\n",
              "      async function convertToInteractive(key) {\n",
              "        const element = document.querySelector('#df-e06aa3b8-7fed-460d-a365-3224ce0e96cb');\n",
              "        const dataTable =\n",
              "          await google.colab.kernel.invokeFunction('convertToInteractive',\n",
              "                                                    [key], {});\n",
              "        if (!dataTable) return;\n",
              "\n",
              "        const docLinkHtml = 'Like what you see? Visit the ' +\n",
              "          '<a target=\"_blank\" href=https://colab.research.google.com/notebooks/data_table.ipynb>data table notebook</a>'\n",
              "          + ' to learn more about interactive tables.';\n",
              "        element.innerHTML = '';\n",
              "        dataTable['output_type'] = 'display_data';\n",
              "        await google.colab.output.renderOutput(dataTable, element);\n",
              "        const docLink = document.createElement('div');\n",
              "        docLink.innerHTML = docLinkHtml;\n",
              "        element.appendChild(docLink);\n",
              "      }\n",
              "    </script>\n",
              "  </div>\n",
              "\n",
              "\n",
              "<div id=\"df-3590c0f3-5f73-4f60-9ebc-8004cd98f5bd\">\n",
              "  <button class=\"colab-df-quickchart\" onclick=\"quickchart('df-3590c0f3-5f73-4f60-9ebc-8004cd98f5bd')\"\n",
              "            title=\"Suggest charts\"\n",
              "            style=\"display:none;\">\n",
              "\n",
              "<svg xmlns=\"http://www.w3.org/2000/svg\" height=\"24px\"viewBox=\"0 0 24 24\"\n",
              "     width=\"24px\">\n",
              "    <g>\n",
              "        <path d=\"M19 3H5c-1.1 0-2 .9-2 2v14c0 1.1.9 2 2 2h14c1.1 0 2-.9 2-2V5c0-1.1-.9-2-2-2zM9 17H7v-7h2v7zm4 0h-2V7h2v10zm4 0h-2v-4h2v4z\"/>\n",
              "    </g>\n",
              "</svg>\n",
              "  </button>\n",
              "\n",
              "<style>\n",
              "  .colab-df-quickchart {\n",
              "      --bg-color: #E8F0FE;\n",
              "      --fill-color: #1967D2;\n",
              "      --hover-bg-color: #E2EBFA;\n",
              "      --hover-fill-color: #174EA6;\n",
              "      --disabled-fill-color: #AAA;\n",
              "      --disabled-bg-color: #DDD;\n",
              "  }\n",
              "\n",
              "  [theme=dark] .colab-df-quickchart {\n",
              "      --bg-color: #3B4455;\n",
              "      --fill-color: #D2E3FC;\n",
              "      --hover-bg-color: #434B5C;\n",
              "      --hover-fill-color: #FFFFFF;\n",
              "      --disabled-bg-color: #3B4455;\n",
              "      --disabled-fill-color: #666;\n",
              "  }\n",
              "\n",
              "  .colab-df-quickchart {\n",
              "    background-color: var(--bg-color);\n",
              "    border: none;\n",
              "    border-radius: 50%;\n",
              "    cursor: pointer;\n",
              "    display: none;\n",
              "    fill: var(--fill-color);\n",
              "    height: 32px;\n",
              "    padding: 0;\n",
              "    width: 32px;\n",
              "  }\n",
              "\n",
              "  .colab-df-quickchart:hover {\n",
              "    background-color: var(--hover-bg-color);\n",
              "    box-shadow: 0 1px 2px rgba(60, 64, 67, 0.3), 0 1px 3px 1px rgba(60, 64, 67, 0.15);\n",
              "    fill: var(--button-hover-fill-color);\n",
              "  }\n",
              "\n",
              "  .colab-df-quickchart-complete:disabled,\n",
              "  .colab-df-quickchart-complete:disabled:hover {\n",
              "    background-color: var(--disabled-bg-color);\n",
              "    fill: var(--disabled-fill-color);\n",
              "    box-shadow: none;\n",
              "  }\n",
              "\n",
              "  .colab-df-spinner {\n",
              "    border: 2px solid var(--fill-color);\n",
              "    border-color: transparent;\n",
              "    border-bottom-color: var(--fill-color);\n",
              "    animation:\n",
              "      spin 1s steps(1) infinite;\n",
              "  }\n",
              "\n",
              "  @keyframes spin {\n",
              "    0% {\n",
              "      border-color: transparent;\n",
              "      border-bottom-color: var(--fill-color);\n",
              "      border-left-color: var(--fill-color);\n",
              "    }\n",
              "    20% {\n",
              "      border-color: transparent;\n",
              "      border-left-color: var(--fill-color);\n",
              "      border-top-color: var(--fill-color);\n",
              "    }\n",
              "    30% {\n",
              "      border-color: transparent;\n",
              "      border-left-color: var(--fill-color);\n",
              "      border-top-color: var(--fill-color);\n",
              "      border-right-color: var(--fill-color);\n",
              "    }\n",
              "    40% {\n",
              "      border-color: transparent;\n",
              "      border-right-color: var(--fill-color);\n",
              "      border-top-color: var(--fill-color);\n",
              "    }\n",
              "    60% {\n",
              "      border-color: transparent;\n",
              "      border-right-color: var(--fill-color);\n",
              "    }\n",
              "    80% {\n",
              "      border-color: transparent;\n",
              "      border-right-color: var(--fill-color);\n",
              "      border-bottom-color: var(--fill-color);\n",
              "    }\n",
              "    90% {\n",
              "      border-color: transparent;\n",
              "      border-bottom-color: var(--fill-color);\n",
              "    }\n",
              "  }\n",
              "</style>\n",
              "\n",
              "  <script>\n",
              "    async function quickchart(key) {\n",
              "      const quickchartButtonEl =\n",
              "        document.querySelector('#' + key + ' button');\n",
              "      quickchartButtonEl.disabled = true;  // To prevent multiple clicks.\n",
              "      quickchartButtonEl.classList.add('colab-df-spinner');\n",
              "      try {\n",
              "        const charts = await google.colab.kernel.invokeFunction(\n",
              "            'suggestCharts', [key], {});\n",
              "      } catch (error) {\n",
              "        console.error('Error during call to suggestCharts:', error);\n",
              "      }\n",
              "      quickchartButtonEl.classList.remove('colab-df-spinner');\n",
              "      quickchartButtonEl.classList.add('colab-df-quickchart-complete');\n",
              "    }\n",
              "    (() => {\n",
              "      let quickchartButtonEl =\n",
              "        document.querySelector('#df-3590c0f3-5f73-4f60-9ebc-8004cd98f5bd button');\n",
              "      quickchartButtonEl.style.display =\n",
              "        google.colab.kernel.accessAllowed ? 'block' : 'none';\n",
              "    })();\n",
              "  </script>\n",
              "</div>\n",
              "\n",
              "    </div>\n",
              "  </div>\n"
            ],
            "application/vnd.google.colaboratory.intrinsic+json": {
              "type": "dataframe",
              "summary": "{\n  \"name\": \"df\",\n  \"rows\": 20,\n  \"fields\": [\n    {\n      \"column\": \"A\",\n      \"properties\": {\n        \"dtype\": \"number\",\n        \"std\": 1.061908450449331,\n        \"min\": -2.5529898158340787,\n        \"max\": 1.8958891760305832,\n        \"num_unique_values\": 20,\n        \"samples\": [\n          1.764052345967664,\n          1.8958891760305832,\n          -0.6848100909403132\n        ],\n        \"semantic_type\": \"\",\n        \"description\": \"\"\n      }\n    }\n  ]\n}"
            }
          },
          "metadata": {},
          "execution_count": 234
        }
      ],
      "source": [
        "df.loc[:, ['A']]"
      ]
    },
    {
      "cell_type": "code",
      "execution_count": null,
      "metadata": {
        "id": "m8_89NPVIqxC",
        "outputId": "62b1866f-586b-4054-8489-9c98fcd86924",
        "colab": {
          "base_uri": "https://localhost:8080/",
          "height": 204
        }
      },
      "outputs": [
        {
          "output_type": "execute_result",
          "data": {
            "text/plain": [
              "pandas.core.frame.DataFrame"
            ],
            "text/html": [
              "<div style=\"max-width:800px; border: 1px solid var(--colab-border-color);\"><style>\n",
              "      pre.function-repr-contents {\n",
              "        overflow-x: auto;\n",
              "        padding: 8px 12px;\n",
              "        max-height: 500px;\n",
              "      }\n",
              "\n",
              "      pre.function-repr-contents.function-repr-contents-collapsed {\n",
              "        cursor: pointer;\n",
              "        max-height: 100px;\n",
              "      }\n",
              "    </style>\n",
              "    <pre style=\"white-space: initial; background:\n",
              "         var(--colab-secondary-surface-color); padding: 8px 12px;\n",
              "         border-bottom: 1px solid var(--colab-border-color);\"><b>pandas.core.frame.DataFrame</b><br/>def __init__(data=None, index: Axes | None=None, columns: Axes | None=None, dtype: Dtype | None=None, copy: bool | None=None) -&gt; None</pre><pre class=\"function-repr-contents function-repr-contents-collapsed\" style=\"\"><a class=\"filepath\" style=\"display:none\" href=\"#\">/usr/local/lib/python3.11/dist-packages/pandas/core/frame.py</a>Two-dimensional, size-mutable, potentially heterogeneous tabular data.\n",
              "\n",
              "Data structure also contains labeled axes (rows and columns).\n",
              "Arithmetic operations align on both row and column labels. Can be\n",
              "thought of as a dict-like container for Series objects. The primary\n",
              "pandas data structure.\n",
              "\n",
              "Parameters\n",
              "----------\n",
              "data : ndarray (structured or homogeneous), Iterable, dict, or DataFrame\n",
              "    Dict can contain Series, arrays, constants, dataclass or list-like objects. If\n",
              "    data is a dict, column order follows insertion-order. If a dict contains Series\n",
              "    which have an index defined, it is aligned by its index. This alignment also\n",
              "    occurs if data is a Series or a DataFrame itself. Alignment is done on\n",
              "    Series/DataFrame inputs.\n",
              "\n",
              "    If data is a list of dicts, column order follows insertion-order.\n",
              "\n",
              "index : Index or array-like\n",
              "    Index to use for resulting frame. Will default to RangeIndex if\n",
              "    no indexing information part of input data and no index provided.\n",
              "columns : Index or array-like\n",
              "    Column labels to use for resulting frame when data does not have them,\n",
              "    defaulting to RangeIndex(0, 1, 2, ..., n). If data contains column labels,\n",
              "    will perform column selection instead.\n",
              "dtype : dtype, default None\n",
              "    Data type to force. Only a single dtype is allowed. If None, infer.\n",
              "copy : bool or None, default None\n",
              "    Copy data from inputs.\n",
              "    For dict data, the default of None behaves like ``copy=True``.  For DataFrame\n",
              "    or 2d ndarray input, the default of None behaves like ``copy=False``.\n",
              "    If data is a dict containing one or more Series (possibly of different dtypes),\n",
              "    ``copy=False`` will ensure that these inputs are not copied.\n",
              "\n",
              "    .. versionchanged:: 1.3.0\n",
              "\n",
              "See Also\n",
              "--------\n",
              "DataFrame.from_records : Constructor from tuples, also record arrays.\n",
              "DataFrame.from_dict : From dicts of Series, arrays, or dicts.\n",
              "read_csv : Read a comma-separated values (csv) file into DataFrame.\n",
              "read_table : Read general delimited file into DataFrame.\n",
              "read_clipboard : Read text from clipboard into DataFrame.\n",
              "\n",
              "Notes\n",
              "-----\n",
              "Please reference the :ref:`User Guide &lt;basics.dataframe&gt;` for more information.\n",
              "\n",
              "Examples\n",
              "--------\n",
              "Constructing DataFrame from a dictionary.\n",
              "\n",
              "&gt;&gt;&gt; d = {&#x27;col1&#x27;: [1, 2], &#x27;col2&#x27;: [3, 4]}\n",
              "&gt;&gt;&gt; df = pd.DataFrame(data=d)\n",
              "&gt;&gt;&gt; df\n",
              "   col1  col2\n",
              "0     1     3\n",
              "1     2     4\n",
              "\n",
              "Notice that the inferred dtype is int64.\n",
              "\n",
              "&gt;&gt;&gt; df.dtypes\n",
              "col1    int64\n",
              "col2    int64\n",
              "dtype: object\n",
              "\n",
              "To enforce a single dtype:\n",
              "\n",
              "&gt;&gt;&gt; df = pd.DataFrame(data=d, dtype=np.int8)\n",
              "&gt;&gt;&gt; df.dtypes\n",
              "col1    int8\n",
              "col2    int8\n",
              "dtype: object\n",
              "\n",
              "Constructing DataFrame from a dictionary including Series:\n",
              "\n",
              "&gt;&gt;&gt; d = {&#x27;col1&#x27;: [0, 1, 2, 3], &#x27;col2&#x27;: pd.Series([2, 3], index=[2, 3])}\n",
              "&gt;&gt;&gt; pd.DataFrame(data=d, index=[0, 1, 2, 3])\n",
              "   col1  col2\n",
              "0     0   NaN\n",
              "1     1   NaN\n",
              "2     2   2.0\n",
              "3     3   3.0\n",
              "\n",
              "Constructing DataFrame from numpy ndarray:\n",
              "\n",
              "&gt;&gt;&gt; df2 = pd.DataFrame(np.array([[1, 2, 3], [4, 5, 6], [7, 8, 9]]),\n",
              "...                    columns=[&#x27;a&#x27;, &#x27;b&#x27;, &#x27;c&#x27;])\n",
              "&gt;&gt;&gt; df2\n",
              "   a  b  c\n",
              "0  1  2  3\n",
              "1  4  5  6\n",
              "2  7  8  9\n",
              "\n",
              "Constructing DataFrame from a numpy ndarray that has labeled columns:\n",
              "\n",
              "&gt;&gt;&gt; data = np.array([(1, 2, 3), (4, 5, 6), (7, 8, 9)],\n",
              "...                 dtype=[(&quot;a&quot;, &quot;i4&quot;), (&quot;b&quot;, &quot;i4&quot;), (&quot;c&quot;, &quot;i4&quot;)])\n",
              "&gt;&gt;&gt; df3 = pd.DataFrame(data, columns=[&#x27;c&#x27;, &#x27;a&#x27;])\n",
              "...\n",
              "&gt;&gt;&gt; df3\n",
              "   c  a\n",
              "0  3  1\n",
              "1  6  4\n",
              "2  9  7\n",
              "\n",
              "Constructing DataFrame from dataclass:\n",
              "\n",
              "&gt;&gt;&gt; from dataclasses import make_dataclass\n",
              "&gt;&gt;&gt; Point = make_dataclass(&quot;Point&quot;, [(&quot;x&quot;, int), (&quot;y&quot;, int)])\n",
              "&gt;&gt;&gt; pd.DataFrame([Point(0, 0), Point(0, 3), Point(2, 3)])\n",
              "   x  y\n",
              "0  0  0\n",
              "1  0  3\n",
              "2  2  3\n",
              "\n",
              "Constructing DataFrame from Series/DataFrame:\n",
              "\n",
              "&gt;&gt;&gt; ser = pd.Series([1, 2, 3], index=[&quot;a&quot;, &quot;b&quot;, &quot;c&quot;])\n",
              "&gt;&gt;&gt; df = pd.DataFrame(data=ser, index=[&quot;a&quot;, &quot;c&quot;])\n",
              "&gt;&gt;&gt; df\n",
              "   0\n",
              "a  1\n",
              "c  3\n",
              "\n",
              "&gt;&gt;&gt; df1 = pd.DataFrame([1, 2, 3], index=[&quot;a&quot;, &quot;b&quot;, &quot;c&quot;], columns=[&quot;x&quot;])\n",
              "&gt;&gt;&gt; df2 = pd.DataFrame(data=df1, index=[&quot;a&quot;, &quot;c&quot;])\n",
              "&gt;&gt;&gt; df2\n",
              "   x\n",
              "a  1\n",
              "c  3</pre>\n",
              "      <script>\n",
              "      if (google.colab.kernel.accessAllowed && google.colab.files && google.colab.files.view) {\n",
              "        for (const element of document.querySelectorAll('.filepath')) {\n",
              "          element.style.display = 'block'\n",
              "          element.onclick = (event) => {\n",
              "            event.preventDefault();\n",
              "            event.stopPropagation();\n",
              "            google.colab.files.view(element.textContent, 509);\n",
              "          };\n",
              "        }\n",
              "      }\n",
              "      for (const element of document.querySelectorAll('.function-repr-contents')) {\n",
              "        element.onclick = (event) => {\n",
              "          event.preventDefault();\n",
              "          event.stopPropagation();\n",
              "          element.classList.toggle('function-repr-contents-collapsed');\n",
              "        };\n",
              "      }\n",
              "      </script>\n",
              "      </div>"
            ]
          },
          "metadata": {},
          "execution_count": 235
        }
      ],
      "source": [
        "type(df.loc[:, ['A']])"
      ]
    },
    {
      "cell_type": "markdown",
      "metadata": {
        "id": "3CzOJ0ROIqxC"
      },
      "source": [
        "Further, a group of columns also just requires a list of labels to be passed."
      ]
    },
    {
      "cell_type": "code",
      "execution_count": null,
      "metadata": {
        "id": "lDg6PGF0IqxC",
        "outputId": "2dbadfc9-48b1-4170-d415-e576d65a3992",
        "colab": {
          "base_uri": "https://localhost:8080/",
          "height": 677
        }
      },
      "outputs": [
        {
          "output_type": "execute_result",
          "data": {
            "text/plain": [
              "           A         C\n",
              "0   1.764052  0.978738\n",
              "1  -0.977278 -0.151357\n",
              "2   0.144044  0.761038\n",
              "3   0.333674 -0.205158\n",
              "4  -2.552990  0.864436\n",
              "5  -1.454366 -0.187184\n",
              "6   0.154947 -0.887786\n",
              "7   0.156349  1.202380\n",
              "8  -1.048553 -1.706270\n",
              "9  -0.438074  0.777490\n",
              "10 -0.895467 -0.510805\n",
              "11  0.428332  0.302472\n",
              "12 -0.672460 -0.813146\n",
              "13 -0.401781  0.462782\n",
              "14  0.729091  1.139401\n",
              "15 -0.684810 -0.578850\n",
              "16 -1.165150  0.465662\n",
              "17  1.895889 -0.179925\n",
              "18 -0.403177  0.208275\n",
              "19  0.706573  1.785870"
            ],
            "text/html": [
              "\n",
              "  <div id=\"df-7fb08f08-7c65-4957-87ce-4beba20ef37f\" class=\"colab-df-container\">\n",
              "    <div>\n",
              "<style scoped>\n",
              "    .dataframe tbody tr th:only-of-type {\n",
              "        vertical-align: middle;\n",
              "    }\n",
              "\n",
              "    .dataframe tbody tr th {\n",
              "        vertical-align: top;\n",
              "    }\n",
              "\n",
              "    .dataframe thead th {\n",
              "        text-align: right;\n",
              "    }\n",
              "</style>\n",
              "<table border=\"1\" class=\"dataframe\">\n",
              "  <thead>\n",
              "    <tr style=\"text-align: right;\">\n",
              "      <th></th>\n",
              "      <th>A</th>\n",
              "      <th>C</th>\n",
              "    </tr>\n",
              "  </thead>\n",
              "  <tbody>\n",
              "    <tr>\n",
              "      <th>0</th>\n",
              "      <td>1.764052</td>\n",
              "      <td>0.978738</td>\n",
              "    </tr>\n",
              "    <tr>\n",
              "      <th>1</th>\n",
              "      <td>-0.977278</td>\n",
              "      <td>-0.151357</td>\n",
              "    </tr>\n",
              "    <tr>\n",
              "      <th>2</th>\n",
              "      <td>0.144044</td>\n",
              "      <td>0.761038</td>\n",
              "    </tr>\n",
              "    <tr>\n",
              "      <th>3</th>\n",
              "      <td>0.333674</td>\n",
              "      <td>-0.205158</td>\n",
              "    </tr>\n",
              "    <tr>\n",
              "      <th>4</th>\n",
              "      <td>-2.552990</td>\n",
              "      <td>0.864436</td>\n",
              "    </tr>\n",
              "    <tr>\n",
              "      <th>5</th>\n",
              "      <td>-1.454366</td>\n",
              "      <td>-0.187184</td>\n",
              "    </tr>\n",
              "    <tr>\n",
              "      <th>6</th>\n",
              "      <td>0.154947</td>\n",
              "      <td>-0.887786</td>\n",
              "    </tr>\n",
              "    <tr>\n",
              "      <th>7</th>\n",
              "      <td>0.156349</td>\n",
              "      <td>1.202380</td>\n",
              "    </tr>\n",
              "    <tr>\n",
              "      <th>8</th>\n",
              "      <td>-1.048553</td>\n",
              "      <td>-1.706270</td>\n",
              "    </tr>\n",
              "    <tr>\n",
              "      <th>9</th>\n",
              "      <td>-0.438074</td>\n",
              "      <td>0.777490</td>\n",
              "    </tr>\n",
              "    <tr>\n",
              "      <th>10</th>\n",
              "      <td>-0.895467</td>\n",
              "      <td>-0.510805</td>\n",
              "    </tr>\n",
              "    <tr>\n",
              "      <th>11</th>\n",
              "      <td>0.428332</td>\n",
              "      <td>0.302472</td>\n",
              "    </tr>\n",
              "    <tr>\n",
              "      <th>12</th>\n",
              "      <td>-0.672460</td>\n",
              "      <td>-0.813146</td>\n",
              "    </tr>\n",
              "    <tr>\n",
              "      <th>13</th>\n",
              "      <td>-0.401781</td>\n",
              "      <td>0.462782</td>\n",
              "    </tr>\n",
              "    <tr>\n",
              "      <th>14</th>\n",
              "      <td>0.729091</td>\n",
              "      <td>1.139401</td>\n",
              "    </tr>\n",
              "    <tr>\n",
              "      <th>15</th>\n",
              "      <td>-0.684810</td>\n",
              "      <td>-0.578850</td>\n",
              "    </tr>\n",
              "    <tr>\n",
              "      <th>16</th>\n",
              "      <td>-1.165150</td>\n",
              "      <td>0.465662</td>\n",
              "    </tr>\n",
              "    <tr>\n",
              "      <th>17</th>\n",
              "      <td>1.895889</td>\n",
              "      <td>-0.179925</td>\n",
              "    </tr>\n",
              "    <tr>\n",
              "      <th>18</th>\n",
              "      <td>-0.403177</td>\n",
              "      <td>0.208275</td>\n",
              "    </tr>\n",
              "    <tr>\n",
              "      <th>19</th>\n",
              "      <td>0.706573</td>\n",
              "      <td>1.785870</td>\n",
              "    </tr>\n",
              "  </tbody>\n",
              "</table>\n",
              "</div>\n",
              "    <div class=\"colab-df-buttons\">\n",
              "\n",
              "  <div class=\"colab-df-container\">\n",
              "    <button class=\"colab-df-convert\" onclick=\"convertToInteractive('df-7fb08f08-7c65-4957-87ce-4beba20ef37f')\"\n",
              "            title=\"Convert this dataframe to an interactive table.\"\n",
              "            style=\"display:none;\">\n",
              "\n",
              "  <svg xmlns=\"http://www.w3.org/2000/svg\" height=\"24px\" viewBox=\"0 -960 960 960\">\n",
              "    <path d=\"M120-120v-720h720v720H120Zm60-500h600v-160H180v160Zm220 220h160v-160H400v160Zm0 220h160v-160H400v160ZM180-400h160v-160H180v160Zm440 0h160v-160H620v160ZM180-180h160v-160H180v160Zm440 0h160v-160H620v160Z\"/>\n",
              "  </svg>\n",
              "    </button>\n",
              "\n",
              "  <style>\n",
              "    .colab-df-container {\n",
              "      display:flex;\n",
              "      gap: 12px;\n",
              "    }\n",
              "\n",
              "    .colab-df-convert {\n",
              "      background-color: #E8F0FE;\n",
              "      border: none;\n",
              "      border-radius: 50%;\n",
              "      cursor: pointer;\n",
              "      display: none;\n",
              "      fill: #1967D2;\n",
              "      height: 32px;\n",
              "      padding: 0 0 0 0;\n",
              "      width: 32px;\n",
              "    }\n",
              "\n",
              "    .colab-df-convert:hover {\n",
              "      background-color: #E2EBFA;\n",
              "      box-shadow: 0px 1px 2px rgba(60, 64, 67, 0.3), 0px 1px 3px 1px rgba(60, 64, 67, 0.15);\n",
              "      fill: #174EA6;\n",
              "    }\n",
              "\n",
              "    .colab-df-buttons div {\n",
              "      margin-bottom: 4px;\n",
              "    }\n",
              "\n",
              "    [theme=dark] .colab-df-convert {\n",
              "      background-color: #3B4455;\n",
              "      fill: #D2E3FC;\n",
              "    }\n",
              "\n",
              "    [theme=dark] .colab-df-convert:hover {\n",
              "      background-color: #434B5C;\n",
              "      box-shadow: 0px 1px 3px 1px rgba(0, 0, 0, 0.15);\n",
              "      filter: drop-shadow(0px 1px 2px rgba(0, 0, 0, 0.3));\n",
              "      fill: #FFFFFF;\n",
              "    }\n",
              "  </style>\n",
              "\n",
              "    <script>\n",
              "      const buttonEl =\n",
              "        document.querySelector('#df-7fb08f08-7c65-4957-87ce-4beba20ef37f button.colab-df-convert');\n",
              "      buttonEl.style.display =\n",
              "        google.colab.kernel.accessAllowed ? 'block' : 'none';\n",
              "\n",
              "      async function convertToInteractive(key) {\n",
              "        const element = document.querySelector('#df-7fb08f08-7c65-4957-87ce-4beba20ef37f');\n",
              "        const dataTable =\n",
              "          await google.colab.kernel.invokeFunction('convertToInteractive',\n",
              "                                                    [key], {});\n",
              "        if (!dataTable) return;\n",
              "\n",
              "        const docLinkHtml = 'Like what you see? Visit the ' +\n",
              "          '<a target=\"_blank\" href=https://colab.research.google.com/notebooks/data_table.ipynb>data table notebook</a>'\n",
              "          + ' to learn more about interactive tables.';\n",
              "        element.innerHTML = '';\n",
              "        dataTable['output_type'] = 'display_data';\n",
              "        await google.colab.output.renderOutput(dataTable, element);\n",
              "        const docLink = document.createElement('div');\n",
              "        docLink.innerHTML = docLinkHtml;\n",
              "        element.appendChild(docLink);\n",
              "      }\n",
              "    </script>\n",
              "  </div>\n",
              "\n",
              "\n",
              "<div id=\"df-eab9b907-3b5e-4aff-891d-7021878abcf5\">\n",
              "  <button class=\"colab-df-quickchart\" onclick=\"quickchart('df-eab9b907-3b5e-4aff-891d-7021878abcf5')\"\n",
              "            title=\"Suggest charts\"\n",
              "            style=\"display:none;\">\n",
              "\n",
              "<svg xmlns=\"http://www.w3.org/2000/svg\" height=\"24px\"viewBox=\"0 0 24 24\"\n",
              "     width=\"24px\">\n",
              "    <g>\n",
              "        <path d=\"M19 3H5c-1.1 0-2 .9-2 2v14c0 1.1.9 2 2 2h14c1.1 0 2-.9 2-2V5c0-1.1-.9-2-2-2zM9 17H7v-7h2v7zm4 0h-2V7h2v10zm4 0h-2v-4h2v4z\"/>\n",
              "    </g>\n",
              "</svg>\n",
              "  </button>\n",
              "\n",
              "<style>\n",
              "  .colab-df-quickchart {\n",
              "      --bg-color: #E8F0FE;\n",
              "      --fill-color: #1967D2;\n",
              "      --hover-bg-color: #E2EBFA;\n",
              "      --hover-fill-color: #174EA6;\n",
              "      --disabled-fill-color: #AAA;\n",
              "      --disabled-bg-color: #DDD;\n",
              "  }\n",
              "\n",
              "  [theme=dark] .colab-df-quickchart {\n",
              "      --bg-color: #3B4455;\n",
              "      --fill-color: #D2E3FC;\n",
              "      --hover-bg-color: #434B5C;\n",
              "      --hover-fill-color: #FFFFFF;\n",
              "      --disabled-bg-color: #3B4455;\n",
              "      --disabled-fill-color: #666;\n",
              "  }\n",
              "\n",
              "  .colab-df-quickchart {\n",
              "    background-color: var(--bg-color);\n",
              "    border: none;\n",
              "    border-radius: 50%;\n",
              "    cursor: pointer;\n",
              "    display: none;\n",
              "    fill: var(--fill-color);\n",
              "    height: 32px;\n",
              "    padding: 0;\n",
              "    width: 32px;\n",
              "  }\n",
              "\n",
              "  .colab-df-quickchart:hover {\n",
              "    background-color: var(--hover-bg-color);\n",
              "    box-shadow: 0 1px 2px rgba(60, 64, 67, 0.3), 0 1px 3px 1px rgba(60, 64, 67, 0.15);\n",
              "    fill: var(--button-hover-fill-color);\n",
              "  }\n",
              "\n",
              "  .colab-df-quickchart-complete:disabled,\n",
              "  .colab-df-quickchart-complete:disabled:hover {\n",
              "    background-color: var(--disabled-bg-color);\n",
              "    fill: var(--disabled-fill-color);\n",
              "    box-shadow: none;\n",
              "  }\n",
              "\n",
              "  .colab-df-spinner {\n",
              "    border: 2px solid var(--fill-color);\n",
              "    border-color: transparent;\n",
              "    border-bottom-color: var(--fill-color);\n",
              "    animation:\n",
              "      spin 1s steps(1) infinite;\n",
              "  }\n",
              "\n",
              "  @keyframes spin {\n",
              "    0% {\n",
              "      border-color: transparent;\n",
              "      border-bottom-color: var(--fill-color);\n",
              "      border-left-color: var(--fill-color);\n",
              "    }\n",
              "    20% {\n",
              "      border-color: transparent;\n",
              "      border-left-color: var(--fill-color);\n",
              "      border-top-color: var(--fill-color);\n",
              "    }\n",
              "    30% {\n",
              "      border-color: transparent;\n",
              "      border-left-color: var(--fill-color);\n",
              "      border-top-color: var(--fill-color);\n",
              "      border-right-color: var(--fill-color);\n",
              "    }\n",
              "    40% {\n",
              "      border-color: transparent;\n",
              "      border-right-color: var(--fill-color);\n",
              "      border-top-color: var(--fill-color);\n",
              "    }\n",
              "    60% {\n",
              "      border-color: transparent;\n",
              "      border-right-color: var(--fill-color);\n",
              "    }\n",
              "    80% {\n",
              "      border-color: transparent;\n",
              "      border-right-color: var(--fill-color);\n",
              "      border-bottom-color: var(--fill-color);\n",
              "    }\n",
              "    90% {\n",
              "      border-color: transparent;\n",
              "      border-bottom-color: var(--fill-color);\n",
              "    }\n",
              "  }\n",
              "</style>\n",
              "\n",
              "  <script>\n",
              "    async function quickchart(key) {\n",
              "      const quickchartButtonEl =\n",
              "        document.querySelector('#' + key + ' button');\n",
              "      quickchartButtonEl.disabled = true;  // To prevent multiple clicks.\n",
              "      quickchartButtonEl.classList.add('colab-df-spinner');\n",
              "      try {\n",
              "        const charts = await google.colab.kernel.invokeFunction(\n",
              "            'suggestCharts', [key], {});\n",
              "      } catch (error) {\n",
              "        console.error('Error during call to suggestCharts:', error);\n",
              "      }\n",
              "      quickchartButtonEl.classList.remove('colab-df-spinner');\n",
              "      quickchartButtonEl.classList.add('colab-df-quickchart-complete');\n",
              "    }\n",
              "    (() => {\n",
              "      let quickchartButtonEl =\n",
              "        document.querySelector('#df-eab9b907-3b5e-4aff-891d-7021878abcf5 button');\n",
              "      quickchartButtonEl.style.display =\n",
              "        google.colab.kernel.accessAllowed ? 'block' : 'none';\n",
              "    })();\n",
              "  </script>\n",
              "</div>\n",
              "\n",
              "    </div>\n",
              "  </div>\n"
            ],
            "application/vnd.google.colaboratory.intrinsic+json": {
              "type": "dataframe",
              "summary": "{\n  \"name\": \"df\",\n  \"rows\": 20,\n  \"fields\": [\n    {\n      \"column\": \"A\",\n      \"properties\": {\n        \"dtype\": \"number\",\n        \"std\": 1.061908450449331,\n        \"min\": -2.5529898158340787,\n        \"max\": 1.8958891760305832,\n        \"num_unique_values\": 20,\n        \"samples\": [\n          1.764052345967664,\n          1.8958891760305832,\n          -0.6848100909403132\n        ],\n        \"semantic_type\": \"\",\n        \"description\": \"\"\n      }\n    },\n    {\n      \"column\": \"C\",\n      \"properties\": {\n        \"dtype\": \"number\",\n        \"std\": 0.8516922118298949,\n        \"min\": -1.7062701906250126,\n        \"max\": 1.7858704939058352,\n        \"num_unique_values\": 20,\n        \"samples\": [\n          0.9787379841057392,\n          -0.17992483581235091,\n          -0.5788496647644155\n        ],\n        \"semantic_type\": \"\",\n        \"description\": \"\"\n      }\n    }\n  ]\n}"
            }
          },
          "metadata": {},
          "execution_count": 236
        }
      ],
      "source": [
        "df.loc[:, ['A', 'C']]"
      ]
    },
    {
      "cell_type": "markdown",
      "metadata": {
        "id": "lGUVToXfIqxD"
      },
      "source": [
        "Lastly, to quickly access just columns you can simply use `[ ]` following the `DataFrame`."
      ]
    },
    {
      "cell_type": "code",
      "execution_count": null,
      "metadata": {
        "id": "ZAdACDI3IqxD",
        "outputId": "172de7a8-166a-4ae0-d522-3bccfedca9a4",
        "colab": {
          "base_uri": "https://localhost:8080/",
          "height": 677
        }
      },
      "outputs": [
        {
          "output_type": "execute_result",
          "data": {
            "text/plain": [
              "           A\n",
              "0   1.764052\n",
              "1  -0.977278\n",
              "2   0.144044\n",
              "3   0.333674\n",
              "4  -2.552990\n",
              "5  -1.454366\n",
              "6   0.154947\n",
              "7   0.156349\n",
              "8  -1.048553\n",
              "9  -0.438074\n",
              "10 -0.895467\n",
              "11  0.428332\n",
              "12 -0.672460\n",
              "13 -0.401781\n",
              "14  0.729091\n",
              "15 -0.684810\n",
              "16 -1.165150\n",
              "17  1.895889\n",
              "18 -0.403177\n",
              "19  0.706573"
            ],
            "text/html": [
              "\n",
              "  <div id=\"df-f0aa0d38-fa04-4c1c-a706-67d90da49f21\" class=\"colab-df-container\">\n",
              "    <div>\n",
              "<style scoped>\n",
              "    .dataframe tbody tr th:only-of-type {\n",
              "        vertical-align: middle;\n",
              "    }\n",
              "\n",
              "    .dataframe tbody tr th {\n",
              "        vertical-align: top;\n",
              "    }\n",
              "\n",
              "    .dataframe thead th {\n",
              "        text-align: right;\n",
              "    }\n",
              "</style>\n",
              "<table border=\"1\" class=\"dataframe\">\n",
              "  <thead>\n",
              "    <tr style=\"text-align: right;\">\n",
              "      <th></th>\n",
              "      <th>A</th>\n",
              "    </tr>\n",
              "  </thead>\n",
              "  <tbody>\n",
              "    <tr>\n",
              "      <th>0</th>\n",
              "      <td>1.764052</td>\n",
              "    </tr>\n",
              "    <tr>\n",
              "      <th>1</th>\n",
              "      <td>-0.977278</td>\n",
              "    </tr>\n",
              "    <tr>\n",
              "      <th>2</th>\n",
              "      <td>0.144044</td>\n",
              "    </tr>\n",
              "    <tr>\n",
              "      <th>3</th>\n",
              "      <td>0.333674</td>\n",
              "    </tr>\n",
              "    <tr>\n",
              "      <th>4</th>\n",
              "      <td>-2.552990</td>\n",
              "    </tr>\n",
              "    <tr>\n",
              "      <th>5</th>\n",
              "      <td>-1.454366</td>\n",
              "    </tr>\n",
              "    <tr>\n",
              "      <th>6</th>\n",
              "      <td>0.154947</td>\n",
              "    </tr>\n",
              "    <tr>\n",
              "      <th>7</th>\n",
              "      <td>0.156349</td>\n",
              "    </tr>\n",
              "    <tr>\n",
              "      <th>8</th>\n",
              "      <td>-1.048553</td>\n",
              "    </tr>\n",
              "    <tr>\n",
              "      <th>9</th>\n",
              "      <td>-0.438074</td>\n",
              "    </tr>\n",
              "    <tr>\n",
              "      <th>10</th>\n",
              "      <td>-0.895467</td>\n",
              "    </tr>\n",
              "    <tr>\n",
              "      <th>11</th>\n",
              "      <td>0.428332</td>\n",
              "    </tr>\n",
              "    <tr>\n",
              "      <th>12</th>\n",
              "      <td>-0.672460</td>\n",
              "    </tr>\n",
              "    <tr>\n",
              "      <th>13</th>\n",
              "      <td>-0.401781</td>\n",
              "    </tr>\n",
              "    <tr>\n",
              "      <th>14</th>\n",
              "      <td>0.729091</td>\n",
              "    </tr>\n",
              "    <tr>\n",
              "      <th>15</th>\n",
              "      <td>-0.684810</td>\n",
              "    </tr>\n",
              "    <tr>\n",
              "      <th>16</th>\n",
              "      <td>-1.165150</td>\n",
              "    </tr>\n",
              "    <tr>\n",
              "      <th>17</th>\n",
              "      <td>1.895889</td>\n",
              "    </tr>\n",
              "    <tr>\n",
              "      <th>18</th>\n",
              "      <td>-0.403177</td>\n",
              "    </tr>\n",
              "    <tr>\n",
              "      <th>19</th>\n",
              "      <td>0.706573</td>\n",
              "    </tr>\n",
              "  </tbody>\n",
              "</table>\n",
              "</div>\n",
              "    <div class=\"colab-df-buttons\">\n",
              "\n",
              "  <div class=\"colab-df-container\">\n",
              "    <button class=\"colab-df-convert\" onclick=\"convertToInteractive('df-f0aa0d38-fa04-4c1c-a706-67d90da49f21')\"\n",
              "            title=\"Convert this dataframe to an interactive table.\"\n",
              "            style=\"display:none;\">\n",
              "\n",
              "  <svg xmlns=\"http://www.w3.org/2000/svg\" height=\"24px\" viewBox=\"0 -960 960 960\">\n",
              "    <path d=\"M120-120v-720h720v720H120Zm60-500h600v-160H180v160Zm220 220h160v-160H400v160Zm0 220h160v-160H400v160ZM180-400h160v-160H180v160Zm440 0h160v-160H620v160ZM180-180h160v-160H180v160Zm440 0h160v-160H620v160Z\"/>\n",
              "  </svg>\n",
              "    </button>\n",
              "\n",
              "  <style>\n",
              "    .colab-df-container {\n",
              "      display:flex;\n",
              "      gap: 12px;\n",
              "    }\n",
              "\n",
              "    .colab-df-convert {\n",
              "      background-color: #E8F0FE;\n",
              "      border: none;\n",
              "      border-radius: 50%;\n",
              "      cursor: pointer;\n",
              "      display: none;\n",
              "      fill: #1967D2;\n",
              "      height: 32px;\n",
              "      padding: 0 0 0 0;\n",
              "      width: 32px;\n",
              "    }\n",
              "\n",
              "    .colab-df-convert:hover {\n",
              "      background-color: #E2EBFA;\n",
              "      box-shadow: 0px 1px 2px rgba(60, 64, 67, 0.3), 0px 1px 3px 1px rgba(60, 64, 67, 0.15);\n",
              "      fill: #174EA6;\n",
              "    }\n",
              "\n",
              "    .colab-df-buttons div {\n",
              "      margin-bottom: 4px;\n",
              "    }\n",
              "\n",
              "    [theme=dark] .colab-df-convert {\n",
              "      background-color: #3B4455;\n",
              "      fill: #D2E3FC;\n",
              "    }\n",
              "\n",
              "    [theme=dark] .colab-df-convert:hover {\n",
              "      background-color: #434B5C;\n",
              "      box-shadow: 0px 1px 3px 1px rgba(0, 0, 0, 0.15);\n",
              "      filter: drop-shadow(0px 1px 2px rgba(0, 0, 0, 0.3));\n",
              "      fill: #FFFFFF;\n",
              "    }\n",
              "  </style>\n",
              "\n",
              "    <script>\n",
              "      const buttonEl =\n",
              "        document.querySelector('#df-f0aa0d38-fa04-4c1c-a706-67d90da49f21 button.colab-df-convert');\n",
              "      buttonEl.style.display =\n",
              "        google.colab.kernel.accessAllowed ? 'block' : 'none';\n",
              "\n",
              "      async function convertToInteractive(key) {\n",
              "        const element = document.querySelector('#df-f0aa0d38-fa04-4c1c-a706-67d90da49f21');\n",
              "        const dataTable =\n",
              "          await google.colab.kernel.invokeFunction('convertToInteractive',\n",
              "                                                    [key], {});\n",
              "        if (!dataTable) return;\n",
              "\n",
              "        const docLinkHtml = 'Like what you see? Visit the ' +\n",
              "          '<a target=\"_blank\" href=https://colab.research.google.com/notebooks/data_table.ipynb>data table notebook</a>'\n",
              "          + ' to learn more about interactive tables.';\n",
              "        element.innerHTML = '';\n",
              "        dataTable['output_type'] = 'display_data';\n",
              "        await google.colab.output.renderOutput(dataTable, element);\n",
              "        const docLink = document.createElement('div');\n",
              "        docLink.innerHTML = docLinkHtml;\n",
              "        element.appendChild(docLink);\n",
              "      }\n",
              "    </script>\n",
              "  </div>\n",
              "\n",
              "\n",
              "<div id=\"df-e2dc11f5-9e1e-48e9-9e54-057746cdf7c3\">\n",
              "  <button class=\"colab-df-quickchart\" onclick=\"quickchart('df-e2dc11f5-9e1e-48e9-9e54-057746cdf7c3')\"\n",
              "            title=\"Suggest charts\"\n",
              "            style=\"display:none;\">\n",
              "\n",
              "<svg xmlns=\"http://www.w3.org/2000/svg\" height=\"24px\"viewBox=\"0 0 24 24\"\n",
              "     width=\"24px\">\n",
              "    <g>\n",
              "        <path d=\"M19 3H5c-1.1 0-2 .9-2 2v14c0 1.1.9 2 2 2h14c1.1 0 2-.9 2-2V5c0-1.1-.9-2-2-2zM9 17H7v-7h2v7zm4 0h-2V7h2v10zm4 0h-2v-4h2v4z\"/>\n",
              "    </g>\n",
              "</svg>\n",
              "  </button>\n",
              "\n",
              "<style>\n",
              "  .colab-df-quickchart {\n",
              "      --bg-color: #E8F0FE;\n",
              "      --fill-color: #1967D2;\n",
              "      --hover-bg-color: #E2EBFA;\n",
              "      --hover-fill-color: #174EA6;\n",
              "      --disabled-fill-color: #AAA;\n",
              "      --disabled-bg-color: #DDD;\n",
              "  }\n",
              "\n",
              "  [theme=dark] .colab-df-quickchart {\n",
              "      --bg-color: #3B4455;\n",
              "      --fill-color: #D2E3FC;\n",
              "      --hover-bg-color: #434B5C;\n",
              "      --hover-fill-color: #FFFFFF;\n",
              "      --disabled-bg-color: #3B4455;\n",
              "      --disabled-fill-color: #666;\n",
              "  }\n",
              "\n",
              "  .colab-df-quickchart {\n",
              "    background-color: var(--bg-color);\n",
              "    border: none;\n",
              "    border-radius: 50%;\n",
              "    cursor: pointer;\n",
              "    display: none;\n",
              "    fill: var(--fill-color);\n",
              "    height: 32px;\n",
              "    padding: 0;\n",
              "    width: 32px;\n",
              "  }\n",
              "\n",
              "  .colab-df-quickchart:hover {\n",
              "    background-color: var(--hover-bg-color);\n",
              "    box-shadow: 0 1px 2px rgba(60, 64, 67, 0.3), 0 1px 3px 1px rgba(60, 64, 67, 0.15);\n",
              "    fill: var(--button-hover-fill-color);\n",
              "  }\n",
              "\n",
              "  .colab-df-quickchart-complete:disabled,\n",
              "  .colab-df-quickchart-complete:disabled:hover {\n",
              "    background-color: var(--disabled-bg-color);\n",
              "    fill: var(--disabled-fill-color);\n",
              "    box-shadow: none;\n",
              "  }\n",
              "\n",
              "  .colab-df-spinner {\n",
              "    border: 2px solid var(--fill-color);\n",
              "    border-color: transparent;\n",
              "    border-bottom-color: var(--fill-color);\n",
              "    animation:\n",
              "      spin 1s steps(1) infinite;\n",
              "  }\n",
              "\n",
              "  @keyframes spin {\n",
              "    0% {\n",
              "      border-color: transparent;\n",
              "      border-bottom-color: var(--fill-color);\n",
              "      border-left-color: var(--fill-color);\n",
              "    }\n",
              "    20% {\n",
              "      border-color: transparent;\n",
              "      border-left-color: var(--fill-color);\n",
              "      border-top-color: var(--fill-color);\n",
              "    }\n",
              "    30% {\n",
              "      border-color: transparent;\n",
              "      border-left-color: var(--fill-color);\n",
              "      border-top-color: var(--fill-color);\n",
              "      border-right-color: var(--fill-color);\n",
              "    }\n",
              "    40% {\n",
              "      border-color: transparent;\n",
              "      border-right-color: var(--fill-color);\n",
              "      border-top-color: var(--fill-color);\n",
              "    }\n",
              "    60% {\n",
              "      border-color: transparent;\n",
              "      border-right-color: var(--fill-color);\n",
              "    }\n",
              "    80% {\n",
              "      border-color: transparent;\n",
              "      border-right-color: var(--fill-color);\n",
              "      border-bottom-color: var(--fill-color);\n",
              "    }\n",
              "    90% {\n",
              "      border-color: transparent;\n",
              "      border-bottom-color: var(--fill-color);\n",
              "    }\n",
              "  }\n",
              "</style>\n",
              "\n",
              "  <script>\n",
              "    async function quickchart(key) {\n",
              "      const quickchartButtonEl =\n",
              "        document.querySelector('#' + key + ' button');\n",
              "      quickchartButtonEl.disabled = true;  // To prevent multiple clicks.\n",
              "      quickchartButtonEl.classList.add('colab-df-spinner');\n",
              "      try {\n",
              "        const charts = await google.colab.kernel.invokeFunction(\n",
              "            'suggestCharts', [key], {});\n",
              "      } catch (error) {\n",
              "        console.error('Error during call to suggestCharts:', error);\n",
              "      }\n",
              "      quickchartButtonEl.classList.remove('colab-df-spinner');\n",
              "      quickchartButtonEl.classList.add('colab-df-quickchart-complete');\n",
              "    }\n",
              "    (() => {\n",
              "      let quickchartButtonEl =\n",
              "        document.querySelector('#df-e2dc11f5-9e1e-48e9-9e54-057746cdf7c3 button');\n",
              "      quickchartButtonEl.style.display =\n",
              "        google.colab.kernel.accessAllowed ? 'block' : 'none';\n",
              "    })();\n",
              "  </script>\n",
              "</div>\n",
              "\n",
              "    </div>\n",
              "  </div>\n"
            ],
            "application/vnd.google.colaboratory.intrinsic+json": {
              "type": "dataframe",
              "summary": "{\n  \"name\": \"df[['A']]\",\n  \"rows\": 20,\n  \"fields\": [\n    {\n      \"column\": \"A\",\n      \"properties\": {\n        \"dtype\": \"number\",\n        \"std\": 1.061908450449331,\n        \"min\": -2.5529898158340787,\n        \"max\": 1.8958891760305832,\n        \"num_unique_values\": 20,\n        \"samples\": [\n          1.764052345967664,\n          1.8958891760305832,\n          -0.6848100909403132\n        ],\n        \"semantic_type\": \"\",\n        \"description\": \"\"\n      }\n    }\n  ]\n}"
            }
          },
          "metadata": {},
          "execution_count": 237
        }
      ],
      "source": [
        "df[['A']]"
      ]
    },
    {
      "cell_type": "markdown",
      "metadata": {
        "id": "oJtH7z5oIqxD"
      },
      "source": [
        "### TODO 14\n",
        "Use `df` defined above to complete the following TODOs.\n",
        "1. Index the rows 10-15 and columns 'B' and 'C' using either `iloc` or `loc`. Store the output into the `df_slice` variable."
      ]
    },
    {
      "cell_type": "code",
      "execution_count": null,
      "metadata": {
        "id": "Y6lcos2_IqxD",
        "outputId": "ac152d68-c8fa-4ef0-a0d7-4336b5e37cfc",
        "colab": {
          "base_uri": "https://localhost:8080/",
          "height": 273
        }
      },
      "outputs": [
        {
          "output_type": "display_data",
          "data": {
            "text/plain": [
              "           B         C\n",
              "10  0.386902 -0.510805\n",
              "11  0.066517  0.302472\n",
              "12 -0.359553 -0.813146\n",
              "13 -1.630198  0.462782\n",
              "14  0.128983  1.139401\n",
              "15 -0.870797 -0.578850"
            ],
            "text/html": [
              "\n",
              "  <div id=\"df-76a5f92a-ba4f-4c7f-bdb4-7b65d2da6765\" class=\"colab-df-container\">\n",
              "    <div>\n",
              "<style scoped>\n",
              "    .dataframe tbody tr th:only-of-type {\n",
              "        vertical-align: middle;\n",
              "    }\n",
              "\n",
              "    .dataframe tbody tr th {\n",
              "        vertical-align: top;\n",
              "    }\n",
              "\n",
              "    .dataframe thead th {\n",
              "        text-align: right;\n",
              "    }\n",
              "</style>\n",
              "<table border=\"1\" class=\"dataframe\">\n",
              "  <thead>\n",
              "    <tr style=\"text-align: right;\">\n",
              "      <th></th>\n",
              "      <th>B</th>\n",
              "      <th>C</th>\n",
              "    </tr>\n",
              "  </thead>\n",
              "  <tbody>\n",
              "    <tr>\n",
              "      <th>10</th>\n",
              "      <td>0.386902</td>\n",
              "      <td>-0.510805</td>\n",
              "    </tr>\n",
              "    <tr>\n",
              "      <th>11</th>\n",
              "      <td>0.066517</td>\n",
              "      <td>0.302472</td>\n",
              "    </tr>\n",
              "    <tr>\n",
              "      <th>12</th>\n",
              "      <td>-0.359553</td>\n",
              "      <td>-0.813146</td>\n",
              "    </tr>\n",
              "    <tr>\n",
              "      <th>13</th>\n",
              "      <td>-1.630198</td>\n",
              "      <td>0.462782</td>\n",
              "    </tr>\n",
              "    <tr>\n",
              "      <th>14</th>\n",
              "      <td>0.128983</td>\n",
              "      <td>1.139401</td>\n",
              "    </tr>\n",
              "    <tr>\n",
              "      <th>15</th>\n",
              "      <td>-0.870797</td>\n",
              "      <td>-0.578850</td>\n",
              "    </tr>\n",
              "  </tbody>\n",
              "</table>\n",
              "</div>\n",
              "    <div class=\"colab-df-buttons\">\n",
              "\n",
              "  <div class=\"colab-df-container\">\n",
              "    <button class=\"colab-df-convert\" onclick=\"convertToInteractive('df-76a5f92a-ba4f-4c7f-bdb4-7b65d2da6765')\"\n",
              "            title=\"Convert this dataframe to an interactive table.\"\n",
              "            style=\"display:none;\">\n",
              "\n",
              "  <svg xmlns=\"http://www.w3.org/2000/svg\" height=\"24px\" viewBox=\"0 -960 960 960\">\n",
              "    <path d=\"M120-120v-720h720v720H120Zm60-500h600v-160H180v160Zm220 220h160v-160H400v160Zm0 220h160v-160H400v160ZM180-400h160v-160H180v160Zm440 0h160v-160H620v160ZM180-180h160v-160H180v160Zm440 0h160v-160H620v160Z\"/>\n",
              "  </svg>\n",
              "    </button>\n",
              "\n",
              "  <style>\n",
              "    .colab-df-container {\n",
              "      display:flex;\n",
              "      gap: 12px;\n",
              "    }\n",
              "\n",
              "    .colab-df-convert {\n",
              "      background-color: #E8F0FE;\n",
              "      border: none;\n",
              "      border-radius: 50%;\n",
              "      cursor: pointer;\n",
              "      display: none;\n",
              "      fill: #1967D2;\n",
              "      height: 32px;\n",
              "      padding: 0 0 0 0;\n",
              "      width: 32px;\n",
              "    }\n",
              "\n",
              "    .colab-df-convert:hover {\n",
              "      background-color: #E2EBFA;\n",
              "      box-shadow: 0px 1px 2px rgba(60, 64, 67, 0.3), 0px 1px 3px 1px rgba(60, 64, 67, 0.15);\n",
              "      fill: #174EA6;\n",
              "    }\n",
              "\n",
              "    .colab-df-buttons div {\n",
              "      margin-bottom: 4px;\n",
              "    }\n",
              "\n",
              "    [theme=dark] .colab-df-convert {\n",
              "      background-color: #3B4455;\n",
              "      fill: #D2E3FC;\n",
              "    }\n",
              "\n",
              "    [theme=dark] .colab-df-convert:hover {\n",
              "      background-color: #434B5C;\n",
              "      box-shadow: 0px 1px 3px 1px rgba(0, 0, 0, 0.15);\n",
              "      filter: drop-shadow(0px 1px 2px rgba(0, 0, 0, 0.3));\n",
              "      fill: #FFFFFF;\n",
              "    }\n",
              "  </style>\n",
              "\n",
              "    <script>\n",
              "      const buttonEl =\n",
              "        document.querySelector('#df-76a5f92a-ba4f-4c7f-bdb4-7b65d2da6765 button.colab-df-convert');\n",
              "      buttonEl.style.display =\n",
              "        google.colab.kernel.accessAllowed ? 'block' : 'none';\n",
              "\n",
              "      async function convertToInteractive(key) {\n",
              "        const element = document.querySelector('#df-76a5f92a-ba4f-4c7f-bdb4-7b65d2da6765');\n",
              "        const dataTable =\n",
              "          await google.colab.kernel.invokeFunction('convertToInteractive',\n",
              "                                                    [key], {});\n",
              "        if (!dataTable) return;\n",
              "\n",
              "        const docLinkHtml = 'Like what you see? Visit the ' +\n",
              "          '<a target=\"_blank\" href=https://colab.research.google.com/notebooks/data_table.ipynb>data table notebook</a>'\n",
              "          + ' to learn more about interactive tables.';\n",
              "        element.innerHTML = '';\n",
              "        dataTable['output_type'] = 'display_data';\n",
              "        await google.colab.output.renderOutput(dataTable, element);\n",
              "        const docLink = document.createElement('div');\n",
              "        docLink.innerHTML = docLinkHtml;\n",
              "        element.appendChild(docLink);\n",
              "      }\n",
              "    </script>\n",
              "  </div>\n",
              "\n",
              "\n",
              "<div id=\"df-f3018a02-9503-4ff5-a237-1ea45e3105ec\">\n",
              "  <button class=\"colab-df-quickchart\" onclick=\"quickchart('df-f3018a02-9503-4ff5-a237-1ea45e3105ec')\"\n",
              "            title=\"Suggest charts\"\n",
              "            style=\"display:none;\">\n",
              "\n",
              "<svg xmlns=\"http://www.w3.org/2000/svg\" height=\"24px\"viewBox=\"0 0 24 24\"\n",
              "     width=\"24px\">\n",
              "    <g>\n",
              "        <path d=\"M19 3H5c-1.1 0-2 .9-2 2v14c0 1.1.9 2 2 2h14c1.1 0 2-.9 2-2V5c0-1.1-.9-2-2-2zM9 17H7v-7h2v7zm4 0h-2V7h2v10zm4 0h-2v-4h2v4z\"/>\n",
              "    </g>\n",
              "</svg>\n",
              "  </button>\n",
              "\n",
              "<style>\n",
              "  .colab-df-quickchart {\n",
              "      --bg-color: #E8F0FE;\n",
              "      --fill-color: #1967D2;\n",
              "      --hover-bg-color: #E2EBFA;\n",
              "      --hover-fill-color: #174EA6;\n",
              "      --disabled-fill-color: #AAA;\n",
              "      --disabled-bg-color: #DDD;\n",
              "  }\n",
              "\n",
              "  [theme=dark] .colab-df-quickchart {\n",
              "      --bg-color: #3B4455;\n",
              "      --fill-color: #D2E3FC;\n",
              "      --hover-bg-color: #434B5C;\n",
              "      --hover-fill-color: #FFFFFF;\n",
              "      --disabled-bg-color: #3B4455;\n",
              "      --disabled-fill-color: #666;\n",
              "  }\n",
              "\n",
              "  .colab-df-quickchart {\n",
              "    background-color: var(--bg-color);\n",
              "    border: none;\n",
              "    border-radius: 50%;\n",
              "    cursor: pointer;\n",
              "    display: none;\n",
              "    fill: var(--fill-color);\n",
              "    height: 32px;\n",
              "    padding: 0;\n",
              "    width: 32px;\n",
              "  }\n",
              "\n",
              "  .colab-df-quickchart:hover {\n",
              "    background-color: var(--hover-bg-color);\n",
              "    box-shadow: 0 1px 2px rgba(60, 64, 67, 0.3), 0 1px 3px 1px rgba(60, 64, 67, 0.15);\n",
              "    fill: var(--button-hover-fill-color);\n",
              "  }\n",
              "\n",
              "  .colab-df-quickchart-complete:disabled,\n",
              "  .colab-df-quickchart-complete:disabled:hover {\n",
              "    background-color: var(--disabled-bg-color);\n",
              "    fill: var(--disabled-fill-color);\n",
              "    box-shadow: none;\n",
              "  }\n",
              "\n",
              "  .colab-df-spinner {\n",
              "    border: 2px solid var(--fill-color);\n",
              "    border-color: transparent;\n",
              "    border-bottom-color: var(--fill-color);\n",
              "    animation:\n",
              "      spin 1s steps(1) infinite;\n",
              "  }\n",
              "\n",
              "  @keyframes spin {\n",
              "    0% {\n",
              "      border-color: transparent;\n",
              "      border-bottom-color: var(--fill-color);\n",
              "      border-left-color: var(--fill-color);\n",
              "    }\n",
              "    20% {\n",
              "      border-color: transparent;\n",
              "      border-left-color: var(--fill-color);\n",
              "      border-top-color: var(--fill-color);\n",
              "    }\n",
              "    30% {\n",
              "      border-color: transparent;\n",
              "      border-left-color: var(--fill-color);\n",
              "      border-top-color: var(--fill-color);\n",
              "      border-right-color: var(--fill-color);\n",
              "    }\n",
              "    40% {\n",
              "      border-color: transparent;\n",
              "      border-right-color: var(--fill-color);\n",
              "      border-top-color: var(--fill-color);\n",
              "    }\n",
              "    60% {\n",
              "      border-color: transparent;\n",
              "      border-right-color: var(--fill-color);\n",
              "    }\n",
              "    80% {\n",
              "      border-color: transparent;\n",
              "      border-right-color: var(--fill-color);\n",
              "      border-bottom-color: var(--fill-color);\n",
              "    }\n",
              "    90% {\n",
              "      border-color: transparent;\n",
              "      border-bottom-color: var(--fill-color);\n",
              "    }\n",
              "  }\n",
              "</style>\n",
              "\n",
              "  <script>\n",
              "    async function quickchart(key) {\n",
              "      const quickchartButtonEl =\n",
              "        document.querySelector('#' + key + ' button');\n",
              "      quickchartButtonEl.disabled = true;  // To prevent multiple clicks.\n",
              "      quickchartButtonEl.classList.add('colab-df-spinner');\n",
              "      try {\n",
              "        const charts = await google.colab.kernel.invokeFunction(\n",
              "            'suggestCharts', [key], {});\n",
              "      } catch (error) {\n",
              "        console.error('Error during call to suggestCharts:', error);\n",
              "      }\n",
              "      quickchartButtonEl.classList.remove('colab-df-spinner');\n",
              "      quickchartButtonEl.classList.add('colab-df-quickchart-complete');\n",
              "    }\n",
              "    (() => {\n",
              "      let quickchartButtonEl =\n",
              "        document.querySelector('#df-f3018a02-9503-4ff5-a237-1ea45e3105ec button');\n",
              "      quickchartButtonEl.style.display =\n",
              "        google.colab.kernel.accessAllowed ? 'block' : 'none';\n",
              "    })();\n",
              "  </script>\n",
              "</div>\n",
              "\n",
              "  <div id=\"id_370ddb90-87f7-45a1-8211-3cb5f032b9dd\">\n",
              "    <style>\n",
              "      .colab-df-generate {\n",
              "        background-color: #E8F0FE;\n",
              "        border: none;\n",
              "        border-radius: 50%;\n",
              "        cursor: pointer;\n",
              "        display: none;\n",
              "        fill: #1967D2;\n",
              "        height: 32px;\n",
              "        padding: 0 0 0 0;\n",
              "        width: 32px;\n",
              "      }\n",
              "\n",
              "      .colab-df-generate:hover {\n",
              "        background-color: #E2EBFA;\n",
              "        box-shadow: 0px 1px 2px rgba(60, 64, 67, 0.3), 0px 1px 3px 1px rgba(60, 64, 67, 0.15);\n",
              "        fill: #174EA6;\n",
              "      }\n",
              "\n",
              "      [theme=dark] .colab-df-generate {\n",
              "        background-color: #3B4455;\n",
              "        fill: #D2E3FC;\n",
              "      }\n",
              "\n",
              "      [theme=dark] .colab-df-generate:hover {\n",
              "        background-color: #434B5C;\n",
              "        box-shadow: 0px 1px 3px 1px rgba(0, 0, 0, 0.15);\n",
              "        filter: drop-shadow(0px 1px 2px rgba(0, 0, 0, 0.3));\n",
              "        fill: #FFFFFF;\n",
              "      }\n",
              "    </style>\n",
              "    <button class=\"colab-df-generate\" onclick=\"generateWithVariable('df_slice')\"\n",
              "            title=\"Generate code using this dataframe.\"\n",
              "            style=\"display:none;\">\n",
              "\n",
              "  <svg xmlns=\"http://www.w3.org/2000/svg\" height=\"24px\"viewBox=\"0 0 24 24\"\n",
              "       width=\"24px\">\n",
              "    <path d=\"M7,19H8.4L18.45,9,17,7.55,7,17.6ZM5,21V16.75L18.45,3.32a2,2,0,0,1,2.83,0l1.4,1.43a1.91,1.91,0,0,1,.58,1.4,1.91,1.91,0,0,1-.58,1.4L9.25,21ZM18.45,9,17,7.55Zm-12,3A5.31,5.31,0,0,0,4.9,8.1,5.31,5.31,0,0,0,1,6.5,5.31,5.31,0,0,0,4.9,4.9,5.31,5.31,0,0,0,6.5,1,5.31,5.31,0,0,0,8.1,4.9,5.31,5.31,0,0,0,12,6.5,5.46,5.46,0,0,0,6.5,12Z\"/>\n",
              "  </svg>\n",
              "    </button>\n",
              "    <script>\n",
              "      (() => {\n",
              "      const buttonEl =\n",
              "        document.querySelector('#id_370ddb90-87f7-45a1-8211-3cb5f032b9dd button.colab-df-generate');\n",
              "      buttonEl.style.display =\n",
              "        google.colab.kernel.accessAllowed ? 'block' : 'none';\n",
              "\n",
              "      buttonEl.onclick = () => {\n",
              "        google.colab.notebook.generateWithVariable('df_slice');\n",
              "      }\n",
              "      })();\n",
              "    </script>\n",
              "  </div>\n",
              "\n",
              "    </div>\n",
              "  </div>\n"
            ],
            "application/vnd.google.colaboratory.intrinsic+json": {
              "type": "dataframe",
              "variable_name": "df_slice",
              "summary": "{\n  \"name\": \"df_slice\",\n  \"rows\": 6,\n  \"fields\": [\n    {\n      \"column\": \"B\",\n      \"properties\": {\n        \"dtype\": \"number\",\n        \"std\": 0.7550994534875276,\n        \"min\": -1.6301983469660446,\n        \"max\": 0.386902497859262,\n        \"num_unique_values\": 6,\n        \"samples\": [\n          0.386902497859262,\n          0.06651722238316789,\n          -0.8707971491818818\n        ],\n        \"semantic_type\": \"\",\n        \"description\": \"\"\n      }\n    },\n    {\n      \"column\": \"C\",\n      \"properties\": {\n        \"dtype\": \"number\",\n        \"std\": 0.7564503567483182,\n        \"min\": -0.813146282044454,\n        \"max\": 1.1394006845433007,\n        \"num_unique_values\": 6,\n        \"samples\": [\n          -0.510805137568873,\n          0.3024718977397814,\n          -0.5788496647644155\n        ],\n        \"semantic_type\": \"\",\n        \"description\": \"\"\n      }\n    }\n  ]\n}"
            }
          },
          "metadata": {}
        },
        {
          "output_type": "stream",
          "name": "stdout",
          "text": [
            "df_slice shape: (6, 2)\n",
            "Your code PASSED the code check!\n"
          ]
        }
      ],
      "source": [
        "# TODO 14.1\n",
        "df_slice = df.loc[10:15, ['B', 'C']]\n",
        "\n",
        "display(df_slice)\n",
        "print(f\"df_slice shape: {df_slice.shape}\")\n",
        "\n",
        "todo_check([\n",
        "    (df_slice.shape == (6,2), 'df_slice does not have the correct shape of (6, 2)'),\n",
        "    (np.all(np.isclose(df_slice.values.flatten(), np.array([ 0.3869025 , -0.51080514,  0.06651722,  0.3024719 , -0.35955316,        -0.81314628, -1.63019835,  0.46278226,  0.12898291,  1.13940068,        -0.87079715, -0.57884966]) ,rtol=.001)), 'df_slice does not contain the correct values')\n",
        "])"
      ]
    },
    {
      "cell_type": "markdown",
      "metadata": {
        "id": "luoeyVDaIqxD"
      },
      "source": [
        "# Matplotlib, seaborn\n",
        "\n",
        "Visualization is key to observe your data and analyze the experimental results produced by ML model. Matplotlib helps you to produce the graphs and plots so you can easily observe trends in your data and results.\n",
        "\n",
        "In up coming labs we'll be taking a deep look at different plots Matplotlib has to offer. For now, let's just look at the basics.\n",
        "\n",
        "- Additional Sources\n",
        "    - [Purpose of “%matplotlib inline”](https://stackoverflow.com/questions/43027980/purpose-of-matplotlib-inline)\n",
        "    - [Pyplot vs Object Oriented Interface](https://matplotlib.org/matplotblog/posts/pyplot-vs-object-oriented-interface/)\n",
        "    - [plt.plot() docs](https://matplotlib.org/stable/api/_as_gen/matplotlib.pyplot.plot.html#matplotlib.pyplot.plot)"
      ]
    },
    {
      "cell_type": "markdown",
      "metadata": {
        "id": "sWCM9OglIqxD"
      },
      "source": [
        "To import Matplotlib we typically do following do\n",
        "\n",
        "```python\n",
        "import matplotlib.pyplot as plt\n",
        "```\n",
        "\n",
        "We import pyplot to gain some extra scripting features that don't require to use the object-oriented (OO) syntax. However, we still have access to the OO syntax when using pyplot. Additionally, the OO syntax is better when we want to have finer control over our plotting settings.\n",
        "\n",
        "Furthermore, notice the following line:\n",
        "```python\n",
        "%matplotlib inline\n",
        "```\n",
        "\n",
        "This line is specific to Jupyter Notebook and allows us to embed the plots directly into the notebook."
      ]
    },
    {
      "cell_type": "code",
      "execution_count": null,
      "metadata": {
        "id": "y_0P4hwJIqxD"
      },
      "outputs": [],
      "source": [
        "import matplotlib.pyplot as plt\n",
        "%matplotlib inline"
      ]
    },
    {
      "cell_type": "markdown",
      "metadata": {
        "id": "5I2-RYtPIqxD"
      },
      "source": [
        "## Basic Line Plotting\n",
        "\n",
        "The below code is an example of how to make an extremely simple line plot.\n",
        "\n",
        "Here `plt.plot()` is used to plot the data where `x` corresponds to the x-coords and `y` to the y-coords. Also, notice that matplotlib works with NumPy arrays!\n",
        "\n",
        "Further, `plt.ylabel` and `plt.xlabel` allow you to edit the x and y axis labels while `plt.title()` sets the title for the plot.\n",
        "\n",
        "Finally,`plt.show()` displays the actual plot and should always be called last!"
      ]
    },
    {
      "cell_type": "code",
      "execution_count": null,
      "metadata": {
        "id": "xcli_mb4IqxD",
        "outputId": "856a62f1-cf9c-4853-a4b4-80433b9a911f",
        "colab": {
          "base_uri": "https://localhost:8080/",
          "height": 472
        }
      },
      "outputs": [
        {
          "output_type": "display_data",
          "data": {
            "text/plain": [
              "<Figure size 640x480 with 1 Axes>"
            ],
            "image/png": "[encoded data removed]"
          },
          "metadata": {}
        }
      ],
      "source": [
        "x = [0, 1, 2, 3]\n",
        "y =  np.array([2, 1, 3, 4])\n",
        "plt.plot(x, y)\n",
        "plt.ylabel('y values')\n",
        "plt.xlabel('x values')\n",
        "plt.title(\"Basic Line Plot\")\n",
        "plt.show()"
      ]
    },
    {
      "cell_type": "markdown",
      "metadata": {
        "id": "QwcUCwefIqxE"
      },
      "source": [
        "Notice, we don't even have to specify x-coords as matplotlib will automatically generate coordinates for us if none are given."
      ]
    },
    {
      "cell_type": "code",
      "execution_count": null,
      "metadata": {
        "id": "0WRAYV-8IqxE",
        "outputId": "87518b07-0318-4a02-bd07-aaf7b3f745cf",
        "colab": {
          "base_uri": "https://localhost:8080/",
          "height": 472
        }
      },
      "outputs": [
        {
          "output_type": "display_data",
          "data": {
            "text/plain": [
              "<Figure size 640x480 with 1 Axes>"
            ],
            "image/png": "[encoded data removed]"
          },
          "metadata": {}
        }
      ],
      "source": [
        "plt.plot(y)\n",
        "plt.ylabel('y values')\n",
        "plt.xlabel('x values')\n",
        "plt.title(\"Autogenerated X-coords\")\n",
        "plt.show()"
      ]
    },
    {
      "cell_type": "markdown",
      "metadata": {
        "id": "zT2OBpAOIqxE"
      },
      "source": [
        "Furthermore, the `plt.plot()` method takes in format strings which allow us to combine different colors, line shapes, and plot marker types. Take a look at the below examples, they should speak for themselves!\n",
        "\n",
        "For more information on all the different arguments the format strings take for `plt.plot()` see the [official docs](https://matplotlib.org/stable/api/_as_gen/matplotlib.pyplot.plot.html#matplotlib.pyplot.plot)."
      ]
    },
    {
      "cell_type": "code",
      "execution_count": null,
      "metadata": {
        "id": "7fhZiYTgIqxE",
        "outputId": "266800bd-8eae-426d-d4b2-45f1c52e6aa2",
        "colab": {
          "base_uri": "https://localhost:8080/",
          "height": 472
        }
      },
      "outputs": [
        {
          "output_type": "display_data",
          "data": {
            "text/plain": [
              "<Figure size 640x480 with 1 Axes>"
            ],
            "image/png": "[encoded data removed]"
          },
          "metadata": {}
        }
      ],
      "source": [
        "plt.plot(y, 'b-')\n",
        "plt.plot(y+1, 'r--')\n",
        "plt.plot(y+2, 'g-.')\n",
        "plt.plot(y+3, 'k:')\n",
        "plt.ylabel('y values')\n",
        "plt.xlabel('x values')\n",
        "plt.title(\"Line and Color Types\")\n",
        "plt.show()"
      ]
    },
    {
      "cell_type": "code",
      "execution_count": null,
      "metadata": {
        "id": "p38y9w54IqxE",
        "outputId": "e961ec63-0b6c-43d0-9ee4-89e449285fe5",
        "colab": {
          "base_uri": "https://localhost:8080/",
          "height": 472
        }
      },
      "outputs": [
        {
          "output_type": "display_data",
          "data": {
            "text/plain": [
              "<Figure size 640x480 with 1 Axes>"
            ],
            "image/png": "[encoded data removed]"
          },
          "metadata": {}
        }
      ],
      "source": [
        "plt.plot(y, 'bo-')\n",
        "plt.plot(y+1, 'r.-')\n",
        "plt.plot(y+2, 'g*-')\n",
        "plt.ylabel('y values')\n",
        "plt.xlabel('x values')\n",
        "plt.title(\"Marker Types with Lines\")\n",
        "plt.show()"
      ]
    },
    {
      "cell_type": "code",
      "execution_count": null,
      "metadata": {
        "id": "CFqIVjDYIqxE",
        "outputId": "80c74a36-c81c-4cd4-bbcc-535412b50ca4",
        "colab": {
          "base_uri": "https://localhost:8080/",
          "height": 472
        }
      },
      "outputs": [
        {
          "output_type": "display_data",
          "data": {
            "text/plain": [
              "<Figure size 640x480 with 1 Axes>"
            ],
            "image/png": "[encoded data removed]"
          },
          "metadata": {}
        }
      ],
      "source": [
        "plt.plot(y, 'bo')\n",
        "plt.plot(y+1, 'r.')\n",
        "plt.plot(y+2, 'g*')\n",
        "plt.ylabel('y values')\n",
        "plt.xlabel('x values')\n",
        "plt.title(\"Marker Types\")\n",
        "plt.show()"
      ]
    },
    {
      "cell_type": "markdown",
      "metadata": {
        "id": "z7cFeUTWIqxE"
      },
      "source": [
        "There is a lot more to matplotlib but this should give you a very basic understanding of how to generate a simple line plots. In future weeks, we'll take a deeper look at other types of plots and how we can use them to gain insight into our data."
      ]
    },
    {
      "cell_type": "markdown",
      "metadata": {
        "id": "OMTFHxaRIqxE"
      },
      "source": [
        "# Equations to code\n",
        "\n",
        "Throughout this class you will need to convert equations into code. Thus, the below practice will focus on converting some different equations into code."
      ]
    },
    {
      "cell_type": "markdown",
      "metadata": {
        "id": "pCaDEaj9IqxE"
      },
      "source": [
        "## TODO 15\n",
        "Let's start off by converting the definition of the dot product into code! Complete this TODO by creating a class called `CosineSimilarity` which computes the cosine similarity (angle between two vectors) between any two vectors. You are **NOT** allowed to use any existing libraries to compute the angle, however you can use NumPy to compute the square root, arccos, and to convert your radians to degrees.\n",
        "\n",
        "<img src=\"https://qph.fs.quoracdn.net/main-qimg-121e33a016058274e82f77b05c92aa50\" width=300 height=300>\n",
        "\n",
        "1. Create the `CosineSimilarity` by following the below instructions:\n",
        "    1. Define the class `CosineSimilarity` using the `class` keyword.\n",
        "    2. Define the `__init__()` method which takes in three arguments `self`, `x`, and `z` and saves them as class variables. These two arguments will be the vectors in which the cosine similarity will be computed.\n",
        "    3. Define a method called `compute_angle()` that takes in no arguments other than `self` (remember `self` is a required argument for methods).\n",
        "    4. Within the `compute_angle()` method compute the angle between two vectors and return the answer in __degrees__.  Use the following equation to compute the angle between two vector.\n",
        "    $$ \\theta = \\text{arccos}(\\frac{\\mathbf{x} \\cdot \\mathbf{z}}{||\\mathbf{x}||_2 ||\\mathbf{z}||_2})\n",
        "    $$\n",
        "        1. Hint 1: Recall from the quiz that $\\cdot$ represents the dot product and $||\\cdot||_2$ represents the L2 norm\n",
        "    $$\n",
        "    ||\\mathbf{x}||_2 = \\sqrt{x_1^2 + x_2^2 + ... + x_n^2} = \\sqrt{\\mathbf{x} \\cdot \\mathbf{x}}\n",
        "    $$\n",
        "    where a vector dotted with itself is the same as squaring the vector.\n",
        "        2. Hint 2: Use `np.sqrt()` to compute the square root and `np.arccos()` to compute arccos.\n",
        "        3. Hint 3: The output of `np.arccos()` is in radians! **Be sure** to use `np.degrees()` to convert your output into degrees. If you don't do this you will fail the test.\n",
        "        4. Hint 4: Due to rounding errors your answer should be close to ~180 degrees."
      ]
    },
    {
      "cell_type": "code",
      "execution_count": null,
      "metadata": {
        "id": "t4AkVu_LIqxE"
      },
      "outputs": [],
      "source": [
        "# TODO 15.1\n",
        "import numpy as np\n",
        "\n",
        "class CosineSimilarity:\n",
        "    def __init__(self, x, z):\n",
        "        self.x = x\n",
        "        self.z = z\n",
        "\n",
        "    def compute_angle(self):\n",
        "        \"\"\"Computes the angle between two vectors in degrees.\n",
        "\n",
        "        Returns:\n",
        "            float: The angle between the two vectors in degrees.\n",
        "        \"\"\"\n",
        "        # Compute the dot product of the two vectors.\n",
        "        dot_product = np.dot(self.x, self.z)\n",
        "\n",
        "        # Compute the L2 norm of the two vectors.\n",
        "        x_norm = np.sqrt(np.dot(self.x, self.x))\n",
        "        z_norm = np.sqrt(np.dot(self.z, self.z))\n",
        "\n",
        "        # Compute the cosine similarity.\n",
        "        cosine_similarity = dot_product / (x_norm * z_norm)\n",
        "\n",
        "        # Compute the angle in radians.\n",
        "        angle_radians = np.arccos(cosine_similarity)\n",
        "\n",
        "        # Convert the angle to degrees.\n",
        "        angle_degrees = np.degrees(angle_radians)\n",
        "\n",
        "        return angle_degrees\n",
        "\n"
      ]
    },
    {
      "cell_type": "markdown",
      "metadata": {
        "id": "K4xCnzmYIqxE"
      },
      "source": [
        "Run the below code to test your implementation of the `CosineSimilarity` class."
      ]
    },
    {
      "cell_type": "code",
      "execution_count": null,
      "metadata": {
        "id": "GSyO8C58IqxF",
        "outputId": "dad44034-04b4-4b1a-c8b2-1a10b390b0bd",
        "colab": {
          "base_uri": "https://localhost:8080/"
        }
      },
      "outputs": [
        {
          "output_type": "stream",
          "name": "stdout",
          "text": [
            "angle output: 179.99999879258172\n",
            "Your code PASSED the code check!\n"
          ]
        }
      ],
      "source": [
        "x = np.array([1, 1])\n",
        "z = np.array([-2, -2])\n",
        "cosin_sim = CosineSimilarity(x, z)\n",
        "angle = cosin_sim.compute_angle()\n",
        "\n",
        "print(f\"angle output: {angle}\")\n",
        "\n",
        "todo_check([\n",
        "    (np.isclose(angle, 180.0), 'The value of the angle is not approximately 180 degrees! Make sure you converted from radians to degrees.')\n",
        "])"
      ]
    },
    {
      "cell_type": "markdown",
      "metadata": {
        "id": "J-fTYAKoIqxF"
      },
      "source": [
        "## TODO 16\n",
        "\n",
        "Next, let's review what [normal or Gaussian distribution](https://machinelearningmastery.com/statistical-data-distributions/) is while also practicing some equation to code conversion. Now this weeks math review didn't mention normal distributions but we did lightly cover probability distributions. Recall **a probability distribution is a list of outcomes and their associated probabilities**. Meaning, **a distribution is simply a collection of values or frequencies for a given observation**, like age of a population. A normal distribution is a specific type of probability distribution which looks like the following.\n",
        "<img src=\"https://external-content.duckduckgo.com/iu/?u=https%3A%2F%2Fupload.wikimedia.org%2Fwikipedia%2Fcommons%2Fthumb%2Fc%2Fc8%2FGaussian_distribution.svg%2F1280px-Gaussian_distribution.svg.png&f=1&nofb=1\" width=500 height=500>\n",
        "\n",
        "Further recall a normal distribution has the parameters $\\mu$ (referred to as mu) which represents the mean and $\\sigma$ (referred to as sigma) represents the standard deviation. Throughout the semester we'll frequently make the assumption that our data is normally distributed. This is because many natural phenomena are like age, height, test-scores, IQ scores, sum of the rolls of two dices and so on follow normal distributions, thus making such an assumption reasonable. As normal distributions are found in so many different places they are one of the important probability distribution in statistics and machine learning!\n",
        "\n",
        "The formula for a normal distribution is given as follows:\n",
        "\n",
        "![](https://wikimedia.org/api/rest_v1/media/math/render/svg/00cb9b2c9b866378626bcfa45c86a6de2f2b2e40)\n",
        "\n",
        "For this TODO let's convert the normal distribution equation to code and plot what a normal distribution looks like using Matplotlib.\n",
        "\n",
        "1. Define a function called `gaussian()` that takes in the arguments `x`, `mu`, and `sig`. Convert the above normal equation into code and return the output of the equation. Recall that `mu` represents $\\mu$ and `sig` represents $\\sigma$.\n",
        "2. Use the NumPy function `np.linspace()` ([docs](https://numpy.org/doc/stable/reference/generated/numpy.linspace.html)) to generate an array of 120 numbers between -4 and 4. Pass the arguments -4, 4, and 120 to do so. Store the output into the variable `x_values`.\n",
        "3. Call the `gaussian()` function that receives `x_values`, `mu`, and `sig`. Store the output into the variable `y_values`.\n",
        "5. Plot the `x_values` and `y_values` using Matplotlib `plt.plot()` function. You should see a normal distribution being plotted like in the above image!\n"
      ]
    },
    {
      "cell_type": "code",
      "execution_count": null,
      "metadata": {
        "id": "weaNEBqFIqxF"
      },
      "outputs": [],
      "source": [
        "# TODO 16.1\n",
        "def gaussian(x, mu, sig):\n",
        "    return 1./(np.sqrt(2.*np.pi)*sig)*np.exp(-np.power((x - mu)/sig, 2.)/2)\n",
        "\n"
      ]
    },
    {
      "cell_type": "code",
      "execution_count": null,
      "metadata": {
        "id": "NLWG100GIqxF",
        "outputId": "cbc20a24-59ad-498d-c6f8-1bbcdc1e058f",
        "colab": {
          "base_uri": "https://localhost:8080/"
        }
      },
      "outputs": [
        {
          "output_type": "execute_result",
          "data": {
            "text/plain": [
              "array([-4.        , -3.93277311, -3.86554622, -3.79831933, -3.73109244,\n",
              "       -3.66386555, -3.59663866, -3.52941176, -3.46218487, -3.39495798,\n",
              "       -3.32773109, -3.2605042 , -3.19327731, -3.12605042, -3.05882353,\n",
              "       -2.99159664, -2.92436975, -2.85714286, -2.78991597, -2.72268908,\n",
              "       -2.65546218, -2.58823529, -2.5210084 , -2.45378151, -2.38655462,\n",
              "       -2.31932773, -2.25210084, -2.18487395, -2.11764706, -2.05042017,\n",
              "       -1.98319328, -1.91596639, -1.8487395 , -1.78151261, -1.71428571,\n",
              "       -1.64705882, -1.57983193, -1.51260504, -1.44537815, -1.37815126,\n",
              "       -1.31092437, -1.24369748, -1.17647059, -1.1092437 , -1.04201681,\n",
              "       -0.97478992, -0.90756303, -0.84033613, -0.77310924, -0.70588235,\n",
              "       -0.63865546, -0.57142857, -0.50420168, -0.43697479, -0.3697479 ,\n",
              "       -0.30252101, -0.23529412, -0.16806723, -0.10084034, -0.03361345,\n",
              "        0.03361345,  0.10084034,  0.16806723,  0.23529412,  0.30252101,\n",
              "        0.3697479 ,  0.43697479,  0.50420168,  0.57142857,  0.63865546,\n",
              "        0.70588235,  0.77310924,  0.84033613,  0.90756303,  0.97478992,\n",
              "        1.04201681,  1.1092437 ,  1.17647059,  1.24369748,  1.31092437,\n",
              "        1.37815126,  1.44537815,  1.51260504,  1.57983193,  1.64705882,\n",
              "        1.71428571,  1.78151261,  1.8487395 ,  1.91596639,  1.98319328,\n",
              "        2.05042017,  2.11764706,  2.18487395,  2.25210084,  2.31932773,\n",
              "        2.38655462,  2.45378151,  2.5210084 ,  2.58823529,  2.65546218,\n",
              "        2.72268908,  2.78991597,  2.85714286,  2.92436975,  2.99159664,\n",
              "        3.05882353,  3.12605042,  3.19327731,  3.2605042 ,  3.32773109,\n",
              "        3.39495798,  3.46218487,  3.52941176,  3.59663866,  3.66386555,\n",
              "        3.73109244,  3.79831933,  3.86554622,  3.93277311,  4.        ])"
            ]
          },
          "metadata": {},
          "execution_count": 250
        }
      ],
      "source": [
        "np.linspace(-4, 4, 120).flatten()"
      ]
    },
    {
      "cell_type": "code",
      "execution_count": null,
      "metadata": {
        "scrolled": true,
        "id": "Ua_vLAB5IqxF",
        "outputId": "3df141a0-4703-4293-f702-ee0f0178ba91",
        "colab": {
          "base_uri": "https://localhost:8080/",
          "height": 463
        }
      },
      "outputs": [
        {
          "output_type": "display_data",
          "data": {
            "text/plain": [
              "array([-4.        , -3.93277311, -3.86554622, -3.79831933, -3.73109244,\n",
              "       -3.66386555, -3.59663866, -3.52941176, -3.46218487, -3.39495798,\n",
              "       -3.32773109, -3.2605042 , -3.19327731, -3.12605042, -3.05882353,\n",
              "       -2.99159664, -2.92436975, -2.85714286, -2.78991597, -2.72268908,\n",
              "       -2.65546218, -2.58823529, -2.5210084 , -2.45378151, -2.38655462,\n",
              "       -2.31932773, -2.25210084, -2.18487395, -2.11764706, -2.05042017,\n",
              "       -1.98319328, -1.91596639, -1.8487395 , -1.78151261, -1.71428571,\n",
              "       -1.64705882, -1.57983193, -1.51260504, -1.44537815, -1.37815126,\n",
              "       -1.31092437, -1.24369748, -1.17647059, -1.1092437 , -1.04201681,\n",
              "       -0.97478992, -0.90756303, -0.84033613, -0.77310924, -0.70588235,\n",
              "       -0.63865546, -0.57142857, -0.50420168, -0.43697479, -0.3697479 ,\n",
              "       -0.30252101, -0.23529412, -0.16806723, -0.10084034, -0.03361345,\n",
              "        0.03361345,  0.10084034,  0.16806723,  0.23529412,  0.30252101,\n",
              "        0.3697479 ,  0.43697479,  0.50420168,  0.57142857,  0.63865546,\n",
              "        0.70588235,  0.77310924,  0.84033613,  0.90756303,  0.97478992,\n",
              "        1.04201681,  1.1092437 ,  1.17647059,  1.24369748,  1.31092437,\n",
              "        1.37815126,  1.44537815,  1.51260504,  1.57983193,  1.64705882,\n",
              "        1.71428571,  1.78151261,  1.8487395 ,  1.91596639,  1.98319328,\n",
              "        2.05042017,  2.11764706,  2.18487395,  2.25210084,  2.31932773,\n",
              "        2.38655462,  2.45378151,  2.5210084 ,  2.58823529,  2.65546218,\n",
              "        2.72268908,  2.78991597,  2.85714286,  2.92436975,  2.99159664,\n",
              "        3.05882353,  3.12605042,  3.19327731,  3.2605042 ,  3.32773109,\n",
              "        3.39495798,  3.46218487,  3.52941176,  3.59663866,  3.66386555,\n",
              "        3.73109244,  3.79831933,  3.86554622,  3.93277311,  4.        ])"
            ]
          },
          "metadata": {}
        },
        {
          "output_type": "stream",
          "name": "stdout",
          "text": [
            "Your code PASSED the code check!\n"
          ]
        }
      ],
      "source": [
        "mu = 0 # mean\n",
        "sig = 1 # std\n",
        "\n",
        "# TODO 16.2\n",
        "x_values = np.linspace(-4, 4, 120).flatten()\n",
        "\n",
        "display(x_values)\n",
        "\n",
        "todo_check([\n",
        "   (x_values.shape == (120,), 'x_values does not have the correct shape of (120,)'),\n",
        "   (np.all(np.isclose(x_values, np.array([-4.        , -3.93277311, -3.86554622, -3.79831933, -3.73109244,        -3.66386555, -3.59663866, -3.52941176, -3.46218487, -3.39495798,        -3.32773109, -3.2605042 , -3.19327731, -3.12605042, -3.05882353,        -2.99159664, -2.92436975, -2.85714286, -2.78991597, -2.72268908,        -2.65546218, -2.58823529, -2.5210084 , -2.45378151, -2.38655462,        -2.31932773, -2.25210084, -2.18487395, -2.11764706, -2.05042017,        -1.98319328, -1.91596639, -1.8487395 , -1.78151261, -1.71428571,        -1.64705882, -1.57983193, -1.51260504, -1.44537815, -1.37815126,        -1.31092437, -1.24369748, -1.17647059, -1.1092437 , -1.04201681,        -0.97478992, -0.90756303, -0.84033613, -0.77310924, -0.70588235,        -0.63865546, -0.57142857, -0.50420168, -0.43697479, -0.3697479 ,        -0.30252101, -0.23529412, -0.16806723, -0.10084034, -0.03361345,         0.03361345,  0.10084034,  0.16806723,  0.23529412,  0.30252101,         0.3697479 ,  0.43697479,  0.50420168,  0.57142857,  0.63865546,         0.70588235,  0.77310924,  0.84033613,  0.90756303,  0.97478992,         1.04201681,  1.1092437 ,  1.17647059,  1.24369748,  1.31092437,         1.37815126,  1.44537815,  1.51260504,  1.57983193,  1.64705882,         1.71428571,  1.78151261,  1.8487395 ,  1.91596639,  1.98319328,         2.05042017,  2.11764706,  2.18487395,  2.25210084,  2.31932773,         2.38655462,  2.45378151,  2.5210084 ,  2.58823529,  2.65546218,         2.72268908,  2.78991597,  2.85714286,  2.92436975,  2.99159664,         3.05882353,  3.12605042,  3.19327731,  3.2605042 ,  3.32773109,         3.39495798,  3.46218487,  3.52941176,  3.59663866,  3.66386555,         3.73109244,  3.79831933,  3.86554622,  3.93277311,  4.        ]), rtol=.001)), 'x_values does not have the correct values')\n",
        "])"
      ]
    },
    {
      "cell_type": "code",
      "execution_count": null,
      "metadata": {
        "scrolled": true,
        "id": "I-bbpwJ2IqxF",
        "outputId": "d0958b8d-5e17-4fa0-9dbd-60f56d09c6f0",
        "colab": {
          "base_uri": "https://localhost:8080/",
          "height": 571
        }
      },
      "outputs": [
        {
          "output_type": "display_data",
          "data": {
            "text/plain": [
              "array([1.33830226e-04, 1.74726145e-04, 2.27090415e-04, 2.93817012e-04,\n",
              "       3.78435874e-04, 4.85226918e-04, 6.19347941e-04, 7.86976449e-04,\n",
              "       9.95465009e-04, 1.25350909e-03, 1.57132566e-03, 1.96083994e-03,\n",
              "       2.43587675e-03, 3.01235189e-03, 3.70845762e-03, 4.54483545e-03,\n",
              "       5.54472782e-03, 6.73409948e-03, 8.14171785e-03, 9.79918133e-03,\n",
              "       1.17408832e-02, 1.40038988e-02, 1.66277845e-02, 1.96542754e-02,\n",
              "       2.31268728e-02, 2.70903123e-02, 3.15899063e-02, 3.66707582e-02,\n",
              "       4.23768496e-02, 4.87500056e-02, 5.58287494e-02, 6.36470609e-02,\n",
              "       7.22330635e-02, 8.16076628e-02, 9.17831740e-02, 1.02761972e-01,\n",
              "       1.14535209e-01, 1.27081643e-01, 1.40366624e-01, 1.54341287e-01,\n",
              "       1.68941989e-01, 1.84090049e-01, 1.99691809e-01, 2.15639052e-01,\n",
              "       2.31809806e-01, 2.48069526e-01, 2.64272673e-01, 2.80264650e-01,\n",
              "       2.95884091e-01, 3.10965445e-01, 3.25341808e-01, 3.38847936e-01,\n",
              "       3.51323369e-01, 3.62615579e-01, 3.72583059e-01, 3.81098269e-01,\n",
              "       3.88050344e-01, 3.93347502e-01, 3.96919051e-01, 3.98716969e-01,\n",
              "       3.98716969e-01, 3.96919051e-01, 3.93347502e-01, 3.88050344e-01,\n",
              "       3.81098269e-01, 3.72583059e-01, 3.62615579e-01, 3.51323369e-01,\n",
              "       3.38847936e-01, 3.25341808e-01, 3.10965445e-01, 2.95884091e-01,\n",
              "       2.80264650e-01, 2.64272673e-01, 2.48069526e-01, 2.31809806e-01,\n",
              "       2.15639052e-01, 1.99691809e-01, 1.84090049e-01, 1.68941989e-01,\n",
              "       1.54341287e-01, 1.40366624e-01, 1.27081643e-01, 1.14535209e-01,\n",
              "       1.02761972e-01, 9.17831740e-02, 8.16076628e-02, 7.22330635e-02,\n",
              "       6.36470609e-02, 5.58287494e-02, 4.87500056e-02, 4.23768496e-02,\n",
              "       3.66707582e-02, 3.15899063e-02, 2.70903123e-02, 2.31268728e-02,\n",
              "       1.96542754e-02, 1.66277845e-02, 1.40038988e-02, 1.17408832e-02,\n",
              "       9.79918133e-03, 8.14171785e-03, 6.73409948e-03, 5.54472782e-03,\n",
              "       4.54483545e-03, 3.70845762e-03, 3.01235189e-03, 2.43587675e-03,\n",
              "       1.96083994e-03, 1.57132566e-03, 1.25350909e-03, 9.95465009e-04,\n",
              "       7.86976449e-04, 6.19347941e-04, 4.85226918e-04, 3.78435874e-04,\n",
              "       2.93817012e-04, 2.27090415e-04, 1.74726145e-04, 1.33830226e-04])"
            ]
          },
          "metadata": {}
        },
        {
          "output_type": "stream",
          "name": "stdout",
          "text": [
            "Your code PASSED the code check!\n"
          ]
        }
      ],
      "source": [
        "# TODO 16.3\n",
        "y_values = gaussian(x_values, mu, sig)\n",
        "\n",
        "display(y_values)\n",
        "\n",
        "todo_check([\n",
        "    (y_values.shape == (120,), 'y_values does not have the correct shape of (120,)'),\n",
        "    (np.all(np.isclose(y_values, np.array([1.33830226e-04, 1.74726145e-04, 2.27090415e-04, 2.93817012e-04,        3.78435874e-04, 4.85226918e-04, 6.19347941e-04, 7.86976449e-04,        9.95465009e-04, 1.25350909e-03, 1.57132566e-03, 1.96083994e-03,        2.43587675e-03, 3.01235189e-03, 3.70845762e-03, 4.54483545e-03,        5.54472782e-03, 6.73409948e-03, 8.14171785e-03, 9.79918133e-03,        1.17408832e-02, 1.40038988e-02, 1.66277845e-02, 1.96542754e-02,        2.31268728e-02, 2.70903123e-02, 3.15899063e-02, 3.66707582e-02,        4.23768496e-02, 4.87500056e-02, 5.58287494e-02, 6.36470609e-02,        7.22330635e-02, 8.16076628e-02, 9.17831740e-02, 1.02761972e-01,        1.14535209e-01, 1.27081643e-01, 1.40366624e-01, 1.54341287e-01,        1.68941989e-01, 1.84090049e-01, 1.99691809e-01, 2.15639052e-01,        2.31809806e-01, 2.48069526e-01, 2.64272673e-01, 2.80264650e-01,        2.95884091e-01, 3.10965445e-01, 3.25341808e-01, 3.38847936e-01,        3.51323369e-01, 3.62615579e-01, 3.72583059e-01, 3.81098269e-01,        3.88050344e-01, 3.93347502e-01, 3.96919051e-01, 3.98716969e-01,        3.98716969e-01, 3.96919051e-01, 3.93347502e-01, 3.88050344e-01,        3.81098269e-01, 3.72583059e-01, 3.62615579e-01, 3.51323369e-01,        3.38847936e-01, 3.25341808e-01, 3.10965445e-01, 2.95884091e-01,        2.80264650e-01, 2.64272673e-01, 2.48069526e-01, 2.31809806e-01,        2.15639052e-01, 1.99691809e-01, 1.84090049e-01, 1.68941989e-01,        1.54341287e-01, 1.40366624e-01, 1.27081643e-01, 1.14535209e-01,        1.02761972e-01, 9.17831740e-02, 8.16076628e-02, 7.22330635e-02,        6.36470609e-02, 5.58287494e-02, 4.87500056e-02, 4.23768496e-02,        3.66707582e-02, 3.15899063e-02, 2.70903123e-02, 2.31268728e-02,        1.96542754e-02, 1.66277845e-02, 1.40038988e-02, 1.17408832e-02,        9.79918133e-03, 8.14171785e-03, 6.73409948e-03, 5.54472782e-03,        4.54483545e-03, 3.70845762e-03, 3.01235189e-03, 2.43587675e-03,        1.96083994e-03, 1.57132566e-03, 1.25350909e-03, 9.95465009e-04,        7.86976449e-04, 6.19347941e-04, 4.85226918e-04, 3.78435874e-04,        2.93817012e-04, 2.27090415e-04, 1.74726145e-04, 1.33830226e-04]),rtol=.001)), 'y_values does not contain the correct values')\n",
        "])"
      ]
    },
    {
      "cell_type": "code",
      "execution_count": null,
      "metadata": {
        "id": "mNxhTGixIqxF",
        "outputId": "01f1619b-8ec9-4ffc-dc24-403a6aa49369",
        "colab": {
          "base_uri": "https://localhost:8080/",
          "height": 430
        }
      },
      "outputs": [
        {
          "output_type": "display_data",
          "data": {
            "text/plain": [
              "<Figure size 640x480 with 1 Axes>"
            ],
            "image/png": "[encoded data removed]"
          },
          "metadata": {}
        }
      ],
      "source": [
        "# TODO 16.4\n",
        "plots = plt.plot(x_values, y_values)"
      ]
    },
    {
      "cell_type": "code",
      "execution_count": null,
      "metadata": {
        "id": "XpE5AY1eIqxF",
        "outputId": "8bdaf59d-d7da-4812-9562-6cc42a0be616",
        "colab": {
          "base_uri": "https://localhost:8080/",
          "height": 430
        }
      },
      "outputs": [
        {
          "output_type": "display_data",
          "data": {
            "text/plain": [
              "<Figure size 640x480 with 1 Axes>"
            ],
            "image/png": "[encoded data removed]"
          },
          "metadata": {}
        }
      ],
      "source": [
        "# TODO 16.4\n",
        "plots = plt.plot(x_values, y_values)"
      ]
    },
    {
      "cell_type": "code",
      "source": [],
      "metadata": {
        "id": "X-GSlzpufs--"
      },
      "execution_count": null,
      "outputs": []
    }
  ],
  "metadata": {
    "kernelspec": {
      "display_name": "Python 3",
      "language": "python",
      "name": "python3"
    },
    "language_info": {
      "codemirror_mode": {
        "name": "ipython",
        "version": 3
      },
      "file_extension": ".py",
      "mimetype": "text/x-python",
      "name": "python",
      "nbconvert_exporter": "python",
      "pygments_lexer": "ipython3",
      "version": "3.7.4"
    },
    "toc": {
      "base_numbering": 1,
      "nav_menu": {},
      "number_sections": true,
      "sideBar": true,
      "skip_h1_title": false,
      "title_cell": "Table of Contents",
      "title_sidebar": "Contents",
      "toc_cell": false,
      "toc_position": {
        "height": "calc(100% - 180px)",
        "left": "10px",
        "top": "150px",
        "width": "236px"
      },
      "toc_section_display": true,
      "toc_window_display": true
    },
    "colab": {
      "provenance": []
    }
  },
  "nbformat": 4,
  "nbformat_minor": 0
}