{
 "cells": [
  {
   "cell_type": "markdown",
   "id": "31944fc0",
   "metadata": {},
   "source": [
    "# Topics in Computer Science - Bitcoin: Programming the Future of Money - ITCS 4010 & 5010 - Spring 2025 - UNC Charlotte\n",
    "\n",
    "# Homework 7 - Sending a Testnet Transaction, Lightning Network (65 Points)"
   ]
  },
  {
   "cell_type": "markdown",
   "id": "19d53131-b8bb-4fea-89cf-9dd5b92ed8c7",
   "metadata": {},
   "source": [
    "Names of Student:\n",
    "\n",
    "Charlotte ID:\n",
    "\n",
    "List of students collaborated with:"
   ]
  },
  {
   "cell_type": "markdown",
   "id": "7a255941-f2cd-4a13-b0e1-f3af36e0ce72",
   "metadata": {},
   "source": [
    "# <font color=\"blue\"> Submission instructions</font>\n",
    "\n",
    "1. Click the Save button at the top of the Jupyter Notebook.\n",
    "2. Please make sure to have entered your name above.\n",
    "3. Select Cell -> All Output -> Clear. This will clear all the outputs from all cells (but will keep the content of all cells). \n",
    "4. Select Cell -> Run All. This will run all the cells in order, and will take several minutes.\n",
    "5. Once you've rerun everything, select File -> Download as -> PDF via LaTeX and download a PDF version showing the code and the output of all cells, and save it in the same folder that contains the notebook file.\n",
    "6. Look at the PDF file and make sure all your solutions are there, displayed correctly.\n",
    "7. Submit **both** your PDF and the notebook file .ipynb on Gradescope.\n",
    "8. Make sure your your Gradescope submission contains the correct files by downloading it after posting it on Gradescope."
   ]
  },
  {
   "cell_type": "markdown",
   "id": "636e6bc6-5226-4c32-95e0-388565ec9850",
   "metadata": {},
   "source": [
    "### Make sure you have the output of all cells in the PDF version."
   ]
  },
  {
   "cell_type": "code",
   "execution_count": null,
   "id": "b7505c50-022a-4099-b79b-119336dd96a8",
   "metadata": {},
   "outputs": [],
   "source": [
    "import requests\n",
    "from helper import little_endian_to_int, hash256\n",
    "from helper import decode_base58, SIGHASH_ALL\n",
    "from script import p2pkh_script, Script\n",
    "from tx import TxIn, TxOut, Tx\n",
    "from ecc import PrivateKey\n",
    "from io import BytesIO"
   ]
  },
  {
   "cell_type": "markdown",
   "id": "070dd3df-c4a4-4db6-8bfe-8f35c160e82f",
   "metadata": {},
   "source": [
    "### Exercise 1 (10 Points)\n",
    "\n",
    "Recall that a [UTXO (Unspent Transaction Output)](https://learnmeabitcoin.com/technical/transaction/utxo/) is a key object in the Bitcoin protocol, represent a denomination of bitcoins that corresponds to one of the outputs of a transaction, but which has not yet been spent. \n",
    "\n",
    "For the purpose of this homework, we will represent a UTXO as a tuple, where the first element is the transaction ID (of the transaction of which the UTXO is one of the outputs), and the second element is the output index.\n",
    "\n",
    "Write a function `BuildTx1to2` that accepts `(UTXO, fromAddress, toAddress)` as inputs and constructs a 1 Input-2 Output transaction. The function should first prompt the user to specify the exact amount (in sats or in BTC) to be sent from `fromAddress` to `toAddress`. Next, it should ask for the transaction fee (in sats) that you want to set for this transaction. The function should then also calculate the correct output amount that corresponds to the second output of the transaction, which corresponds to the \"change UTXO\" that is going back to the `fromAddress`. You can assume that `fromAddress` and `toAddress` are P2PKH addresses.\n",
    "\n",
    "Once the output amounts are determined, the function should construct a P2PKH testnet transaction that transfers the specified amount from `fromAddress` to `toAddress` and returns the change amount to `fromAddress`. The function should return a `Tx` class instance (see `tx.py`) displaying the current txID, version, input transactions, output transactions and locktime.\n",
    "\n",
    "(When using this function, ensure the fee is reasonable to successfully broadcast the transaction to the Testnet4 network.)\n",
    "\n",
    "**Hints**: Use the classes and functions from `tx.py`, `script.py`, and `helper.py` as needed. Look up how the `TxIn` and `TxOut` classes work in `tx.py`: `TxIn` is able to prepare an \"input\" part of a transaction, and the `TxOut` class is able to prepare an \"output\" part of a transaction. You can use the`decode_base58` function from `helper.py` to obtain public key hashes from P2PKH addresses in a 20-byte representation. Consider using  `p2pkh_script` function from `script.py` to obtain the a suitable ScriptPubKey.\n"
   ]
  },
  {
   "cell_type": "code",
   "execution_count": null,
   "id": "a4c31ccf-3efa-4c44-8a5c-93de2086d639",
   "metadata": {},
   "outputs": [],
   "source": [
    "#YOUR CODE HERE"
   ]
  },
  {
   "cell_type": "markdown",
   "id": "5fa4dc3f-da76-4ad3-a0cf-b914e0a34be3",
   "metadata": {},
   "source": [
    "### Exercise 2 (10 Points)\n",
    "\n",
    "Create the UTXO tuple using the transaction id and output index from the transaction corresponding to the funding your testnet4 P2PKH address using the Testnet4 faucet you used in Exercise 4 of Homework 6.\n",
    "\n",
    "**Hint:** You can find the transaction id (TxID) TxID and index from [mempool.space](https://mempool.space/testnet4).\n",
    "\n",
    "Create a testnet4 transaction that sends one UTXO to the P2PKH address `mpiEesA69LYWvdgRaBFV5DXEcjDGnTPHrp` with an amount of at least $50000$ sats. You can choose the fee at your will, but set it at least at 2000 sats.\n",
    "\n",
    "For this transaction, **print the transaction object, serialized transaction object and fee.**\n",
    "\n",
    "#### Note: Submissions without printed outputs may lead to point deductions."
   ]
  },
  {
   "cell_type": "code",
   "execution_count": null,
   "id": "038ef61f-54fa-4880-bddd-2417fbf02b29",
   "metadata": {},
   "outputs": [],
   "source": [
    "#YOUR CODE HERE"
   ]
  },
  {
   "cell_type": "markdown",
   "id": "2d1b3cb5-149c-4de1-a337-5f1e52dee831",
   "metadata": {},
   "source": [
    "### Exercise 3 (10 Points)\n",
    "\n",
    "Using the private key you used in Homework 6, sign the input (or inputs, if applicable) of your transaction. Print then the serialized raw (signed) transaction.\n",
    "\n",
    "(When submitting this part of the homework, make sure that you do not leak your private key to us!)\n",
    "\n",
    "**Hint:** You may use `sign_input` method of `tx.py` to sign the inputs."
   ]
  },
  {
   "cell_type": "code",
   "execution_count": null,
   "id": "35333348-242b-4284-a390-63bb76eea6d8",
   "metadata": {},
   "outputs": [],
   "source": [
    "#YOUR CODE HERE"
   ]
  },
  {
   "cell_type": "markdown",
   "id": "38007bc9-da4b-49de-ad4d-e55740f4def5",
   "metadata": {},
   "source": [
    "### Exercise 4 (20 Points)\n",
    "\n",
    "Submit this transaction to the testnet4 network and make sure that the transaction becomes part of the testnet4 blockchain.\n",
    "\n",
    "To do this, you have two options:\n",
    "- The recommended way of doing this is to use Bitcoin Core of version 0.28 or higher, as this version of Bitcoin Core supports testnet4. You can follow [these hints](https://bitcoin.stackexchange.com/questions/124443/how-can-i-enable-testnet4-in-bitcoin-core-28-0) to see how to use Bitcoin Core on testnet4. Downloading the full testnet4 blockchain should not take up more than 9 GB and should be probably be feasible on your personal desktop/laptop computer. You can look for an appropriate RPC command that does the job of submitting the transaction from Exercise 3.\n",
    "- You can use a third-party API to do the job for you.\n",
    "\n",
    "**Document the procedure your followed, and print the transaction ID (TxID).**\n",
    "\n",
    "This exercise will be graded also based on the fact whether the coins actually arrive at the address or not."
   ]
  },
  {
   "cell_type": "code",
   "execution_count": null,
   "id": "6238f739-fa82-4656-ad90-a261f6ccc123",
   "metadata": {},
   "outputs": [],
   "source": [
    "#YOUR CODE HERE"
   ]
  },
  {
   "cell_type": "markdown",
   "id": "ed9faf1e",
   "metadata": {},
   "source": [
    "### Exercise 5 (10 Points)\n",
    "\n",
    "Assume Alice and Bob have previously created a Lightning Network payment channel with an original balance of 0 satoshis on Alice's side of the channel and a balance of 200,000 satoshis on Bob's side of the channel. After transacting within this payment channel, the current balance is 140,000 satoshis on Alice's side and 60,000 satoshis on Bob's side.\n",
    "\n",
    "Alice is on holidays and unfortunately, the computer she uses at home to run the Lightning Network node software is offline after a electricity outage. Bob notices that Alice's node is unreachable. He uses this opportunity to publish the original commitment transaction that repays him 200,000 satoshis, in order to steal 140,000 satoshis of Alice's funds.\n",
    "\n",
    "Assuming that is not able to get her node back online in the next three weeks, what can Alice do (or could have done) to prevent a loss of funds? Explain a mechanism that can prevent her losing her 140,000 satoshis in the above scenario."
   ]
  },
  {
   "cell_type": "markdown",
   "id": "ad213a26",
   "metadata": {},
   "source": [
    "(provide your answer here below)\n",
    "\n"
   ]
  },
  {
   "cell_type": "markdown",
   "id": "113b030a",
   "metadata": {},
   "source": [
    "### Exercise 6 (5 Points)\n",
    "\n",
    "We learnt in class that Alice can send funds to Bob in the Lightning Network even if she does not have a direct payment channel to Bob, but if she is indirectly connected to Bob through a \"path\" of Lightning Network channels, for example, via a pair of channels that include Charlie (one channel between Alice and Charlie, one channel between Charlie and Bob). \n",
    "\n",
    "Using your knowledge of the Lightning Network protocol, explain a reason why Charlie would forward any payment between Alice and Bob for a payment in which he is not a recipient."
   ]
  },
  {
   "cell_type": "markdown",
   "id": "14444617",
   "metadata": {},
   "source": [
    "(provide your answer here below)\n",
    "\n"
   ]
  }
 ],
 "metadata": {
  "kernelspec": {
   "display_name": "Python 3 (ipykernel)",
   "language": "python",
   "name": "python3"
  },
  "language_info": {
   "codemirror_mode": {
    "name": "ipython",
    "version": 3
   },
   "file_extension": ".py",
   "mimetype": "text/x-python",
   "name": "python",
   "nbconvert_exporter": "python",
   "pygments_lexer": "ipython3",
   "version": "3.11.8"
  }
 },
 "nbformat": 4,
 "nbformat_minor": 5
}
