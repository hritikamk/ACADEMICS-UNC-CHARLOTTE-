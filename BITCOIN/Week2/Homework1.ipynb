{
 "cells": [
  {
   "cell_type": "markdown",
   "id": "8176e014",
   "metadata": {},
   "source": [
    "# Topics in Computer Science - Bitcoin: Programming the Future of Money - ITCS 4010 & 5010 - Spring 2025 - UNC Charlotte\n",
    "\n",
    "# Homework 1 - Python Recap (60 Points)"
   ]
  },
  {
   "cell_type": "markdown",
   "id": "9c8f2aff-d020-4359-846f-29fc217394c4",
   "metadata": {},
   "source": [
    "### Write Your Name Here:\n",
    "\n",
    "### Names of collaborators:\n",
    "\n"
   ]
  },
  {
   "cell_type": "markdown",
   "id": "365f2a71-7468-4668-ad37-d2af58d284fe",
   "metadata": {},
   "source": [
    "# <font color=\"blue\"> Submission instructions</font>\n",
    "\n",
    "1. Click the Save button at the top of the Jupyter Notebook.\n",
    "2. Please make sure to have entered your name above.\n",
    "3. Select Cell -> All Output -> Clear. This will clear all the outputs from all cells (but will keep the content of all cells). \n",
    "4. Select Cell -> Run All. This will run all the cells in order, and will take several minutes.\n",
    "5. Once you've rerun everything, select File -> Download as -> PDF via LaTeX and download a PDF version showing the code and the output of all cells, and save it in the same folder that contains the notebook file.\n",
    "6. Look at the PDF file and make sure all your solutions are there, displayed correctly.\n",
    "7. Submit **both** your PDF and the notebook file .ipynb on Gradescope.\n",
    "8. Make sure your your Gradescope submission contains the correct files by downloading it after posting it on Gradescope."
   ]
  },
  {
   "cell_type": "markdown",
   "id": "39bfce98-0d28-4328-be08-88cbf1d2b70d",
   "metadata": {},
   "source": [
    "### 1. Functions (5 Points)\n",
    "\n",
    "**Disclaimer: Do not use numpy library in this assignment!** The point of this assignment is to implement important basic functions in native Python."
   ]
  },
  {
   "cell_type": "markdown",
   "id": "307bc510-8811-41e3-92d0-29d7c7c42d83",
   "metadata": {},
   "source": [
    "### a. Dot Product (2 Points)\n",
    "The function `dotProduct` multiplies two vectors together. Represent vectors as simple lists. Therefore, the product of vector $a=(a_1…a_n)$ and $b=(b_1…b_n)$is given by:\n",
    "\n",
    "$\\hspace{10mm}\\sum_{i=1}^n(a_i b_i)$\n",
    "\n",
    "Now write a function `dotProduct` which takes two inputs `vec1`, `vec2` and returns the dot product of the two vectors.\n"
   ]
  },
  {
   "cell_type": "code",
   "execution_count": null,
   "id": "f567080a-bb3c-42f2-9fdb-6df20cc1e1d5",
   "metadata": {},
   "outputs": [],
   "source": [
    "#Your code here#"
   ]
  },
  {
   "cell_type": "code",
   "execution_count": null,
   "id": "cf42a3b6-943e-4e08-8d82-47e4dd00a0bd",
   "metadata": {},
   "outputs": [],
   "source": [
    "vector1 = [1, 2, 3]\n",
    "vector2 = [4, 5, 6]\n",
    "dotprod = dotProduct(vector1, vector2)\n",
    "print(\"Dot product is:\", dotprod)"
   ]
  },
  {
   "cell_type": "markdown",
   "id": "92307a19-66d7-4a4f-976f-f1af439f7066",
   "metadata": {},
   "source": [
    "### b. Check datastructure (3 Points)\n",
    "Write a function `isDict` that takes a data structure as an input and returns a Boolean, True if the structure is a dictionary and False otherwise."
   ]
  },
  {
   "cell_type": "code",
   "execution_count": null,
   "id": "6954deea-99ce-48bd-8cdc-e597d0ee05d5",
   "metadata": {},
   "outputs": [],
   "source": [
    "#Your code here#"
   ]
  },
  {
   "cell_type": "code",
   "execution_count": null,
   "id": "5ce7157d-e989-4fd0-971f-b7653d5e22e0",
   "metadata": {},
   "outputs": [],
   "source": [
    "data_struct_1 = {'a':123, 'b': 456}\n",
    "data_struct_2 = [1, 2, 3, 4]\n",
    "print(isDict(data_struct_1))\n",
    "print(isDict(data_struct_2))"
   ]
  },
  {
   "cell_type": "markdown",
   "id": "b8145cce-e945-4ade-9465-fece9cdf9466",
   "metadata": {},
   "source": [
    "### 2. Introduction to OOP (15 Points)\n",
    "This exercise introduces basic Object-Oriented Programming (OOP) concepts in Python. You'll create a superclass named Shapes along with subclasses for various shapes. The exercise also includes implementing basic mathematical functions such as calculating area and perimeter.\n",
    "\n",
    "### a. Shapes (3 Points)\n",
    "Start by defining the `Shapes` class, initializing it with a shape name in the `__init__` method. Implement the `__repr__` method to return a string in the format \"`<shape name>` is a shape\" (for example, print(Circle) should output Circle is a shape)."
   ]
  },
  {
   "cell_type": "code",
   "execution_count": null,
   "id": "8febb149-dc66-4744-88d9-05e118510088",
   "metadata": {},
   "outputs": [],
   "source": [
    "class Shapes:\n",
    "    def __init__(self, name):\n",
    "        #Your code here#\n",
    "    def __repr__(self):\n",
    "        #Your code here#\n"
   ]
  },
  {
   "cell_type": "code",
   "execution_count": null,
   "id": "d7e08986-40d4-4053-9938-ded1b7e88ae5",
   "metadata": {},
   "outputs": [],
   "source": [
    "pentagon = Shapes(\"pentagon\")\n",
    "print(pentagon, \"\\n\")"
   ]
  },
  {
   "cell_type": "markdown",
   "id": "e22d966e-e12f-4254-9747-9a3bbf570d5e",
   "metadata": {},
   "source": [
    "### b. Circle (5 Points)\n",
    "Define a subclass of Shapes – `Circle` and initialize the only input: radius.\n",
    "\n",
    "`__repr__` method should return the radius of the circle.\n",
    "\n",
    "Write the method `area` which returns the area of the circle and the method `perimeter` which returns the perimeter of the circle."
   ]
  },
  {
   "cell_type": "code",
   "execution_count": null,
   "id": "5f801baf-aeea-4281-8f6d-10078738b284",
   "metadata": {},
   "outputs": [],
   "source": [
    "#Your code here#"
   ]
  },
  {
   "cell_type": "code",
   "execution_count": null,
   "id": "50abea2a-54c2-4c65-84c8-affe2e907ed5",
   "metadata": {},
   "outputs": [],
   "source": [
    "circle1 = Circle(5)\n",
    "print(circle1, \"\\n\")"
   ]
  },
  {
   "cell_type": "code",
   "execution_count": null,
   "id": "4b1d6e38-7949-4969-b50a-386c32a5c387",
   "metadata": {},
   "outputs": [],
   "source": [
    "import math\n",
    "c1Area = circle1.area()\n",
    "print(\"The area of circle1 is\", c1Area, \"\\n\")"
   ]
  },
  {
   "cell_type": "code",
   "execution_count": null,
   "id": "6d0d2d5f-28d8-4d39-ac89-ae35c2898f05",
   "metadata": {},
   "outputs": [],
   "source": [
    "c1Per = circle1.perimeter()\n",
    "print(\"The perimeter of circle1 is\", c1Per, \"\\n\")"
   ]
  },
  {
   "cell_type": "markdown",
   "id": "dda8ba82-9eec-46a4-b1f2-cf95891f9579",
   "metadata": {},
   "source": [
    "### c. Triangle 1 (4 Points)\n",
    "Define a subclass of Shapes – `Triangle` and initialize the inputs: base and height.\n",
    "\n",
    "`__repr__` method should return the value of base and height of the triangle in the format - `<base> & <height>`. \n",
    "\n",
    "Write the method `area` that returns the area of the triangle. "
   ]
  },
  {
   "cell_type": "code",
   "execution_count": null,
   "id": "60525c25-fb03-46ae-b176-784aa42bf7db",
   "metadata": {},
   "outputs": [],
   "source": [
    "#Your code here#"
   ]
  },
  {
   "cell_type": "code",
   "execution_count": null,
   "id": "8514b5ef-dc83-4ae1-b373-7d4c5fa2a0a7",
   "metadata": {},
   "outputs": [],
   "source": [
    "triangle1 = Triangle(2, 22)\n",
    "print(triangle1, \"\\n\")"
   ]
  },
  {
   "cell_type": "code",
   "execution_count": null,
   "id": "043312bd-752e-4f2a-a8b3-b0a94df68191",
   "metadata": {},
   "outputs": [],
   "source": [
    "tri1Area = triangle1.area()\n",
    "print(\"The area of triangle1 is\", tri1Area, \"\\n\")"
   ]
  },
  {
   "cell_type": "markdown",
   "id": "ee43aec1-f1d3-4e0c-9de1-e2b9f4f32078",
   "metadata": {},
   "source": [
    "### d. Triangle 2 (3 Points)\n",
    "Define a subclass of Triangle called `Right_Triangle` that is a right triangle. Write a method `perimeter` that returns the perimeter of the right triangle."
   ]
  },
  {
   "cell_type": "code",
   "execution_count": null,
   "id": "c23eb496-2c04-44fa-878e-0598e1f60cf4",
   "metadata": {},
   "outputs": [],
   "source": [
    "#Your code here#"
   ]
  },
  {
   "cell_type": "code",
   "execution_count": null,
   "id": "808da28a-5758-4fc4-a385-46363e8bacc1",
   "metadata": {},
   "outputs": [],
   "source": [
    "right_tri = Right_Triangle(3,4)\n",
    "print(right_tri, '\\n')\n",
    "triperimeter = right_tri.perimeter()\n",
    "print(\"The perimeter of the triangle is\", triperimeter, '\\n')"
   ]
  },
  {
   "cell_type": "markdown",
   "id": "58063d2b",
   "metadata": {},
   "source": [
    "### 3. Matrices (40 Points)\n",
    "Create a class Matrix, which allows for the object-oriented programming features in Python to operate on matrices. This is useful to overload the standard arithmetic operators to define matrix addition, multiplication, and inversion. We also allow for functions on matrices (to be defined as methods on the class), like transpose, print, and so on. In this baseline, we represent a matrix as a list of lists, i.e., a list of rows. E.g.,[[1,2],[2,3]]. \n",
    "\n",
    "**Disclaimer: Do not use numpy library in this assignment!**\n",
    "\n"
   ]
  },
  {
   "cell_type": "markdown",
   "id": "b6702435",
   "metadata": {},
   "source": [
    "### a. Matrix class (5 Points)\n",
    "Define a class `Matrix`, initialize input matrix, number of rows, and columns (m,n).\n",
    "\n",
    "Initialize $m\\times n$ matrix to zero matrix (all entries are zero), if no input matrix is passed.\n",
    "\n",
    "Write `___repr__`  method such that the matrix should be printed row wise.\n",
    "\n",
    "For instance, if the input is [[1,2],[2,3]], it should be printed as:\n",
    "\n",
    "[1,2]\n",
    "\n",
    "[2,3]\n",
    "\n",
    "Write a method `__eq__` that overloads ‘==’ to check the equality of the two matrices ((including the elements, number of rows and columns). Return True if two matrices are equal.\n"
   ]
  },
  {
   "cell_type": "code",
   "execution_count": null,
   "id": "b58d1639-5137-46f6-a123-bd529b931e18",
   "metadata": {},
   "outputs": [],
   "source": [
    "#Your code here#"
   ]
  },
  {
   "cell_type": "code",
   "execution_count": null,
   "id": "4080837c-1d1f-4b88-9ec0-ad427283e46c",
   "metadata": {},
   "outputs": [],
   "source": [
    "matrixA = Matrix([[1,2,3], [3,4,6]],2,3)\n",
    "matrixB = Matrix([[6,3,7], [7,9,12]],2,3)\n",
    "matrixC = Matrix([[3,3], [7,4], [2,8]],3,2)\n",
    "matrixD = Matrix([[10,11], [23,21]],2,2)\n",
    "\n",
    "print(matrixA == matrixB)"
   ]
  },
  {
   "cell_type": "markdown",
   "id": "2cc5e596-218f-45aa-8b13-688a779616eb",
   "metadata": {},
   "source": [
    "### b. Transpose (5 Points)\n",
    "Write the method `transpose` that transposes a matrix. It takes the matrix data and flips the rows and columns."
   ]
  },
  {
   "cell_type": "code",
   "execution_count": null,
   "id": "4cafa987-6e40-461b-ac89-a3a8659704a6",
   "metadata": {},
   "outputs": [],
   "source": [
    "#Your code here#"
   ]
  },
  {
   "cell_type": "code",
   "execution_count": null,
   "id": "abf1b53e-1ec6-4261-9f6e-03a34c7fae12",
   "metadata": {},
   "outputs": [],
   "source": [
    "print('\\nTranspose of matrixA:\\n', matrixA.transpose())"
   ]
  },
  {
   "cell_type": "markdown",
   "id": "2933184b-9dff-4e3a-8be5-a3c5c5997c9a",
   "metadata": {},
   "source": [
    "**Operator Overloading**\n",
    "\n",
    "We will now overload the standard arithmetic operators. For example, we can add two matrices by adding each of their elements.\n"
   ]
  },
  {
   "cell_type": "markdown",
   "id": "f1e590d7-a7d2-480e-a1bb-d0d4b66bc388",
   "metadata": {},
   "source": [
    "### c. Addition (5 Points)\n",
    "Overload addition to add two matrices together. \n",
    "\n",
    "If the argument passed is an integer, it will add that integer to each element of the original matrix. \n",
    "\n",
    "If the argument passed is a matrix (with the same dimensions as the original), then the new matrix will be the element-by-element addition."
   ]
  },
  {
   "cell_type": "code",
   "execution_count": null,
   "id": "443645e8-e7cc-4124-b0ff-620779f39eed",
   "metadata": {},
   "outputs": [],
   "source": [
    "#Your code here#"
   ]
  },
  {
   "cell_type": "code",
   "execution_count": null,
   "id": "0bd39486-4b7c-40fd-8dcb-5342091a6158",
   "metadata": {},
   "outputs": [],
   "source": [
    "zero = Matrix([[0, 0, 0], [0, 0, 0]],2,3)\n",
    "print(matrixA + zero == matrixA)\n",
    "print('\\nMatrix addition:\\n', matrixA + matrixB)\n",
    "print('\\nMatrix addition:\\n', matrixA + 5)"
   ]
  },
  {
   "cell_type": "markdown",
   "id": "c888d7ad",
   "metadata": {},
   "source": [
    "### d. Multiplication (5 Points)\n",
    "Overload multiplication for matrix multiplication such that if the multiplier is a scalar, then scalar multiplication should be performed with the original matrix otherwise it is matrix multiplication to be performed. "
   ]
  },
  {
   "cell_type": "code",
   "execution_count": null,
   "id": "516deba5-e11c-4d56-a5ba-891e972314cf",
   "metadata": {},
   "outputs": [],
   "source": [
    "def __mul__(self, other):\n",
    "    # Multiplies two given matrices\n",
    "    #Your code here#\n",
    "\n",
    "def __rmul__(self, other):\n",
    "    # Multiplies a scalar k with mxn matrix\n",
    "    #Your code here#\n",
    "\n",
    "Matrix.__mul__ = __mul__\n",
    "Matrix.__rmul__ = __rmul__"
   ]
  },
  {
   "cell_type": "code",
   "execution_count": null,
   "id": "8fb2ea77-9a20-4f75-8f95-76d36ebbb78e",
   "metadata": {},
   "outputs": [],
   "source": [
    "print((matrixA * matrixC)* matrixD == matrixA * (matrixC * matrixD))\n",
    "print('Matrix Multiplication:\\n', matrixA * matrixC)\n",
    "k = 2\n",
    "print('\\nScalar Multiplication:\\n', k * matrixA)"
   ]
  },
  {
   "cell_type": "markdown",
   "id": "f1f61a36-0060-4f45-bf06-c055c0ed18d3",
   "metadata": {},
   "source": [
    "### e. Subtraction (2 Points)\n",
    "Observe that for two matrices A and B of the same dimensions, A-B=A+(-1)B.\n",
    "Hence use multiplication and addition for overloading matrix subtraction.\n"
   ]
  },
  {
   "cell_type": "code",
   "execution_count": null,
   "id": "fc0b4a21-08a9-47a5-a622-a4044b26b6a7",
   "metadata": {},
   "outputs": [],
   "source": [
    "#Your code here#"
   ]
  },
  {
   "cell_type": "code",
   "execution_count": null,
   "id": "f6d931ed-a501-47f2-90a4-18c3ff6ce57c",
   "metadata": {},
   "outputs": [],
   "source": [
    "print(matrixA - matrixA == zero)\n",
    "print('\\nMatrix Subtraction:\\n', matrixA - matrixB)"
   ]
  },
  {
   "cell_type": "markdown",
   "id": "ef0487cd",
   "metadata": {},
   "source": [
    "### f. Comparator (8 Points)\n",
    "Overload the comparison operators `<` and `>`. For matrices A and B, A < B if every element in A is strictly less than every element in B. A>B if every element in A is strictly greater than B."
   ]
  },
  {
   "cell_type": "code",
   "execution_count": null,
   "id": "59e6a79a-4969-4886-9f4a-e7fed2f0bea8",
   "metadata": {},
   "outputs": [],
   "source": [
    "#Your code here#"
   ]
  },
  {
   "cell_type": "code",
   "execution_count": null,
   "id": "201a3670-3271-4719-9007-e3aadfa7c748",
   "metadata": {},
   "outputs": [],
   "source": [
    "matA = Matrix([[1,1], [2,2]])\n",
    "matB = Matrix([[3,4], [5,6]])\n",
    "matC = Matrix([[1,5], [7,8]])\n",
    "\n",
    "print(\"\\n Is matA greater than matB?:\", matA>matB)\n",
    "print(\"\\n Is matB greater than matA?:\",matB>matA)\n",
    "print(\"\\n Is matA lesser than matB?:\",matA<matB)\n",
    "print(\"\\n Is matB lesser than matA?:\",matB<matA)\n",
    "print(\"\\n Is matA greater than matC?:\", matA>matC)\n",
    "print(\"\\n Is matA lesser than matC?:\", matA<matC)"
   ]
  },
  {
   "cell_type": "markdown",
   "id": "3d390dde-eb74-428a-b002-a2ea22c1ce7f",
   "metadata": {},
   "source": [
    "### g. Square Matrix (8 Points)\n",
    "Write a subclass `SquareMatrix` that inherits from the `Matrix` class. The constructor of SquareMatrix should accept two arguments: the size of the square matrix (number of rows or columns) and optionally the matrix data. Ensure that the `SquareMatrix` class inherits all methods from the Matrix class and handles the square matrix constraints appropriately."
   ]
  },
  {
   "cell_type": "code",
   "execution_count": null,
   "id": "057d445d-6407-45a9-8e35-cdcc1a99afe8",
   "metadata": {},
   "outputs": [],
   "source": [
    "#Your code here"
   ]
  },
  {
   "cell_type": "code",
   "execution_count": null,
   "id": "40db15cd-3a84-4a1b-a0e1-7cf3eea48139",
   "metadata": {},
   "outputs": [],
   "source": [
    "square_matrixA = SquareMatrix([[21,35], [15,34]],2)\n",
    "print(\"\\nSquare matrix A:\\n\", square_matrixA)\n",
    "print(\"\\nTranspose of Square matrix A:\\n\", square_matrixA.transpose())\n",
    "square_matrixB = SquareMatrix([[45,43], [56,3]])\n",
    "print(\"Square matrix B:\\n\", square_matrixB)\n",
    "print(\"\\nsquare matrix addition:\\n\", square_matrixA + square_matrixB)\n",
    "print(\"\\nsquare matrix subtraction:\\n\", square_matrixA - square_matrixB)\n",
    "print(\"\\nsquare matrix multiplication:\\n\", square_matrixA * square_matrixB)\n",
    "k = 3\n",
    "print(\"\\nsquare matrix scalar multiplication:\\n\", k * square_matrixA)"
   ]
  },
  {
   "cell_type": "markdown",
   "id": "cdae8616",
   "metadata": {},
   "source": [
    "### h. Trace (2 Points)\n",
    "Write the `trace` method in `SquareMatrix` class that gives the trace of a matrix (the sum of its diagonal elements). "
   ]
  },
  {
   "cell_type": "code",
   "execution_count": null,
   "id": "a0017dae-2afb-4995-9041-4a1a8083e75e",
   "metadata": {},
   "outputs": [],
   "source": [
    "#Your code here"
   ]
  },
  {
   "cell_type": "code",
   "execution_count": null,
   "id": "6b920f83-e6af-4045-95f2-3bd2524e3d8b",
   "metadata": {},
   "outputs": [],
   "source": [
    "print(\"\\nTrace of Square matrix A:\\n\", square_matrixA.trace())"
   ]
  }
 ],
 "metadata": {
  "kernelspec": {
   "display_name": "Python 3 (ipykernel)",
   "language": "python",
   "name": "python3"
  },
  "language_info": {
   "codemirror_mode": {
    "name": "ipython",
    "version": 3
   },
   "file_extension": ".py",
   "mimetype": "text/x-python",
   "name": "python",
   "nbconvert_exporter": "python",
   "pygments_lexer": "ipython3",
   "version": "3.11.8"
  }
 },
 "nbformat": 4,
 "nbformat_minor": 5
}
