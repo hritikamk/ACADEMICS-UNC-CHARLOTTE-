{
 "cells": [
  {
   "cell_type": "markdown",
   "id": "3f80f186-7622-4131-a412-a8a7f85c942b",
   "metadata": {},
   "source": [
    "# Python\n",
    "\n",
    "Python is a high-level, [dynamically typed](https://stackoverflow.com/questions/1517582/what-is-the-difference-between-statically-typed-and-dynamically-typed-languages) (we don't have to specify the type for the variable) [multiparadigm programming language](https://msritse2012.wordpress.com/2013/01/31/the-concept-of-multi-paradigm-programming-language-manjunath-m/) (supports multiple programming paradigms such as functional and object oriented). Python code is often said to be almost like pseudocode, since it allows you to express very powerful ideas in very few lines of code while being very readable.\n",
    "\n"
   ]
  },
  {
   "cell_type": "markdown",
   "id": "043d46d3-1552-4396-97ef-e5014330b7ad",
   "metadata": {},
   "source": [
    "# Introduction to Python\n",
    "\n",
    "\n",
    "## Installation & Setup\n",
    "\n",
    "We will work with Python 3.\n",
    "\n",
    "To install everything you need, we recommend to download and install the [Anaconda Distribution](https://www.anaconda.com/products/distribution), a Python distribution that is available for Windows, Mac and Linux. A good option for an integrated development environment (IDE) for Python is [Spyder](https://www.spyder-ide.org), which is already included in Anaconda.\n",
    "\n",
    "### Installation Guides\n",
    "  - [Installing Anaconda on Windows](https://docs.anaconda.com/anaconda/install/windows/)\n",
    "  - [Installing Anaconda on macOS](https://docs.anaconda.com/anaconda/install/mac-os/)\n",
    "  - [Installing Anaconda on Linux](https://docs.anaconda.com/anaconda/install/linux/)\n",
    "\n",
    "If you do not need or want a GUI for handling packages and you want to control which packages you install, we recommend [Miniconda](https://docs.conda.io/en/latest/miniconda.html).\n",
    "\n",
    "Certain packages will be needed that need to be installed manually (even if the full Anaconda distribution is used). These packages include `ipython` and `jupyter`. \n",
    "\n",
    "You can do this with commands such as \n",
    "\n",
    "`conda install jupyter` (or using the Graphical User Interface of Anaconda).\n",
    "\n",
    "If you have trouble finding a package in this way, you can use also the pip package manager, [see here](https://docs.conda.io/projects/conda/en/latest/user-guide/tasks/manage-pkgs.html#installing-non-conda-packages)."
   ]
  },
  {
   "cell_type": "markdown",
   "id": "5906f5a8-c19d-47a2-92f3-11126e2304dd",
   "metadata": {},
   "source": [
    "## Useful resources and links:\n",
    "  - [Python Documentation](https://docs.python.org/3/)\n",
    "  - [Official Python Tutorial](https://docs.python.org/3/tutorial/index.html)\n",
    "  - Google / other search engines are your friend!"
   ]
  },
  {
   "cell_type": "markdown",
   "id": "31f9da9c-bb56-49c1-a977-db69b3caa090",
   "metadata": {},
   "source": [
    "# How to Use Jupyter Notebook: A Beginner’s Tutorial\n",
    "\n",
    "Adapted from <https://www.dataquest.io/blog/jupyter-notebook-tutorial/>.\n",
    "\n",
    "## Installation\n",
    "The easiest way for a beginner to get started with Jupyter Notebooks is by installing [Anaconda](https://anaconda.org).\n",
    "\n",
    "Anaconda is the most widely used Python distribution for data science and comes pre-loaded with all the most popular libraries and tools.\n",
    "\n",
    "Some of the biggest Python libraries included in Anaconda include [NumPy](https://numpy.org), [pandas](https://pandas.pydata.org), and [matplotlib](https://matplotlib.org), though the full 1000+ list is exhaustive.\n",
    "\n",
    "Anaconda thus lets us hit the ground running without worrying too much about dependencies and OS-specific installation issues.\n",
    "\n",
    "To get Anaconda, simply:\n",
    "\n",
    " 1. Download the latest version of Anaconda for Python 3.10 or higher.\n",
    " 2. Install Anaconda by following the instructions on the download page and/or in the executable.\n",
    " \n",
    "If you are a more advanced user with Python already installed and prefer to manage your packages manually, you can just use pip:\n",
    "\n",
    "`pip3 install jupyter`\n",
    "\n",
    "## Creating Your First Notebook\n",
    "In this section, we’re going to learn to run and save notebooks, familiarize ourselves with their structure, and understand the interface. We’ll become intimate with some core terminology that will steer you towards a practical understanding of how to use Jupyter Notebooks by yourself and set us up for the next section, which walks through an example data analysis and brings everything we learn here to life.\n",
    "\n",
    "### Running Jupyter\n",
    "On Windows, you can run Jupyter via the shortcut Anaconda adds to your start menu, which will open a new tab in your default web browser that should look something like the following screenshot.\n",
    "\n",
    "![Jupyter control panel](https://www.dataquest.io/wp-content/uploads/2019/01/jupyter-dashboard.jpg)\n",
    "\n",
    "\n",
    "This isn’t a notebook just yet, but don’t panic! There’s not much to it. This is the Notebook Dashboard, specifically designed for managing your Jupyter Notebooks. Think of it as the launchpad for exploring, editing and creating your notebooks.\n",
    "\n",
    "Be aware that the dashboard will give you access only to the files and sub-folders contained within Jupyter’s start-up directory (i.e., where Jupyter or Anaconda is installed). However, the start-up directory can be changed.\n",
    "\n",
    "It is also possible to start the dashboard on any system via the command prompt (or terminal on Unix systems) by entering the command `jupyter notebook`; in this case, the current working directory will be the start-up directory.\n",
    "\n",
    "With Jupyter Notebook open in your browser, you may have noticed that the URL for the dashboard is something like https://localhost:8888/tree. Localhost is not a website, but indicates that the content is being served from your local machine: your own computer.\n",
    "\n",
    "Jupyter’s Notebooks and dashboard are web apps, and Jupyter starts up a local Python server to serve these apps to your web browser, making it essentially platform-independent and opening the door to easier sharing on the web.\n",
    "\n",
    "(If you don’t understand this yet, don’t worry — the important point is just that although Jupyter Notebooks opens in your browser, it’s being hosted and run on your local machine. Your notebooks aren’t actually on the web until you decide to share them.)\n",
    "\n",
    "The dashboard’s interface is mostly self-explanatory — though we will come back to it briefly later. So what are we waiting for? Browse to the folder in which you would like to create your first notebook, click the “New” drop-down button in the top-right and select “Python 3”:\n",
    "\n",
    "![New notebook menu](https://www.dataquest.io/wp-content/uploads/2019/01/new-notebook-menu.jpg)\n",
    "\n",
    "Your first Jupyter Notebook will open in new tab — each notebook uses its own tab because you can open multiple notebooks simultaneously.\n",
    "\n",
    "If you switch back to the dashboard, you will see the new file `Untitled.ipynb` and you should see some green text that tells you your notebook is running.\n",
    "\n",
    "## What is an ipynb File?\n",
    "\n",
    "The short answer: each `.ipynb` file is one notebook, so each time you create a new notebook, a new  `.ipynb` file will be created.\n",
    "\n",
    "The longer answer: Each `.ipynb` file is a text file that describes the contents of your notebook in a format called `JSON`. Each cell and its contents, including image attachments that have been converted into strings of text, is listed therein along with some metadata.\n",
    "\n",
    "You can edit this yourself — if you know what you are doing! — by selecting “Edit > Edit Notebook Metadata” from the menu bar in the notebook. You can also view the contents of your notebook files by selecting “Edit” from the controls on the dashboard\n",
    "\n",
    "However, the key word there is can. In most cases, there’s no reason you should ever need to edit your notebook metadata manually.\n",
    "\n",
    "## The Notebook Interface\n",
    "Now that you have an open notebook in front of you, its interface will hopefully not look entirely alien. After all, Jupyter is essentially just an advanced word processor.\n",
    "\n",
    "Why not take a look around? Check out the menus to get a feel for it, especially take a few moments to scroll down the list of commands in the command palette, which is the small button with the keyboard icon (or `Ctrl + Shift + P`).\n",
    "\n",
    "![New Jupyter Notebook](https://www.dataquest.io/wp-content/uploads/2019/01/new-notebook.jpg)\n",
    "\n",
    "There are two fairly prominent terms that you should notice, which are probably new to you: cells and kernels are key both to understanding Jupyter and to what makes it more than just a word processor. Fortunately, these concepts are not difficult to understand.\n",
    "\n",
    " - A **kernel** is a “computational engine” that executes the code contained in a notebook document.\n",
    " - A **cell** is a container for text to be displayed in the notebook or code to be executed by the notebook’s kernel.\n",
    "\n",
    "## Cells \n",
    "\n",
    "We’ll return to kernels a little later, but first let’s come to grips with cells. Cells form the body of a notebook. In the screenshot of a new notebook in the section above, that box with the green outline is an empty cell. There are two main cell types that we will cover:\n",
    "\n",
    " - A **code cell** contains code to be executed in the kernel. When the code is run, the notebook displays the output below the code cell that generated it.\n",
    " - A **Markdown cell** contains text formatted using Markdown and displays its output in-place when the Markdown cell is run.\n",
    " \n",
    "The first cell in a new notebook is always a code cell.\n",
    "\n",
    "Let’s test it out with a classic hello world example: Type `print('Hello World!')` into the cell and click the run button in the toolbar above or press `Ctrl + Enter`.\n",
    "\n",
    "The result should look like this:"
   ]
  },
  {
   "cell_type": "code",
   "execution_count": 1,
   "id": "12ce2966-8ec6-4561-9136-b370ac3f0cf5",
   "metadata": {},
   "outputs": [
    {
     "name": "stdout",
     "output_type": "stream",
     "text": [
      "Hello World!\n"
     ]
    }
   ],
   "source": [
    "print('Hello World!')"
   ]
  },
  {
   "cell_type": "markdown",
   "id": "4bd07ae7-ebae-482b-9e4e-fd4c71f96ec4",
   "metadata": {},
   "source": [
    "When we run the cell, its output is displayed below and the label to its left will have changed from `In [ ]` to `In [1]`.\n",
    "\n",
    "The output of a code cell also forms part of the document, which is why you can see it in this article. You can always tell the difference between code and Markdown cells because code cells have that label on the left and Markdown cells do not.\n",
    "\n",
    "The “In” part of the label is simply short for “Input,” while the label number indicates when the cell was executed on the kernel — in this case the cell was executed first.\n",
    "\n",
    "Run the cell again and the label will change to `In [2]` because now the cell was the second to be run on the kernel. It will become clearer why this is so useful later on when we take a closer look at kernels.\n",
    "\n",
    "From the menu bar, click Insert and select Insert Cell Below to create a new code cell underneath your first and try out the following code to see what happens. Do you notice anything different?"
   ]
  },
  {
   "cell_type": "code",
   "execution_count": 2,
   "id": "d80bda65-df5a-4d27-9135-1fa891fb9138",
   "metadata": {},
   "outputs": [],
   "source": [
    "import time\n",
    "time.sleep(3)"
   ]
  },
  {
   "cell_type": "markdown",
   "id": "5570a1f2-7d0a-492a-bb5d-2543986fc944",
   "metadata": {},
   "source": [
    "This cell doesn’t produce any output, but it does take three seconds to execute. Notice how Jupyter signifies when the cell is currently running by changing its label to `In [*]`.\n",
    "\n",
    "In general, the output of a cell comes from any text data specifically printed during the cell’s execution, as well as the value of the last line in the cell, be it a lone variable, a function call, or something else. For example:"
   ]
  },
  {
   "cell_type": "code",
   "execution_count": 3,
   "id": "35d92890-ac08-45f1-891c-ae8e22392e21",
   "metadata": {},
   "outputs": [
    {
     "data": {
      "text/plain": [
       "'Hello, Tim!'"
      ]
     },
     "execution_count": 3,
     "metadata": {},
     "output_type": "execute_result"
    }
   ],
   "source": [
    "def say_hello(recipient):\n",
    "    return 'Hello, {}!'.format(recipient)\n",
    "\n",
    "say_hello('Tim')"
   ]
  },
  {
   "cell_type": "markdown",
   "id": "d04ca41c-3562-44a6-86ab-979deeea62ad",
   "metadata": {},
   "source": [
    "You’ll find yourself using this almost constantly in your own projects, and we’ll see more of it later on.\n",
    "\n",
    "## Keyboard Shortcuts\n",
    "One final thing you may have observed when running your cells is that their border turns blue, whereas it was green while you were editing. In a Jupyter Notebook, there is always one “active” cell highlighted with a border whose color denotes its current mode:\n",
    "\n",
    " - Green outline — cell is in “edit mode”\n",
    " - Blue outline — cell is in “command mode”\n",
    "So what can we do to a cell when it’s in command mode? So far, we have seen how to run a cell with `Ctrl + Enter`, but there are plenty of other commands we can use. The best way to use them is with keyboard shortcuts\n",
    "\n",
    "Keyboard shortcuts are a very popular aspect of the Jupyter environment because they facilitate a speedy cell-based workflow. Many of these are actions you can carry out on the active cell when it’s in command mode.\n",
    "\n",
    "Below, you’ll find a list of some of Jupyter’s keyboard shortcuts. You don’t need to memorize them all immediately, but this list should give you a good idea of what’s possible.\n",
    "\n",
    " - Toggle between edit and command mode with Esc and Enter, respectively.\n",
    " - Once in command mode:\n",
    "    - Scroll up and down your cells with your Up and Down keys.\n",
    "    - Press A or B to insert a new cell above or below the active cell.\n",
    "    - M will transform the active cell to a Markdown cell.\n",
    "    - Y will set the active cell to a code cell.\n",
    "    - D + D (D twice) will delete the active cell.\n",
    "    - Z will undo cell deletion.\n",
    "    - Hold Shift and press Up or Down to select multiple cells at once. With multiple cells selected, Shift + M will merge your selection.\n",
    " - Ctrl + Shift + -, in edit mode, will split the active cell at the cursor.\n",
    " - You can also click and Shift + Click in the margin to the left of your cells to select them.\n",
    "Go ahead and try these out in your own notebook. Once you’re ready, create a new Markdown cell and we’ll learn how to format the text in our notebooks.\n",
    "\n",
    "# Markdown\n",
    "[Markdown](https://www.markdownguide.org/getting-started/) is a lightweight, easy to learn markup language for formatting plain text. Its syntax has a one-to-one correspondence with HTML tags, so some prior knowledge here would be helpful but is definitely not a prerequisite.\n",
    "\n",
    "Remember that this article was written in a Jupyter notebook, so all of the narrative text and images you have seen so far were achieved writing in Markdown. Let’s cover the basics with a quick example:"
   ]
  },
  {
   "cell_type": "raw",
   "id": "628805ae-c614-4e39-bbd5-208265ed5b6b",
   "metadata": {},
   "source": [
    "# This is a level 1 heading\n",
    "\n",
    "## This is a level 2 heading\n",
    "\n",
    "This is some plain text that forms a paragraph. Add emphasis via **bold** and __bold__, or *italic* and _italic_. \n",
    "\n",
    "Paragraphs must be separated by an empty line. \n",
    "\n",
    "* Sometimes we want to include lists. \n",
    "* Which can be bulleted using asterisks. \n",
    "\n",
    "1. Lists can also be numbered. \n",
    "2. If we want an ordered list.\n",
    "\n",
    "[It is possible to include hyperlinks](https://www.example.com)\n",
    "\n",
    "Inline code uses single backticks: foo(), and code blocks use triple backticks: \n",
    "```\n",
    "bar()\n",
    "``` \n",
    "Or can be indented by 4 spaces: \n",
    "\n",
    "    foo()"
   ]
  },
  {
   "cell_type": "markdown",
   "id": "8b3880a1-48f7-48c1-8bc8-f1b0fb5d69b0",
   "metadata": {},
   "source": [
    "Here’s how that Markdown would look once you run the cell to render it:\n",
    "\n",
    "# This is a level 1 heading\n",
    "\n",
    "## This is a level 2 heading\n",
    "\n",
    "This is some plain text that forms a paragraph. Add emphasis via **bold** and __bold__, or *italic* and _italic_. \n",
    "\n",
    "Paragraphs must be separated by an empty line. \n",
    "\n",
    "* Sometimes we want to include lists. \n",
    "* Which can be bulleted using asterisks. \n",
    "\n",
    "1. Lists can also be numbered. \n",
    "2. If we want an ordered list.\n",
    "\n",
    "[It is possible to include hyperlinks](https://www.example.com)\n",
    "\n",
    "Inline code uses single backticks: foo(), and code blocks use triple backticks: \n",
    "```\n",
    "bar()\n",
    "``` \n",
    "Or can be indented by 4 spaces: \n",
    "\n",
    "    foo()"
   ]
  },
  {
   "cell_type": "markdown",
   "id": "e98c8cfe-2b13-4b0a-8862-f24ec598c876",
   "metadata": {},
   "source": [
    "## Kernels\n",
    "Behind every notebook runs a kernel. When you run a code cell, that code is executed within the kernel. Any output is returned back to the cell to be displayed. The kernel’s state persists over time and between cells — it pertains to the document as a whole and not individual cells.\n",
    "\n",
    "For example, if you import libraries or declare variables in one cell, they will be available in another. Let’s try this out to get a feel for it. First, we’ll import a Python package and define a function:"
   ]
  },
  {
   "cell_type": "code",
   "execution_count": 4,
   "id": "5efc8da6-7dc4-4d60-8dd6-e6992ee4be6e",
   "metadata": {},
   "outputs": [],
   "source": [
    "import numpy as np\n",
    "def square(x):\n",
    "    return x * x"
   ]
  },
  {
   "cell_type": "markdown",
   "id": "90339832-1d92-4212-8a4b-f4272011e1a5",
   "metadata": {},
   "source": [
    "Once we’ve executed the cell above, we can reference np and square in any other cell."
   ]
  },
  {
   "cell_type": "code",
   "execution_count": 5,
   "id": "d47dc7f0-e34b-41f8-af28-a86c92d38b9e",
   "metadata": {},
   "outputs": [
    {
     "name": "stdout",
     "output_type": "stream",
     "text": [
      "9 squared is 81\n"
     ]
    }
   ],
   "source": [
    "x = np.random.randint(1, 10)\n",
    "y = square(x)\n",
    "print('%d squared is %d' % (x, y))"
   ]
  },
  {
   "cell_type": "markdown",
   "id": "0339e0e0-c461-475e-ab54-7f930e41cb7b",
   "metadata": {},
   "source": [
    "This will work regardless of the order of the cells in your notebook. As long as a cell has been run, any variables you declared or libraries you imported will be available in other cells.\n",
    "\n",
    "You can try it yourself, let’s print out our variables again."
   ]
  },
  {
   "cell_type": "code",
   "execution_count": 6,
   "id": "c8295fec-aa93-4308-8189-d0a00723da82",
   "metadata": {},
   "outputs": [
    {
     "name": "stdout",
     "output_type": "stream",
     "text": [
      "Is 9 squared 81?\n"
     ]
    }
   ],
   "source": [
    "print('Is %d squared %d?' % (x, y))"
   ]
  },
  {
   "cell_type": "markdown",
   "id": "836769b0-8126-4f6e-a20a-b380a6b2299e",
   "metadata": {},
   "source": [
    "Is 1 squared 1?\n",
    "No surprises here! But what happens if we change the value of  y?"
   ]
  },
  {
   "cell_type": "code",
   "execution_count": 7,
   "id": "c8d20928-4402-4c5a-b3d9-9eff8d676b30",
   "metadata": {},
   "outputs": [
    {
     "name": "stdout",
     "output_type": "stream",
     "text": [
      "Is 9 squared is 10?\n"
     ]
    }
   ],
   "source": [
    "y = 10\n",
    "print('Is %d squared is %d?' % (x, y))"
   ]
  },
  {
   "cell_type": "markdown",
   "id": "93b2ee78-604b-47c3-8898-6118622b17cb",
   "metadata": {},
   "source": [
    "If we run the cell above, what do you think would happen?\n",
    "\n",
    "We will get an output like: Is 4 squared 10?. This is because once we’ve run the y = 10 code cell, y is no longer equal to the square of x in the kernel.\n",
    "\n",
    "Most of the time when you create a notebook, the flow will be top-to-bottom. But it’s common to go back to make changes. When we do need to make changes to an earlier cell, the order of execution we can see on the left of each cell, such as In [6], can help us diagnose problems by seeing what order the cells have run in.\n",
    "\n",
    "And if we ever wish to reset things, there are several incredibly useful options from the Kernel menu:\n",
    "\n",
    " - Restart: restarts the kernel, thus clearing all the variables etc that were defined.\n",
    " - Restart & Clear Output: same as above but will also wipe the output displayed below your code cells.\n",
    " - Restart & Run All: same as above but will also run all your cells in order from first to last.\n",
    "If your kernel is ever stuck on a computation and you wish to stop it, you can choose the Interrupt option.\n",
    "\n",
    "### Choosing a Kernel\n",
    "You may have noticed that Jupyter gives you the option to change kernel, and in fact there are many different options to choose from. Back when you created a new notebook from the dashboard by selecting a Python version, you were actually choosing which kernel to use.\n",
    "\n",
    "There kernels for different versions of Python, and also for over [100 languages](https://github.com/jupyter/jupyter/wiki/Jupyter-kernels) including Java, C, and even Fortran. Data scientists may be particularly interested in the kernels for R and Julia, as well as both imatlab and the Calysto MATLAB Kernel for Matlab.\n",
    "\n",
    "The [SoS kernel](https://github.com/vatlab/SOS) provides multi-language support within a single notebook.\n",
    "\n",
    "Each kernel has its own installation instructions, but will likely require you to run some commands on your computer."
   ]
  }
 ],
 "metadata": {
  "kernelspec": {
   "display_name": "Python 3 (ipykernel)",
   "language": "python",
   "name": "python3"
  },
  "language_info": {
   "codemirror_mode": {
    "name": "ipython",
    "version": 3
   },
   "file_extension": ".py",
   "mimetype": "text/x-python",
   "name": "python",
   "nbconvert_exporter": "python",
   "pygments_lexer": "ipython3",
   "version": "3.11.7"
  }
 },
 "nbformat": 4,
 "nbformat_minor": 5
}
