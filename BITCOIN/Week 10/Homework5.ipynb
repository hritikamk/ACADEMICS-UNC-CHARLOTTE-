{
 "cells": [
  {
   "cell_type": "markdown",
   "id": "31944fc0",
   "metadata": {},
   "source": [
    "# Topics in Computer Science - Bitcoin: Programming the Future of Money - ITCS 4010 & 5010 - Fall 2024 - UNC Charlotte\n",
    "\n",
    "# Homework 5 - Bitcoin Full Node (100 Points)"
   ]
  },
  {
   "cell_type": "markdown",
   "id": "19d53131-b8bb-4fea-89cf-9dd5b92ed8c7",
   "metadata": {},
   "source": [
    "Names of Students in submission group:\n",
    "\n",
    "<br>\n",
    "<br>\n",
    "<br>\n",
    "\n",
    "\n",
    "Charlotte ID:"
   ]
  },
  {
   "cell_type": "markdown",
   "id": "7a255941-f2cd-4a13-b0e1-f3af36e0ce72",
   "metadata": {},
   "source": [
    "# <font color=\"blue\"> Submission instructions</font>\n",
    "\n",
    "1. Click the Save button at the top of the Jupyter Notebook.\n",
    "2. Please make sure to have entered your name above.\n",
    "3. Select Cell -> All Output -> Clear. This will clear all the outputs from all cells (but will keep the content of all cells). \n",
    "4. Select Cell -> Run All. This will run all the cells in order, and will take several minutes.\n",
    "5. Once you've rerun everything, select File -> Download as -> PDF via LaTeX and download a PDF version showing the code and the output of all cells, and save it in the same folder that contains the notebook file.\n",
    "6. Look at the PDF file and make sure all your solutions are there, displayed correctly.\n",
    "7. Submit **both** your PDF and the notebook file .ipynb on Gradescope.\n",
    "8. Make sure your your Gradescope submission contains the correct files by downloading it after posting it on Gradescope."
   ]
  },
  {
   "cell_type": "markdown",
   "id": "636e6bc6-5226-4c32-95e0-388565ec9850",
   "metadata": {},
   "source": [
    "### Make sure you have the output of all cells in the PDF version."
   ]
  },
  {
   "cell_type": "markdown",
   "id": "f865016c",
   "metadata": {},
   "source": [
    "### Exercise 0 (Ungraded preparation of rest of this homework assignment)\n",
    "\n",
    "Download and install [Bitcoin Core](https://bitcoin.org/en/download) (the open-source reference implementation of software verifying whether transactions / blocks follow the protocol rules), and download the entire Bitcoin blockchain data onto the provided external hard drive (or, alternatively, a hard drive of your choice with at least 700 GB of available space) by following the instructions document on Canvas. \n",
    "\n",
    "Whenever you run this software validating the entire Bitcoin blockchain data, you are [running a full Bitcoin node](https://bitcoin.org/en/full-node#what-is-a-full-node). Read up on [why you might want to run a full Bitcoin node](https://armantheparman.com/why-should-you-run-your-own-bitcoin-node/) in general."
   ]
  },
  {
   "cell_type": "markdown",
   "id": "047fcc15",
   "metadata": {},
   "source": [
    "For the following exercises, access the Bitcoin blockchain directly from your hard drive. <br><br> Hint: Bitcoin Core comes with a command line interface, which uses an API based on Remote Procedure Calls (RPC). Read up on how they work in [Andreas Antonopoulos, David Harding, \"Mastering Bitcoin: Programming the Open Blockchain\", 3rd Edition, O’Reilly, 2023](https://github.com/bitcoinbook/bitcoinbook/blob/develop/ch03_bitcoin-core.adoc) and on the documentation [RPC commands](https://developer.bitcoin.org/reference/rpc/index.html). For the subsequent exercises, choose and combine the right RPC commands to run on the Bitcoin Core console to find the answers."
   ]
  },
  {
   "cell_type": "markdown",
   "id": "5433a8e6",
   "metadata": {},
   "source": [
    "### Exercise 1 (10 Points)\n",
    "\n",
    "1. Find the time at which the block whose height is 76265 was placed in the blockchain. Print the time in `mm/dd/yyyy & hh:mm:ss` format.\n",
    "\n",
    "2. What is the time at which block whose height is 76259 was placed. Print the time in `mm/dd/yyyy & hh:mm:ss` format.\n",
    "\n",
    "3. Find the difference between the times in a and b and print the time `hh:mm:ss` format.\n",
    "\n",
    "4. Using Python, establish a connection to the blockchain data stored on your hard drive. Hint: Use `bitcoinrpc.authproxy` library. Write a code that collects the timestamp for 12 blocks starting from height 345653 to 345665 and prints the average time between the blocks in `hh:mm:ss` format.\n",
    "\n",
    "#### Note: For each question, it is necessary that you list the commands used/ and the steps followed to obtain your solution. Only answers with sufficient amount of details for the steps you followed will be able to receive full credit.\n"
   ]
  },
  {
   "cell_type": "markdown",
   "id": "6056c2a1",
   "metadata": {},
   "source": [
    "#YOUR ANSWER HERE"
   ]
  },
  {
   "cell_type": "code",
   "execution_count": 3,
   "id": "20e3ccaf-fdf6-43d9-afbc-052caf666fa8",
   "metadata": {},
   "outputs": [],
   "source": [
    "#YOUR CODE HERE \n",
    "#### Make sure you have the output of all cells in the PDF version."
   ]
  },
  {
   "cell_type": "markdown",
   "id": "5714dbec",
   "metadata": {},
   "source": [
    "### Exercise 2 (10 Points)\n",
    "\n",
    "The **memory pool** (often called **mempool**) is a list of transactions yet to be confirmed in future blocks that is maintained and constantly updated by a Bitcoin node (such as Bitcoin core). Once a transaction in the mempool is included in a new block, it no longer exists in the mempool. Read more information about what the mempool is [Chapter 10 of Andreas Antonopoulos, David Harding, \"Mastering Bitcoin: Programming the Open Blockchain\", 3rd Edition, O’Reilly, 2023](https://github.com/bitcoinbook/bitcoinbook/blob/develop/ch10_network.adoc#mempools-and-orphan-pools), the [Bitcoin wiki](https://en.bitcoin.it/wiki/Vocabulary#Memory_pool) and [this tutorial](https://bitcoindev.network/bitcoin-transaction-mempool-statistics/). <br>\n",
    "<sub> We note that the mempool is not to be confused with the website [https://mempool.space](https://mempool.space), which is a website that presents and visualizes Bitcoin blockchain data.</sub>\n",
    "\n",
    "While you are running the node, select an (arbitrary) TxId from the mempool and fetch the raw transaction data for the selected TxId. Write your answer with the steps you followed.  \n",
    "\n",
    "#### Note: It is necessary that you list the commands used/ and the steps followed to obtain your solution. Only answers with sufficient amount of details for the steps you followed will be able to receive full credit."
   ]
  },
  {
   "cell_type": "markdown",
   "id": "7712efd7",
   "metadata": {},
   "source": [
    "#YOUR ANSWER HERE"
   ]
  },
  {
   "cell_type": "markdown",
   "id": "3d9f98e0",
   "metadata": {},
   "source": [
    "### Exercise 3 (10 Points)\n",
    " 1. Based on the raw transaction you obtained in Exercise 2, provide a description of what the respective bytes represent within this transaction.\n",
    "\n",
    "#### Note: Write the commands used/ steps followed."
   ]
  },
  {
   "cell_type": "raw",
   "id": "e30d9d16",
   "metadata": {},
   "source": []
  },
  {
   "cell_type": "markdown",
   "id": "09ff1ea3-5453-44a0-807c-c506fa934f84",
   "metadata": {},
   "source": [
    " 2. (**Optinal Bonus Exercise**, 15 Points) Using Python, establish a connection to the blockchain data stored on your hard drive. <br> Hint: Use `bitcoinrpc.authproxy` library. <br> Write a python code that collects all transactions in mempool and prints the percentage of `P2SH` and `P2TR` addresses as inputs among all inputs in all mempool transactions of your Bitcoin node."
   ]
  },
  {
   "cell_type": "code",
   "execution_count": null,
   "id": "bfac24ef-a33a-44f5-be71-cc4d9baf49c0",
   "metadata": {},
   "outputs": [],
   "source": [
    "#YOUR CODE HERE\n",
    "### Make sure you have the output of all cells in the PDF version."
   ]
  },
  {
   "cell_type": "markdown",
   "id": "219c0c0b",
   "metadata": {},
   "source": [
    "### Exercise 4 (10 Points)\n",
    "The genesis block is the first block ever written onto the Bitcoin blockchain. Recover the genesis block from your Bitcoin node and outline the steps followed:\n",
    "\n",
    "1. What is the block hash?\n",
    "2. Using the block hash, write out the genesis block data.\n",
    "3. What is the coinbase transaction (raw transaction)?\n",
    "4. What is the ScriptSig of the coinbase transaction?\n",
    "5. Using Python code, decode the message in hexadecimal ScriptSig of its coinbase transaction, interpreting the bytes as hexadecimal ASCII encoding. (Feel free to use any Python library)\n",
    "\n",
    "#### Note: It is necessary that you retrieve this information via your own Bitcoin node, not using an external blockchain explorer. Write the commands used/ steps followed for each question."
   ]
  },
  {
   "cell_type": "raw",
   "id": "1f997a9d",
   "metadata": {},
   "source": [
    "#YOUR ANSWER HERE"
   ]
  },
  {
   "cell_type": "code",
   "execution_count": null,
   "id": "51a29a6b-3896-48c4-9087-633b4f93ba61",
   "metadata": {},
   "outputs": [],
   "source": [
    "#YOUR CODE HERE\n",
    "### Make sure you have the output of all cells in the PDF version."
   ]
  },
  {
   "cell_type": "markdown",
   "id": "9bd62496",
   "metadata": {},
   "source": [
    "### Exercise 5 (10 Points)\n",
    "\n",
    "Answer the following for the block of height 663949.\n",
    "\n",
    "1. How many transactions are in this block? \n",
    "2. What is the block subsidy? \n",
    "3. What is the transaction fee of the first transaction? \n",
    "4. What is the number of inputs of the last transaction? \n",
    "5. What are the number of outputs?\n",
    "\n",
    "#### Note:  It is necessary that you retrieve this information via your own Bitcoin node, not using an external blockchain explorer. Write the commands used/ steps followed for each question."
   ]
  },
  {
   "cell_type": "raw",
   "id": "665ff8d8",
   "metadata": {},
   "source": [
    "#YOUR ANSWER HERE"
   ]
  },
  {
   "cell_type": "markdown",
   "id": "1ebe264b",
   "metadata": {},
   "source": [
    "### Exercise 6 (20 Points)\n",
    "\n",
    "Recall that when we learned about how blocks are structured, we learned about how the \"target\" value of the proof-of-work mining is encoded, see [the bits part of a block](https://learnmeabitcoin.com/technical/block/bits/), which encodes the concept of the [mining target](https://learnmeabitcoin.com/technical/mining/target/). <br>\n",
    "\n",
    "The (mining) difficulty of a block is a number that represents how difficult it is for miners to add new blocks of transactions to the blockchain, and is inversely proportional to the (mining) target value. It is computed via the formula \n",
    "\n",
    "$$\\text{difficulty} = \\frac{0xffff \\cdot 256^{0x1d-3}}{\\text{target}}$$\n",
    "\n",
    "and is normalized such that the difficulty for the very first block, the genesis block, was $1$. You can find more information about the concept of target and difficulty in [Chapter 9 of Jimmy Song's Programming Bitcoin book](https://github.com/jimmysong/programmingbitcoin/blob/master/ch09.asciidoc#proof-of-work) and in the [Section on \"Mining the Block\" in Chapter 12 of Harding and Antonopoulos' book Mastering Bitcoin](https://github.com/bitcoinbook/bitcoinbook/blob/develop/ch12_mining.adoc#mining-the-block).\n",
    "\n",
    "Using Python, establish a connection to the blockchain data stored on your hard drive. <br> Hint: Use `bitcoinrpc.authproxy` library. \n",
    "\n",
    "Write Python code that plots a graph of block difficulty over time, starting from the genesis block up to the current chain tip height. \n",
    "\n",
    "For simplicity, collect difficulty values at reasonable intervals of your choice. Keep in mind that difficulty is adjusted every 2016 blocks.\n",
    "For this exercise, collect the difficulty directly from the block.\n",
    "\n",
    "Note: Make sure to modify the Bitcoin Core configuration file `bitcoin.conf` as needed.\n",
    "\n",
    "#### It is necessary that you retrieve this information via your own Bitcoin node, not using an external blockchain explorer. Write the commands used/ steps followed for each question."
   ]
  },
  {
   "cell_type": "code",
   "execution_count": null,
   "id": "efef21ed",
   "metadata": {},
   "outputs": [],
   "source": [
    "#YOUR CODE HERE\n",
    "### Make sure you have the output of all cells in the PDF version."
   ]
  },
  {
   "cell_type": "markdown",
   "id": "351dccfe",
   "metadata": {},
   "source": [
    "### Exercise 7 (10 Points)\n",
    "For the following Bitcoin Script opcodes, write your own opcode functions: OP_ADD, OP_EQUAL, OP_DUP, and OP_MUL. Each function should operate on a stack and perform the same actions as described in [Chapter 6 of Jimmy Song's Programming Bitcoin](https://github.com/jimmysong/programmingbitcoin/blob/master/ch06.asciidoc). \n",
    "\n",
    "The input will be a list, and the output will be the updated list after the operation. Each function should return either True or False, indicating success or failure. Print both the return value and the updated stack after each operation. \n",
    "\n",
    "Also, implement OP_1 through OP_9 to push the values 1 to 9 onto the stack, respectively."
   ]
  },
  {
   "cell_type": "code",
   "execution_count": null,
   "id": "3697b98a",
   "metadata": {},
   "outputs": [],
   "source": [
    "#YOUR CODE HERE\n",
    "### Make sure you have the output of all cells in the PDF version."
   ]
  },
  {
   "cell_type": "markdown",
   "id": "ae773eb6",
   "metadata": {},
   "source": [
    "#### Testcases:\n",
    "With the input `stack = [2, 3]`, print the output and the stack (where applicable) for each of the following operations:\n",
    "* OP_ADD\n",
    "* OP_5\n",
    "* OP_MUL\n",
    "* OP_DUP\n",
    "* OP_EQUAL"
   ]
  },
  {
   "cell_type": "code",
   "execution_count": null,
   "id": "bc35b085-5e7b-4cd8-b04f-a2762e8198a9",
   "metadata": {},
   "outputs": [],
   "source": [
    "#YOUR CODE HERE\n",
    "### Make sure you have the output of all cells in the PDF version."
   ]
  },
  {
   "cell_type": "markdown",
   "id": "4e82cf64-d95d-4481-bbb5-b904c8c639cf",
   "metadata": {},
   "source": [
    "Let's define a dictionary `opcodes_map` that map the opcode functions of exercise 7 to official opcode number used in Bitcoin. "
   ]
  },
  {
   "cell_type": "code",
   "execution_count": null,
   "id": "642b8258-a36a-4821-a0cc-c45080a6b6b2",
   "metadata": {},
   "outputs": [],
   "source": [
    "opcodes_map = {93:OP_ADD, 87: OP_EQUAL, 76: OP_DUP, 95:OP_MUL, 51:OP_1, 52: OP_2, 53:OP_3, 54:OP_4, 55:OP_5, 56:OP_6, 57:OP_7, 58:OP_8, 59:OP_9}"
   ]
  },
  {
   "cell_type": "markdown",
   "id": "54ec7da4-56f8-4869-a5e9-ffafad43ac66",
   "metadata": {},
   "source": [
    "### Exercise 8 (10 Points)\n",
    "\n",
    "Write a method `EvalScript` that accepts a list of opcodes and a single opcode as inputs. First, the method should process the single opcode to push an element onto the stack. Then, it should process all the opcodes in the list starting from the $0^{th}$ position. If any opcode operation fails, the function should return `False`; otherwise, it returns `True` if all operations succeed."
   ]
  },
  {
   "cell_type": "code",
   "execution_count": null,
   "id": "16b0255a-9774-4131-9961-14bc95c267aa",
   "metadata": {},
   "outputs": [],
   "source": [
    "### Make sure you have the output of all cells in the PDF version.\n",
    "def EvalScript(opcode_list, opcode): \n",
    "    #YOUR CODE HERE\n"
   ]
  },
  {
   "cell_type": "code",
   "execution_count": null,
   "id": "c88135bd-dc4a-4691-97b3-7804c9ab372d",
   "metadata": {},
   "outputs": [],
   "source": [
    "print(EvalScript([53, 95, 53, 93, 56, 87], 51))"
   ]
  },
  {
   "cell_type": "code",
   "execution_count": null,
   "id": "d073733c-b94c-4c18-b1a8-6794dfa1ca34",
   "metadata": {},
   "outputs": [],
   "source": [
    "print(EvalScript([76, 95, 56, 93, 53, 95, 56, 87], 59))"
   ]
  },
  {
   "cell_type": "markdown",
   "id": "aad05529",
   "metadata": {},
   "source": [
    "### Exercise 9 (10 Points)\n",
    "Write a function called `UnlockScript` hat takes a list of opcodes as input and tries to return a single opcode that unlocks or successfully evaluates the list of opcodes to True.\n"
   ]
  },
  {
   "cell_type": "code",
   "execution_count": null,
   "id": "cb28721e",
   "metadata": {},
   "outputs": [],
   "source": [
    "### Make sure you have the output of all cells in the PDF version.\n",
    "def UnlockScript(opcode_list): \n",
    "    #YOUR CODE HERE"
   ]
  },
  {
   "cell_type": "code",
   "execution_count": null,
   "id": "7f6e946a",
   "metadata": {},
   "outputs": [],
   "source": [
    "print(UnlockScript([76, 76, 95, 93, 56, 87]))"
   ]
  },
  {
   "cell_type": "code",
   "execution_count": null,
   "id": "baf32937",
   "metadata": {},
   "outputs": [],
   "source": [
    "print(UnlockScript([52, 95, 51, 93, 57, 87]))"
   ]
  }
 ],
 "metadata": {
  "kernelspec": {
   "display_name": "Python 3 (ipykernel)",
   "language": "python",
   "name": "python3"
  },
  "language_info": {
   "codemirror_mode": {
    "name": "ipython",
    "version": 3
   },
   "file_extension": ".py",
   "mimetype": "text/x-python",
   "name": "python",
   "nbconvert_exporter": "python",
   "pygments_lexer": "ipython3",
   "version": "3.11.8"
  }
 },
 "nbformat": 4,
 "nbformat_minor": 5
}
