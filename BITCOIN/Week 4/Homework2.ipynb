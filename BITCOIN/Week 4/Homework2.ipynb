{
 "cells": [
  {
   "cell_type": "markdown",
   "id": "19d53131-b8bb-4fea-89cf-9dd5b92ed8c7",
   "metadata": {},
   "source": [
    "# Topics in Computer Science - Bitcoin: Programming the Future of Money - ITCS 4010 & 5010 - Spring 2025 - UNC Charlotte\n",
    "\n",
    "# Homework 2 - Cryptographic Hashing (30 Points)"
   ]
  },
  {
   "cell_type": "markdown",
   "id": "191dccad-faad-440f-a64f-7e165796b08b",
   "metadata": {},
   "source": [
    "### Write Your Name Here:\n",
    "\n",
    "### Names of collaborators:\n",
    "\n"
   ]
  },
  {
   "cell_type": "markdown",
   "id": "7a255941-f2cd-4a13-b0e1-f3af36e0ce72",
   "metadata": {},
   "source": [
    "# <font color=\"blue\"> Submission instructions</font>\n",
    "\n",
    "1. Click the Save button at the top of the Jupyter Notebook.\n",
    "2. Please make sure to have entered your name above.\n",
    "3. Select Cell -> All Output -> Clear. This will clear all the outputs from all cells (but will keep the content of all cells). \n",
    "4. Select Cell -> Run All. This will run all the cells in order, and will take several minutes.\n",
    "5. Once you've rerun everything, create a PDF version of the Jupypter notebook which includes visually all executed cells. This can be done in different ways depending on your specific Python/Jupyter setup. You can do that either by exporting into PDF (PDF via LaTeX / PDF via HTML), or by exporting into an HTML file first and then print the HTML site as a PDF and save that PDF.\n",
    "6. Look at the PDF file and make sure all your solutions are there, displayed correctly.\n",
    "7. Submit **both** your PDF and the notebook file .ipynb on Gradescope.\n",
    "8. Make sure your your Gradescope submission contains the correct files by downloading it after posting it on Gradescope."
   ]
  },
  {
   "cell_type": "markdown",
   "id": "8ffab93e-9d9b-4118-aaa1-34c597c2d209",
   "metadata": {},
   "source": [
    "### 1. Build SHA256 from scratch (25 Points)\n",
    "\n",
    "In this exercise, you are asked to implement the algorithm applied in the SHA-256 hash function.\n",
    "The SHA-256 hash function is specified in the NIST standarization document [FIPS PUB 180-4](https://nvlpubs.nist.gov/nistpubs/FIPS/NIST.FIPS.180-4.pdf).\n",
    "\n",
    "**Disclaimer: Do not use the hashlib library for the entire Exercise 1.**"
   ]
  },
  {
   "cell_type": "markdown",
   "id": "9fd601a5-7123-4e99-b3cc-0082810dd821",
   "metadata": {},
   "source": [
    "#### Constants used in SHA-256\n",
    "\n",
    "SHA256 employs a sequence of 64 constant 32-bit words, which can be considered as _fixed_ random seeds to be used in the hash function. These values correspond to the first 32 bits of the fractional parts of the cube roots of the first 64 prime numbers. \n",
    "\n",
    "They are represented in hexadecimal as shown below:"
   ]
  },
  {
   "cell_type": "code",
   "execution_count": null,
   "id": "5e5e2046-5f38-4230-99c4-fd07d19068dd",
   "metadata": {},
   "outputs": [],
   "source": [
    "K = [\n",
    "    0x428a2f98, 0x71374491, 0xb5c0fbcf, 0xe9b5dba5, 0x3956c25b, 0x59f111f1, 0x923f82a4, 0xab1c5ed5,\n",
    "    0xd807aa98, 0x12835b01, 0x243185be, 0x550c7dc3, 0x72be5d74, 0x80deb1fe, 0x9bdc06a7, 0xc19bf174,\n",
    "    0xe49b69c1, 0xefbe4786, 0x0fc19dc6, 0x240ca1cc, 0x2de92c6f, 0x4a7484aa, 0x5cb0a9dc, 0x76f988da,\n",
    "    0x983e5152, 0xa831c66d, 0xb00327c8, 0xbf597fc7, 0xc6e00bf3, 0xd5a79147, 0x06ca6351, 0x14292967,\n",
    "    0x27b70a85, 0x2e1b2138, 0x4d2c6dfc, 0x53380d13, 0x650a7354, 0x766a0abb, 0x81c2c92e, 0x92722c85,\n",
    "    0xa2bfe8a1, 0xa81a664b, 0xc24b8b70, 0xc76c51a3, 0xd192e819, 0xd6990624, 0xf40e3585, 0x106aa070,\n",
    "    0x19a4c116, 0x1e376c08, 0x2748774c, 0x34b0bcb5, 0x391c0cb3, 0x4ed8aa4a, 0x5b9cca4f, 0x682e6ff3,\n",
    "    0x748f82ee, 0x78a5636f, 0x84c87814, 0x8cc70208, 0x90befffa, 0xa4506ceb, 0xbef9a3f7, 0xc67178f2\n",
    "]"
   ]
  },
  {
   "cell_type": "markdown",
   "id": "df44c61d",
   "metadata": {},
   "source": [
    "The hexadecimal encoding is to be read as follows: '0x' is a prefix that specifies that the following digits correspond to hexadecimal values, and subsequently, pairs of two hexadecimal digits correspond to a $8$ bits of binary information. For example, the first of the 64 words above corresponds to the integer"
   ]
  },
  {
   "cell_type": "code",
   "execution_count": null,
   "id": "06c5904d",
   "metadata": {},
   "outputs": [],
   "source": [
    "K[1]"
   ]
  },
  {
   "cell_type": "markdown",
   "id": "a778dfdf",
   "metadata": {},
   "source": [
    "and its hexadecimal and binary representations can be recovered via"
   ]
  },
  {
   "cell_type": "code",
   "execution_count": null,
   "id": "5d366115",
   "metadata": {},
   "outputs": [],
   "source": [
    "hex(K[0])"
   ]
  },
  {
   "cell_type": "markdown",
   "id": "d4f4a7c3",
   "metadata": {},
   "source": [
    "and"
   ]
  },
  {
   "cell_type": "code",
   "execution_count": null,
   "id": "1cc3a16a",
   "metadata": {},
   "outputs": [],
   "source": [
    "bin(K[0])"
   ]
  },
  {
   "cell_type": "markdown",
   "id": "12a8b888",
   "metadata": {},
   "source": [
    "respectively."
   ]
  },
  {
   "cell_type": "markdown",
   "id": "262cc351-63f0-4eed-82cc-00f27d9914cf",
   "metadata": {},
   "source": [
    "#### Initialization Vector of SHA-256\n",
    "\n",
    "SHA-256 follows the [Merkle-Damgård construction](https://en.wikipedia.org/wiki/Merkle–Damgård_construction) for constructing a variable-length input hash function based on a fixed-length _compression function_.\n",
    "\n",
    "As such, SHA-256 requires the inclusion of initial hash values. These values are derived by taking the first 32 bits of the fractional parts of the square roots of the first 8 prime numbers. Expressed in hexadecimal respresentation, they can be defined as follows."
   ]
  },
  {
   "cell_type": "code",
   "execution_count": null,
   "id": "f6dd16c6-d610-49f5-a518-92b078f671fb",
   "metadata": {},
   "outputs": [],
   "source": [
    "h0 = 0x6a09e667\n",
    "h1 = 0xbb67ae85\n",
    "h2 = 0x3c6ef372\n",
    "h3 = 0xa54ff53a\n",
    "h4 = 0x510e527f\n",
    "h5 = 0x9b05688c\n",
    "h6 = 0x1f83d9ab\n",
    "h7 = 0x5be0cd19\n",
    "\n",
    "H = [h0, h1, h2, h3, h4, h5, h6, h7]"
   ]
  },
  {
   "cell_type": "markdown",
   "id": "7e31528c-5d8f-4319-b068-0cae0d35e68e",
   "metadata": {},
   "source": [
    "### a. Logic functions - Part 1 (2 Points)\n",
    "\n",
    "Each of the following functions operates on 32-bit words (e.g., x, y, z), and the output of each function is a new 32-bit word.\n",
    "\n",
    "Write functions `Ch` and `Maj` based on the defined specification:\n",
    "\n",
    "1. $Ch(x,y,z) = (x \\wedge y) \\oplus (\\neg x \\wedge z)$\n",
    "2. $Maj(x,y,z) = (x \\wedge y) \\oplus (x \\wedge z) \\oplus (y \\wedge z)$\n",
    "\n",
    "Here, $\\oplus$ corresponds to the bitwise \"XOR\" operation and \"$\\wedge$\" corresponds to the bitwise \"AND\" operation."
   ]
  },
  {
   "cell_type": "code",
   "execution_count": null,
   "id": "526efd1e-a00c-4e22-9482-bfaa5ab3390a",
   "metadata": {},
   "outputs": [],
   "source": [
    "def Ch(x, y, z):\n",
    "    #Your code here\n",
    "\n",
    "def Maj(x, y, z):\n",
    "    #Your code here\n"
   ]
  },
  {
   "cell_type": "markdown",
   "id": "5648ddf0-f38b-4fe4-a6e3-57b66f1f3c8b",
   "metadata": {},
   "source": [
    "### b. Logic functions - Part 2 (1 Point)\n",
    "\n",
    "Write function `ROTR(x,n)` that takes as inputs a `w`-bit word `x` and an integer `n` and implements a circular right shift such that, if $n$ is an integer with $0 \\le n \\lt w$, then output is \n",
    "$$\n",
    "(x \\operatorname{RIGHTSHIFT} n) \\vee (x \\operatorname{LEFTSHIFT} (w-n)).\n",
    "$$\n",
    "Provide the length `w` as an optional input parameter that is chosen as $32$ by default.\n",
    "\n",
    "Here, $x \\operatorname{RIGHTSHIFT} n$ for bit string $x$ and an integer $n$ corresponds to the operator of discarding the $n$ rightmost bits of $x$, shifting the remaining ones by $n$ to the right and padding the resulting bit string with $n$ zeroes from the left."
   ]
  },
  {
   "cell_type": "code",
   "execution_count": null,
   "id": "dfb119ae-2f04-4c65-aee9-fac5f755f3e8",
   "metadata": {},
   "outputs": [],
   "source": [
    "def ROTR(x, n, w: int = 32):\n",
    "    #Your code here"
   ]
  },
  {
   "cell_type": "markdown",
   "id": "215e99b3-89bb-4474-aabc-7fa8b7bee17f",
   "metadata": {},
   "source": [
    "### c. Logic functions - Part 3 (4 Points)\n",
    "\n",
    "Write functions `Sigma1`, `Sigma2`, `Capsigma1` and `Capsigma2` that operate on a 32-bit word `x`.\n",
    "\n",
    "1. `Capsigma1(x)` - Corresponds to the operation `ROTR(x,2)` $\\oplus$ `ROTR(x,13)` $\\oplus$ `ROTR(x,22)`.\n",
    "2. `Capsigma2(x)` - Corresponds to the operation `ROTR(x,6)` $\\oplus$ `ROTR(x,11)` $\\oplus$ `ROTR(x,25)`.\n",
    "3. `Sigma1(x)`  - Corresponds to the operation `ROTR(x,7)` $\\oplus$ `ROTR(x,18)` $\\oplus \\, ($ x RIGHTSHIFT 3 $)\\, $.\n",
    "4. `Sigma2(x)`  - Corresponds to the operation `ROTR(x,17)` $\\oplus$ `ROTR(x,19)` $\\oplus \\, ($ x RIGHTSHIFT 10 $)\\, $."
   ]
  },
  {
   "cell_type": "code",
   "execution_count": null,
   "id": "1a832a15-aafb-45e5-a6c6-9825e241763d",
   "metadata": {},
   "outputs": [],
   "source": [
    "def Capsigma1(num):\n",
    "    num = #Your code here\n",
    "    return num\n",
    "\n",
    "def Capsigma2(num):\n",
    "    num = #Your code here\n",
    "    return num\n",
    "\n",
    "def Sigma1(num):\n",
    "    num = #Your code here\n",
    "    return num\n",
    "\n",
    "def Sigma2(num):\n",
    "    num = #Your code here\n",
    "    return num\n"
   ]
  },
  {
   "cell_type": "markdown",
   "id": "f9e17206-2b24-4aa3-941d-1cbbb8a3257c",
   "metadata": {},
   "source": [
    "#### Conversion of integer to byte representation\n",
    "\n",
    "In Python, `to_bytes()` method can be used to convert an integer into its corresponding byte representation.\n",
    "\n",
    "`Syntax: int.to_bytes(length, byteorder, *, signed=False)`\n",
    "\n",
    "Here, length is the number of bytes that will be used to represent the integer. Basically, it defines the size of the resulting byte object.\n",
    "\n",
    "Byteorder specifies the byte order, or endianness. In this exercise, we use 'Big' endian."
   ]
  },
  {
   "cell_type": "code",
   "execution_count": null,
   "id": "50d5143c-2502-4d57-a87f-0d66cb281bf6",
   "metadata": {},
   "outputs": [],
   "source": [
    "x = 1024\n",
    "y = x.to_bytes(8, byteorder='big')\n",
    "print(f'Byte representation of {x} is', y)\n",
    "print('Number of bytes =', len(y))"
   ]
  },
  {
   "cell_type": "markdown",
   "id": "01a9f854-aa78-4cc0-9009-d62caa4c0f78",
   "metadata": {},
   "source": [
    "#### Conversion of bytes to integer\n",
    "\n",
    "`from_bytes()` method can be used to convert a sequence of bytes into an integer. \n",
    "\n",
    "`Syntax: int.from_bytes(bytes, byteorder='big', *, signed=False)`"
   ]
  },
  {
   "cell_type": "code",
   "execution_count": null,
   "id": "a4f95812-51c8-40cd-9c6a-16acccb92cbf",
   "metadata": {},
   "outputs": [],
   "source": [
    "# converts y (byte representation of 1024) back to integer\n",
    "z = int.from_bytes(y, byteorder='big')\n",
    "print(z)"
   ]
  },
  {
   "cell_type": "markdown",
   "id": "cc3dc6a9-223b-42ac-b26d-3cee7062fd4e",
   "metadata": {},
   "source": [
    "### d. Preprocessing - Part 1 (4 Points)\n",
    "\n",
    "Implement a function `padding` that appends bits to the input message so that the resulting message length is a multiple of 512 bits.\n",
    "\n",
    "Steps:\n",
    "1. Calculate message length: Let $l$ be the message length in bits. For example, the message \"abc\" has $l$ = 24 bits.\n",
    "2. Add a \"1\" bit to the end of the message. \n",
    "3. Append $k$ zero bits, where $k$ is the smallest number such that, for 'abc', $l$+1+$k$ = (512-24)mod512. For 'abc' this means adding 423 zero bits\n",
    "4. Append original length: Add the original message length $l$ as a 64-bit binary value.\n",
    "\n",
    "The total message length will now be a multiple of 512 bits."
   ]
  },
  {
   "cell_type": "code",
   "execution_count": null,
   "id": "f3643cdb-a495-45f5-aa00-06dd3a5f0501",
   "metadata": {},
   "outputs": [],
   "source": [
    "def padding(message):\n",
    "    if isinstance(message, str):\n",
    "        message = bytearray(message, 'ascii')\n",
    "    elif isinstance(message, bytes):\n",
    "        message = bytearray(message)\n",
    "    # Padding\n",
    "    #calculate the message length in bits.\n",
    "    length = #Your code here\n",
    "    \n",
    "    #Append 0x80 to the message\n",
    "    #Your code here\n",
    "    \n",
    "    #Append k zero bits\n",
    "    while (len(message) * 8 + 64) % 512 != 0: #Add 64 because at the end we add 64-bit representation of the original message length.\n",
    "        #Your code here\n",
    "        \n",
    "    #Add the original message length (length) as an 8-byte (64-bit) value to the end of the padded message.\n",
    "    message += #Your code here\n",
    "    if (len(message) * 8) % 512 != 0:\n",
    "        print(\"Incomplete Padding\")\n",
    "    return message"
   ]
  },
  {
   "cell_type": "markdown",
   "id": "88d36201-73c5-4823-8354-4d16ab87d194",
   "metadata": {},
   "source": [
    "### Test your code: Padding"
   ]
  },
  {
   "cell_type": "code",
   "execution_count": null,
   "id": "d77c206c-c159-4494-9a8f-fc7de1c74ede",
   "metadata": {},
   "outputs": [],
   "source": [
    "#test your padding function\n",
    "msg = 'btc'\n",
    "padded_msg = padding(msg)\n",
    "if padded_msg == b'btc\\x80\\x00\\x00\\x00\\x00\\x00\\x00\\x00\\x00\\x00\\x00\\x00\\x00\\x00\\x00\\x00\\x00\\x00\\x00\\x00\\x00\\x00\\x00\\x00\\x00\\x00\\x00\\x00\\x00\\x00\\x00\\x00\\x00\\x00\\x00\\x00\\x00\\x00\\x00\\x00\\x00\\x00\\x00\\x00\\x00\\x00\\x00\\x00\\x00\\x00\\x00\\x00\\x00\\x00\\x00\\x00\\x00\\x00\\x00\\x00\\x18':\n",
    "    print(\"Well Done!, Testcase Passed\")\n",
    "else:\n",
    "    Print(\"Testcase Failure\")\n"
   ]
  },
  {
   "cell_type": "markdown",
   "id": "fdcb5aba-fdfd-4089-9fda-452133638fc9",
   "metadata": {},
   "source": [
    "### e. Preprocessing - Part 2 ( Points)\n",
    "\n",
    "Complete function `parsing` that divides the padded message into N blocks, each 512 bits long. "
   ]
  },
  {
   "cell_type": "code",
   "execution_count": null,
   "id": "a8b760aa-790b-408a-9db7-187671510731",
   "metadata": {},
   "outputs": [],
   "source": [
    "def parsing(message):\n",
    "    blocks = []\n",
    "    #Append 64-byte (512-bit) chunk of the message to the blocks list.\n",
    "    for i in range(0, len(message), 64): #512 bits = 64 bytes\n",
    "        #Your code here\n",
    "    return blocks\n",
    "    "
   ]
  },
  {
   "cell_type": "markdown",
   "id": "fb4c63bf-40bc-4c8c-9bda-534f467c854b",
   "metadata": {},
   "source": [
    "### Test your code: Parsing"
   ]
  },
  {
   "cell_type": "code",
   "execution_count": null,
   "id": "5f9bb4b0-2d21-4bbf-b25d-77ab345b3d57",
   "metadata": {},
   "outputs": [],
   "source": [
    "padded_msg = b'btc\\x80\\x00\\x00\\x00\\x00\\x00\\x00\\x00\\x00\\x00\\x00\\x00\\x00\\x00\\x00\\x00\\x00\\x00\\x00\\x00\\x00\\x00\\x00\\x00\\x00\\x00\\x00\\x00\\x00\\x00\\x00\\x00\\x00\\x00\\x00\\x00\\x00\\x00\\x00\\x00\\x00\\x00\\x00\\x00\\x00\\x00\\x00\\x00\\x00\\x00\\x00\\x00\\x00\\x00\\x00\\x00\\x00\\x00\\x00\\x00\\x18'\n",
    "blk = parsing(padded_msg)\n",
    "if blk[0] == b'btc\\x80\\x00\\x00\\x00\\x00\\x00\\x00\\x00\\x00\\x00\\x00\\x00\\x00\\x00\\x00\\x00\\x00\\x00\\x00\\x00\\x00\\x00\\x00\\x00\\x00\\x00\\x00\\x00\\x00\\x00\\x00\\x00\\x00\\x00\\x00\\x00\\x00\\x00\\x00\\x00\\x00\\x00\\x00\\x00\\x00\\x00\\x00\\x00\\x00\\x00\\x00\\x00\\x00\\x00\\x00\\x00\\x00\\x00\\x00\\x00\\x18':\n",
    "    print(\"Well Done!, Testcase Passed\")\n",
    "else:\n",
    "    print(\"Testcase Failure\")"
   ]
  },
  {
   "cell_type": "markdown",
   "id": "9b434d8c-64c9-44ed-9601-15d4fbf0052c",
   "metadata": {},
   "source": [
    "### f. Message schedule (5 Points)\n",
    "\n",
    "Complete the function `message_schedule` that prepares the message schedule for each parsed message block as given below:\n",
    "\n",
    "* Iterate through 0 to 63.\n",
    "     * For $0 \\le t \\le 15$, set schedule $W_t$ to the 32-bit words from the message block. (Append $W_t$ with 4 bytes (32-bit) at a time starting from the leftmost word)\n",
    "  \n",
    "     * For $16 \\le t \\le 63$, compute schedule $W_t$ using $W_t = \\sigma_2(W_{t-2}) + W_{t-7} + \\sigma_1(W_{t-15}) + W_{t-16}$, where $\\sigma_1$ and $\\sigma_2$ are `sigma1` and `sigma2` functions defined in the previous cell.\n",
    "     "
   ]
  },
  {
   "cell_type": "code",
   "execution_count": null,
   "id": "06716451-4a89-4175-abc7-7fd82e626e53",
   "metadata": {},
   "outputs": [],
   "source": [
    "def message_schedule(block):\n",
    "    schedule = []\n",
    "    for t in range(0, 64):\n",
    "        if t <= 15:\n",
    "            #Append schedule list with 4 bytes at a time\n",
    "            #Eg: if t = 0, append bytes(block[0:4]), if t = 1, append bytes(block[4:8]), if t = 2, append bytes(block[8:12] and so on\n",
    "            #Your code here\n",
    "            \n",
    "        else:\n",
    "            #Compute Sigma2() on the (t-2)th element of the schedule, converting the byte sequence to an integer first\n",
    "            term1 = #Your code here\n",
    "            \n",
    "            # Retrieve the (t-7)th element from the schedule, convert it from bytes to an integer\n",
    "            term2 = #Your code here\n",
    "            \n",
    "            #Compute Sigma1() on the (t-15)th element of the schedule, converting the byte sequence to an integer first\n",
    "            term3 = #Your code here\n",
    "            \n",
    "            # Retrieve the (t-16)th element from the schedule, convert it from bytes to an integer\n",
    "            term4 = #Your code here\n",
    "    \n",
    "            temp = ((term1 + term2 + term3 + term4) % 2**32).to_bytes(4, 'big')\n",
    "            schedule.append(temp)\n",
    "    return schedule\n",
    "    \n",
    "    "
   ]
  },
  {
   "cell_type": "code",
   "execution_count": null,
   "id": "26e09dcf-6042-463c-9be7-aea37d511878",
   "metadata": {},
   "outputs": [],
   "source": [
    "sch = message_schedule(blk[0])\n",
    "if sch[10] == b'\\x00\\x00\\x00\\x00':\n",
    "    print(\"Well Done!, Testcase Passed\")\n",
    "else:\n",
    "    print(\"Testcase Failure\")"
   ]
  },
  {
   "cell_type": "markdown",
   "id": "f2e3956d-91af-478e-80af-39ab30d5da28",
   "metadata": {},
   "source": [
    "### g. Hash computation (7 Points)\n",
    "\n",
    "Complete the function `sha256` that computes the hash for a given message.\n",
    "\n",
    "Steps:\n",
    "\n",
    "1. Each message block is processed in order: Iterate over N message blocks.\n",
    "2. Prepare the message schedule.\n",
    "3. Initialize the working variables (a,b,c,d,e,f,g,h) with initial hash values (h0, h1, h2, h3, h4, h5, h6, h7) respectively.\n",
    "4. Iterate through 0 to 63 and compute the following:\n",
    "   \n",
    "$T_1 = h + \\sum_2(e) + \\text{ch}(e, f, g) + K_t + W_t$\n",
    "\n",
    "$T_2 = \\sum_1(a) + \\text{maj}(a, b, c)$\n",
    "\n",
    "$h = g$\n",
    "\n",
    "$g = f$\n",
    "\n",
    "$f = e$\n",
    "\n",
    "$e = d + T_1$\n",
    "\n",
    "$d = c$\n",
    "\n",
    "$c = b$\n",
    "\n",
    "$b = a$\n",
    "\n",
    "$a = T_1 +T_2$\n",
    " \n",
    "5. After completing the 64 rounds for a message block, update the $i^{th}$ intermediate hash values using the working variables such that;\n",
    " \n",
    " $h0 = (h0^{i-1}+a), h1 = (h1^{i-1}+b), h2 = (h2^{i-1}+c), h3 = (h3^{i-1}+d), h4 = (h4^{i-1}+e), h5 = (h5^{i-1}+f), h6 = (h6^{i-1}+g), h7 = (h7^{i-1}+h)$\n",
    " \n",
    "6. After processing all N blocks, the final 256-bit message digest is the concatenation of the updated hash values\n",
    "\n",
    " h0 + h1 + h2 + h3 + h4 + h5 + h6 + h7\n",
    "\n",
    "Note: To ensure the result stays within the bounds of a 32-bit integer, apply modulo $2^{32}$ to the sum.\n"
   ]
  },
  {
   "cell_type": "code",
   "execution_count": null,
   "id": "d39d7243-c869-4887-ad52-38bf2500e3e9",
   "metadata": {},
   "outputs": [],
   "source": [
    "def sha256(message, H, K): \n",
    "    #Initial hash values\n",
    "    h0, h1, h2, h3, h4, h5, h6, h7 = H[0], H[1], H[2], H[3], H[4], H[5], H[6], H[7]\n",
    "\n",
    "    #Preprocess the message\n",
    "    #padding\n",
    "    message = #Your code here\n",
    "    #Parsing\n",
    "    blocks = #Your code here\n",
    "    \n",
    "    for block in blocks:\n",
    "        #prepare message schedule\n",
    "        schedule = #Your code here\n",
    "        \n",
    "        # Initialize working variables a,b,c,d,e,f,g,h using h0,h1,h2,h3,h4,h5,h6,h7 respectively\n",
    "        #Your code here\n",
    "    \n",
    "        # Iterate for t=0 to 63\n",
    "        for t in range(64):\n",
    "            # t1 = (h + Capsigma2(e) + Ch(e, f, g) + constant K[t] + (schedule[t], converting bytes to an integer)), mod 2^32\n",
    "            t1 = #Your code here\n",
    "            \n",
    "            # calculate t2 based on Capsigma1(a) and Maj(a, b, c), mod 2^32\n",
    "            t2 = #Your code here\n",
    "            \n",
    "            # Update the values for h, g, f\n",
    "            #Your code here\n",
    "            \n",
    "            # e: add t1 to d and take the result mod 2^32\n",
    "            e = #Your code here\n",
    "            \n",
    "            # Update the values for d, c, b\n",
    "            #Your code here\n",
    "            \n",
    "            # a: sum of t1 and t2, mod 2^32\n",
    "            a = #Your code here\n",
    "    \n",
    "        # Compute intermediate hash value\n",
    "        # eg: h0 = (h0 + a) % 2**32\n",
    "        # Your code here\n",
    "        h0 = \n",
    "        h1 = \n",
    "        h2 = \n",
    "        h3 = \n",
    "        h4 = \n",
    "        h5 = \n",
    "        h6 = \n",
    "        h7 = \n",
    "    \n",
    "    return (((h0).to_bytes(4, 'big') + (h1).to_bytes(4, 'big') +\n",
    "            (h2).to_bytes(4, 'big') + (h3).to_bytes(4, 'big') +\n",
    "            (h4).to_bytes(4, 'big') + (h5).to_bytes(4, 'big') +\n",
    "            (h6).to_bytes(4, 'big') + (h7).to_bytes(4, 'big')).hex())"
   ]
  },
  {
   "cell_type": "code",
   "execution_count": null,
   "id": "3fe930a4-37ee-48b2-b8b9-84b569ad3a20",
   "metadata": {},
   "outputs": [],
   "source": [
    "message = \"bitcoin\"\n",
    "print(sha256(message, H, K))"
   ]
  },
  {
   "cell_type": "code",
   "execution_count": null,
   "id": "c84edc17-9266-4fec-9456-6f5587abc62f",
   "metadata": {},
   "outputs": [],
   "source": [
    "message = \"lightning\"\n",
    "print(sha256(message, H, K))"
   ]
  },
  {
   "cell_type": "markdown",
   "id": "3412ffff-deeb-47ef-b746-b4c5775f5d89",
   "metadata": {},
   "source": [
    "### 2. SHA256 using hashlib library (5 Points)\n",
    "\n",
    "#### a. Hashlib - sha256 (5 Points)\n",
    "write the `hash_string` function that uses sha256 from `hashlib` library to convert input string to hash. \n",
    "\n",
    "* Convert the input string to bytes (use .encode())\n",
    "\n",
    "* Use sha256 function of hashlib to get the hash from the input string bytes.\n",
    "\n",
    "* Return the hashed text in hex.\n"
   ]
  },
  {
   "cell_type": "code",
   "execution_count": null,
   "id": "8561e829-626e-46dc-a72b-f216b9e26daa",
   "metadata": {},
   "outputs": [],
   "source": [
    "import hashlib\n",
    "def hash_string(message):\n",
    "    #Your code here\n",
    "    return text "
   ]
  },
  {
   "cell_type": "code",
   "execution_count": null,
   "id": "b184cb08-ef8c-4c01-9c4b-57581bc656df",
   "metadata": {},
   "outputs": [],
   "source": [
    "message = \"bitcoin\"\n",
    "print(hash_string(message))"
   ]
  },
  {
   "cell_type": "code",
   "execution_count": null,
   "id": "2fe1d8b4-60c3-4eb2-950b-159ce5ccabd9",
   "metadata": {},
   "outputs": [],
   "source": [
    "message = \"lightning\"\n",
    "print(hash_string(message))"
   ]
  },
  {
   "cell_type": "code",
   "execution_count": null,
   "id": "6d21df97-a2ae-44ed-af36-a6777ced62ee",
   "metadata": {},
   "outputs": [],
   "source": [
    "len(hash_string(message)*4)"
   ]
  },
  {
   "cell_type": "markdown",
   "id": "bf575d99-041f-493c-b375-65ddaa8817ca",
   "metadata": {},
   "source": [
    "### Verify SHA-256 implementation against Python's hashlib library\n",
    "\n",
    "Compare the output of your SHA-256 implementation with the output of the hashlib SHA-256 function. Both should produce identical results.\n"
   ]
  },
  {
   "cell_type": "code",
   "execution_count": null,
   "id": "755e98b7-3862-4b5d-ba08-5e76375201ca",
   "metadata": {},
   "outputs": [],
   "source": [
    "message = 'satoshi'\n",
    "print(sha256('satoshi', H, K))\n",
    "print(hash_string(message))\n",
    "print(sha256('satoshi', H, K) == hash_string(message))"
   ]
  }
 ],
 "metadata": {
  "kernelspec": {
   "display_name": "Python 3 (ipykernel)",
   "language": "python",
   "name": "python3"
  },
  "language_info": {
   "codemirror_mode": {
    "name": "ipython",
    "version": 3
   },
   "file_extension": ".py",
   "mimetype": "text/x-python",
   "name": "python",
   "nbconvert_exporter": "python",
   "pygments_lexer": "ipython3",
   "version": "3.11.8"
  }
 },
 "nbformat": 4,
 "nbformat_minor": 5
}
