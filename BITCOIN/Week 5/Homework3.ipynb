{
 "cells": [
  {
   "cell_type": "markdown",
   "id": "19d53131-b8bb-4fea-89cf-9dd5b92ed8c7",
   "metadata": {},
   "source": [
    "# Topics in Computer Science - Bitcoin: Programming the Future of Money - ITCS 4010 & 5010 - Fall 2024 - UNC Charlotte\n",
    "\n",
    "# Homework 3 - Elliptic Curves (110 Points)"
   ]
  },
  {
   "cell_type": "markdown",
   "id": "7a255941-f2cd-4a13-b0e1-f3af36e0ce72",
   "metadata": {},
   "source": [
    "# <font color=\"blue\"> Submission instructions</font>\n",
    "\n",
    "1. Click the Save button at the top of the Jupyter Notebook.\n",
    "2. Please make sure to have entered your name above.\n",
    "3. Select Cell -> All Output -> Clear. This will clear all the outputs from all cells (but will keep the content of all cells). \n",
    "4. Select Cell -> Run All. This will run all the cells in order, and will take several minutes.\n",
    "5. Once you've rerun everything, create a PDF version of the Jupypter notebook which includes visually all executed cells. This can be done in different ways depending on your specific Python/Jupyter setup. You can do that either by exporting into PDF (PDF via LaTeX / PDF via HTML), or by exporting into an HTML file first and then print the HTML site as a PDF and save that PDF.\n",
    "6. Look at the PDF file and make sure all your solutions are there, displayed correctly.\n",
    "7. Submit **both** your PDF and the notebook file .ipynb on Gradescope.\n",
    "8. Make sure your your Gradescope submission contains the correct files by downloading it after posting it on Gradescope."
   ]
  },
  {
   "cell_type": "markdown",
   "id": "d921618e-36fc-41af-b29b-b3aa3021c1e7",
   "metadata": {},
   "source": [
    "### 1. Build Calendar (8 Points)\n",
    "There are 365 days in a year. That means there are seven months with 31 days, four months with 30 days, and one month with 28 days. Write `Calendar` function that creates a list called `date` that indexes all dates from 0 – 364. So, date[0] = \"Jan 1\", date[1] = \"Jan 2\", and so on, until date[364] = \"Dec 31\". Spell all months using their three-letter abbreviation. \n",
    "\n",
    "Then write a function `FutureDay` that accepts two parameters: a start date from the date list and a positive integer representing the number of days. The function should calculate and return the future date by adding the specified number of days to the start date.\n",
    "\n",
    "For example, FutureDay(\"Jan 3\", 2) = \"Jan 5\".  "
   ]
  },
  {
   "cell_type": "code",
   "execution_count": null,
   "id": "e4ef642f-5a21-4033-9c10-5a0443751721",
   "metadata": {},
   "outputs": [],
   "source": [
    "def Calendar():\n",
    "        date = []\n",
    "        # YOUR CODE HERE\n",
    "        return date\n",
    "    \n",
    "def FutureDay(start, increment):\n",
    "    # YOUR CODE HERE"
   ]
  },
  {
   "cell_type": "markdown",
   "id": "3008f0a6",
   "metadata": {},
   "source": [
    "Run the following cell to test your code:"
   ]
  },
  {
   "cell_type": "code",
   "execution_count": null,
   "id": "042d15f3-b5c3-4deb-8bda-9d35c39f0d53",
   "metadata": {},
   "outputs": [],
   "source": [
    "print(FutureDay(\"Jan 3\", 2) == \"Jan 5\")\n",
    "print(FutureDay(\"Jan 20\", 100))\n",
    "print(FutureDay(\"Jul 4\", 1000))\n",
    "print(FutureDay(\"Dec 26\", 11)) "
   ]
  },
  {
   "cell_type": "markdown",
   "id": "6e399611-d4c2-408d-976b-bc7482aea6f3",
   "metadata": {},
   "source": [
    "### 2. Build a Finite Field (15 Points)\n",
    "**a.)** Write a funtion `buildfield` that takes the order of the finite field as input and returns the finite field set. In case that the the order of the finite field is not admissible, the function should print a suitable error message instead.\n",
    "\n",
    "Hint: Recall what orders of finite fields are admissible. You can revisit [Jimmy Song's _Programming Bitcoin_: Chapter 1](https://github.com/jimmysong/programmingbitcoin/blob/master/ch01.asciidoc) to revisit this."
   ]
  },
  {
   "cell_type": "code",
   "execution_count": null,
   "id": "cd220e2f-1d43-4444-b59e-caf4eb6a27e9",
   "metadata": {},
   "outputs": [],
   "source": [
    "def buildfield(prime):\n",
    "    # YOUR CODE HERE"
   ]
  },
  {
   "cell_type": "markdown",
   "id": "b602d8c0",
   "metadata": {},
   "source": [
    "Run the following cell to test your code:"
   ]
  },
  {
   "cell_type": "code",
   "execution_count": null,
   "id": "235969fa-7514-4961-9d71-c02a1b808748",
   "metadata": {},
   "outputs": [],
   "source": [
    "print(buildfield(3) == {0,1,2})\n",
    "print(buildfield(31))\n",
    "print(buildfield(4))\n",
    "print(buildfield(12))"
   ]
  },
  {
   "cell_type": "markdown",
   "id": "944562cd",
   "metadata": {},
   "source": [
    "**b.)** Provide an example of a set $F_{p} = \\{0,1,2,3,\\dots, p-1\\}$ with a choice of $p$ and an element $a \\in F_p$ that _does not have a multiplicative inverse_ (when defining addition and multiplication as for finite fields), and explain why."
   ]
  },
  {
   "cell_type": "markdown",
   "id": "1b592eaf",
   "metadata": {},
   "source": [
    "__ (Explain your example here. This subquestion is not solved by code.) __"
   ]
  },
  {
   "cell_type": "markdown",
   "id": "f518c0a3-6fc8-450e-a0d3-8d2119bfe38d",
   "metadata": {},
   "source": [
    "### 3. Scalar Multiplication (11 Points)\n",
    "#### a.) \n",
    "Implement a function `scalar_multiply` that accepts the order of a finite field `order` and a scalar `k` as arguments, and returns a set of elements resulting from the scalar multiplication of `k` with each element in the finite field."
   ]
  },
  {
   "cell_type": "code",
   "execution_count": null,
   "id": "663345e2-a530-48dd-b672-5c729cf45cf0",
   "metadata": {},
   "outputs": [],
   "source": [
    "def scalar_multiply(order, k):\n",
    "    finite_field = buildfield(order)\n",
    "    # YOUR CODE HERE\n"
   ]
  },
  {
   "cell_type": "markdown",
   "id": "a11def95",
   "metadata": {},
   "source": [
    "Run the following four cells to test your code:"
   ]
  },
  {
   "cell_type": "code",
   "execution_count": null,
   "id": "c0f97240-69ba-4ef8-826b-4b85ec084686",
   "metadata": {},
   "outputs": [],
   "source": [
    "k = [3,17,256,977]\n",
    "order = 11\n",
    "for i in k:\n",
    "    print(scalar_multiply(order, i))"
   ]
  },
  {
   "cell_type": "code",
   "execution_count": null,
   "id": "6d2a968a-652c-4021-bc0c-29c7c7264725",
   "metadata": {},
   "outputs": [],
   "source": [
    "order = 13\n",
    "for i in k:\n",
    "    print(scalar_multiply(order, i))"
   ]
  },
  {
   "cell_type": "code",
   "execution_count": null,
   "id": "66a53ee7-de64-4da3-8ff1-2030cc0c4de6",
   "metadata": {},
   "outputs": [],
   "source": [
    "order = 27\n",
    "for i in k:\n",
    "    print(scalar_multiply(order, i))"
   ]
  },
  {
   "cell_type": "code",
   "execution_count": null,
   "id": "59cbbfbd-9780-4777-9ab8-d3d6b2d1e438",
   "metadata": {},
   "outputs": [],
   "source": [
    "order = 3\n",
    "for i in k:\n",
    "    print(scalar_multiply(order, i))"
   ]
  },
  {
   "cell_type": "markdown",
   "id": "ea0e2074-77e1-46ba-830f-66f3173ed538",
   "metadata": {},
   "source": [
    "#### b.)\n",
    "From the output sets obtained from scalar_multiply for finite fields of orders 11, 13, 27, and 3 what patterns or properties do you observe? Provide a brief explanation of your findings."
   ]
  },
  {
   "cell_type": "markdown",
   "id": "d19fd1c6",
   "metadata": {},
   "source": [
    "_YOUR ANSWER HERE_"
   ]
  },
  {
   "cell_type": "markdown",
   "id": "e5607df2-f86c-48b2-a219-0ce5c17b47ac",
   "metadata": {},
   "source": [
    "#### c.)\n",
    "\n",
    "Revisit the class on finite fields in view of the results of part a) and b). Please explain for what statement this empirical observation was used in class."
   ]
  },
  {
   "cell_type": "markdown",
   "id": "4f6d9df0",
   "metadata": {},
   "source": [
    "_YOUR ANSWER HERE_"
   ]
  },
  {
   "cell_type": "markdown",
   "id": "73f40a06-02c7-49bf-b0fa-1877c6501d40",
   "metadata": {},
   "source": [
    "### 4. Exponentiation (6 Points)\n",
    "\n",
    "Implement the function `findpow` that calculates the power of each element in a finite field of the order `order` raised to a given `exponent` and returns the resulting powers as a list."
   ]
  },
  {
   "cell_type": "code",
   "execution_count": null,
   "id": "25a14e34-4bb4-4813-b392-db6461209b1a",
   "metadata": {},
   "outputs": [],
   "source": [
    "def findpow(order, exponent):\n",
    "    finite_field = buildfield(order)\n",
    "    # YOUR CODE HERE"
   ]
  },
  {
   "cell_type": "markdown",
   "id": "adb84c5b",
   "metadata": {},
   "source": [
    "Run the following cells to test your code:"
   ]
  },
  {
   "cell_type": "code",
   "execution_count": null,
   "id": "e0b8d21d",
   "metadata": {},
   "outputs": [],
   "source": [
    "print(findpow(3, 9) == [0,1,2])"
   ]
  },
  {
   "cell_type": "code",
   "execution_count": null,
   "id": "381d910d",
   "metadata": {},
   "outputs": [],
   "source": [
    "print(findpow(31, -3)[17] == 29)"
   ]
  },
  {
   "cell_type": "code",
   "execution_count": null,
   "id": "cadcc430-6bba-427d-9507-38282d7afa7b",
   "metadata": {},
   "outputs": [],
   "source": [
    "print(sorted(findpow(29, 66)))"
   ]
  },
  {
   "cell_type": "markdown",
   "id": "f927cd7c-4bc3-4138-9857-469159125b9d",
   "metadata": {},
   "source": [
    "### 5. Finite Field Class (15 Points)\n",
    "Define a class `FieldElement` to represent an element denoted by its smallest positive integer representation `num` within a finite field of the order `p`. This class includes the following core functionalities:\n",
    "\n",
    "* In the `__init__` constructor, we ensure that the `num` lies between `0` and `p - 1`. If it doesn't, a `ValueError` is raised; otherwise, the constructor parameter values are assigned to the objects.\n",
    "* The `__eq__` method determines if two FieldElement objects are equal. When the values of `num` and `p` of one element are equal to `num` and `p` of second element are identical, respectively, the method returns `True`.\n",
    "* `__add__` method overloads addition, `__sub__` method overloads subtraction for finite field.\n",
    "* Similarly, `__mul__`, `__pow__`, `__truediv__` and `__rmul__` methods overload finite field multiplication, exponentiation, division, and scalar multiplication respectively"
   ]
  },
  {
   "cell_type": "code",
   "execution_count": null,
   "id": "2baa97c3-9993-4f67-a621-e863aeefdb64",
   "metadata": {},
   "outputs": [],
   "source": [
    "class FieldElement:\n",
    "\n",
    "    def __init__(self, num, prime):\n",
    "        #check if 0 > num >= prime. Raise ValueError if num is out of range.\n",
    "        # YOUR CODE HERE \n",
    "        \n",
    "        #Initialize num and prime\n",
    "        # YOUR CODE HERE \n",
    "\n",
    "    def __repr__(self):\n",
    "        return 'FieldElement_{}({})'.format(self.prime, self.num)\n",
    "\n",
    "    def __eq__(self, other):\n",
    "        if other is None:\n",
    "            return False\n",
    "        #Return True if the FieldElement objects are equal\n",
    "        # YOUR CODE HERE  \n",
    "\n",
    "    def __ne__(self, other):\n",
    "        # This should be the inverse of the == operator\n",
    "        # YOUR CODE HERE \n",
    "\n",
    "    def __add__(self, other):\n",
    "        # Two numbers have to be in same field, otherwise raise error\n",
    "        if self.prime != other.prime:\n",
    "            raise TypeError('Cannot add two numbers in different Fields')\n",
    "        #Perform addition of two finite field elements\n",
    "        # YOUR CODE HERE \n",
    "        \n",
    "        # Return an element of the same class\n",
    "        return self.__class__(num, self.prime)\n",
    "\n",
    "    def __sub__(self, other):\n",
    "        # Two numbers have to be in same field, otherwise raise error\n",
    "        if self.prime != other.prime:\n",
    "            raise TypeError('Cannot subtract two numbers in different Fields')\n",
    "        #Perform subtraction of two finite field elements\n",
    "        # YOUR CODE HERE \n",
    "        \n",
    "        return self.__class__(num, self.prime)\n",
    "\n",
    "    def __mul__(self, other):\n",
    "        # Two numbers have to be in same field, otherwise raise error\n",
    "        if self.prime != other.prime:\n",
    "            raise TypeError('Cannot multiply two numbers in different Fields')\n",
    "        # Perform muliplication of two finite field elements\n",
    "        # YOUR CODE HERE \n",
    "        \n",
    "        return self.__class__(num, self.prime)\n",
    "\n",
    "    def __pow__(self, exponent):\n",
    "        #Implement finite field exponentation\n",
    "        # YOUR CODE HERE \n",
    "        return self.__class__(num, self.prime)\n",
    "\n",
    "    def __truediv__(self, other):\n",
    "        # Two numbers have to be in same field, otherwise raise error\n",
    "        if self.prime != other.prime:\n",
    "            raise TypeError('Cannot divide two numbers in different Fields')\n",
    "        # perform division of two finite field elements\n",
    "        # Hint: Use fermat's little theorem:\n",
    "        # YOUR CODE HERE \n",
    "        \n",
    "        return self.__class__(num, self.prime)\n",
    "\n",
    "    def __rmul__(self, coefficient):\n",
    "        # Implement scalar multiplication: Multiply the scalar 'coeffiecient' with finite field element.\n",
    "        # YOUR CODE HERE \n",
    "        \n",
    "        return self.__class__(num=num, prime=self.prime)"
   ]
  },
  {
   "cell_type": "markdown",
   "id": "d1646134-5065-4530-9703-6461cce09bfe",
   "metadata": {},
   "source": [
    "#### Testcases\n",
    "\n",
    "Let a = 13 and b = 9 in $F_{19}$. In the cell(s) below, print results of the following computations:\n",
    "1. a + b\n",
    "2. a - b\n",
    "3. a * b\n",
    "4. 4 * a\n",
    "5. a / b\n",
    "6. $a^{3086}$"
   ]
  },
  {
   "cell_type": "code",
   "execution_count": null,
   "id": "8704c591-30aa-4bc1-9311-431ef4edd8d0",
   "metadata": {},
   "outputs": [],
   "source": [
    "# ADD YOUR CODE HERE BELOW"
   ]
  },
  {
   "cell_type": "markdown",
   "id": "6ae29dd0-89db-4100-b841-82cc8ddc9772",
   "metadata": {},
   "source": [
    "### 6. Elliptic curve: Point Class (10 Points)\n",
    "\n",
    "Define the class `Point` that represents a point on the elliptic curve. \n",
    "\n",
    "* Complete the method `point_on_curve` that returns `True` if the point is on the elliptic curve.\n",
    "* `__eq__` overloads equal operator for Points. Two points are equal if their (x,y) coordiantes and curve coeffiecients 'a' and 'b' are equal.\n",
    "* `__ne__` should implement the inverse of '==' operator.\n",
    "\n"
   ]
  },
  {
   "cell_type": "code",
   "execution_count": null,
   "id": "9dad9ed5-c34c-497b-9247-5d7300f64506",
   "metadata": {},
   "outputs": [],
   "source": [
    "class Point:\n",
    "\n",
    "    def __init__(self, x, y, a, b):\n",
    "        self.a = a\n",
    "        self.b = b\n",
    "        self.x = x\n",
    "        self.y = y\n",
    "        # x being None and y being None represents the point at infinity\n",
    "        if self.x is None and self.y is None:\n",
    "            return\n",
    "        if not(self.point_on_curve()):\n",
    "            raise ValueError('({}, {}) is not on the curve'.format(x, y))\n",
    "\n",
    "    def point_on_curve(self):\n",
    "        # YOUR CODE HERE \n",
    "\n",
    "    def __eq__(self, other):\n",
    "        # YOUR CODE HERE \n",
    "\n",
    "    def __ne__(self, other):\n",
    "        # this should be the inverse of the == operator\n",
    "        # YOUR CODE HERE \n",
    "\n",
    "    def __repr__(self):\n",
    "        if self.x is None:\n",
    "            return 'Point(infinity)'\n",
    "        elif isinstance(self.x, FieldElement):\n",
    "            return 'Point({},{})_{}_{} FieldElement({})'.format(\n",
    "                self.x.num, self.y.num, self.a.num, self.b.num, self.x.prime)\n",
    "        else:\n",
    "            return 'Point({},{})_{}_{}'.format(self.x, self.y, self.a, self.b)"
   ]
  },
  {
   "cell_type": "markdown",
   "id": "3bc29ae8",
   "metadata": {},
   "source": [
    "Run the following cells to test your code:"
   ]
  },
  {
   "cell_type": "code",
   "execution_count": null,
   "id": "03aa56fc",
   "metadata": {},
   "outputs": [],
   "source": [
    "print(Point(-1, -1, 5, 7) == Point(-1, -1, 5, 7))"
   ]
  },
  {
   "cell_type": "code",
   "execution_count": null,
   "id": "cd4b0273",
   "metadata": {},
   "outputs": [],
   "source": [
    "print(Point(-1, -1, 5, 7) != Point(-1, -1, 5, 7))"
   ]
  },
  {
   "cell_type": "code",
   "execution_count": null,
   "id": "b541154d-846b-4b53-bc67-95ec2997ba40",
   "metadata": {},
   "outputs": [],
   "source": [
    "print(Point(3, 0, 5, 7))"
   ]
  },
  {
   "cell_type": "markdown",
   "id": "550082de-6544-4c6a-a9f0-fcdcb5f72495",
   "metadata": {},
   "source": [
    "### 7. Point Addition (10 Points)\n",
    "\n",
    "Implement the `__add__` method for the Point class to overload the addition operator."
   ]
  },
  {
   "cell_type": "code",
   "execution_count": null,
   "id": "7c4c49fb-5bc3-4ab7-bc56-37be1dc8ed9c",
   "metadata": {},
   "outputs": [],
   "source": [
    " def __add__(self, other):\n",
    "    # check if the points are on the same curve.\n",
    "    if self.a != other.a or self.b != other.b:\n",
    "        raise TypeError('Points {}, {} are not on the same curve'.format(self, other))\n",
    "        \n",
    "    # In P1 (self), if x is the point at infinity, return point P2 (other). similarly, if x2 is the point at infinity in P2, return point P1.\n",
    "    # YOUR CODE HERE \n",
    "\n",
    "    # Return the correct results for point addition for each of the cases specified below:\n",
    "    # Case 1: When the x coordinates of two points are equal (i.e., the points are opposite to one another over the x-axis on the curve) and P1.y not equal to P2.y.     \n",
    "    if self.x == other.x and self.y != other.y:\n",
    "        # YOUR CODE HERE\n",
    "        \n",
    "        return self.__class__(x, y, self.a, self.b)\n",
    "\n",
    "    # Case 2: When P1.x not equal to P2.x. \n",
    "    if self.x != other.x:\n",
    "        # YOUR CODE HERE \n",
    "        \n",
    "        return self.__class__(x, y, self.a, self.b)\n",
    "\n",
    "    # Case 4: When P1 equals P2 and the y coordinate is 0 (Tangent to the vertical line) \n",
    "    if self == other and self.y == 0 * self.x:\n",
    "        # YOUR CODE HERE \n",
    "        \n",
    "        return self.__class__(x, y, self.a, self.b)\n",
    "        \n",
    "    # Case 4: When P1 equals P2.\n",
    "    if self == other:\n",
    "        # YOUR CODE HERE \n",
    "        \n",
    "        return self.__class__(x, y, self.a, self.b)\n",
    "\n",
    "Point.__add__ = __add__"
   ]
  },
  {
   "cell_type": "markdown",
   "id": "17e27d45-447d-47d6-ba0b-c8647de19251",
   "metadata": {},
   "source": [
    "#### Testcases\n",
    "\n",
    "#### a.\n",
    "\n",
    "In $F_{223}$ on the elliptic curve secp256k1, what is the sum of the points:\n",
    "1. $A=(192,105)$ and $B=(17,56)$?\n",
    "2. $A=(192,105)$ and $B=(192,105)$?\n",
    "3. $A=(143,98)$ and $B=(76, 66)$?\n",
    "\n",
    "Write code below that prints the outputs of the respective elliptic curve point addtions."
   ]
  },
  {
   "cell_type": "code",
   "execution_count": null,
   "id": "694c21b5-d25d-4f78-83f2-d59e3e7509d7",
   "metadata": {},
   "outputs": [],
   "source": [
    "# YOUR CODE HERE"
   ]
  },
  {
   "cell_type": "markdown",
   "id": "118c1ed8-a038-4671-ab71-c0d1e73bc3b6",
   "metadata": {},
   "source": [
    "#### b.\n",
    "In the elliptic curve $y^2 = x^3 + 5x + 7$, What is the sum of the points:\n",
    "1. $A=(-1,-1)$ and $B=(-1,1)$?\n",
    "2. $A=(-1,-1)$ and $B=(2,5)$?\n",
    "\n",
    "Write code below that prints the outputs of the respective elliptic curve point addtions."
   ]
  },
  {
   "cell_type": "code",
   "execution_count": null,
   "id": "b208e076-c66c-4140-a6d2-54835ace833b",
   "metadata": {},
   "outputs": [],
   "source": [
    "# YOUR CODE HERE"
   ]
  },
  {
   "cell_type": "markdown",
   "id": "c0b87c83-2b10-445f-9349-346b24306673",
   "metadata": {},
   "source": [
    "### 8. Point Addition: Associativity (10 Points)\n",
    "\n",
    "Let `A = (x1, y1)`, `B = (x2, y2)` and `C = (x3, y3)` be three points in finite field. Using these points, demonstrate that point addition is associative.\n",
    "Print `True` if point addition is associative. Otherwise, print `False`."
   ]
  },
  {
   "cell_type": "code",
   "execution_count": null,
   "id": "b0cda85d-8c2b-44cb-92c2-5900536aad42",
   "metadata": {},
   "outputs": [],
   "source": [
    "def check_associativity(A, B, C):\n",
    "    # YOUR CODE HERE"
   ]
  },
  {
   "cell_type": "markdown",
   "id": "4cec9437-9ef9-413b-97ee-bd6d64edfd0c",
   "metadata": {},
   "source": [
    "#### Testcases\n",
    "\n",
    "Check the associativity for the following:\n",
    "\n",
    "1. In $F_{223}$ on the elliptic curve secp256k1, for the points $A=(192, 105)$, $B=(76, 157)$ and $C=(170, 142)$.\n",
    "2. In $F_{223}$ on the elliptic curve secp256k1, for the points $A=(192, 105)$, $B=(76, 157)$ and $C=(76, 66)$.\n",
    "3. In $F_{19}$ on the elliptic curve $y^2 = x^3 + 5x + 7$, for the points $A=(18, 18)$, $B=(18, 1)$ and $C=(2, 5)$."
   ]
  },
  {
   "cell_type": "code",
   "execution_count": null,
   "id": "ded6ad2b-7342-4f15-8694-b898a67c6a6e",
   "metadata": {},
   "outputs": [],
   "source": [
    "# YOUR CODE HERE"
   ]
  },
  {
   "cell_type": "markdown",
   "id": "0e1840c1-d130-4de4-a568-7c90c87f1b51",
   "metadata": {},
   "source": [
    "### 9. Scalar Multiplication: Point (10 Points)\n",
    "\n",
    "Define the `__rmul__` method in the Point class to implement scalar multiplication.\n"
   ]
  },
  {
   "cell_type": "code",
   "execution_count": null,
   "id": "026c9a1d-55d3-4a01-9bb5-8b73e98415fb",
   "metadata": {},
   "outputs": [],
   "source": [
    "def __rmul__(self, k):\n",
    "    # YOUR CODE HERE\n",
    "    \n",
    "Point.__rmul__ = __rmul__"
   ]
  },
  {
   "cell_type": "markdown",
   "id": "cf34c63f-b98c-491c-90f2-6299f65ce7aa",
   "metadata": {},
   "source": [
    "#### Testcases\n",
    "\n",
    "In $F_{223}$ on the elliptic curve secp256k1, compute and print the following for the point A:\n",
    "\n",
    "**a.)** $7 \\cdot A$ where $A = (173, 35)$\n",
    "\n",
    "**b.)** $8 \\cdot A$ where $A = (66, 111)$"
   ]
  },
  {
   "cell_type": "code",
   "execution_count": null,
   "id": "ccb5fc29-ca06-4437-8983-f7aa04382198",
   "metadata": {},
   "outputs": [],
   "source": [
    "# YOUR CODE HERE"
   ]
  },
  {
   "cell_type": "markdown",
   "id": "9932d0f7-88f9-4f89-86eb-1bc7451254ef",
   "metadata": {},
   "source": [
    "### 10. Invertibility (10 Points)\n",
    "\n",
    "Write a function `additive_inverse` that returns the additive inverse of a given point."
   ]
  },
  {
   "cell_type": "code",
   "execution_count": null,
   "id": "6f5af1a0-3086-4e61-8779-445212a38e80",
   "metadata": {},
   "outputs": [],
   "source": [
    "def additive_inverse(A):\n",
    "    # YOUR CODE HERE"
   ]
  },
  {
   "cell_type": "markdown",
   "id": "d4f70ea4-7375-4ecc-9b08-29c48678b737",
   "metadata": {},
   "source": [
    "#### Tescases\n",
    "\n",
    "Compute the additive inverse for the following points:\n",
    "\n",
    "1. $A = (66, 111)$ in $F_{223}$ on the elliptic curve secp256k1\n",
    "2. $A = (-1, -1)$ in $F_{31}$ on the elliptic curve $y^2 = x^3 + 5x + 7$\n",
    "\n",
    "Also, compute the sum of the point A with its additive inverse in each case.\n"
   ]
  },
  {
   "cell_type": "code",
   "execution_count": null,
   "id": "2b447583-6668-4eac-ae4d-13b5e82c55cc",
   "metadata": {},
   "outputs": [],
   "source": [
    "# YOUR CODE HERE"
   ]
  },
  {
   "cell_type": "markdown",
   "id": "c3ef908a-e77a-41d0-917d-f41e6a3138b0",
   "metadata": {},
   "source": [
    "### 11. Discrete Logarithm Problem (15 Points)\n",
    "\n",
    "Given the two points G=(`Gx`, `Gy`) and P=(`Px`, `Py`) on the secp256k1 elliptic curve with coordinates over the finite field $F_{p}$ with $p$=`prime`, what is the a scalar $s$ such that $s G = P$? Write a function that computes this $s$.\n"
   ]
  },
  {
   "cell_type": "code",
   "execution_count": null,
   "id": "fbc80cf7-3fa3-4a67-9cd4-832ff77629ef",
   "metadata": {},
   "outputs": [],
   "source": [
    "# We call this function `GuessPrivateKey` since, as we will see later, s takes the role of a private key in the ECDSA digital signature scheme.\n",
    "def GuessPrivateKey(P, G, prime): \n",
    "    # YOUR CODE HERE\n",
    "    # Return the value of s"
   ]
  },
  {
   "cell_type": "markdown",
   "id": "0e8c1ec8-1e1b-40a1-9c30-768860c675ce",
   "metadata": {},
   "source": [
    "**a.)** Compute and print the value of s for the following choices:\n",
    "\n",
    "`prime` $= 223$, $G = (154, 150)$ and $P = (47, 71)$."
   ]
  },
  {
   "cell_type": "code",
   "execution_count": null,
   "id": "b2d4e43c-b4a4-48af-89d4-1b935cfa6527",
   "metadata": {},
   "outputs": [],
   "source": [
    "# YOUR CODE HERE"
   ]
  },
  {
   "cell_type": "markdown",
   "id": "170a9e76-12db-4cf0-8e2f-1d2fd20d233f",
   "metadata": {},
   "source": [
    "**b.)** We recall that the prime order used in th finite field of Bitcoin's secp256k1 elliptic curve is $p_{\\text{BTC}} := 2^{256} - 2^{32} - 977$, see, for example, [the corresponding section in Chapter 3 of \"Programming Bitcoin](https://github.com/jimmysong/programmingbitcoin/blob/master/ch03.asciidoc#defining-the-curve-for-bitcoin) or [this link](https://learnmeabitcoin.com/technical/cryptography/elliptic-curve/#parameters). \n",
    "\n",
    "Compute and print the value of s for the following choices:\n",
    "\n",
    "`prime` = $p_{\\text{BTC}}$\n",
    "\n",
    "`Gx` $= 0x754e3239f325570cdbbf4a87deee8a66b7f2b33479d468fbc1a50743bf56cc18$ \n",
    "\n",
    "`Gy` $= 0x0673fb86e5bda30fb3cd0ed304ea49a023ee33d0197a695d0c5d98093c536683$ \n",
    "\n",
    "`Px` $= 0x7e5c9db512f90042057f63659344a5dade96b7e2d8e7b0fdb66a1b87d7383004$ \n",
    "\n",
    "`Py` $= 0x7ce053860ea1d5a4cddc7f0774d1d55ae05335a1ee229b3375bc0732cae1eeb1$\n"
   ]
  },
  {
   "cell_type": "code",
   "execution_count": null,
   "id": "36678c0c",
   "metadata": {},
   "outputs": [],
   "source": [
    "# YOUR CODE HERE"
   ]
  },
  {
   "cell_type": "markdown",
   "id": "d4f0d508-0e1f-455a-b5ad-8bba11d3de7f",
   "metadata": {},
   "source": [
    "**c.)** Assume that the parameters are chosen as follows:\n",
    "\n",
    "`prime` = $p_{\\text{BTC}}$\n",
    "\n",
    "$G$ = Generator Point used in Bitcoin's ECDSA scheme\n",
    "\n",
    "`Px` $= 0x7e5c9db512f90042057f63659344a5dade96b7e2d8e7b0fdb66a1b87d7383004$ \n",
    "\n",
    "`Py` $= 0x7ce053860ea1d5a4cddc7f0774d1d55ae05335a1ee229b3375bc0732cae1eeb1$\n",
    "\n",
    "\n",
    "**Note:** The Generator Point used in Bitcoin's ECDSA implementation is G = (`Gx`,`Gy`), where\n",
    "\n",
    "`Gx` $= 0x79be667ef9dcbbac55a06295ce870b07029bfcdb2dce28d959f2815b16f81798$\n",
    "\n",
    "`Gy` $= 0x483ada7726a3c4655da4fbfc0e1108a8fd17b448a68554199c47d08ffb10d4b8$\n",
    "\n",
    "Are you able to find $s$ for this choice of parameters? If yes, print it, if not, provide an estimate of how long it might take your computer to compute is and explain this estimate."
   ]
  },
  {
   "cell_type": "code",
   "execution_count": null,
   "id": "710b4e8b-24d6-4fad-8ea5-a7aae6ff0393",
   "metadata": {},
   "outputs": [],
   "source": [
    "# YOUR CODE HERE"
   ]
  },
  {
   "cell_type": "markdown",
   "id": "37482e25-b983-46cc-8dd1-248a695cf881",
   "metadata": {},
   "source": [
    "_Add your explanation here_"
   ]
  }
 ],
 "metadata": {
  "kernelspec": {
   "display_name": "Python 3 (ipykernel)",
   "language": "python",
   "name": "python3"
  },
  "language_info": {
   "codemirror_mode": {
    "name": "ipython",
    "version": 3
   },
   "file_extension": ".py",
   "mimetype": "text/x-python",
   "name": "python",
   "nbconvert_exporter": "python",
   "pygments_lexer": "ipython3",
   "version": "3.11.8"
  }
 },
 "nbformat": 4,
 "nbformat_minor": 5
}
