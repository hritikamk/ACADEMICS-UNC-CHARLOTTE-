{
 "cells": [
  {
   "cell_type": "markdown",
   "id": "19d53131-b8bb-4fea-89cf-9dd5b92ed8c7",
   "metadata": {},
   "source": [
    "# Topics in Computer Science - Bitcoin: Programming the Future of Money - ITCS 4010 & 5010 - Spring 2025 - UNC Charlotte\n",
    "\n",
    "# Homework 3 - Elliptic Curves (110 Points)"
   ]
  },
  {
   "cell_type": "markdown",
   "id": "7a255941-f2cd-4a13-b0e1-f3af36e0ce72",
   "metadata": {},
   "source": [
    "# <font color=\"blue\"> Submission instructions</font>\n",
    "\n",
    "1. Click the Save button at the top of the Jupyter Notebook.\n",
    "2. Please make sure to have entered your name above.\n",
    "3. Select Cell -> All Output -> Clear. This will clear all the outputs from all cells (but will keep the content of all cells). \n",
    "4. Select Cell -> Run All. This will run all the cells in order, and will take several minutes.\n",
    "5. Once you've rerun everything, create a PDF version of the Jupypter notebook which includes visually all executed cells. This can be done in different ways depending on your specific Python/Jupyter setup. You can do that either by exporting into PDF (PDF via LaTeX / PDF via HTML), or by exporting into an HTML file first and then print the HTML site as a PDF and save that PDF.\n",
    "6. Look at the PDF file and make sure all your solutions are there, displayed correctly.\n",
    "7. Submit **both** your PDF and the notebook file .ipynb on Gradescope.\n",
    "8. Make sure your your Gradescope submission contains the correct files by downloading it after posting it on Gradescope."
   ]
  },
  {
   "cell_type": "markdown",
   "id": "d921618e-36fc-41af-b29b-b3aa3021c1e7",
   "metadata": {},
   "source": [
    "### 1. Build Calendar (8 Points)\n",
    "There are 365 days in a year. That means there are seven months with 31 days, four months with 30 days, and one month with 28 days. Write `Calendar` function that creates a list called `date` that indexes all dates from 0 – 364. So, date[0] = \"Jan 1\", date[1] = \"Jan 2\", and so on, until date[364] = \"Dec 31\". Spell all months using their three-letter abbreviation. \n",
    "\n",
    "Then write a function `FutureDay` that accepts two parameters: a start date from the date list and a positive integer representing the number of days. The function should calculate and return the future date by adding the specified number of days to the start date.\n",
    "\n",
    "For example, FutureDay(\"Jan 3\", 2) = \"Jan 5\".  "
   ]
  },
  {
   "cell_type": "code",
   "execution_count": 1,
   "id": "e4ef642f-5a21-4033-9c10-5a0443751721",
   "metadata": {},
   "outputs": [],
   "source": [
    "def Calendar():\n",
    "    date = []\n",
    "    months = [\n",
    "        (\"Jan\", 31), (\"Feb\", 28), (\"Mar\", 31), (\"Apr\", 30), (\"May\", 31), (\"Jun\", 30),\n",
    "        (\"Jul\", 31), (\"Aug\", 31), (\"Sep\", 30), (\"Oct\", 31), (\"Nov\", 30), (\"Dec\", 31)\n",
    "    ]\n",
    "    \n",
    "    for month, days in months:\n",
    "        for day in range(1, days + 1):\n",
    "            date.append(f\"{month} {day}\")\n",
    "    \n",
    "    return date\n",
    "\n",
    "def FutureDay(start, increment):\n",
    "    date = Calendar()\n",
    "    start_index = date.index(start)\n",
    "    future_index = (start_index + increment) % len(date)\n",
    "    return date[future_index]"
   ]
  },
  {
   "cell_type": "markdown",
   "id": "3008f0a6",
   "metadata": {},
   "source": [
    "Run the following cell to test your code:"
   ]
  },
  {
   "cell_type": "code",
   "execution_count": 2,
   "id": "042d15f3-b5c3-4deb-8bda-9d35c39f0d53",
   "metadata": {},
   "outputs": [
    {
     "name": "stdout",
     "output_type": "stream",
     "text": [
      "True\n",
      "Apr 30\n",
      "Mar 31\n",
      "Jan 6\n"
     ]
    }
   ],
   "source": [
    "print(FutureDay(\"Jan 3\", 2) == \"Jan 5\")\n",
    "print(FutureDay(\"Jan 20\", 100))\n",
    "print(FutureDay(\"Jul 4\", 1000))\n",
    "print(FutureDay(\"Dec 26\", 11)) "
   ]
  },
  {
   "cell_type": "markdown",
   "id": "6e399611-d4c2-408d-976b-bc7482aea6f3",
   "metadata": {},
   "source": [
    "### 2. Build a Finite Field (15 Points)\n",
    "**a.)** Write a funtion `buildfield` that takes the order of the finite field as input and returns the finite field set. In case that the the order of the finite field is not admissible, the function should print a suitable error message instead.\n",
    "\n",
    "Hint: Recall what orders of finite fields are admissible. You can revisit [Jimmy Song's _Programming Bitcoin_: Chapter 1](https://github.com/jimmysong/programmingbitcoin/blob/master/ch01.asciidoc) to revisit this."
   ]
  },
  {
   "cell_type": "code",
   "execution_count": 3,
   "id": "cd220e2f-1d43-4444-b59e-caf4eb6a27e9",
   "metadata": {},
   "outputs": [],
   "source": [
    "def is_prime(n): # This function checks whether the number n is a prime or not.\n",
    "    if any(n % i == 0 for i in range(2, int(n ** 0.5) + 1)) or n < 2:\n",
    "        return False\n",
    "    else:\n",
    "        return True\n",
    "    \n",
    "def is_power_of_prime(n): # This function checks whether the number n is a power of a prime (such that n = p^k for any prime p) or not.\n",
    "    for i in range(2, int(n ** 0.5) + 1):\n",
    "        if is_prime(i):\n",
    "            power = i\n",
    "            while power <= n:\n",
    "                power *= i\n",
    "                if power == n:\n",
    "                    return True\n",
    "    return False    \n",
    "    \n",
    "# The following function returns the finite field set of integers between 0 and order-1 if one of the two statements are true:\n",
    "# order is a prime\n",
    "# order is a power of a prime.\n",
    "# In Chapter 1 of Jimmy Song's book, it is explained that those are the two cases in which a finite field of the said order exists.\n",
    "# More details and a mathematical proof of the fact that these are the only to cases can be found, for example, here:\n",
    "# https://people.math.harvard.edu/~landesman/assets/finite-fields.pdf.\n",
    "def buildfield(order): \n",
    "    if is_prime(order) or is_power_of_prime(order):\n",
    "        return set(range(order))\n",
    "    else:\n",
    "        print(\"Error: The order of the finite field must be a prime number.\")\n",
    "        return None\n"
   ]
  },
  {
   "cell_type": "markdown",
   "id": "b602d8c0",
   "metadata": {},
   "source": [
    "Run the following cell to test your code:"
   ]
  },
  {
   "cell_type": "code",
   "execution_count": 4,
   "id": "86a1cfe9",
   "metadata": {},
   "outputs": [
    {
     "name": "stdout",
     "output_type": "stream",
     "text": [
      "True\n"
     ]
    }
   ],
   "source": [
    "print(buildfield(3) == {0,1,2})"
   ]
  },
  {
   "cell_type": "code",
   "execution_count": 5,
   "id": "83e0ac03",
   "metadata": {},
   "outputs": [
    {
     "name": "stdout",
     "output_type": "stream",
     "text": [
      "{0, 1, 2, 3, 4, 5, 6, 7, 8, 9, 10, 11, 12, 13, 14, 15, 16, 17, 18, 19, 20, 21, 22, 23, 24, 25, 26, 27, 28, 29, 30}\n"
     ]
    }
   ],
   "source": [
    "print(buildfield(31))"
   ]
  },
  {
   "cell_type": "code",
   "execution_count": 6,
   "id": "680fc477",
   "metadata": {},
   "outputs": [
    {
     "name": "stdout",
     "output_type": "stream",
     "text": [
      "{0, 1, 2, 3}\n"
     ]
    }
   ],
   "source": [
    "print(buildfield(4))"
   ]
  },
  {
   "cell_type": "code",
   "execution_count": 7,
   "id": "3c295bcc",
   "metadata": {},
   "outputs": [
    {
     "name": "stdout",
     "output_type": "stream",
     "text": [
      "Error: The order of the finite field must be a prime number.\n",
      "None\n"
     ]
    }
   ],
   "source": [
    "print(buildfield(12))"
   ]
  },
  {
   "cell_type": "markdown",
   "id": "944562cd",
   "metadata": {},
   "source": [
    "**b.)** Provide an example of a set $F_{p} = \\{0,1,2,3,\\dots, p-1\\}$ with a choice of $p$ and an element $a \\in F_p$ that _does not have a multiplicative inverse_ (when defining addition and multiplication as for finite fields), and explain why."
   ]
  },
  {
   "cell_type": "markdown",
   "id": "1b592eaf",
   "metadata": {},
   "source": [
    "Two possible ways to answer this:\n",
    "1) Example:\n",
    "Let’s take the set F₇ = {0, 1, 2, 3, 4, 5, 6} (corresponding to $p=7$). We learned that this set constitutes a finite field since $7$ is a prime number. In any finite field, every nonzero number has a multiplicative inverse, which is a number that, when multiplied with it, gives 1 (mod 7). <br> For example:<br>\n",
    "The inverse of 3 in F₇ is 5 because $3 \\cdot 5 = 15$, and $15 \\operatorname{mod} 7 = 1$. <br>\n",
    "The inverse of 2 in F₇ is 4, because $2 \\cdot 4 = 8$, and $8 \\operatorname{mod} 7 = 1$. <br>\n",
    "However, for the element $0 \\in $ F₇, we did not require the existence of a multiplicative inverse (similar as for usual real number arithmetic: There is no number $x$ such that $0 \\cdot x = 1$, or in other words, division by $0$ is not possible). <br>\n",
    "Indeed, if we apply the mod-arithmetic that is needed in finite fields, we see that $0 \\cdot 0 \\operatorname{mod} = 0$,  $0 \\cdot 1 \\operatorname{mod} = 0$, $0 \\cdot 2 \\operatorname{mod} = 0$, $0 \\cdot 3 \\operatorname{mod} = 0$, $0 \\cdot 4 \\operatorname{mod} = 0$, $0 \\cdot 5 \\operatorname{mod} = 0$ and $0 \\cdot 6 \\operatorname{mod} = 0$. This shows that $a = 0 \\in$  F₇ does not have a multiplicative inverse.\n",
    "\n",
    "2) We can pick a choice of $p$ such that $p$ is neither a prime nor a power of a prime, for example, $p=6$. In this case, $F_6 = \\{0, 1, 2, 3, 4, 5\\}$ is such that there exists a non-$0$ element without an multiplicative inverse. In particular, we have for $a= 2$ that <br>\n",
    "$2 \\cdot 0 = 0$, <br> $2 \\cdot 1 = 2$, <br> $2 \\cdot 2 = 4$, <br> $2 \\cdot 3 = 0$, <br> $2 \\cdot 4 = 2$ and <br> $2 \\cdot 5 = 4$, <br> which shows that there is no element $x \\in F_6$ such that $2 \\cdot x = 1$, so no multiplicative inverse for $2$ exists."
   ]
  },
  {
   "cell_type": "markdown",
   "id": "f518c0a3-6fc8-450e-a0d3-8d2119bfe38d",
   "metadata": {},
   "source": [
    "### 3. Scalar Multiplication (11 Points)\n",
    "#### a.) \n",
    "Implement a function `scalar_multiply` that accepts the order of a finite field `order` and a scalar `k` as arguments, and returns a set of elements resulting from the scalar multiplication of `k` with each element in the finite field."
   ]
  },
  {
   "cell_type": "code",
   "execution_count": 8,
   "id": "663345e2-a530-48dd-b672-5c729cf45cf0",
   "metadata": {},
   "outputs": [],
   "source": [
    "def scalar_multiply(order, k):\n",
    "    finite_field = buildfield(order)\n",
    "    if finite_field is None:\n",
    "        return None\n",
    "    return { (k * x) % order for x in finite_field }"
   ]
  },
  {
   "cell_type": "markdown",
   "id": "a11def95",
   "metadata": {},
   "source": [
    "Run the following four cells to test your code:"
   ]
  },
  {
   "cell_type": "code",
   "execution_count": 9,
   "id": "c0f97240-69ba-4ef8-826b-4b85ec084686",
   "metadata": {},
   "outputs": [
    {
     "name": "stdout",
     "output_type": "stream",
     "text": [
      "{0, 1, 2, 3, 4, 5, 6, 7, 8, 9, 10}\n",
      "{0, 1, 2, 3, 4, 5, 6, 7, 8, 9, 10}\n",
      "{0, 1, 2, 3, 4, 5, 6, 7, 8, 9, 10}\n",
      "{0, 1, 2, 3, 4, 5, 6, 7, 8, 9, 10}\n"
     ]
    }
   ],
   "source": [
    "k = [3,17,256,977]\n",
    "order = 11\n",
    "for i in k:\n",
    "    print(scalar_multiply(order, i))"
   ]
  },
  {
   "cell_type": "code",
   "execution_count": 10,
   "id": "6d2a968a-652c-4021-bc0c-29c7c7264725",
   "metadata": {},
   "outputs": [
    {
     "name": "stdout",
     "output_type": "stream",
     "text": [
      "{0, 1, 2, 3, 4, 5, 6, 7, 8, 9, 10, 11, 12}\n",
      "{0, 1, 2, 3, 4, 5, 6, 7, 8, 9, 10, 11, 12}\n",
      "{0, 1, 2, 3, 4, 5, 6, 7, 8, 9, 10, 11, 12}\n",
      "{0, 1, 2, 3, 4, 5, 6, 7, 8, 9, 10, 11, 12}\n"
     ]
    }
   ],
   "source": [
    "order = 13\n",
    "for i in k:\n",
    "    print(scalar_multiply(order, i))"
   ]
  },
  {
   "cell_type": "code",
   "execution_count": 11,
   "id": "66a53ee7-de64-4da3-8ff1-2030cc0c4de6",
   "metadata": {},
   "outputs": [
    {
     "name": "stdout",
     "output_type": "stream",
     "text": [
      "{0, 3, 6, 9, 12, 15, 18, 21, 24}\n",
      "{0, 1, 2, 3, 4, 5, 6, 7, 8, 9, 10, 11, 12, 13, 14, 15, 16, 17, 18, 19, 20, 21, 22, 23, 24, 25, 26}\n",
      "{0, 1, 2, 3, 4, 5, 6, 7, 8, 9, 10, 11, 12, 13, 14, 15, 16, 17, 18, 19, 20, 21, 22, 23, 24, 25, 26}\n",
      "{0, 1, 2, 3, 4, 5, 6, 7, 8, 9, 10, 11, 12, 13, 14, 15, 16, 17, 18, 19, 20, 21, 22, 23, 24, 25, 26}\n"
     ]
    }
   ],
   "source": [
    "order = 27\n",
    "for i in k:\n",
    "    print(scalar_multiply(order, i))"
   ]
  },
  {
   "cell_type": "code",
   "execution_count": 12,
   "id": "59cbbfbd-9780-4777-9ab8-d3d6b2d1e438",
   "metadata": {},
   "outputs": [
    {
     "name": "stdout",
     "output_type": "stream",
     "text": [
      "{0}\n",
      "{0, 1, 2}\n",
      "{0, 1, 2}\n",
      "{0, 1, 2}\n"
     ]
    }
   ],
   "source": [
    "order = 3\n",
    "for i in k:\n",
    "    print(scalar_multiply(order, i))"
   ]
  },
  {
   "cell_type": "markdown",
   "id": "ea0e2074-77e1-46ba-830f-66f3173ed538",
   "metadata": {},
   "source": [
    "#### b.)\n",
    "From the output sets obtained from scalar_multiply for finite fields of orders 11, 13, 27, and 3 what patterns or properties do you observe? Provide a brief explanation of your findings."
   ]
  },
  {
   "cell_type": "markdown",
   "id": "d19fd1c6",
   "metadata": {},
   "source": [
    "_YOUR ANSWER HERE_\n",
    "\n",
    "(b) The results show that when the order $p$ of the set $F_p$ is prime (or a power of a prime), multiplying by any scalar that is not a divisor of the order $n$ still gives all elements in the field. When the field order is not prime, such as in the case of $p=27$, a divisor scalar multiple such as $k=3$ leads to a strict subset of of $F_p$ (such as $\\{0,3,6,9,12,15,18,21,24\\}$. A similar case is $F_3$ with a scalar $k=3$. Since $3 \\operatorname{mod} 3 = 0$, the scalar multiplication results in the singleton set $\\{0\\}$."
   ]
  },
  {
   "cell_type": "markdown",
   "id": "e5607df2-f86c-48b2-a219-0ce5c17b47ac",
   "metadata": {},
   "source": [
    "#### c.)\n",
    "\n",
    "Revisit the class on finite fields in view of the results of part a) and b). Please explain for what statement this empirical observation was used in class."
   ]
  },
  {
   "cell_type": "markdown",
   "id": "4f6d9df0",
   "metadata": {},
   "source": [
    "(c) This observation was used in class (Class 9 on \"Finite Fields (part 2) & Elliptic Curves\") to prove Fermat's Little Theorem (see slides 13 and 14 in that class)."
   ]
  },
  {
   "cell_type": "markdown",
   "id": "73f40a06-02c7-49bf-b0fa-1877c6501d40",
   "metadata": {},
   "source": [
    "### 4. Exponentiation (6 Points)\n",
    "\n",
    "Implement the function `findpow` that calculates the power of each element in a finite field of the order `order` raised to a given `exponent` and returns the resulting powers as a list."
   ]
  },
  {
   "cell_type": "code",
   "execution_count": 13,
   "id": "25a14e34-4bb4-4813-b392-db6461209b1a",
   "metadata": {},
   "outputs": [],
   "source": [
    "def findpow(order, exponent):\n",
    "    finite_field = buildfield(order)\n",
    "    if finite_field is None:\n",
    "        return None\n",
    "    try:\n",
    "        return [pow(x, exponent, order) if x != 0 else 0 for x in sorted(finite_field)]\n",
    "    except ValueError:\n",
    "        print(\"Error: base is not invertible for the given modulus.\")\n",
    "        return None"
   ]
  },
  {
   "cell_type": "markdown",
   "id": "adb84c5b",
   "metadata": {},
   "source": [
    "Run the following cells to test your code:"
   ]
  },
  {
   "cell_type": "code",
   "execution_count": 14,
   "id": "e0b8d21d",
   "metadata": {},
   "outputs": [
    {
     "name": "stdout",
     "output_type": "stream",
     "text": [
      "True\n"
     ]
    }
   ],
   "source": [
    "print(findpow(3, 9) == [0,1,2])"
   ]
  },
  {
   "cell_type": "code",
   "execution_count": 15,
   "id": "381d910d",
   "metadata": {},
   "outputs": [
    {
     "name": "stdout",
     "output_type": "stream",
     "text": [
      "True\n"
     ]
    }
   ],
   "source": [
    "print(findpow(31, -3)[17] == 29)"
   ]
  },
  {
   "cell_type": "code",
   "execution_count": 16,
   "id": "cadcc430-6bba-427d-9507-38282d7afa7b",
   "metadata": {},
   "outputs": [
    {
     "name": "stdout",
     "output_type": "stream",
     "text": [
      "[0, 1, 1, 4, 4, 5, 5, 6, 6, 7, 7, 9, 9, 13, 13, 16, 16, 20, 20, 22, 22, 23, 23, 24, 24, 25, 25, 28, 28]\n"
     ]
    }
   ],
   "source": [
    "print(sorted(findpow(29, 66)))"
   ]
  },
  {
   "cell_type": "markdown",
   "id": "f927cd7c-4bc3-4138-9857-469159125b9d",
   "metadata": {},
   "source": [
    "### 5. Finite Field Class (15 Points)\n",
    "Define a class `FieldElement` to represent an element denoted by its smallest positive integer representation `num` within a finite field of the order `p`. This class includes the following core functionalities:\n",
    "\n",
    "* In the `__init__` constructor, we ensure that the `num` lies between `0` and `p - 1`. If it doesn't, a `ValueError` is raised; otherwise, the constructor parameter values are assigned to the objects.\n",
    "* The `__eq__` method determines if two FieldElement objects are equal. When the values of `num` and `p` of one element are equal to `num` and `p` of second element are identical, respectively, the method returns `True`.\n",
    "* `__add__` method overloads addition, `__sub__` method overloads subtraction for finite field.\n",
    "* Similarly, `__mul__`, `__pow__`, `__truediv__` and `__rmul__` methods overload finite field multiplication, exponentiation, division, and scalar multiplication respectively"
   ]
  },
  {
   "cell_type": "code",
   "execution_count": 17,
   "id": "2baa97c3-9993-4f67-a621-e863aeefdb64",
   "metadata": {},
   "outputs": [],
   "source": [
    "class FieldElement:\n",
    "    def __init__(self, num, prime):\n",
    "        #check if 0 > num >= prime. Raise ValueError if num is out of range.\n",
    "        if num < 0 or num >= prime:\n",
    "            raise ValueError(f'Num {num} not in field range 0 to {prime-1}')\n",
    "        #Initialize num and prime\n",
    "        self.num = num\n",
    "        self.prime = prime\n",
    "\n",
    "    def __repr__(self):\n",
    "        return 'FieldElement_{}({})'.format(self.prime, self.num)\n",
    "\n",
    "    def __eq__(self, other):\n",
    "        if other is None:\n",
    "            return False\n",
    "        #Return True if the FieldElement objects are equal\n",
    "        return self.num == other.num and self.prime == other.prime\n",
    "\n",
    "    def __ne__(self, other):\n",
    "        # This should be the inverse of the == operator\n",
    "        return not (self == other)\n",
    "\n",
    "    def __add__(self, other):\n",
    "        # Two numbers have to be in same field, otherwise raise error\n",
    "        if self.prime != other.prime:\n",
    "            raise TypeError('Cannot add two numbers in different Fields')\n",
    "        # Perform addition of two finite field elements\n",
    "        num = (self.num + other.num) % self.prime\n",
    "        # Return an element of the same class\n",
    "        return self.__class__(num, self.prime)\n",
    "\n",
    "    def __sub__(self, other):\n",
    "        # Two numbers have to be in same field, otherwise raise error\n",
    "        if self.prime != other.prime:\n",
    "            raise TypeError('Cannot subtract two numbers in different Fields')\n",
    "        # Perform subtraction of two finite field elements\n",
    "        num = (self.num - other.num) % self.prime\n",
    "        return self.__class__(num, self.prime)\n",
    "\n",
    "    def __mul__(self, other):\n",
    "        # Two numbers have to be in same field, otherwise raise error\n",
    "        if self.prime != other.prime:\n",
    "            raise TypeError('Cannot multiply two numbers in different Fields')\n",
    "        # Perform muliplication of two finite field elements\n",
    "        num = (self.num * other.num) % self.prime\n",
    "        return self.__class__(num, self.prime)\n",
    "\n",
    "    def __pow__(self, exponent):\n",
    "        #Implement finite field exponentation\n",
    "        n = exponent % (self.prime - 1) \n",
    "        # The latter line makes the subsequent exponentiation cheaper for larger exponents: \n",
    "        # Due to Fermat's Little Theorem, any element taken to the power self.prime-1 is 1 anyways, so it is sufficient\n",
    "        # to take the exponentiation order itself modulo self.prime-1.\n",
    "        num = pow(self.num, n, self.prime)\n",
    "        return self.__class__(num, self.prime)\n",
    "\n",
    "    def __truediv__(self, other):\n",
    "        # Two numbers have to be in same field, otherwise raise error\n",
    "        if self.prime != other.prime:\n",
    "            raise TypeError('Cannot divide two numbers in different Fields')\n",
    "        # perform division of two finite field elements\n",
    "        # Hint: Use fermat's little theorem:\n",
    "        num = (self.num * pow(other.num, self.prime - 2, self.prime)) % self.prime\n",
    "        return self.__class__(num, self.prime)\n",
    "\n",
    "    def __rmul__(self, coefficient):\n",
    "        # Implement scalar multiplication: Multiply the scalar 'coeffiecient' with finite field element.\n",
    "        num = (self.num * coefficient) % self.prime\n",
    "        return self.__class__(num, self.prime)"
   ]
  },
  {
   "cell_type": "markdown",
   "id": "d1646134-5065-4530-9703-6461cce09bfe",
   "metadata": {},
   "source": [
    "#### Testcases\n",
    "\n",
    "Let a = 13 and b = 9 in $F_{19}$. In the cell(s) below, print results of the following computations:\n",
    "1. a + b\n",
    "2. a - b\n",
    "3. a * b\n",
    "4. 4 * a\n",
    "5. a / b\n",
    "6. $a^{3086}$"
   ]
  },
  {
   "cell_type": "code",
   "execution_count": 18,
   "id": "8704c591-30aa-4bc1-9311-431ef4edd8d0",
   "metadata": {},
   "outputs": [
    {
     "name": "stdout",
     "output_type": "stream",
     "text": [
      "a + b = FieldElement_19(3)\n",
      "a - b = FieldElement_19(4)\n",
      "a * b = FieldElement_19(3)\n",
      "4 * a = FieldElement_19(14)\n",
      "a / b = FieldElement_19(12)\n",
      "a^3086 = FieldElement_19(16)\n"
     ]
    }
   ],
   "source": [
    "# ADD YOUR CODE HERE BELOW\n",
    "# ADD YOUR CODE HERE BELOW\n",
    "a = FieldElement(13, 19)\n",
    "b = FieldElement(9, 19)\n",
    "print(f'a + b = {a + b}')\n",
    "print(f'a - b = {a - b}')\n",
    "print(f'a * b = {a * b}')\n",
    "print(f'4 * a = {4 * a}')\n",
    "print(f'a / b = {a / b}')\n",
    "print(f'a^3086 = {a ** 3086}')"
   ]
  },
  {
   "cell_type": "markdown",
   "id": "6ae29dd0-89db-4100-b841-82cc8ddc9772",
   "metadata": {},
   "source": [
    "### 6. Elliptic curve: Point Class (10 Points)\n",
    "\n",
    "Define the class `Point` that represents a point on the elliptic curve. \n",
    "\n",
    "* Complete the method `point_on_curve` that returns `True` if the point is on the elliptic curve.\n",
    "* `__eq__` overloads equal operator for Points. Two points are equal if their (x,y) coordiantes and curve coeffiecients 'a' and 'b' are equal.\n",
    "* `__ne__` should implement the inverse of '==' operator.\n",
    "\n"
   ]
  },
  {
   "cell_type": "code",
   "execution_count": 19,
   "id": "9dad9ed5-c34c-497b-9247-5d7300f64506",
   "metadata": {},
   "outputs": [],
   "source": [
    "class Point:\n",
    "    def __init__(self, x, y, a, b):\n",
    "        self.a = a\n",
    "        self.b = b\n",
    "        self.x = x\n",
    "        self.y = y\n",
    "        # x being None and y being None represents the point at infinity\n",
    "        if self.x is None and self.y is None:\n",
    "            return\n",
    "        # The following condition makes sure that the point with coordinates (x,y) actually lies on the elliptic curve.\n",
    "        if not(self.point_on_curve()):\n",
    "            raise ValueError('({}, {}) is not on the curve'.format(x, y))\n",
    "\n",
    "    def point_on_curve(self):\n",
    "        if self.x is None and self.y is None:\n",
    "            return True\n",
    "        return (self.y ** 2) == (self.x ** 3 + self.a * self.x + self.b)\n",
    "\n",
    "    def __eq__(self, other):\n",
    "        return (self.x == other.x and self.y == other.y and\n",
    "                self.a == other.a and self.b == other.b)\n",
    "\n",
    "    def __ne__(self, other):\n",
    "        # this should be the inverse of the == operator\n",
    "        return not self.__eq__(other)\n",
    "\n",
    "    def __repr__(self):\n",
    "        if self.x is None:\n",
    "            return 'Point(infinity)'\n",
    "        return f'(Point({self.x}, {self.y}, {self.a}, {self.b}))'"
   ]
  },
  {
   "cell_type": "markdown",
   "id": "3bc29ae8",
   "metadata": {},
   "source": [
    "Run the following cells to test your code:"
   ]
  },
  {
   "cell_type": "code",
   "execution_count": 20,
   "id": "03aa56fc",
   "metadata": {},
   "outputs": [
    {
     "name": "stdout",
     "output_type": "stream",
     "text": [
      "True\n"
     ]
    }
   ],
   "source": [
    "print(Point(-1, -1, 5, 7) == Point(-1, -1, 5, 7))"
   ]
  },
  {
   "cell_type": "code",
   "execution_count": 21,
   "id": "cd4b0273",
   "metadata": {},
   "outputs": [
    {
     "name": "stdout",
     "output_type": "stream",
     "text": [
      "False\n"
     ]
    }
   ],
   "source": [
    "print(Point(-1, -1, 5, 7) != Point(-1, -1, 5, 7))"
   ]
  },
  {
   "cell_type": "code",
   "execution_count": 22,
   "id": "b541154d-846b-4b53-bc67-95ec2997ba40",
   "metadata": {},
   "outputs": [
    {
     "ename": "ValueError",
     "evalue": "(3, 0) is not on the curve",
     "output_type": "error",
     "traceback": [
      "\u001b[0;31m---------------------------------------------------------------------------\u001b[0m",
      "\u001b[0;31mValueError\u001b[0m                                Traceback (most recent call last)",
      "Cell \u001b[0;32mIn[22], line 1\u001b[0m\n\u001b[0;32m----> 1\u001b[0m \u001b[38;5;28mprint\u001b[39m(Point(\u001b[38;5;241m3\u001b[39m, \u001b[38;5;241m0\u001b[39m, \u001b[38;5;241m5\u001b[39m, \u001b[38;5;241m7\u001b[39m))\n",
      "Cell \u001b[0;32mIn[19], line 12\u001b[0m, in \u001b[0;36mPoint.__init__\u001b[0;34m(self, x, y, a, b)\u001b[0m\n\u001b[1;32m     10\u001b[0m \u001b[38;5;66;03m# The following condition makes sure that the point with coordinates (x,y) actually lies on the elliptic curve.\u001b[39;00m\n\u001b[1;32m     11\u001b[0m \u001b[38;5;28;01mif\u001b[39;00m \u001b[38;5;129;01mnot\u001b[39;00m(\u001b[38;5;28mself\u001b[39m\u001b[38;5;241m.\u001b[39mpoint_on_curve()):\n\u001b[0;32m---> 12\u001b[0m     \u001b[38;5;28;01mraise\u001b[39;00m \u001b[38;5;167;01mValueError\u001b[39;00m(\u001b[38;5;124m'\u001b[39m\u001b[38;5;124m(\u001b[39m\u001b[38;5;132;01m{}\u001b[39;00m\u001b[38;5;124m, \u001b[39m\u001b[38;5;132;01m{}\u001b[39;00m\u001b[38;5;124m) is not on the curve\u001b[39m\u001b[38;5;124m'\u001b[39m\u001b[38;5;241m.\u001b[39mformat(x, y))\n",
      "\u001b[0;31mValueError\u001b[0m: (3, 0) is not on the curve"
     ]
    }
   ],
   "source": [
    "print(Point(3, 0, 5, 7))"
   ]
  },
  {
   "cell_type": "markdown",
   "id": "4a324a65",
   "metadata": {},
   "source": [
    "The ValueError above is a correct outcome, as the point with coordinates $(x,y)=(3,0)$ indeed does not lie on the elliptic curve $S_{5,7}= \\{(x,y) \\in \\mathbb{R} \\times \\mathbb{R}: y^2 = x^3 + 5 x + 7\\}$. This is due to the fact that $y^2 = 0$, but $x^3 + 5 x + 7 = 27+5*3+7 = 49 \\neq 0$."
   ]
  },
  {
   "cell_type": "markdown",
   "id": "550082de-6544-4c6a-a9f0-fcdcb5f72495",
   "metadata": {},
   "source": [
    "### 7. Point Addition (10 Points)\n",
    "\n",
    "Implement the `__add__` method for the Point class to overload the addition operator."
   ]
  },
  {
   "cell_type": "code",
   "execution_count": 23,
   "id": "7c4c49fb-5bc3-4ab7-bc56-37be1dc8ed9c",
   "metadata": {},
   "outputs": [],
   "source": [
    "def __add__(self, other):\n",
    "    # Check if the points are on the same curve\n",
    "    if self.a != other.a or self.b != other.b:\n",
    "        raise TypeError(f\"Points {self}, {other} are not on the same curve\")\n",
    "    # In P1 (self), if x is the point at infinity, return point P2 (other). similarly, if x2 is the point at infinity in P2, return point P1.\n",
    "    if self.x is None:\n",
    "        return other\n",
    "    if other.x is None:\n",
    "        return self\n",
    "    # Return the correct results for point addition for each of the cases specified below:\n",
    "    # Case 1a: When the x coordinates of two points are equal (i.e., the points are opposite to one another over the x-axis on the curve) and P1.y not equal to P2.y.     \n",
    "    if self.x == other.x and self.y != other.y:\n",
    "        # Return point at infinity\n",
    "        return self.__class__(None, None, self.a, self.b)  # Return point at infinity\n",
    "    \n",
    "    # Case 2: When P1.x not equal to P2.x. \n",
    "    if self.x != other.x:\n",
    "        s = (other.y - self.y) / (other.x - self.x)\n",
    "        x3 = s * s - self.x - other.x\n",
    "        y3 = s * (self.x - x3) - self.y\n",
    "        return self.__class__(x3, y3, self.a, self.b)\n",
    "\n",
    "    # Case 1b: When P1 equals P2 and the y coordinate is 0 (Tangent to the vertical line) \n",
    "    if self == other:\n",
    "        if self.y.num == 0: \n",
    "            return self.__class__(None, None, self.a, self.b)\n",
    "\n",
    "    # Case 3: When P1 equals P2 (and y coordinate is not 0)   \n",
    "        s = (3 * self.x**2 + self.a) / (2 * self.y)\n",
    "        x3 = s**2 - 2 * self.x\n",
    "        y3 = s * (self.x - x3) - self.y\n",
    "        return self.__class__(x3, y3, self.a, self.b)\n",
    "\n",
    "\n",
    "Point.__add__ = __add__\n"
   ]
  },
  {
   "cell_type": "markdown",
   "id": "17e27d45-447d-47d6-ba0b-c8647de19251",
   "metadata": {},
   "source": [
    "#### Testcases\n",
    "\n",
    "#### a.\n",
    "\n",
    "In $F_{223}$ on the elliptic curve secp256k1, what is the sum of the points:\n",
    "1. $A=(192,105)$ and $B=(17,56)$?\n",
    "2. $A=(192,105)$ and $B=(192,105)$?\n",
    "3. $A=(143,98)$ and $B=(76, 66)$?\n",
    "\n",
    "Write code below that prints the outputs of the respective elliptic curve point addtions."
   ]
  },
  {
   "cell_type": "code",
   "execution_count": 24,
   "id": "694c21b5-d25d-4f78-83f2-d59e3e7509d7",
   "metadata": {},
   "outputs": [
    {
     "name": "stdout",
     "output_type": "stream",
     "text": [
      "(Point(FieldElement_223(170), FieldElement_223(142), FieldElement_223(0), FieldElement_223(7)))\n",
      "(Point(FieldElement_223(49), FieldElement_223(71), FieldElement_223(0), FieldElement_223(7)))\n",
      "(Point(FieldElement_223(47), FieldElement_223(71), FieldElement_223(0), FieldElement_223(7)))\n"
     ]
    }
   ],
   "source": [
    "\n",
    "prime = 223\n",
    "a = FieldElement(0, prime)\n",
    "b = FieldElement(7, prime)\n",
    "\n",
    "\n",
    "A1 = Point(FieldElement(192, prime), FieldElement(105, prime), a, b)\n",
    "B1 = Point(FieldElement(17, prime), FieldElement(56, prime), a, b)\n",
    "print(A1 + B1) \n",
    "\n",
    "A2 = Point(FieldElement(192, prime), FieldElement(105, prime), a, b)\n",
    "print(A2 + A2)  \n",
    "\n",
    "A3 = Point(FieldElement(143, prime), FieldElement(98, prime), a, b)\n",
    "B3 = Point(FieldElement(76, prime), FieldElement(66, prime), a, b)\n",
    "print(A3 + B3)  \n"
   ]
  },
  {
   "cell_type": "markdown",
   "id": "118c1ed8-a038-4671-ab71-c0d1e73bc3b6",
   "metadata": {},
   "source": [
    "#### b.\n",
    "In the elliptic curve $y^2 = x^3 + 5x + 7$, What is the sum of the points:\n",
    "1. $A=(-1,-1)$ and $B=(-1,1)$?\n",
    "2. $A=(-1,-1)$ and $B=(2,5)$?\n",
    "\n",
    "Write code below that prints the outputs of the respective elliptic curve point addtions."
   ]
  },
  {
   "cell_type": "code",
   "execution_count": 25,
   "id": "b208e076-c66c-4140-a6d2-54835ace833b",
   "metadata": {},
   "outputs": [
    {
     "name": "stdout",
     "output_type": "stream",
     "text": [
      "Point(infinity)\n",
      "(Point(FieldElement_19(3), FieldElement_19(12), FieldElement_19(5), FieldElement_19(7)))\n"
     ]
    }
   ],
   "source": [
    "\n",
    "## Test case set (b) - y² = x³ + 5x + 7 in F_19\n",
    "prime = 19\n",
    "a = FieldElement(5, prime)\n",
    "b = FieldElement(7, prime)\n",
    "\n",
    "\n",
    "A4 = Point(FieldElement(-1 % prime, prime), FieldElement(-1 % prime, prime), a, b)\n",
    "B4 = Point(FieldElement(-1 % prime, prime), FieldElement(1 % prime, prime), a, b)\n",
    "print(A4 + B4)  \n",
    "\n",
    "A5 = Point(FieldElement(-1 % prime, prime), FieldElement(-1 % prime, prime), a, b)\n",
    "B5 = Point(FieldElement(2 % prime, prime), FieldElement(5 % prime, prime), a, b)\n",
    "print(A5 + B5)  "
   ]
  },
  {
   "cell_type": "markdown",
   "id": "c0b87c83-2b10-445f-9349-346b24306673",
   "metadata": {},
   "source": [
    "### 8. Point Addition: Associativity (10 Points)\n",
    "\n",
    "Let `A = (x1, y1)`, `B = (x2, y2)` and `C = (x3, y3)` be three points in finite field. Using these points, demonstrate that point addition is associative.\n",
    "Print `True` if point addition is associative. Otherwise, print `False`."
   ]
  },
  {
   "cell_type": "code",
   "execution_count": 26,
   "id": "b0cda85d-8c2b-44cb-92c2-5900536aad42",
   "metadata": {},
   "outputs": [],
   "source": [
    "def check_associativity(A, B, C):\n",
    "    left = (A + B) + C\n",
    "    right = A + (B + C)\n",
    "    return left == right"
   ]
  },
  {
   "cell_type": "markdown",
   "id": "4cec9437-9ef9-413b-97ee-bd6d64edfd0c",
   "metadata": {},
   "source": [
    "#### Testcases\n",
    "\n",
    "Check the associativity for the following:\n",
    "\n",
    "1. In $F_{223}$ on the elliptic curve secp256k1, for the points $A=(192, 105)$, $B=(76, 157)$ and $C=(170, 142)$.\n",
    "2. In $F_{223}$ on the elliptic curve secp256k1, for the points $A=(192, 105)$, $B=(76, 157)$ and $C=(76, 66)$.\n",
    "3. In $F_{19}$ on the elliptic curve $y^2 = x^3 + 5x + 7$, for the points $A=(18, 18)$, $B=(18, 1)$ and $C=(2, 5)$."
   ]
  },
  {
   "cell_type": "code",
   "execution_count": 27,
   "id": "ded6ad2b-7342-4f15-8694-b898a67c6a6e",
   "metadata": {},
   "outputs": [
    {
     "name": "stdout",
     "output_type": "stream",
     "text": [
      "True\n",
      "True\n",
      "True\n"
     ]
    }
   ],
   "source": [
    "# YOUR CODE HERE\n",
    "# Test cases\n",
    "prime = 223\n",
    "a = FieldElement(0, prime)\n",
    "b = FieldElement(7, prime)\n",
    "\n",
    "A1 = Point(FieldElement(192, prime), FieldElement(105, prime), a, b)\n",
    "B1 = Point(FieldElement(76, prime), FieldElement(157, prime), a, b)\n",
    "C1 = Point(FieldElement(170, prime), FieldElement(142, prime), a, b)\n",
    "print(check_associativity(A1, B1, C1))\n",
    "\n",
    "A2 = Point(FieldElement(192, prime), FieldElement(105, prime), a, b)\n",
    "B2 = Point(FieldElement(76, prime), FieldElement(157, prime), a, b)\n",
    "C2 = Point(FieldElement(76, prime), FieldElement(66, prime), a, b)\n",
    "print(check_associativity(A2, B2, C2))\n",
    "\n",
    "prime = 19\n",
    "a = FieldElement(5, prime)\n",
    "b = FieldElement(7, prime)\n",
    "A3 = Point(FieldElement(18, prime), FieldElement(18, prime), a, b)\n",
    "B3 = Point(FieldElement(18, prime), FieldElement(1, prime), a, b)\n",
    "C3 = Point(FieldElement(2, prime), FieldElement(5, prime), a, b)\n",
    "print(check_associativity(A3, B3, C3))"
   ]
  },
  {
   "cell_type": "markdown",
   "id": "0e1840c1-d130-4de4-a568-7c90c87f1b51",
   "metadata": {},
   "source": [
    "### 9. Scalar Multiplication: Point (10 Points)\n",
    "\n",
    "Define the `__rmul__` method in the Point class to implement scalar multiplication.\n"
   ]
  },
  {
   "cell_type": "code",
   "execution_count": 28,
   "id": "026c9a1d-55d3-4a01-9bb5-8b73e98415fb",
   "metadata": {},
   "outputs": [],
   "source": [
    "def __rmul__(self, k):\n",
    "    result = Point(None, None, self.a, self.b)  \n",
    "    current = self\n",
    "\n",
    "    while k > 0:\n",
    "        if k & 1:  \n",
    "            result = result + current  \n",
    "        current = current + current  \n",
    "        k >>= 1  \n",
    "\n",
    "    return result\n",
    "\n",
    "\n",
    "Point.__rmul__ = __rmul__"
   ]
  },
  {
   "cell_type": "markdown",
   "id": "cf34c63f-b98c-491c-90f2-6299f65ce7aa",
   "metadata": {},
   "source": [
    "#### Testcases\n",
    "\n",
    "In $F_{223}$ on the elliptic curve secp256k1, compute and print the following for the point A:\n",
    "\n",
    "**a.)** $7 \\cdot A$ where $A = (173, 35)$\n",
    "\n",
    "**b.)** $8 \\cdot A$ where $A = (66, 111)$"
   ]
  },
  {
   "cell_type": "code",
   "execution_count": 29,
   "id": "ccb5fc29-ca06-4437-8983-f7aa04382198",
   "metadata": {},
   "outputs": [
    {
     "name": "stdout",
     "output_type": "stream",
     "text": [
      "(Point(FieldElement_223(173), FieldElement_223(35), FieldElement_223(0), FieldElement_223(7)))\n",
      "(Point(FieldElement_223(8), FieldElement_223(127), FieldElement_223(0), FieldElement_223(7)))\n"
     ]
    }
   ],
   "source": [
    "\n",
    "prime = 223\n",
    "\n",
    "\n",
    "a = FieldElement(0, prime)\n",
    "b = FieldElement(7, prime)\n",
    "\n",
    "\n",
    "A1 = Point(FieldElement(173, prime), FieldElement(35, prime), a, b)\n",
    "A2 = Point(FieldElement(66, prime), FieldElement(111, prime), a, b)\n",
    "\n",
    "\n",
    "print(7 * A1)  \n",
    "print(8 * A2)  \n"
   ]
  },
  {
   "cell_type": "markdown",
   "id": "9932d0f7-88f9-4f89-86eb-1bc7451254ef",
   "metadata": {},
   "source": [
    "### 10. Invertibility (10 Points)\n",
    "\n",
    "Write a function `additive_inverse` that returns the additive inverse of a given point."
   ]
  },
  {
   "cell_type": "code",
   "execution_count": 30,
   "id": "6f5af1a0-3086-4e61-8779-445212a38e80",
   "metadata": {},
   "outputs": [],
   "source": [
    "def additive_inverse(A):\n",
    "    y = A.y\n",
    "    if type(y) == FieldElement:\n",
    "        order = y.prime\n",
    "        y = (order - y.num) % order\n",
    "        y = FieldElement(y, order)\n",
    "    else:\n",
    "        y = -y\n",
    "    A = Point(A.x, y, A.a, A.b)\n",
    "    return A  "
   ]
  },
  {
   "cell_type": "markdown",
   "id": "d4f70ea4-7375-4ecc-9b08-29c48678b737",
   "metadata": {},
   "source": [
    "#### Tescases\n",
    "\n",
    "Compute the additive inverse for the following points:\n",
    "\n",
    "1. $A = (66, 111)$ in $F_{223}$ on the elliptic curve secp256k1\n",
    "2. $A = (-1, -1)$ in $F_{31}$ on the elliptic curve $y^2 = x^3 + 5x + 7$\n",
    "\n",
    "Also, compute the sum of the point A with its additive inverse in each case.\n"
   ]
  },
  {
   "cell_type": "code",
   "execution_count": 31,
   "id": "2b447583-6668-4eac-ae4d-13b5e82c55cc",
   "metadata": {},
   "outputs": [
    {
     "name": "stdout",
     "output_type": "stream",
     "text": [
      "(Point(FieldElement_223(66), FieldElement_223(112), FieldElement_223(0), FieldElement_223(7)))\n",
      "Point(infinity)\n",
      "(Point(FieldElement_31(30), FieldElement_31(1), FieldElement_31(5), FieldElement_31(7)))\n",
      "Point(infinity)\n"
     ]
    }
   ],
   "source": [
    "# A = (66,111) in F_223 (secp256k1)\n",
    "prime = 223\n",
    "a = FieldElement(0, prime) \n",
    "b = FieldElement(7, prime)\n",
    "x = FieldElement(66, prime) \n",
    "y = FieldElement(111, prime)\n",
    "A1 = Point(x, y, a, b)  \n",
    "A1_inverse = additive_inverse(A1)  \n",
    "print(A1_inverse)  \n",
    "print(A1 + A1_inverse) \n",
    "\n",
    "#A = (-1,-1) in F_31 (y² = x³ + 5x + 7)\n",
    "prime = 31\n",
    "a = FieldElement(5, prime) \n",
    "b = FieldElement(7, prime)\n",
    "x = FieldElement(-1 % prime, prime) \n",
    "y = FieldElement(-1 % prime, prime)\n",
    "prime_31 = 31\n",
    "a_31 = 5\n",
    "b_31 = 7\n",
    "\n",
    "A2 = Point(x,y,a,b)  \n",
    "A2_inverse = additive_inverse(A2)  \n",
    "print(A2_inverse)  \n",
    "print(A2 + A2_inverse) "
   ]
  },
  {
   "cell_type": "markdown",
   "id": "c3ef908a-e77a-41d0-917d-f41e6a3138b0",
   "metadata": {},
   "source": [
    "### 11. Discrete Logarithm Problem (15 Points)\n",
    "\n",
    "Given the two points G=(`Gx`, `Gy`) and P=(`Px`, `Py`) on the secp256k1 elliptic curve with coordinates over the finite field $F_{p}$ with $p$=`prime`, what is the a scalar $s$ such that $s G = P$? Write a function that computes this $s$.\n"
   ]
  },
  {
   "cell_type": "code",
   "execution_count": 32,
   "id": "fbc80cf7-3fa3-4a67-9cd4-832ff77629ef",
   "metadata": {},
   "outputs": [],
   "source": [
    "def GuessPrivateKey(P, G, prime):\n",
    "#Finds the integer scalar s such that s * G = P\n",
    "    s = 1\n",
    "    current = G  # Start at G\n",
    "\n",
    "    while current != P:\n",
    "        current = current + G  # Keep adding G\n",
    "        s += 1\n",
    "        if s > prime:  # Avoid infinite loops if P is not a multiple of G\n",
    "            return None\n",
    "    return s\n"
   ]
  },
  {
   "cell_type": "markdown",
   "id": "0e8c1ec8-1e1b-40a1-9c30-768860c675ce",
   "metadata": {},
   "source": [
    "**a.)** Compute and print the value of s for the following choices:\n",
    "\n",
    "`prime` $= 223$, $G = (154, 150)$ and $P = (47, 71)$."
   ]
  },
  {
   "cell_type": "code",
   "execution_count": 33,
   "id": "b2d4e43c-b4a4-48af-89d4-1b935cfa6527",
   "metadata": {},
   "outputs": [
    {
     "name": "stdout",
     "output_type": "stream",
     "text": [
      "Computed s: 19\n"
     ]
    }
   ],
   "source": [
    "\n",
    "prime = 223\n",
    "a = FieldElement(0, prime)\n",
    "b = FieldElement(7, prime)\n",
    "\n",
    "# Define Points G and P\n",
    "G = Point(FieldElement(154, prime), FieldElement(150, prime), a, b)\n",
    "P = Point(FieldElement(47, prime), FieldElement(71, prime), a, b)\n",
    "\n",
    "# Compute and print s\n",
    "s = GuessPrivateKey(P, G, prime)\n",
    "print(f\"Computed s: {s}\")  "
   ]
  },
  {
   "cell_type": "markdown",
   "id": "170a9e76-12db-4cf0-8e2f-1d2fd20d233f",
   "metadata": {},
   "source": [
    "**b.)** We recall that the prime order used in th finite field of Bitcoin's secp256k1 elliptic curve is $p_{\\text{BTC}} := 2^{256} - 2^{32} - 977$, see, for example, [the corresponding section in Chapter 3 of \"Programming Bitcoin](https://github.com/jimmysong/programmingbitcoin/blob/master/ch03.asciidoc#defining-the-curve-for-bitcoin) or [this link](https://learnmeabitcoin.com/technical/cryptography/elliptic-curve/#parameters). \n",
    "\n",
    "Compute and print the value of s for the following choices:\n",
    "\n",
    "`prime` = $p_{\\text{BTC}}$\n",
    "\n",
    "`Gx` $= 0x754e3239f325570cdbbf4a87deee8a66b7f2b33479d468fbc1a50743bf56cc18$ \n",
    "\n",
    "`Gy` $= 0x0673fb86e5bda30fb3cd0ed304ea49a023ee33d0197a695d0c5d98093c536683$ \n",
    "\n",
    "`Px` $= 0x7e5c9db512f90042057f63659344a5dade96b7e2d8e7b0fdb66a1b87d7383004$ \n",
    "\n",
    "`Py` $= 0x7ce053860ea1d5a4cddc7f0774d1d55ae05335a1ee229b3375bc0732cae1eeb1$\n"
   ]
  },
  {
   "cell_type": "code",
   "execution_count": 34,
   "id": "ffad3536",
   "metadata": {},
   "outputs": [],
   "source": [
    "# YOUR CODE HERE\n",
    "\n",
    "pBTC = 2**256 - 2**32 - 977  # Bitcoin's secp256k1 prime field\n",
    "a = FieldElement(0, pBTC)\n",
    "b = FieldElement(7, pBTC)\n",
    "# Define given G and P coordinates (in hexadecimal)\n",
    "Gx = FieldElement(int(\"754e3239f325570cdbbf4a87deee8a66b7f2b33479d468fbc1a50743bf56cc18\", 16),pBTC)\n",
    "Gy = FieldElement(int(\"0673fb86e5bda30fb3cd0ed304ea49a023ee33d0197a695d0c5d98093c536683\", 16),pBTC)\n",
    "G = Point(Gx, Gy, a, b)\n",
    "Px = FieldElement(int(\"7e5c9db512f90042057f63659344a5dade96b7e2d8e7b0fdb66a1b87d7383004\", 16),pBTC)\n",
    "Py = FieldElement(int(\"7ce053860ea1d5a4cddc7f0774d1d55ae05335a1ee229b3375bc0732cae1eeb1\", 16),pBTC)\n",
    "P = Point(Px, Py, a, b)"
   ]
  },
  {
   "cell_type": "code",
   "execution_count": 35,
   "id": "8b51d95c",
   "metadata": {},
   "outputs": [
    {
     "name": "stdout",
     "output_type": "stream",
     "text": [
      "The value of scalar s is: 164\n",
      "True\n"
     ]
    }
   ],
   "source": [
    "s = GuessPrivateKey(P, G, pBTC)\n",
    "print(\"The value of scalar s is:\", s)\n",
    "print(s * G == P)"
   ]
  },
  {
   "cell_type": "markdown",
   "id": "d4f0d508-0e1f-455a-b5ad-8bba11d3de7f",
   "metadata": {},
   "source": [
    "**c.)** Assume that the parameters are chosen as follows:\n",
    "\n",
    "`prime` = $p_{\\text{BTC}}$\n",
    "\n",
    "$G$ = Generator Point used in Bitcoin's ECDSA scheme\n",
    "\n",
    "`Px` $= 0x7e5c9db512f90042057f63659344a5dade96b7e2d8e7b0fdb66a1b87d7383004$ \n",
    "\n",
    "`Py` $= 0x7ce053860ea1d5a4cddc7f0774d1d55ae05335a1ee229b3375bc0732cae1eeb1$\n",
    "\n",
    "\n",
    "**Note:** The Generator Point used in Bitcoin's ECDSA implementation is G = (`Gx`,`Gy`), where\n",
    "\n",
    "`Gx` $= 0x79be667ef9dcbbac55a06295ce870b07029bfcdb2dce28d959f2815b16f81798$\n",
    "\n",
    "`Gy` $= 0x483ada7726a3c4655da4fbfc0e1108a8fd17b448a68554199c47d08ffb10d4b8$\n",
    "\n",
    "Are you able to find $s$ for this choice of parameters? If yes, print it, if not, provide an estimate of how long it might take your computer to compute is and explain this estimate."
   ]
  },
  {
   "cell_type": "code",
   "execution_count": 36,
   "id": "5c98d482",
   "metadata": {},
   "outputs": [
    {
     "name": "stdout",
     "output_type": "stream",
     "text": [
      "(Point(FieldElement_115792089237316195423570985008687907853269984665640564039457584007908834671663(55066263022277343669578718895168534326250603453777594175500187360389116729240), FieldElement_115792089237316195423570985008687907853269984665640564039457584007908834671663(32670510020758816978083085130507043184471273380659243275938904335757337482424), FieldElement_115792089237316195423570985008687907853269984665640564039457584007908834671663(0), FieldElement_115792089237316195423570985008687907853269984665640564039457584007908834671663(7)))\n"
     ]
    }
   ],
   "source": [
    "# YOUR CODE HERE\n",
    "# Generator Point G in Bitcoin's secp256k1\n",
    "Gx = FieldElement(int(\"79be667ef9dcbbac55a06295ce870b07029bfcdb2dce28d959f2815b16f81798\", 16),pBTC)\n",
    "Gy = FieldElement(int(\"483ada7726a3c4655da4fbfc0e1108a8fd17b448a68554199c47d08ffb10d4b8\", 16),pBTC)\n",
    "G = Point(Gx, Gy, a, b)\n",
    "print(G)"
   ]
  },
  {
   "cell_type": "code",
   "execution_count": 37,
   "id": "aedb3218",
   "metadata": {},
   "outputs": [
    {
     "name": "stdout",
     "output_type": "stream",
     "text": [
      "(Point(FieldElement_115792089237316195423570985008687907853269984665640564039457584007908834671663(57155057307376023489291727633014446664914851876294023466156129981660543856644), FieldElement_115792089237316195423570985008687907853269984665640564039457584007908834671663(56483143425955974217186739714143823533732878887383796585155433022946097098417), FieldElement_115792089237316195423570985008687907853269984665640564039457584007908834671663(0), FieldElement_115792089237316195423570985008687907853269984665640564039457584007908834671663(7)))\n"
     ]
    }
   ],
   "source": [
    "Px = FieldElement(int(\"7e5c9db512f90042057f63659344a5dade96b7e2d8e7b0fdb66a1b87d7383004\", 16),pBTC)\n",
    "Py = FieldElement(int(\"7ce053860ea1d5a4cddc7f0774d1d55ae05335a1ee229b3375bc0732cae1eeb1\", 16),pBTC)\n",
    "P = Point(Px, Py, a, b)\n",
    "print(P)"
   ]
  },
  {
   "cell_type": "code",
   "execution_count": 38,
   "id": "4318261c",
   "metadata": {},
   "outputs": [
    {
     "name": "stdout",
     "output_type": "stream",
     "text": [
      "The value of scalar s is: 10004\n"
     ]
    }
   ],
   "source": [
    "s = GuessPrivateKey(P, G, pBTC)\n",
    "print(\"The value of scalar s is:\", GuessPrivateKey(P, G, pBTC))"
   ]
  },
  {
   "cell_type": "code",
   "execution_count": 39,
   "id": "d433381c",
   "metadata": {},
   "outputs": [
    {
     "data": {
      "text/plain": [
       "True"
      ]
     },
     "execution_count": 39,
     "metadata": {},
     "output_type": "execute_result"
    }
   ],
   "source": [
    "# We check whether we have indeed found the right scalar:\n",
    "10004 * G == P"
   ]
  },
  {
   "cell_type": "markdown",
   "id": "37482e25-b983-46cc-8dd1-248a695cf881",
   "metadata": {},
   "source": [
    "_Add your explanation here_\n",
    "\n",
    "(c) We learned in class that in general, finding \\( s \\) in an equation $s G = P$ with the generator point $G$ used  in the secp256k1 curve as in the Bitcoin protocol, is computaitonally infeasible (difficulty of discrete logarithm). The number of possible values is so large that even the most powerful computers would take an impractical amount of time to compute it. <br>\n",
    "However, the numbers are chosen here such that coincidentally, the solution of the discrete logarithm problem is found very quickly (as $s$ is very small compared to the group order)."
   ]
  }
 ],
 "metadata": {
  "kernelspec": {
   "display_name": "Python 3 (ipykernel)",
   "language": "python",
   "name": "python3"
  },
  "language_info": {
   "codemirror_mode": {
    "name": "ipython",
    "version": 3
   },
   "file_extension": ".py",
   "mimetype": "text/x-python",
   "name": "python",
   "nbconvert_exporter": "python",
   "pygments_lexer": "ipython3",
   "version": "3.11.8"
  }
 },
 "nbformat": 4,
 "nbformat_minor": 5
}
