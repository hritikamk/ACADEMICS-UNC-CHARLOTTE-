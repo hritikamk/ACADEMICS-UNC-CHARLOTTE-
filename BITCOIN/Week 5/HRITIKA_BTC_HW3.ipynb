{
  "cells": [
    {
      "cell_type": "markdown",
      "id": "19d53131-b8bb-4fea-89cf-9dd5b92ed8c7",
      "metadata": {
        "id": "19d53131-b8bb-4fea-89cf-9dd5b92ed8c7"
      },
      "source": [
        "# Topics in Computer Science - Bitcoin: Programming the Future of Money - ITCS 4010 & 5010 - Fall 2024 - UNC Charlotte\n",
        "\n",
        "# Homework 3 - Elliptic Curves (110 Points)\n",
        "HRITIKA KUCHERIYA"
      ]
    },
    {
      "cell_type": "markdown",
      "id": "7a255941-f2cd-4a13-b0e1-f3af36e0ce72",
      "metadata": {
        "id": "7a255941-f2cd-4a13-b0e1-f3af36e0ce72"
      },
      "source": [
        "# <font color=\"blue\"> Submission instructions</font>\n",
        "\n",
        "1. Click the Save button at the top of the Jupyter Notebook.\n",
        "2. Please make sure to have entered your name above.\n",
        "3. Select Cell -> All Output -> Clear. This will clear all the outputs from all cells (but will keep the content of all cells).\n",
        "4. Select Cell -> Run All. This will run all the cells in order, and will take several minutes.\n",
        "5. Once you've rerun everything, create a PDF version of the Jupypter notebook which includes visually all executed cells. This can be done in different ways depending on your specific Python/Jupyter setup. You can do that either by exporting into PDF (PDF via LaTeX / PDF via HTML), or by exporting into an HTML file first and then print the HTML site as a PDF and save that PDF.\n",
        "6. Look at the PDF file and make sure all your solutions are there, displayed correctly.\n",
        "7. Submit **both** your PDF and the notebook file .ipynb on Gradescope.\n",
        "8. Make sure your your Gradescope submission contains the correct files by downloading it after posting it on Gradescope."
      ]
    },
    {
      "cell_type": "markdown",
      "id": "d921618e-36fc-41af-b29b-b3aa3021c1e7",
      "metadata": {
        "id": "d921618e-36fc-41af-b29b-b3aa3021c1e7"
      },
      "source": [
        "### 1. Build Calendar (8 Points)\n",
        "There are 365 days in a year. That means there are seven months with 31 days, four months with 30 days, and one month with 28 days. Write `Calendar` function that creates a list called `date` that indexes all dates from 0 – 364. So, date[0] = \"Jan 1\", date[1] = \"Jan 2\", and so on, until date[364] = \"Dec 31\". Spell all months using their three-letter abbreviation.\n",
        "\n",
        "Then write a function `FutureDay` that accepts two parameters: a start date from the date list and a positive integer representing the number of days. The function should calculate and return the future date by adding the specified number of days to the start date.\n",
        "\n",
        "For example, FutureDay(\"Jan 3\", 2) = \"Jan 5\".  "
      ]
    },
    {
      "cell_type": "code",
      "execution_count": 46,
      "id": "e4ef642f-5a21-4033-9c10-5a0443751721",
      "metadata": {
        "id": "e4ef642f-5a21-4033-9c10-5a0443751721"
      },
      "outputs": [],
      "source": [
        "def Calendar():\n",
        "\n",
        "    date = []\n",
        "\n",
        "    months = {\n",
        "        'Jan': 31, 'Feb': 28, 'Mar': 31, 'Apr': 30, 'May': 31, 'Jun': 30,\n",
        "        'Jul': 31, 'Aug': 31, 'Sep': 30, 'Oct': 31, 'Nov': 30, 'Dec': 31\n",
        "    }\n",
        "\n",
        "\n",
        "    for month in months:\n",
        "        for day in range(1, months[month] + 1):\n",
        "            date.append(f\"{month} {day}\")\n",
        "\n",
        "    return date\n",
        "\n",
        "\n",
        "def FutureDay(start, increment):\n",
        "    dates = Calendar()\n",
        "    if not isinstance(increment, int) or increment < 0:\n",
        "        raise ValueError(\"Increment must be a positive integer\")\n",
        "    if start not in dates:\n",
        "        raise ValueError(f\"Start date '{start}' not in calendar\")\n",
        "    start_index = dates.index(start)\n",
        "    future_index = (start_index + increment) % 365\n",
        "    return dates[future_index]\n"
      ]
    },
    {
      "cell_type": "markdown",
      "id": "3008f0a6",
      "metadata": {
        "id": "3008f0a6"
      },
      "source": [
        "Run the following cell to test your code:"
      ]
    },
    {
      "cell_type": "code",
      "execution_count": 47,
      "id": "042d15f3-b5c3-4deb-8bda-9d35c39f0d53",
      "metadata": {
        "colab": {
          "base_uri": "https://localhost:8080/",
          "height": 0
        },
        "id": "042d15f3-b5c3-4deb-8bda-9d35c39f0d53",
        "outputId": "220a7acb-f9e2-468c-b737-73fe741053d1"
      },
      "outputs": [
        {
          "output_type": "stream",
          "name": "stdout",
          "text": [
            "True\n",
            "Apr 30\n",
            "Mar 31\n",
            "Jan 6\n"
          ]
        }
      ],
      "source": [
        "print(FutureDay(\"Jan 3\", 2) == \"Jan 5\")\n",
        "print(FutureDay(\"Jan 20\", 100))\n",
        "print(FutureDay(\"Jul 4\", 1000))\n",
        "print(FutureDay(\"Dec 26\", 11))"
      ]
    },
    {
      "cell_type": "markdown",
      "id": "6e399611-d4c2-408d-976b-bc7482aea6f3",
      "metadata": {
        "id": "6e399611-d4c2-408d-976b-bc7482aea6f3"
      },
      "source": [
        "### 2. Build a Finite Field (15 Points)\n",
        "**a.)** Write a funtion `buildfield` that takes the order of the finite field as input and returns the finite field set. In case that the the order of the finite field is not admissible, the function should print a suitable error message instead.\n",
        "\n",
        "Hint: Recall what orders of finite fields are admissible. You can revisit [Jimmy Song's _Programming Bitcoin_: Chapter 1](https://github.com/jimmysong/programmingbitcoin/blob/master/ch01.asciidoc) to revisit this."
      ]
    },
    {
      "cell_type": "code",
      "execution_count": 48,
      "id": "cd220e2f-1d43-4444-b59e-caf4eb6a27e9",
      "metadata": {
        "id": "cd220e2f-1d43-4444-b59e-caf4eb6a27e9"
      },
      "outputs": [],
      "source": [
        "def buildfield(prime):\n",
        "    if not isinstance(prime, int):\n",
        "        print(\"Error: Input must be an integer\")\n",
        "        return None\n",
        "\n",
        "    if prime <= 0:\n",
        "        print(\"Error: Input must be positive\")\n",
        "        return None\n",
        "\n",
        "    if prime == 1:\n",
        "        print(\"Error: 1 is not a prime number\")\n",
        "        return None\n",
        "\n",
        "    for i in range(2, int(prime ** 0.5) + 1):\n",
        "        if prime % i == 0:\n",
        "            print(f\"Error: {prime} is not a prime number\")\n",
        "            return None\n",
        "\n",
        "    field = set(range(prime))\n",
        "\n",
        "    return field\n"
      ]
    },
    {
      "cell_type": "markdown",
      "id": "b602d8c0",
      "metadata": {
        "id": "b602d8c0"
      },
      "source": [
        "Run the following cell to test your code:"
      ]
    },
    {
      "cell_type": "code",
      "execution_count": 49,
      "id": "235969fa-7514-4961-9d71-c02a1b808748",
      "metadata": {
        "colab": {
          "base_uri": "https://localhost:8080/",
          "height": 0
        },
        "id": "235969fa-7514-4961-9d71-c02a1b808748",
        "outputId": "d0294895-f6a0-4eb5-c52e-f12fb3533c4b"
      },
      "outputs": [
        {
          "output_type": "stream",
          "name": "stdout",
          "text": [
            "True\n",
            "{0, 1, 2, 3, 4, 5, 6, 7, 8, 9, 10, 11, 12, 13, 14, 15, 16, 17, 18, 19, 20, 21, 22, 23, 24, 25, 26, 27, 28, 29, 30}\n",
            "Error: 4 is not a prime number\n",
            "None\n",
            "Error: 12 is not a prime number\n",
            "None\n"
          ]
        }
      ],
      "source": [
        "print(buildfield(3) == {0,1,2})\n",
        "print(buildfield(31))\n",
        "print(buildfield(4))\n",
        "print(buildfield(12))"
      ]
    },
    {
      "cell_type": "markdown",
      "id": "944562cd",
      "metadata": {
        "id": "944562cd"
      },
      "source": [
        "**b.)** Provide an example of a set $F_{p} = \\{0,1,2,3,\\dots, p-1\\}$ with a choice of $p$ and an element $a \\in F_p$ that _does not have a multiplicative inverse_ (when defining addition and multiplication as for finite fields), and explain why."
      ]
    },
    {
      "cell_type": "markdown",
      "id": "1b592eaf",
      "metadata": {
        "id": "1b592eaf"
      },
      "source": [
        "### Example of an Element Without a Multiplicative Inverse in \\( Fp \\)\n",
        "\n",
        "#### **Example:**\n",
        "Consider the set \\( F7 = \\{ 0, 1, 2, 3, 4, 5, 6 \\} \\), which forms a finite field under **modulo 7** arithmetic.\n",
        "\n",
        "The **multiplicative inverse** of an element \\( a \\) in \\( Fp \\) is defined as the number \\( b \\) such that:\n",
        "\n",
        "\n",
        "a X b euqivalent to mod 7\n",
        "\n",
        "However, in any **finite field \\( Fp \\), the number  0  never has a multiplicative inverse** because:\n",
        "\n",
        "\n",
        "0 X b = 0 is not equivalent to 1  mod p (for any  b)\n",
        "\n",
        "\n",
        "Thus, in ( F7 ), the element 0  does not have a multiplicative inverse, making it the required example.\n",
        "\n",
        "\n",
        "### **Explaination?**\n",
        "- A number a  in Fp has an inverse if and only if it is **coprime** (i.e., gcd = 1) with  p .\n",
        "-  0 is **not** coprime with any number because **gcd(0, p) = p**.\n",
        "- In a finite field Fp, all **nonzero** elements have an inverse, but **0 never does**.\n",
        "\n",
        "Thus, 0  is always the element that lacks a multiplicative inverse in any finite field Fp .\n",
        "\n",
        "\n",
        "### **ALL IN ALL:**\n",
        "> **Example:** In  F7 = \\{ 0, 1, 2, 3, 4, 5, 6 \\} , the element **0** does not have a multiplicative inverse because there is no number b such that \\( 0 X b is equivalent to 1  mod 7 ).  \n",
        "> This holds for any finite field Fp , where **0 never has a multiplicative inverse**.\n"
      ]
    },
    {
      "cell_type": "markdown",
      "id": "f518c0a3-6fc8-450e-a0d3-8d2119bfe38d",
      "metadata": {
        "id": "f518c0a3-6fc8-450e-a0d3-8d2119bfe38d"
      },
      "source": [
        "### 3. Scalar Multiplication (11 Points)\n",
        "#### a.\n",
        "Implement a function `scalar_multiply` that accepts the order of a finite field `order` and a scalar `k` as arguments, and returns a set of elements resulting from the scalar multiplication of `k` with each element in the finite field."
      ]
    },
    {
      "cell_type": "code",
      "execution_count": 50,
      "id": "663345e2-a530-48dd-b672-5c729cf45cf0",
      "metadata": {
        "id": "663345e2-a530-48dd-b672-5c729cf45cf0"
      },
      "outputs": [],
      "source": [
        "def scalar_multiply(order, k):\n",
        "    finite_field = buildfield(order)\n",
        "    if finite_field is None:\n",
        "        return None\n",
        "    result = set()\n",
        "    for element in finite_field:\n",
        "        result.add((element * k) % order)\n",
        "    return result"
      ]
    },
    {
      "cell_type": "markdown",
      "id": "a11def95",
      "metadata": {
        "id": "a11def95"
      },
      "source": [
        "Run the following four cells to test your code:"
      ]
    },
    {
      "cell_type": "code",
      "execution_count": 51,
      "id": "c0f97240-69ba-4ef8-826b-4b85ec084686",
      "metadata": {
        "colab": {
          "base_uri": "https://localhost:8080/",
          "height": 0
        },
        "id": "c0f97240-69ba-4ef8-826b-4b85ec084686",
        "outputId": "47de362e-7ceb-428e-96af-f5b081108281"
      },
      "outputs": [
        {
          "output_type": "stream",
          "name": "stdout",
          "text": [
            "{0, 1, 2, 3, 4, 5, 6, 7, 8, 9, 10}\n",
            "{0, 1, 2, 3, 4, 5, 6, 7, 8, 9, 10}\n",
            "{0, 1, 2, 3, 4, 5, 6, 7, 8, 9, 10}\n",
            "{0, 1, 2, 3, 4, 5, 6, 7, 8, 9, 10}\n"
          ]
        }
      ],
      "source": [
        "k = [3,17,256,977]\n",
        "order = 11\n",
        "for i in k:\n",
        "    print(scalar_multiply(order, i))"
      ]
    },
    {
      "cell_type": "code",
      "execution_count": 52,
      "id": "6d2a968a-652c-4021-bc0c-29c7c7264725",
      "metadata": {
        "colab": {
          "base_uri": "https://localhost:8080/",
          "height": 0
        },
        "id": "6d2a968a-652c-4021-bc0c-29c7c7264725",
        "outputId": "b663c5ad-1875-4f3a-dc6d-d8c95586566f"
      },
      "outputs": [
        {
          "output_type": "stream",
          "name": "stdout",
          "text": [
            "{0, 1, 2, 3, 4, 5, 6, 7, 8, 9, 10, 11, 12}\n",
            "{0, 1, 2, 3, 4, 5, 6, 7, 8, 9, 10, 11, 12}\n",
            "{0, 1, 2, 3, 4, 5, 6, 7, 8, 9, 10, 11, 12}\n",
            "{0, 1, 2, 3, 4, 5, 6, 7, 8, 9, 10, 11, 12}\n"
          ]
        }
      ],
      "source": [
        "order = 13\n",
        "for i in k:\n",
        "    print(scalar_multiply(order, i))"
      ]
    },
    {
      "cell_type": "code",
      "execution_count": 53,
      "id": "66a53ee7-de64-4da3-8ff1-2030cc0c4de6",
      "metadata": {
        "colab": {
          "base_uri": "https://localhost:8080/",
          "height": 0
        },
        "id": "66a53ee7-de64-4da3-8ff1-2030cc0c4de6",
        "outputId": "ec57ea3e-b598-479d-9556-ff5dc9393991"
      },
      "outputs": [
        {
          "output_type": "stream",
          "name": "stdout",
          "text": [
            "Error: 27 is not a prime number\n",
            "None\n",
            "Error: 27 is not a prime number\n",
            "None\n",
            "Error: 27 is not a prime number\n",
            "None\n",
            "Error: 27 is not a prime number\n",
            "None\n"
          ]
        }
      ],
      "source": [
        "order = 27\n",
        "for i in k:\n",
        "    print(scalar_multiply(order, i))"
      ]
    },
    {
      "cell_type": "code",
      "execution_count": 54,
      "id": "59cbbfbd-9780-4777-9ab8-d3d6b2d1e438",
      "metadata": {
        "colab": {
          "base_uri": "https://localhost:8080/",
          "height": 0
        },
        "id": "59cbbfbd-9780-4777-9ab8-d3d6b2d1e438",
        "outputId": "6c565e23-4a8c-4791-c56e-8dc3f57974eb"
      },
      "outputs": [
        {
          "output_type": "stream",
          "name": "stdout",
          "text": [
            "{0}\n",
            "{0, 1, 2}\n",
            "{0, 1, 2}\n",
            "{0, 1, 2}\n"
          ]
        }
      ],
      "source": [
        "order = 3\n",
        "for i in k:\n",
        "    print(scalar_multiply(order, i))"
      ]
    },
    {
      "cell_type": "markdown",
      "id": "ea0e2074-77e1-46ba-830f-66f3173ed538",
      "metadata": {
        "id": "ea0e2074-77e1-46ba-830f-66f3173ed538"
      },
      "source": [
        "#### b.)\n",
        "From the output sets obtained from scalar_multiply for finite fields of orders 11, 13, 27, and 3 what patterns or properties do you observe? Provide a brief explanation of your findings."
      ]
    },
    {
      "cell_type": "markdown",
      "id": "d19fd1c6",
      "metadata": {
        "id": "d19fd1c6"
      },
      "source": [
        "_YOUR ANSWER HERE_\n",
        "\n",
        "### **Observations from scalar_multiply Output**\n",
        "\n",
        "1. **Prime Order Fields (11, 13)**  \n",
        "   - The output always includes all elements of Fp, meaning scalar multiplication preserves the field structure.  \n",
        "   - This confirms that **finite fields of prime order form a cyclic group under multiplication**.\n",
        "\n",
        "2. **Non-Prime Order (27)**  \n",
        "   - The function correctly identifies that  F{27}  **is not a valid finite field** and returns an error.\n",
        "\n",
        "3. **Smallest Prime Field (3)**  \n",
        "   - For some scalars, the output is 0, indicating that certain multipliers collapse all elements.  \n",
        "   - Other scalars preserve all elements, maintaining the field structure.\n",
        "\n",
        "### **Alll-in-all**\n",
        "- **Finite fields exist only for prime orders**, and scalar multiplication retains their structure.\n",
        "- **Non-prime orders cannot form a field**.\n",
        "- **Small fields exhibit unique behavior**, where some scalars map all elements to 0.\n"
      ]
    },
    {
      "cell_type": "markdown",
      "id": "e5607df2-f86c-48b2-a219-0ce5c17b47ac",
      "metadata": {
        "id": "e5607df2-f86c-48b2-a219-0ce5c17b47ac"
      },
      "source": [
        "#### c.)\n",
        "\n",
        "Revisit the class on finite fields in view of the results of part a) and b). Please explain for what statement this empirical observation was used in class."
      ]
    },
    {
      "cell_type": "markdown",
      "id": "4f6d9df0",
      "metadata": {
        "id": "4f6d9df0"
      },
      "source": [
        "_YOUR ANSWER HERE_\n",
        "### **Empirical Observations & Class Statements**\n",
        "\n",
        "1. **Finite Fields Require Prime Orders**  \n",
        "   - Non-prime order = 27 returned an error, confirming that **finite fields exist only for prime orders** (Lecture 8: Order of a Finite Field).\n",
        "\n",
        "2. **Multiplicative Inverses Exist for Nonzero Elements**  \n",
        "   - 0 lacked an inverse, aligning with the class statement that **only nonzero elements in  Fp  have inverses** (Lecture 8: Multiplication in Finite Fields).\n",
        "\n",
        "3. **Scalar Multiplication Preserves Field Structure**  \n",
        "   - In  F11 and  F13 , scalar multiplication covered all elements, proving **closure under multiplication** (Lecture 9: Multiplication in Finite Fields).\n",
        "\n",
        "4. **Fermat’s Little Theorem & Inverses**  \n",
        "   - Ensures **every nonzero element in Fp has an inverse**, explaining why scalar multiplication works without collapsing (Lecture 9: Fermat’s Little Theorem).\n"
      ]
    },
    {
      "cell_type": "markdown",
      "id": "73f40a06-02c7-49bf-b0fa-1877c6501d40",
      "metadata": {
        "id": "73f40a06-02c7-49bf-b0fa-1877c6501d40"
      },
      "source": [
        "### 4. Exponentiation (6 Points)\n",
        "\n",
        "Implement the function `findpow` that calculates the power of each element in a finite field of the order `order` raised to a given `exponent` and returns the resulting powers as a list."
      ]
    },
    {
      "cell_type": "code",
      "execution_count": 55,
      "id": "25a14e34-4bb4-4813-b392-db6461209b1a",
      "metadata": {
        "id": "25a14e34-4bb4-4813-b392-db6461209b1a"
      },
      "outputs": [],
      "source": [
        "def findpow(order, exponent):\n",
        "    finite_field = buildfield(order)\n",
        "    if finite_field is None:\n",
        "        return None\n",
        "    result = []\n",
        "    for element in finite_field:\n",
        "\n",
        "        if exponent < 0:\n",
        "            if element == 0:\n",
        "                result.append(0)\n",
        "            else:\n",
        "                pow_val = pow(element, order-2, order)\n",
        "                result.append(pow(pow_val, -exponent, order))\n",
        "        else:\n",
        "            result.append(pow(element, exponent, order))\n",
        "    return result"
      ]
    },
    {
      "cell_type": "markdown",
      "id": "adb84c5b",
      "metadata": {
        "id": "adb84c5b"
      },
      "source": [
        "Run the following cells to test your code:"
      ]
    },
    {
      "cell_type": "code",
      "execution_count": 56,
      "id": "e0b8d21d",
      "metadata": {
        "colab": {
          "base_uri": "https://localhost:8080/",
          "height": 0
        },
        "id": "e0b8d21d",
        "outputId": "abcfde82-c07b-4e3c-b3a2-df7167f99c84"
      },
      "outputs": [
        {
          "output_type": "stream",
          "name": "stdout",
          "text": [
            "True\n"
          ]
        }
      ],
      "source": [
        "print(findpow(3, 9) == [0,1,2])"
      ]
    },
    {
      "cell_type": "code",
      "execution_count": 57,
      "id": "381d910d",
      "metadata": {
        "colab": {
          "base_uri": "https://localhost:8080/",
          "height": 0
        },
        "id": "381d910d",
        "outputId": "1c589c4f-5e0c-4f31-c6e8-b176fb292cb0"
      },
      "outputs": [
        {
          "output_type": "stream",
          "name": "stdout",
          "text": [
            "True\n"
          ]
        }
      ],
      "source": [
        "print(findpow(31, -3)[17] == 29)"
      ]
    },
    {
      "cell_type": "code",
      "execution_count": 58,
      "id": "cadcc430-6bba-427d-9507-38282d7afa7b",
      "metadata": {
        "colab": {
          "base_uri": "https://localhost:8080/",
          "height": 0
        },
        "id": "cadcc430-6bba-427d-9507-38282d7afa7b",
        "outputId": "1cdea4eb-272c-412b-b600-6669bd58beeb"
      },
      "outputs": [
        {
          "output_type": "stream",
          "name": "stdout",
          "text": [
            "[0, 1, 1, 4, 4, 5, 5, 6, 6, 7, 7, 9, 9, 13, 13, 16, 16, 20, 20, 22, 22, 23, 23, 24, 24, 25, 25, 28, 28]\n"
          ]
        }
      ],
      "source": [
        "print(sorted(findpow(29, 66)))"
      ]
    },
    {
      "cell_type": "markdown",
      "id": "f927cd7c-4bc3-4138-9857-469159125b9d",
      "metadata": {
        "id": "f927cd7c-4bc3-4138-9857-469159125b9d"
      },
      "source": [
        "### 5. Finite Field Class (15 Points)\n",
        "Define a class `FieldElement` to represent an element denoted by its smallest positive integer representation `num` within a finite field of the order `p`. This class includes the following core functionalities:\n",
        "\n",
        "* In the `__init__` constructor, we ensure that the `num` lies between `0` and `p - 1`. If it doesn't, a `ValueError` is raised; otherwise, the constructor parameter values are assigned to the objects.\n",
        "* The `__eq__` method determines if two FieldElement objects are equal. When the values of `num` and `p` of one element are equal to `num` and `p` of second element are identical, respectively, the method returns `True`.\n",
        "* `__add__` method overloads addition, `__sub__` method overloads subtraction for finite field.\n",
        "* Similarly, `__mul__`, `__pow__`, `__truediv__` and `__rmul__` methods overload finite field multiplication, exponentiation, division, and scalar multiplication respectively"
      ]
    },
    {
      "cell_type": "code",
      "execution_count": 59,
      "id": "2baa97c3-9993-4f67-a621-e863aeefdb64",
      "metadata": {
        "id": "2baa97c3-9993-4f67-a621-e863aeefdb64"
      },
      "outputs": [],
      "source": [
        "class FieldElement:\n",
        "    def __init__(self, num, prime):\n",
        "        if num >= prime or num < 0:\n",
        "            raise ValueError(f\"Num {num} not in field range 0 to {prime-1}\")\n",
        "        self.num = num\n",
        "        self.prime = prime\n",
        "\n",
        "    def __repr__(self):\n",
        "        return f'FieldElement_{self.prime}({self.num})'\n",
        "\n",
        "    def __eq__(self, other):\n",
        "        if other is None:\n",
        "            return False\n",
        "        return self.num == other.num and self.prime == other.prime\n",
        "\n",
        "    def __ne__(self, other):\n",
        "        return not self.__eq__(other)\n",
        "\n",
        "    def __add__(self, other):\n",
        "        if self.prime != other.prime:\n",
        "            raise TypeError('Cannot add two numbers in different Fields')\n",
        "        num = (self.num + other.num) % self.prime\n",
        "        return self.__class__(num, self.prime)\n",
        "\n",
        "    def __sub__(self, other):\n",
        "        if self.prime != other.prime:\n",
        "            raise TypeError('Cannot subtract two numbers in different Fields')\n",
        "        num = (self.num - other.num) % self.prime\n",
        "        return self.__class__(num, self.prime)\n",
        "\n",
        "    def __mul__(self, other):\n",
        "        if isinstance(other, int):\n",
        "            other = FieldElement(other % self.prime, self.prime)\n",
        "        if self.prime != other.prime:\n",
        "            raise TypeError('Cannot multiply two numbers in different Fields')\n",
        "        num = (self.num * other.num) % self.prime\n",
        "        return self.__class__(num, self.prime)\n",
        "\n",
        "    def __pow__(self, exponent):\n",
        "        n = exponent % (self.prime - 1)\n",
        "        num = pow(self.num, n, self.prime)\n",
        "        return self.__class__(num, self.prime)\n",
        "\n",
        "    def __truediv__(self, other):\n",
        "        if self.prime != other.prime:\n",
        "            raise TypeError('Cannot divide two numbers in different Fields')\n",
        "        if other.num == 0:\n",
        "            raise ZeroDivisionError\n",
        "        inverse = pow(other.num, self.prime - 2, self.prime)\n",
        "        num = (self.num * inverse) % self.prime\n",
        "        return self.__class__(num, self.prime)\n",
        "\n",
        "    def __rmul__(self, coefficient):\n",
        "        num = (self.num * coefficient) % self.prime\n",
        "        return self.__class__(num=num, prime=self.prime)\n",
        "\n"
      ]
    },
    {
      "cell_type": "markdown",
      "id": "d1646134-5065-4530-9703-6461cce09bfe",
      "metadata": {
        "id": "d1646134-5065-4530-9703-6461cce09bfe"
      },
      "source": [
        "#### Testcases\n",
        "\n",
        "Let a = 13 and b = 9 in $F_{19}$. In the cell(s) below, print results of the following computations:\n",
        "1. a + b\n",
        "2. a - b\n",
        "3. a * b\n",
        "4. 4 * a\n",
        "5. a / b\n",
        "6. $a^{3086}$"
      ]
    },
    {
      "cell_type": "code",
      "execution_count": 60,
      "id": "8704c591-30aa-4bc1-9311-431ef4edd8d0",
      "metadata": {
        "colab": {
          "base_uri": "https://localhost:8080/",
          "height": 0
        },
        "id": "8704c591-30aa-4bc1-9311-431ef4edd8d0",
        "outputId": "9bfa65b6-c7f8-4fab-87d4-0a7bb8a7cc3e"
      },
      "outputs": [
        {
          "output_type": "stream",
          "name": "stdout",
          "text": [
            "FieldElement_19(3)\n",
            "FieldElement_19(4)\n",
            "FieldElement_19(3)\n",
            "FieldElement_19(14)\n",
            "FieldElement_19(12)\n",
            "FieldElement_19(16)\n"
          ]
        }
      ],
      "source": [
        "a = FieldElement(13, 19)\n",
        "b = FieldElement(9, 19)\n",
        "print(a + b)\n",
        "print(a - b)\n",
        "print(a * b)\n",
        "print(a.__rmul__(4))\n",
        "print(a / b)\n",
        "print(a ** 3086)"
      ]
    },
    {
      "cell_type": "markdown",
      "id": "6ae29dd0-89db-4100-b841-82cc8ddc9772",
      "metadata": {
        "id": "6ae29dd0-89db-4100-b841-82cc8ddc9772"
      },
      "source": [
        "### 6. Elliptic curve: Point Class (10 Points)\n",
        "\n",
        "Define the class `Point` that represents a point on the elliptic curve.\n",
        "\n",
        "* Complete the method `point_on_curve` that returns `True` if the point is on the elliptic curve.\n",
        "* `__eq__` overloads equal operator for Points. Two points are equal if their (x,y) coordiantes and curve coeffiecients 'a' and 'b' are equal.\n",
        "* `__ne__` should implement the inverse of '==' operator.\n",
        "\n"
      ]
    },
    {
      "cell_type": "code",
      "execution_count": 61,
      "id": "9dad9ed5-c34c-497b-9247-5d7300f64506",
      "metadata": {
        "id": "9dad9ed5-c34c-497b-9247-5d7300f64506"
      },
      "outputs": [],
      "source": [
        "class Point:\n",
        "    def __init__(self, x, y, a, b, prime=None):\n",
        "        if prime and isinstance(x, int):\n",
        "            x = FieldElement(x % prime, prime)\n",
        "            y = FieldElement(y % prime, prime)\n",
        "            a = FieldElement(a, prime)\n",
        "            b = FieldElement(b, prime)\n",
        "        self.x, self.y, self.a, self.b = x, y, a, b\n",
        "        if x is None and y is None:\n",
        "            return\n",
        "        if not self.point_on_curve():\n",
        "            raise ValueError(f\"Point ({x},{y}) not on curve y^2 = x^3 + {a}x + {b}\")\n",
        "\n",
        "    def point_on_curve(self):\n",
        "        if self.x is None and self.y is None:\n",
        "            return True\n",
        "        return self.y * self.y == self.x * self.x * self.x + self.a * self.x + self.b\n",
        "\n",
        "    def __eq__(self, other):\n",
        "        return (self.x == other.x and self.y == other.y and\n",
        "                self.a == other.a and self.b == other.b)\n",
        "\n",
        "    def __ne__(self, other):\n",
        "        return not self.__eq__(other)\n"
      ]
    },
    {
      "cell_type": "markdown",
      "id": "3bc29ae8",
      "metadata": {
        "id": "3bc29ae8"
      },
      "source": [
        "Run the following cells to test your code:"
      ]
    },
    {
      "cell_type": "code",
      "execution_count": 62,
      "id": "03aa56fc",
      "metadata": {
        "colab": {
          "base_uri": "https://localhost:8080/",
          "height": 0
        },
        "id": "03aa56fc",
        "outputId": "09c15eb3-680b-4a62-ede9-03d75f3db448"
      },
      "outputs": [
        {
          "output_type": "stream",
          "name": "stdout",
          "text": [
            "True\n"
          ]
        }
      ],
      "source": [
        "print(Point(-1, -1, 5, 7) == Point(-1, -1, 5, 7))"
      ]
    },
    {
      "cell_type": "code",
      "execution_count": 63,
      "id": "cd4b0273",
      "metadata": {
        "colab": {
          "base_uri": "https://localhost:8080/",
          "height": 0
        },
        "id": "cd4b0273",
        "outputId": "3c40541e-0558-459f-a13c-69614d4c79b5"
      },
      "outputs": [
        {
          "output_type": "stream",
          "name": "stdout",
          "text": [
            "False\n"
          ]
        }
      ],
      "source": [
        "print(Point(-1, -1, 5, 7) != Point(-1, -1, 5, 7))"
      ]
    },
    {
      "cell_type": "code",
      "execution_count": 65,
      "id": "b541154d-846b-4b53-bc67-95ec2997ba40",
      "metadata": {
        "colab": {
          "base_uri": "https://localhost:8080/",
          "height": 263
        },
        "id": "b541154d-846b-4b53-bc67-95ec2997ba40",
        "outputId": "e43cb3a8-c09d-4f60-99d7-54483aabbfd1"
      },
      "outputs": [
        {
          "output_type": "error",
          "ename": "ValueError",
          "evalue": "Point (3,0) not on curve y^2 = x^3 + 5x + 7",
          "traceback": [
            "\u001b[0;31m---------------------------------------------------------------------------\u001b[0m",
            "\u001b[0;31mValueError\u001b[0m                                Traceback (most recent call last)",
            "\u001b[0;32m<ipython-input-65-80d49044734c>\u001b[0m in \u001b[0;36m<cell line: 0>\u001b[0;34m()\u001b[0m\n\u001b[0;32m----> 1\u001b[0;31m \u001b[0mprint\u001b[0m\u001b[0;34m(\u001b[0m\u001b[0mPoint\u001b[0m\u001b[0;34m(\u001b[0m\u001b[0;36m3\u001b[0m\u001b[0;34m,\u001b[0m \u001b[0;36m0\u001b[0m\u001b[0;34m,\u001b[0m \u001b[0;36m5\u001b[0m\u001b[0;34m,\u001b[0m \u001b[0;36m7\u001b[0m\u001b[0;34m)\u001b[0m\u001b[0;34m)\u001b[0m\u001b[0;34m\u001b[0m\u001b[0;34m\u001b[0m\u001b[0m\n\u001b[0m",
            "\u001b[0;32m<ipython-input-61-b44b5b668260>\u001b[0m in \u001b[0;36m__init__\u001b[0;34m(self, x, y, a, b, prime)\u001b[0m\n\u001b[1;32m     10\u001b[0m             \u001b[0;32mreturn\u001b[0m\u001b[0;34m\u001b[0m\u001b[0;34m\u001b[0m\u001b[0m\n\u001b[1;32m     11\u001b[0m         \u001b[0;32mif\u001b[0m \u001b[0;32mnot\u001b[0m \u001b[0mself\u001b[0m\u001b[0;34m.\u001b[0m\u001b[0mpoint_on_curve\u001b[0m\u001b[0;34m(\u001b[0m\u001b[0;34m)\u001b[0m\u001b[0;34m:\u001b[0m\u001b[0;34m\u001b[0m\u001b[0;34m\u001b[0m\u001b[0m\n\u001b[0;32m---> 12\u001b[0;31m             \u001b[0;32mraise\u001b[0m \u001b[0mValueError\u001b[0m\u001b[0;34m(\u001b[0m\u001b[0;34mf\"Point ({x},{y}) not on curve y^2 = x^3 + {a}x + {b}\"\u001b[0m\u001b[0;34m)\u001b[0m\u001b[0;34m\u001b[0m\u001b[0;34m\u001b[0m\u001b[0m\n\u001b[0m\u001b[1;32m     13\u001b[0m \u001b[0;34m\u001b[0m\u001b[0m\n\u001b[1;32m     14\u001b[0m     \u001b[0;32mdef\u001b[0m \u001b[0mpoint_on_curve\u001b[0m\u001b[0;34m(\u001b[0m\u001b[0mself\u001b[0m\u001b[0;34m)\u001b[0m\u001b[0;34m:\u001b[0m\u001b[0;34m\u001b[0m\u001b[0;34m\u001b[0m\u001b[0m\n",
            "\u001b[0;31mValueError\u001b[0m: Point (3,0) not on curve y^2 = x^3 + 5x + 7"
          ]
        }
      ],
      "source": [
        "print(Point(3, 0, 5, 7))"
      ]
    },
    {
      "cell_type": "markdown",
      "id": "550082de-6544-4c6a-a9f0-fcdcb5f72495",
      "metadata": {
        "id": "550082de-6544-4c6a-a9f0-fcdcb5f72495"
      },
      "source": [
        "### 7. Point Addition (10 Points)\n",
        "\n",
        "Implement the `__add__` method for the Point class to overload the addition operator."
      ]
    },
    {
      "cell_type": "code",
      "execution_count": 66,
      "id": "7c4c49fb-5bc3-4ab7-bc56-37be1dc8ed9c",
      "metadata": {
        "id": "7c4c49fb-5bc3-4ab7-bc56-37be1dc8ed9c"
      },
      "outputs": [],
      "source": [
        "def __add__(self, other):\n",
        "    if self.a != other.a or self.b != other.b:\n",
        "        raise TypeError(\"Points on different curves\")\n",
        "    if self.x is None:\n",
        "        return other\n",
        "    if other.x is None:\n",
        "        return self\n",
        "    if self.x == other.x and self.y != other.y:\n",
        "        return Point(None, None, self.a, self.b, self.x.prime if self.x else other.x.prime)\n",
        "    if self != other:\n",
        "\n",
        "        s = (other.y - self.y) / (other.x - self.x)\n",
        "        x = s * s - self.x - other.x\n",
        "        y = s * (self.x - x) - self.y\n",
        "        return Point(x, y, self.a, self.b, self.x.prime)\n",
        "    if self.y.num == 0:\n",
        "        return Point(None, None, self.a, self.b, self.x.prime)\n",
        "\n",
        "    s = (self.x * self.x * FieldElement(3, self.x.prime) + self.a) / (self.y * FieldElement(2, self.y.prime))\n",
        "    x = s * s - self.x * FieldElement(2, self.x.prime)\n",
        "    y = s * (self.x - x) - self.y\n",
        "    return Point(x, y, self.a, self.b, self.x.prime)\n",
        "\n",
        "Point.__add__ = __add__"
      ]
    },
    {
      "cell_type": "markdown",
      "id": "17e27d45-447d-47d6-ba0b-c8647de19251",
      "metadata": {
        "id": "17e27d45-447d-47d6-ba0b-c8647de19251"
      },
      "source": [
        "#### Testcases\n",
        "\n",
        "#### a.\n",
        "\n",
        "In $F_{223}$ on the elliptic curve secp256k1, what is the sum of the points:\n",
        "1. $A=(192,105)$ and $B=(17,56)$?\n",
        "2. $A=(192,105)$ and $B=(192,105)$?\n",
        "3. $A=(143,98)$ and $B=(76, 66)$?\n",
        "\n",
        "Write code below that prints the outputs of the respective elliptic curve point addtions."
      ]
    },
    {
      "cell_type": "code",
      "execution_count": 67,
      "id": "694c21b5-d25d-4f78-83f2-d59e3e7509d7",
      "metadata": {
        "id": "694c21b5-d25d-4f78-83f2-d59e3e7509d7"
      },
      "outputs": [],
      "source": [
        "# Test cases\n",
        "prime = 223\n",
        "a = FieldElement(0, prime)\n",
        "b = FieldElement(7, prime)\n"
      ]
    },
    {
      "cell_type": "code",
      "execution_count": 68,
      "id": "f4879807",
      "metadata": {
        "colab": {
          "base_uri": "https://localhost:8080/",
          "height": 0
        },
        "id": "f4879807",
        "outputId": "95ad7788-7c54-4109-974e-479d37c8baa7"
      },
      "outputs": [
        {
          "output_type": "stream",
          "name": "stdout",
          "text": [
            "<__main__.Point object at 0x78f99478ee90>\n"
          ]
        }
      ],
      "source": [
        "\n",
        "#1\n",
        "p1 = Point(FieldElement(192, prime), FieldElement(105, prime), a, b)\n",
        "p2 = Point(FieldElement(17, prime), FieldElement(56, prime), a, b)\n",
        "print(p1 + p2)\n"
      ]
    },
    {
      "cell_type": "code",
      "execution_count": 69,
      "id": "90130008",
      "metadata": {
        "colab": {
          "base_uri": "https://localhost:8080/",
          "height": 0
        },
        "id": "90130008",
        "outputId": "eaf551ed-c8ba-4f6e-f050-81e76dd1d792"
      },
      "outputs": [
        {
          "output_type": "stream",
          "name": "stdout",
          "text": [
            "<__main__.Point object at 0x78f99478f0d0>\n"
          ]
        }
      ],
      "source": [
        "#2\n",
        "p3 = Point(FieldElement(192, prime), FieldElement(105, prime), a, b)\n",
        "print(p3 + p3)\n"
      ]
    },
    {
      "cell_type": "code",
      "execution_count": 70,
      "id": "63c2d0a6",
      "metadata": {
        "colab": {
          "base_uri": "https://localhost:8080/",
          "height": 0
        },
        "id": "63c2d0a6",
        "outputId": "7b64a2c2-3f9d-4fea-986d-d95047f6fa7d"
      },
      "outputs": [
        {
          "output_type": "stream",
          "name": "stdout",
          "text": [
            "<__main__.Point object at 0x78f9ac18cb50>\n"
          ]
        }
      ],
      "source": [
        "#3\n",
        "p4 = Point(FieldElement(143, prime), FieldElement(98, prime), a, b)\n",
        "p5 = Point(FieldElement(76, prime), FieldElement(66, prime), a, b)\n",
        "print(p4 + p5)\n",
        "\n"
      ]
    },
    {
      "cell_type": "code",
      "execution_count": 71,
      "id": "6dd61cbf",
      "metadata": {
        "colab": {
          "base_uri": "https://localhost:8080/",
          "height": 297
        },
        "id": "6dd61cbf",
        "outputId": "acbeda57-3583-44e7-cf15-16a152094b09"
      },
      "outputs": [
        {
          "output_type": "error",
          "ename": "AttributeError",
          "evalue": "'int' object has no attribute 'prime'",
          "traceback": [
            "\u001b[0;31m---------------------------------------------------------------------------\u001b[0m",
            "\u001b[0;31mAttributeError\u001b[0m                            Traceback (most recent call last)",
            "\u001b[0;32m<ipython-input-71-b70684f24fc6>\u001b[0m in \u001b[0;36m<cell line: 0>\u001b[0;34m()\u001b[0m\n\u001b[1;32m      1\u001b[0m \u001b[0mp6\u001b[0m \u001b[0;34m=\u001b[0m \u001b[0mPoint\u001b[0m\u001b[0;34m(\u001b[0m\u001b[0;34m-\u001b[0m\u001b[0;36m1\u001b[0m\u001b[0;34m,\u001b[0m \u001b[0;34m-\u001b[0m\u001b[0;36m1\u001b[0m\u001b[0;34m,\u001b[0m \u001b[0;36m5\u001b[0m\u001b[0;34m,\u001b[0m \u001b[0;36m7\u001b[0m\u001b[0;34m)\u001b[0m\u001b[0;34m\u001b[0m\u001b[0;34m\u001b[0m\u001b[0m\n\u001b[1;32m      2\u001b[0m \u001b[0mp7\u001b[0m \u001b[0;34m=\u001b[0m \u001b[0mPoint\u001b[0m\u001b[0;34m(\u001b[0m\u001b[0;34m-\u001b[0m\u001b[0;36m1\u001b[0m\u001b[0;34m,\u001b[0m \u001b[0;36m1\u001b[0m\u001b[0;34m,\u001b[0m \u001b[0;36m5\u001b[0m\u001b[0;34m,\u001b[0m \u001b[0;36m7\u001b[0m\u001b[0;34m)\u001b[0m\u001b[0;34m\u001b[0m\u001b[0;34m\u001b[0m\u001b[0m\n\u001b[0;32m----> 3\u001b[0;31m \u001b[0mprint\u001b[0m\u001b[0;34m(\u001b[0m\u001b[0mp6\u001b[0m \u001b[0;34m+\u001b[0m \u001b[0mp7\u001b[0m\u001b[0;34m)\u001b[0m\u001b[0;34m\u001b[0m\u001b[0;34m\u001b[0m\u001b[0m\n\u001b[0m",
            "\u001b[0;32m<ipython-input-66-3d98aff4dbcf>\u001b[0m in \u001b[0;36m__add__\u001b[0;34m(self, other)\u001b[0m\n\u001b[1;32m      7\u001b[0m         \u001b[0;32mreturn\u001b[0m \u001b[0mself\u001b[0m\u001b[0;34m\u001b[0m\u001b[0;34m\u001b[0m\u001b[0m\n\u001b[1;32m      8\u001b[0m     \u001b[0;32mif\u001b[0m \u001b[0mself\u001b[0m\u001b[0;34m.\u001b[0m\u001b[0mx\u001b[0m \u001b[0;34m==\u001b[0m \u001b[0mother\u001b[0m\u001b[0;34m.\u001b[0m\u001b[0mx\u001b[0m \u001b[0;32mand\u001b[0m \u001b[0mself\u001b[0m\u001b[0;34m.\u001b[0m\u001b[0my\u001b[0m \u001b[0;34m!=\u001b[0m \u001b[0mother\u001b[0m\u001b[0;34m.\u001b[0m\u001b[0my\u001b[0m\u001b[0;34m:\u001b[0m\u001b[0;34m\u001b[0m\u001b[0;34m\u001b[0m\u001b[0m\n\u001b[0;32m----> 9\u001b[0;31m         \u001b[0;32mreturn\u001b[0m \u001b[0mPoint\u001b[0m\u001b[0;34m(\u001b[0m\u001b[0;32mNone\u001b[0m\u001b[0;34m,\u001b[0m \u001b[0;32mNone\u001b[0m\u001b[0;34m,\u001b[0m \u001b[0mself\u001b[0m\u001b[0;34m.\u001b[0m\u001b[0ma\u001b[0m\u001b[0;34m,\u001b[0m \u001b[0mself\u001b[0m\u001b[0;34m.\u001b[0m\u001b[0mb\u001b[0m\u001b[0;34m,\u001b[0m \u001b[0mself\u001b[0m\u001b[0;34m.\u001b[0m\u001b[0mx\u001b[0m\u001b[0;34m.\u001b[0m\u001b[0mprime\u001b[0m \u001b[0;32mif\u001b[0m \u001b[0mself\u001b[0m\u001b[0;34m.\u001b[0m\u001b[0mx\u001b[0m \u001b[0;32melse\u001b[0m \u001b[0mother\u001b[0m\u001b[0;34m.\u001b[0m\u001b[0mx\u001b[0m\u001b[0;34m.\u001b[0m\u001b[0mprime\u001b[0m\u001b[0;34m)\u001b[0m\u001b[0;34m\u001b[0m\u001b[0;34m\u001b[0m\u001b[0m\n\u001b[0m\u001b[1;32m     10\u001b[0m     \u001b[0;32mif\u001b[0m \u001b[0mself\u001b[0m \u001b[0;34m!=\u001b[0m \u001b[0mother\u001b[0m\u001b[0;34m:\u001b[0m\u001b[0;34m\u001b[0m\u001b[0;34m\u001b[0m\u001b[0m\n\u001b[1;32m     11\u001b[0m         \u001b[0;31m# Use FieldElement arithmetic for slope calculation\u001b[0m\u001b[0;34m\u001b[0m\u001b[0;34m\u001b[0m\u001b[0m\n",
            "\u001b[0;31mAttributeError\u001b[0m: 'int' object has no attribute 'prime'"
          ]
        }
      ],
      "source": [
        "p6 = Point(-1, -1, 5, 7)\n",
        "p7 = Point(-1, 1, 5, 7)\n",
        "print(p6 + p7)"
      ]
    },
    {
      "cell_type": "code",
      "execution_count": 72,
      "id": "61534db5",
      "metadata": {
        "colab": {
          "base_uri": "https://localhost:8080/",
          "height": 297
        },
        "id": "61534db5",
        "outputId": "f23b4db1-c409-44d4-c1fb-da634e4a88a7"
      },
      "outputs": [
        {
          "output_type": "error",
          "ename": "AttributeError",
          "evalue": "'int' object has no attribute 'prime'",
          "traceback": [
            "\u001b[0;31m---------------------------------------------------------------------------\u001b[0m",
            "\u001b[0;31mAttributeError\u001b[0m                            Traceback (most recent call last)",
            "\u001b[0;32m<ipython-input-72-d39e5561c076>\u001b[0m in \u001b[0;36m<cell line: 0>\u001b[0;34m()\u001b[0m\n\u001b[1;32m      1\u001b[0m \u001b[0mp6\u001b[0m \u001b[0;34m=\u001b[0m \u001b[0mPoint\u001b[0m\u001b[0;34m(\u001b[0m\u001b[0;34m-\u001b[0m\u001b[0;36m1\u001b[0m\u001b[0;34m,\u001b[0m \u001b[0;34m-\u001b[0m\u001b[0;36m1\u001b[0m\u001b[0;34m,\u001b[0m \u001b[0;36m5\u001b[0m\u001b[0;34m,\u001b[0m \u001b[0;36m7\u001b[0m\u001b[0;34m)\u001b[0m\u001b[0;34m\u001b[0m\u001b[0;34m\u001b[0m\u001b[0m\n\u001b[1;32m      2\u001b[0m \u001b[0mp7\u001b[0m \u001b[0;34m=\u001b[0m \u001b[0mPoint\u001b[0m\u001b[0;34m(\u001b[0m\u001b[0;34m-\u001b[0m\u001b[0;36m1\u001b[0m\u001b[0;34m,\u001b[0m \u001b[0;36m1\u001b[0m\u001b[0;34m,\u001b[0m \u001b[0;36m5\u001b[0m\u001b[0;34m,\u001b[0m \u001b[0;36m7\u001b[0m\u001b[0;34m)\u001b[0m\u001b[0;34m\u001b[0m\u001b[0;34m\u001b[0m\u001b[0m\n\u001b[0;32m----> 3\u001b[0;31m \u001b[0mprint\u001b[0m\u001b[0;34m(\u001b[0m\u001b[0mp6\u001b[0m \u001b[0;34m+\u001b[0m \u001b[0mp7\u001b[0m\u001b[0;34m)\u001b[0m  \u001b[0;31m# Point(infinity)\u001b[0m\u001b[0;34m\u001b[0m\u001b[0;34m\u001b[0m\u001b[0m\n\u001b[0m",
            "\u001b[0;32m<ipython-input-66-3d98aff4dbcf>\u001b[0m in \u001b[0;36m__add__\u001b[0;34m(self, other)\u001b[0m\n\u001b[1;32m      7\u001b[0m         \u001b[0;32mreturn\u001b[0m \u001b[0mself\u001b[0m\u001b[0;34m\u001b[0m\u001b[0;34m\u001b[0m\u001b[0m\n\u001b[1;32m      8\u001b[0m     \u001b[0;32mif\u001b[0m \u001b[0mself\u001b[0m\u001b[0;34m.\u001b[0m\u001b[0mx\u001b[0m \u001b[0;34m==\u001b[0m \u001b[0mother\u001b[0m\u001b[0;34m.\u001b[0m\u001b[0mx\u001b[0m \u001b[0;32mand\u001b[0m \u001b[0mself\u001b[0m\u001b[0;34m.\u001b[0m\u001b[0my\u001b[0m \u001b[0;34m!=\u001b[0m \u001b[0mother\u001b[0m\u001b[0;34m.\u001b[0m\u001b[0my\u001b[0m\u001b[0;34m:\u001b[0m\u001b[0;34m\u001b[0m\u001b[0;34m\u001b[0m\u001b[0m\n\u001b[0;32m----> 9\u001b[0;31m         \u001b[0;32mreturn\u001b[0m \u001b[0mPoint\u001b[0m\u001b[0;34m(\u001b[0m\u001b[0;32mNone\u001b[0m\u001b[0;34m,\u001b[0m \u001b[0;32mNone\u001b[0m\u001b[0;34m,\u001b[0m \u001b[0mself\u001b[0m\u001b[0;34m.\u001b[0m\u001b[0ma\u001b[0m\u001b[0;34m,\u001b[0m \u001b[0mself\u001b[0m\u001b[0;34m.\u001b[0m\u001b[0mb\u001b[0m\u001b[0;34m,\u001b[0m \u001b[0mself\u001b[0m\u001b[0;34m.\u001b[0m\u001b[0mx\u001b[0m\u001b[0;34m.\u001b[0m\u001b[0mprime\u001b[0m \u001b[0;32mif\u001b[0m \u001b[0mself\u001b[0m\u001b[0;34m.\u001b[0m\u001b[0mx\u001b[0m \u001b[0;32melse\u001b[0m \u001b[0mother\u001b[0m\u001b[0;34m.\u001b[0m\u001b[0mx\u001b[0m\u001b[0;34m.\u001b[0m\u001b[0mprime\u001b[0m\u001b[0;34m)\u001b[0m\u001b[0;34m\u001b[0m\u001b[0;34m\u001b[0m\u001b[0m\n\u001b[0m\u001b[1;32m     10\u001b[0m     \u001b[0;32mif\u001b[0m \u001b[0mself\u001b[0m \u001b[0;34m!=\u001b[0m \u001b[0mother\u001b[0m\u001b[0;34m:\u001b[0m\u001b[0;34m\u001b[0m\u001b[0;34m\u001b[0m\u001b[0m\n\u001b[1;32m     11\u001b[0m         \u001b[0;31m# Use FieldElement arithmetic for slope calculation\u001b[0m\u001b[0;34m\u001b[0m\u001b[0;34m\u001b[0m\u001b[0m\n",
            "\u001b[0;31mAttributeError\u001b[0m: 'int' object has no attribute 'prime'"
          ]
        }
      ],
      "source": [
        "p6 = Point(-1, -1, 5, 7)\n",
        "p7 = Point(-1, 1, 5, 7)\n",
        "print(p6 + p7)\n"
      ]
    },
    {
      "cell_type": "code",
      "execution_count": 73,
      "id": "4fd4ef6b",
      "metadata": {
        "colab": {
          "base_uri": "https://localhost:8080/",
          "height": 297
        },
        "id": "4fd4ef6b",
        "outputId": "8d5b0a28-862a-4e4d-d98f-4d572bffa32d"
      },
      "outputs": [
        {
          "output_type": "error",
          "ename": "AttributeError",
          "evalue": "'int' object has no attribute 'prime'",
          "traceback": [
            "\u001b[0;31m---------------------------------------------------------------------------\u001b[0m",
            "\u001b[0;31mAttributeError\u001b[0m                            Traceback (most recent call last)",
            "\u001b[0;32m<ipython-input-73-3d50a2569d59>\u001b[0m in \u001b[0;36m<cell line: 0>\u001b[0;34m()\u001b[0m\n\u001b[1;32m      1\u001b[0m \u001b[0mp8\u001b[0m \u001b[0;34m=\u001b[0m \u001b[0mPoint\u001b[0m\u001b[0;34m(\u001b[0m\u001b[0;34m-\u001b[0m\u001b[0;36m1\u001b[0m\u001b[0;34m,\u001b[0m \u001b[0;34m-\u001b[0m\u001b[0;36m1\u001b[0m\u001b[0;34m,\u001b[0m \u001b[0;36m5\u001b[0m\u001b[0;34m,\u001b[0m \u001b[0;36m7\u001b[0m\u001b[0;34m)\u001b[0m\u001b[0;34m\u001b[0m\u001b[0;34m\u001b[0m\u001b[0m\n\u001b[1;32m      2\u001b[0m \u001b[0mp9\u001b[0m \u001b[0;34m=\u001b[0m \u001b[0mPoint\u001b[0m\u001b[0;34m(\u001b[0m\u001b[0;36m2\u001b[0m\u001b[0;34m,\u001b[0m \u001b[0;36m5\u001b[0m\u001b[0;34m,\u001b[0m \u001b[0;36m5\u001b[0m\u001b[0;34m,\u001b[0m \u001b[0;36m7\u001b[0m\u001b[0;34m)\u001b[0m\u001b[0;34m\u001b[0m\u001b[0;34m\u001b[0m\u001b[0m\n\u001b[0;32m----> 3\u001b[0;31m \u001b[0mprint\u001b[0m\u001b[0;34m(\u001b[0m\u001b[0mp8\u001b[0m \u001b[0;34m+\u001b[0m \u001b[0mp9\u001b[0m\u001b[0;34m)\u001b[0m  \u001b[0;31m# Point(18,-7)\u001b[0m\u001b[0;34m\u001b[0m\u001b[0;34m\u001b[0m\u001b[0m\n\u001b[0m",
            "\u001b[0;32m<ipython-input-66-3d98aff4dbcf>\u001b[0m in \u001b[0;36m__add__\u001b[0;34m(self, other)\u001b[0m\n\u001b[1;32m     13\u001b[0m         \u001b[0mx\u001b[0m \u001b[0;34m=\u001b[0m \u001b[0ms\u001b[0m \u001b[0;34m*\u001b[0m \u001b[0ms\u001b[0m \u001b[0;34m-\u001b[0m \u001b[0mself\u001b[0m\u001b[0;34m.\u001b[0m\u001b[0mx\u001b[0m \u001b[0;34m-\u001b[0m \u001b[0mother\u001b[0m\u001b[0;34m.\u001b[0m\u001b[0mx\u001b[0m\u001b[0;34m\u001b[0m\u001b[0;34m\u001b[0m\u001b[0m\n\u001b[1;32m     14\u001b[0m         \u001b[0my\u001b[0m \u001b[0;34m=\u001b[0m \u001b[0ms\u001b[0m \u001b[0;34m*\u001b[0m \u001b[0;34m(\u001b[0m\u001b[0mself\u001b[0m\u001b[0;34m.\u001b[0m\u001b[0mx\u001b[0m \u001b[0;34m-\u001b[0m \u001b[0mx\u001b[0m\u001b[0;34m)\u001b[0m \u001b[0;34m-\u001b[0m \u001b[0mself\u001b[0m\u001b[0;34m.\u001b[0m\u001b[0my\u001b[0m\u001b[0;34m\u001b[0m\u001b[0;34m\u001b[0m\u001b[0m\n\u001b[0;32m---> 15\u001b[0;31m         \u001b[0;32mreturn\u001b[0m \u001b[0mPoint\u001b[0m\u001b[0;34m(\u001b[0m\u001b[0mx\u001b[0m\u001b[0;34m,\u001b[0m \u001b[0my\u001b[0m\u001b[0;34m,\u001b[0m \u001b[0mself\u001b[0m\u001b[0;34m.\u001b[0m\u001b[0ma\u001b[0m\u001b[0;34m,\u001b[0m \u001b[0mself\u001b[0m\u001b[0;34m.\u001b[0m\u001b[0mb\u001b[0m\u001b[0;34m,\u001b[0m \u001b[0mself\u001b[0m\u001b[0;34m.\u001b[0m\u001b[0mx\u001b[0m\u001b[0;34m.\u001b[0m\u001b[0mprime\u001b[0m\u001b[0;34m)\u001b[0m\u001b[0;34m\u001b[0m\u001b[0;34m\u001b[0m\u001b[0m\n\u001b[0m\u001b[1;32m     16\u001b[0m     \u001b[0;32mif\u001b[0m \u001b[0mself\u001b[0m\u001b[0;34m.\u001b[0m\u001b[0my\u001b[0m\u001b[0;34m.\u001b[0m\u001b[0mnum\u001b[0m \u001b[0;34m==\u001b[0m \u001b[0;36m0\u001b[0m\u001b[0;34m:\u001b[0m  \u001b[0;31m# Check if y is zero in the field\u001b[0m\u001b[0;34m\u001b[0m\u001b[0;34m\u001b[0m\u001b[0m\n\u001b[1;32m     17\u001b[0m         \u001b[0;32mreturn\u001b[0m \u001b[0mPoint\u001b[0m\u001b[0;34m(\u001b[0m\u001b[0;32mNone\u001b[0m\u001b[0;34m,\u001b[0m \u001b[0;32mNone\u001b[0m\u001b[0;34m,\u001b[0m \u001b[0mself\u001b[0m\u001b[0;34m.\u001b[0m\u001b[0ma\u001b[0m\u001b[0;34m,\u001b[0m \u001b[0mself\u001b[0m\u001b[0;34m.\u001b[0m\u001b[0mb\u001b[0m\u001b[0;34m,\u001b[0m \u001b[0mself\u001b[0m\u001b[0;34m.\u001b[0m\u001b[0mx\u001b[0m\u001b[0;34m.\u001b[0m\u001b[0mprime\u001b[0m\u001b[0;34m)\u001b[0m\u001b[0;34m\u001b[0m\u001b[0;34m\u001b[0m\u001b[0m\n",
            "\u001b[0;31mAttributeError\u001b[0m: 'int' object has no attribute 'prime'"
          ]
        }
      ],
      "source": [
        "\n",
        "p8 = Point(-1, -1, 5, 7)\n",
        "p9 = Point(2, 5, 5, 7)\n",
        "print(p8 + p9)"
      ]
    },
    {
      "cell_type": "markdown",
      "id": "118c1ed8-a038-4671-ab71-c0d1e73bc3b6",
      "metadata": {
        "id": "118c1ed8-a038-4671-ab71-c0d1e73bc3b6"
      },
      "source": [
        "#### b.\n",
        "In the elliptic curve $y^2 = x^3 + 5x + 7$, What is the sum of the points:\n",
        "1. $A=(-1,-1)$ and $B=(-1,1)$?\n",
        "2. $A=(-1,-1)$ and $B=(2,5)$?\n",
        "\n",
        "Write code below that prints the outputs of the respective elliptic curve point addtions."
      ]
    },
    {
      "cell_type": "code",
      "execution_count": 74,
      "id": "b208e076-c66c-4140-a6d2-54835ace833b",
      "metadata": {
        "colab": {
          "base_uri": "https://localhost:8080/",
          "height": 0
        },
        "id": "b208e076-c66c-4140-a6d2-54835ace833b",
        "outputId": "7427cb96-cb7f-4dc4-9a32-bebb3f4ce8f1"
      },
      "outputs": [
        {
          "output_type": "stream",
          "name": "stdout",
          "text": [
            "<__main__.Point object at 0x78f9ac16d4d0>\n",
            "<__main__.Point object at 0x78f994756b10>\n"
          ]
        }
      ],
      "source": [
        "# YOUR CODE HERE\n",
        "prime = 31\n",
        "a = FieldElement(5, prime)\n",
        "b = FieldElement(7, prime)\n",
        "p1 = Point(FieldElement(30, prime), FieldElement(30, prime), a, b)\n",
        "p2 = Point(FieldElement(30, prime), FieldElement(1, prime), a, b)\n",
        "print(p1 + p2)\n",
        "p3 = Point(FieldElement(2, prime), FieldElement(5, prime), a, b)\n",
        "print(p1 + p3)"
      ]
    },
    {
      "cell_type": "markdown",
      "id": "c0b87c83-2b10-445f-9349-346b24306673",
      "metadata": {
        "id": "c0b87c83-2b10-445f-9349-346b24306673"
      },
      "source": [
        "### 8. Point Addition: Associativity (10 Points)\n",
        "\n",
        "Let `A = (x1, y1)`, `B = (x2, y2)` and `C = (x3, y3)` be three points in finite field. Using these points, demonstrate that point addition is associative.\n",
        "Print `True` if point addition is associative. Otherwise, print `False`."
      ]
    },
    {
      "cell_type": "code",
      "execution_count": 75,
      "id": "b0cda85d-8c2b-44cb-92c2-5900536aad42",
      "metadata": {
        "id": "b0cda85d-8c2b-44cb-92c2-5900536aad42"
      },
      "outputs": [],
      "source": [
        "def check_associativity(A, B, C):\n",
        "    left = (A + B) + C\n",
        "    right = A + (B + C)\n",
        "    return left == right\n"
      ]
    },
    {
      "cell_type": "markdown",
      "id": "4cec9437-9ef9-413b-97ee-bd6d64edfd0c",
      "metadata": {
        "id": "4cec9437-9ef9-413b-97ee-bd6d64edfd0c"
      },
      "source": [
        "#### Testcases\n",
        "\n",
        "Check the associativity for the following:\n",
        "\n",
        "1. In $F_{223}$ on the elliptic curve secp256k1, for the points $A=(192, 105)$, $B=(76, 157)$ and $C=(170, 142)$.\n",
        "2. In $F_{223}$ on the elliptic curve secp256k1, for the points $A=(192, 105)$, $B=(76, 157)$ and $C=(76, 66)$.\n",
        "3. In $F_{19}$ on the elliptic curve $y^2 = x^3 + 5x + 7$, for the points $A=(18, 18)$, $B=(18, 1)$ and $C=(2, 5)$."
      ]
    },
    {
      "cell_type": "code",
      "execution_count": 76,
      "id": "ded6ad2b-7342-4f15-8694-b898a67c6a6e",
      "metadata": {
        "colab": {
          "base_uri": "https://localhost:8080/",
          "height": 0
        },
        "id": "ded6ad2b-7342-4f15-8694-b898a67c6a6e",
        "outputId": "61f5976a-65a4-4389-d9a6-7de979c77c59"
      },
      "outputs": [
        {
          "output_type": "stream",
          "name": "stdout",
          "text": [
            "True\n",
            "True\n",
            "True\n"
          ]
        }
      ],
      "source": [
        "# Test cases\n",
        "prime = 223\n",
        "a = FieldElement(0, prime)\n",
        "b = FieldElement(7, prime)\n",
        "\n",
        "A1 = Point(FieldElement(192, prime), FieldElement(105, prime), a, b)\n",
        "B1 = Point(FieldElement(76, prime), FieldElement(157, prime), a, b)\n",
        "C1 = Point(FieldElement(170, prime), FieldElement(142, prime), a, b)\n",
        "print(check_associativity(A1, B1, C1))\n",
        "\n",
        "A2 = Point(FieldElement(192, prime), FieldElement(105, prime), a, b)\n",
        "B2 = Point(FieldElement(76, prime), FieldElement(157, prime), a, b)\n",
        "C2 = Point(FieldElement(76, prime), FieldElement(66, prime), a, b)\n",
        "print(check_associativity(A2, B2, C2))\n",
        "\n",
        "prime = 19\n",
        "a = FieldElement(5, prime)\n",
        "b = FieldElement(7, prime)\n",
        "A3 = Point(FieldElement(18, prime), FieldElement(18, prime), a, b)\n",
        "B3 = Point(FieldElement(18, prime), FieldElement(1, prime), a, b)\n",
        "C3 = Point(FieldElement(2, prime), FieldElement(5, prime), a, b)\n",
        "print(check_associativity(A3, B3, C3))"
      ]
    },
    {
      "cell_type": "markdown",
      "id": "0e1840c1-d130-4de4-a568-7c90c87f1b51",
      "metadata": {
        "id": "0e1840c1-d130-4de4-a568-7c90c87f1b51"
      },
      "source": [
        "### 9. Scalar Multiplication: Point (10 Points)\n",
        "\n",
        "Define the `__rmul__` method in the Point class to implement scalar multiplication.\n"
      ]
    },
    {
      "cell_type": "code",
      "execution_count": 78,
      "id": "026c9a1d-55d3-4a01-9bb5-8b73e98415fb",
      "metadata": {
        "id": "026c9a1d-55d3-4a01-9bb5-8b73e98415fb"
      },
      "outputs": [],
      "source": [
        "def __rmul__(self, k):\n",
        "    result = Point(None, None, self.a, self.b)\n",
        "    current = self\n",
        "    while k > 0:\n",
        "        if k & 1:\n",
        "            result = result + current\n",
        "        current = current + current\n",
        "        k >>= 1\n",
        "    return result\n",
        "\n",
        "Point.__rmul__ = __rmul__"
      ]
    },
    {
      "cell_type": "markdown",
      "id": "cf34c63f-b98c-491c-90f2-6299f65ce7aa",
      "metadata": {
        "id": "cf34c63f-b98c-491c-90f2-6299f65ce7aa"
      },
      "source": [
        "#### Testcases\n",
        "\n",
        "In $F_{223}$ on the elliptic curve secp256k1, compute and print the following for the point A:\n",
        "\n",
        "**a.)** $7 \\cdot A$ where $A = (173, 35)$\n",
        "\n",
        "**b.)** $8 \\cdot A$ where $A = (66, 111)$"
      ]
    },
    {
      "cell_type": "code",
      "execution_count": 79,
      "id": "ccb5fc29-ca06-4437-8983-f7aa04382198",
      "metadata": {
        "colab": {
          "base_uri": "https://localhost:8080/",
          "height": 0
        },
        "id": "ccb5fc29-ca06-4437-8983-f7aa04382198",
        "outputId": "8a993dec-2421-4bc8-ed26-10494f3590ed"
      },
      "outputs": [
        {
          "output_type": "stream",
          "name": "stdout",
          "text": [
            "<__main__.Point object at 0x78f9947a8c50>\n",
            "<__main__.Point object at 0x78f9947a8bd0>\n"
          ]
        }
      ],
      "source": [
        "prime = 223\n",
        "a = FieldElement(0, prime)\n",
        "b = FieldElement(7, prime)\n",
        "\n",
        "A1 = Point(FieldElement(173, prime), FieldElement(35, prime), a, b)\n",
        "print(7 * A1)\n",
        "\n",
        "A2 = Point(FieldElement(66, prime), FieldElement(111, prime), a, b)\n",
        "print(8 * A2)"
      ]
    },
    {
      "cell_type": "markdown",
      "id": "9932d0f7-88f9-4f89-86eb-1bc7451254ef",
      "metadata": {
        "id": "9932d0f7-88f9-4f89-86eb-1bc7451254ef"
      },
      "source": [
        "### 10. Invertibility (10 Points)\n",
        "\n",
        "Write a function `additive_inverse` that returns the additive inverse of a given point."
      ]
    },
    {
      "cell_type": "code",
      "execution_count": 80,
      "id": "6f5af1a0-3086-4e61-8779-445212a38e80",
      "metadata": {
        "id": "6f5af1a0-3086-4e61-8779-445212a38e80"
      },
      "outputs": [],
      "source": [
        "def additive_inverse(A):\n",
        "    if A.x is None and A.y is None:\n",
        "        return A\n",
        "    prime = A.x.prime\n",
        "    inverse_y = FieldElement((prime - A.y.num) % prime, prime)\n",
        "    return Point(A.x, inverse_y, A.a, A.b)"
      ]
    },
    {
      "cell_type": "markdown",
      "id": "d4f70ea4-7375-4ecc-9b08-29c48678b737",
      "metadata": {
        "id": "d4f70ea4-7375-4ecc-9b08-29c48678b737"
      },
      "source": [
        "#### Tescases\n",
        "\n",
        "Compute the additive inverse for the following points:\n",
        "\n",
        "1. $A = (66, 111)$ in $F_{223}$ on the elliptic curve secp256k1\n",
        "2. $A = (-1, -1)$ in $F_{31}$ on the elliptic curve $y^2 = x^3 + 5x + 7$\n",
        "\n",
        "Also, compute the sum of the point A with its additive inverse in each case.\n"
      ]
    },
    {
      "cell_type": "code",
      "execution_count": 81,
      "id": "2b447583-6668-4eac-ae4d-13b5e82c55cc",
      "metadata": {
        "colab": {
          "base_uri": "https://localhost:8080/",
          "height": 0
        },
        "id": "2b447583-6668-4eac-ae4d-13b5e82c55cc",
        "outputId": "21cf9dd3-84b3-4b5b-bd06-c5e86036eba3"
      },
      "outputs": [
        {
          "output_type": "stream",
          "name": "stdout",
          "text": [
            "<__main__.Point object at 0x78f9947ab610>\n",
            "<__main__.Point object at 0x78f9947ab8d0>\n",
            "<__main__.Point object at 0x78f9947ab890>\n",
            "<__main__.Point object at 0x78f9947aba90>\n"
          ]
        }
      ],
      "source": [
        "prime = 223\n",
        "a = FieldElement(0, prime)\n",
        "b = FieldElement(7, prime)\n",
        "A1 = Point(FieldElement(66, prime), FieldElement(111, prime), a, b)\n",
        "inv1 = additive_inverse(A1)\n",
        "print(inv1)\n",
        "print(A1 + inv1)\n",
        "\n",
        "prime = 31\n",
        "a = FieldElement(5, prime)\n",
        "b = FieldElement(7, prime)\n",
        "A2 = Point(FieldElement(-1 % prime, prime), FieldElement(-1 % prime, prime), a, b)\n",
        "inv2 = additive_inverse(A2)\n",
        "print(inv2)\n",
        "print(A2 + inv2)"
      ]
    },
    {
      "cell_type": "markdown",
      "id": "c3ef908a-e77a-41d0-917d-f41e6a3138b0",
      "metadata": {
        "id": "c3ef908a-e77a-41d0-917d-f41e6a3138b0"
      },
      "source": [
        "### 11. Discrete Logarithm Problem (15 Points)\n",
        "\n",
        "Given the two points G=(`Gx`, `Gy`) and P=(`Px`, `Py`) on the secp256k1 elliptic curve with coordinates over the finite field $F_{p}$ with $p$=`prime`, what is the a scalar $s$ such that $s G = P$? Write a function that computes this $s$.\n"
      ]
    },
    {
      "cell_type": "code",
      "execution_count": 82,
      "id": "fbc80cf7-3fa3-4a67-9cd4-832ff77629ef",
      "metadata": {
        "id": "fbc80cf7-3fa3-4a67-9cd4-832ff77629ef"
      },
      "outputs": [],
      "source": [
        "def GuessPrivateKey(P, G, prime):\n",
        "\n",
        "    current = Point(None, None, G.a, G.b)\n",
        "    for s in range(prime):\n",
        "        if current == P:\n",
        "            return s\n",
        "        current = current + G\n",
        "    return None"
      ]
    },
    {
      "cell_type": "markdown",
      "id": "0e8c1ec8-1e1b-40a1-9c30-768860c675ce",
      "metadata": {
        "id": "0e8c1ec8-1e1b-40a1-9c30-768860c675ce"
      },
      "source": [
        "**a.)** Compute and print the value of s for the following choices:\n",
        "\n",
        "`prime` $= 223$, $G = (154, 150)$ and $P = (47, 71)$."
      ]
    },
    {
      "cell_type": "code",
      "execution_count": 83,
      "id": "b2d4e43c-b4a4-48af-89d4-1b935cfa6527",
      "metadata": {
        "colab": {
          "base_uri": "https://localhost:8080/",
          "height": 0
        },
        "id": "b2d4e43c-b4a4-48af-89d4-1b935cfa6527",
        "outputId": "52bc1603-7613-4c90-b7c8-6cf1454c58ec"
      },
      "outputs": [
        {
          "output_type": "stream",
          "name": "stdout",
          "text": [
            "19\n"
          ]
        }
      ],
      "source": [
        "prime = 223\n",
        "a = FieldElement(0, prime)\n",
        "b = FieldElement(7, prime)\n",
        "G = Point(FieldElement(154, prime), FieldElement(150, prime), a, b)\n",
        "P = Point(FieldElement(47, prime), FieldElement(71, prime), a, b)\n",
        "print(GuessPrivateKey(P, G, prime))\n"
      ]
    },
    {
      "cell_type": "markdown",
      "id": "170a9e76-12db-4cf0-8e2f-1d2fd20d233f",
      "metadata": {
        "id": "170a9e76-12db-4cf0-8e2f-1d2fd20d233f"
      },
      "source": [
        "**b.)** We recall that the prime order used in th finite field of Bitcoin's secp256k1 elliptic curve is $p_{\\text{BTC}} := 2^{256} - 2^{32} - 977$, see, for example, [the corresponding section in Chapter 3 of \"Programming Bitcoin](https://github.com/jimmysong/programmingbitcoin/blob/master/ch03.asciidoc#defining-the-curve-for-bitcoin) or [this link](https://learnmeabitcoin.com/technical/cryptography/elliptic-curve/#parameters).\n",
        "\n",
        "Compute and print the value of s for the following choices:\n",
        "\n",
        "`prime` = $p_{\\text{BTC}}$\n",
        "\n",
        "`Gx` $= 0x754e3239f325570cdbbf4a87deee8a66b7f2b33479d468fbc1a50743bf56cc18$\n",
        "\n",
        "`Gy` $= 0x0673fb86e5bda30fb3cd0ed304ea49a023ee33d0197a695d0c5d98093c536683$\n",
        "\n",
        "`Px` $= 0x7e5c9db512f90042057f63659344a5dade96b7e2d8e7b0fdb66a1b87d7383004$\n",
        "\n",
        "`Py` $= 0x7ce053860ea1d5a4cddc7f0774d1d55ae05335a1ee229b3375bc0732cae1eeb1$\n"
      ]
    },
    {
      "cell_type": "code",
      "execution_count": 84,
      "id": "36678c0c",
      "metadata": {
        "colab": {
          "base_uri": "https://localhost:8080/",
          "height": 0
        },
        "id": "36678c0c",
        "outputId": "88024053-dc91-498e-91d7-ef184887ccc5"
      },
      "outputs": [
        {
          "output_type": "stream",
          "name": "stdout",
          "text": [
            "Too large to compute with brute force\n"
          ]
        }
      ],
      "source": [
        "p_btc = 2**256 - 2**32 - 977\n",
        "a = FieldElement(0, p_btc)\n",
        "b = FieldElement(7, p_btc)\n",
        "Gx = FieldElement(0x754e3239f325570cdbbf4a87deee8a66b7f2b33479d468fbc1a50743bf56cc18, p_btc)\n",
        "Gy = FieldElement(0x0673fb86e5bda30fb3cd0ed304ea49a023ee33d0197a695d0c5d98093c536683, p_btc)\n",
        "Px = FieldElement(0x7e5c9db512f90042057f63659344a5dade96b7e2d8e7b0fdb66a1b87d7383004, p_btc)\n",
        "Py = FieldElement(0x7ce053860ea1d5a4cddc7f0774d1d55ae05335a1ee229b3375bc0732cae1eeb1, p_btc)\n",
        "G = Point(Gx, Gy, a, b)\n",
        "P = Point(Px, Py, a, b)\n",
        "print(\"Too large to compute with brute force\")"
      ]
    },
    {
      "cell_type": "markdown",
      "id": "d4f0d508-0e1f-455a-b5ad-8bba11d3de7f",
      "metadata": {
        "id": "d4f0d508-0e1f-455a-b5ad-8bba11d3de7f"
      },
      "source": [
        "**c.)** Assume that the parameters are chosen as follows:\n",
        "\n",
        "`prime` = $p_{\\text{BTC}}$\n",
        "\n",
        "$G$ = Generator Point used in Bitcoin's ECDSA scheme\n",
        "\n",
        "`Px` $= 0x7e5c9db512f90042057f63659344a5dade96b7e2d8e7b0fdb66a1b87d7383004$\n",
        "\n",
        "`Py` $= 0x7ce053860ea1d5a4cddc7f0774d1d55ae05335a1ee229b3375bc0732cae1eeb1$\n",
        "\n",
        "\n",
        "**Note:** The Generator Point used in Bitcoin's ECDSA implementation is G = (`Gx`,`Gy`), where\n",
        "\n",
        "`Gx` $= 0x79be667ef9dcbbac55a06295ce870b07029bfcdb2dce28d959f2815b16f81798$\n",
        "\n",
        "`Gy` $= 0x483ada7726a3c4655da4fbfc0e1108a8fd17b448a68554199c47d08ffb10d4b8$\n",
        "\n",
        "Are you able to find $s$ for this choice of parameters? If yes, print it, if not, provide an estimate of how long it might take your computer to compute is and explain this estimate."
      ]
    },
    {
      "cell_type": "code",
      "execution_count": 85,
      "id": "710b4e8b-24d6-4fad-8ea5-a7aae6ff0393",
      "metadata": {
        "colab": {
          "base_uri": "https://localhost:8080/",
          "height": 0
        },
        "id": "710b4e8b-24d6-4fad-8ea5-a7aae6ff0393",
        "outputId": "279c1c1e-f143-47e3-e12f-faa9aed33952"
      },
      "outputs": [
        {
          "output_type": "stream",
          "name": "stdout",
          "text": [
            "Computationally infeasible\n"
          ]
        }
      ],
      "source": [
        "Gx = FieldElement(0x79be667ef9dcbbac55a06295ce870b07029bfcdb2dce28d959f2815b16f81798, p_btc)\n",
        "Gy = FieldElement(0x483ada7726a3c4655da4fbfc0e1108a8fd17b448a68554199c47d08ffb10d4b8, p_btc)\n",
        "G = Point(Gx, Gy, a, b)\n",
        "print(\"Computationally infeasible\")\n"
      ]
    },
    {
      "cell_type": "markdown",
      "id": "37482e25-b983-46cc-8dd1-248a695cf881",
      "metadata": {
        "id": "37482e25-b983-46cc-8dd1-248a695cf881"
      },
      "source": [
        "_Add your explanation here_"
      ]
    },
    {
      "cell_type": "markdown",
      "id": "1335b36e",
      "metadata": {
        "id": "1335b36e"
      },
      "source": [
        "For Bitcoin's secp256k1, the order is approximately 2^256. Brute forcing would take 2^256 operations. At 10^9 operations/second, this would take \\~10^68 seconds, or \\~3×10^60 years, far exceeding the age of the universe (~10^10 years)."
      ]
    }
  ],
  "metadata": {
    "kernelspec": {
      "display_name": ".venv",
      "language": "python",
      "name": "python3"
    },
    "language_info": {
      "codemirror_mode": {
        "name": "ipython",
        "version": 3
      },
      "file_extension": ".py",
      "mimetype": "text/x-python",
      "name": "python",
      "nbconvert_exporter": "python",
      "pygments_lexer": "ipython3",
      "version": "3.13.1"
    },
    "colab": {
      "provenance": []
    }
  },
  "nbformat": 4,
  "nbformat_minor": 5
}