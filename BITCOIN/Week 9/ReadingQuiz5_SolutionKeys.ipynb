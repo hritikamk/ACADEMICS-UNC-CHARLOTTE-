{
 "cells": [
  {
   "cell_type": "markdown",
   "id": "19d53131-b8bb-4fea-89cf-9dd5b92ed8c7",
   "metadata": {},
   "source": [
    "# Topics in Computer Science - Bitcoin: Programming the Future of Money - ITCS 4010 & 5010 - Spring 2025 - UNC Charlotte\n",
    "\n",
    "# Reading Quiz 5 - How to derive a P2PKH address from Private/Public Keys\n"
   ]
  },
  {
   "cell_type": "markdown",
   "id": "49504896",
   "metadata": {},
   "source": [
    "The following classes `FieldElement` and `Point` implement instances of elements of a finite field and of points on a elliptic curve, and their respective arithmetic operations. You might be familiar with them from the last homework assignment."
   ]
  },
  {
   "cell_type": "code",
   "execution_count": 1,
   "id": "d267e687-bbd7-4159-bad6-3e4a665b5e59",
   "metadata": {},
   "outputs": [],
   "source": [
    "class FieldElement:\n",
    "\n",
    "    def __init__(self, num, prime):\n",
    "        #check if 0 > num >= prime. Raise ValueError if num is out of range.\n",
    "        if num >= prime or num < 0:\n",
    "            error = 'Num {} not in field range 0 to {}'.format(num, prime - 1)\n",
    "            raise ValueError(error)\n",
    "        #Initialize num and prime\n",
    "        self.num = num\n",
    "        self.prime = prime\n",
    "\n",
    "    def __repr__(self):\n",
    "        return 'FieldElement_{}({})'.format(self.prime, self.num)\n",
    "\n",
    "    def __eq__(self, other):\n",
    "        if other is None:\n",
    "            return False\n",
    "        #Return True if the FieldElement objects are equal\n",
    "        return self.num == other.num and self.prime == other.prime\n",
    "\n",
    "    def __ne__(self, other):\n",
    "        # This should be the inverse of the == operator\n",
    "        return not (self == other)\n",
    "\n",
    "    def __add__(self, other):\n",
    "        # Two numbers have to be in same field, otherwise raise error\n",
    "        if self.prime != other.prime:\n",
    "            raise TypeError('Cannot add two numbers in different Fields')\n",
    "        #Perform addition of two finite field elements\n",
    "        num = (self.num + other.num) % self.prime\n",
    "        # Return an element of the same class\n",
    "        return self.__class__(num, self.prime)\n",
    "\n",
    "    def __sub__(self, other):\n",
    "        # Two numbers have to be in same field, otherwise raise error\n",
    "        if self.prime != other.prime:\n",
    "            raise TypeError('Cannot subtract two numbers in different Fields')\n",
    "        #Perform subtraction of two finite field elements\n",
    "        num = (self.num - other.num) % self.prime\n",
    "        return self.__class__(num, self.prime)\n",
    "\n",
    "    def __mul__(self, other):\n",
    "        # Two numbers have to be in same field, otherwise raise error\n",
    "        if self.prime != other.prime:\n",
    "            raise TypeError('Cannot multiply two numbers in different Fields')\n",
    "        # Perform muliplication of two finite field elements\n",
    "        num = (self.num * other.num) % self.prime\n",
    "        return self.__class__(num, self.prime)\n",
    "\n",
    "    def __pow__(self, exponent):\n",
    "        #Implement finite field exponentation\n",
    "        n = exponent % (self.prime - 1)\n",
    "        num = pow(self.num, n, self.prime)\n",
    "        return self.__class__(num, self.prime)\n",
    "\n",
    "    def __truediv__(self, other):\n",
    "        # Two numbers have to be in same field, otherwise raise error\n",
    "        if self.prime != other.prime:\n",
    "            raise TypeError('Cannot divide two numbers in different Fields')\n",
    "        # perform division of two finite field elements\n",
    "        # Hint: Use fermat's little theorem:\n",
    "        num = (self.num * pow(other.num, self.prime - 2, self.prime)) % self.prime\n",
    "        return self.__class__(num, self.prime)\n",
    "\n",
    "    def __rmul__(self, coefficient):\n",
    "        # Implement scalar multiplication: Multiply the scalar 'coeffiecient' with finite field element.\n",
    "        num = (self.num * coefficient) % self.prime\n",
    "        return self.__class__(num=num, prime=self.prime)"
   ]
  },
  {
   "cell_type": "code",
   "execution_count": 2,
   "id": "4f7352b9-cef6-47fe-bc90-af3003a33d93",
   "metadata": {},
   "outputs": [],
   "source": [
    "class Point:\n",
    "\n",
    "    def __init__(self, x, y, a, b):\n",
    "        self.a = a\n",
    "        self.b = b\n",
    "        self.x = x\n",
    "        self.y = y\n",
    "        if self.x is None and self.y is None:\n",
    "            return\n",
    "        if self.y**2 != self.x**3 + a * x + b:\n",
    "            # if not, throw a ValueError\n",
    "            raise ValueError('({}, {}) is not on the curve'.format(x, y))\n",
    "\n",
    "    def __eq__(self, other):\n",
    "        return self.x == other.x and self.y == other.y \\\n",
    "            and self.a == other.a and self.b == other.b\n",
    "\n",
    "    def __ne__(self, other):\n",
    "        # this should be the inverse of the == operator\n",
    "        return not (self == other)\n",
    "\n",
    "    def __repr__(self):\n",
    "        if self.x is None:\n",
    "            return 'Point(infinity)'\n",
    "        elif isinstance(self.x, FieldElement):\n",
    "            return 'Point({},{})_{}_{} FieldElement({})'.format(\n",
    "                self.x.num, self.y.num, self.a.num, self.b.num, self.x.prime)\n",
    "        else:\n",
    "            return 'Point({},{})_{}_{}'.format(self.x, self.y, self.a, self.b)\n",
    "\n",
    "    def __add__(self, other):\n",
    "        if self.a != other.a or self.b != other.b:\n",
    "            raise TypeError('Points {}, {} are not on the same curve'.format(self, other))\n",
    "        \n",
    "        if self.x is None:\n",
    "            return other\n",
    "        if other.x is None:\n",
    "            return self\n",
    "\n",
    "        if self.x == other.x and self.y != other.y:\n",
    "            return self.__class__(None, None, self.a, self.b)\n",
    "\n",
    "        if self.x != other.x:\n",
    "            s = (other.y - self.y) / (other.x - self.x)\n",
    "            x = s**2 - self.x - other.x\n",
    "            y = s * (self.x - x) - self.y\n",
    "            return self.__class__(x, y, self.a, self.b)\n",
    "\n",
    "        if self == other and self.y == 0 * self.x:\n",
    "            return self.__class__(None, None, self.a, self.b)\n",
    "\n",
    "        if self == other:\n",
    "            s = (3 * self.x**2 + self.a) / (2 * self.y)\n",
    "            x = s**2 - 2 * self.x\n",
    "            y = s * (self.x - x) - self.y\n",
    "            return self.__class__(x, y, self.a, self.b)\n",
    "\n",
    "    def __rmul__(self, coefficient):\n",
    "        coef = coefficient\n",
    "        current = self\n",
    "        result = self.__class__(None, None, self.a, self.b)\n",
    "        while coef:\n",
    "            if coef & 1:\n",
    "                result += current\n",
    "            current += current\n",
    "            coef >>= 1\n",
    "        return result\n"
   ]
  },
  {
   "cell_type": "markdown",
   "id": "b511f28c-9361-4253-8751-b7159d0af8bf",
   "metadata": {},
   "source": [
    "The classes `S256Field` and `S256Point` are subclasses of `FieldElement` and `Point`, respectively, specifically designed to work with the parameters of [secp256k1](https://en.bitcoin.it/wiki/Secp256k1). These subclasses simplify the process of initializing a point on the secp256k1 curve by eliminating the need to repeatedly define the curve parameters `a` and `b`, as required when using the Point class."
   ]
  },
  {
   "cell_type": "code",
   "execution_count": 3,
   "id": "f66198c1",
   "metadata": {},
   "outputs": [],
   "source": [
    "Prime = 2**256 - 2**32 - 977 # this is the prime that determines the size of the finite field F_p on which the secp256k1 points live\n",
    "class S256Field(FieldElement):\n",
    "\n",
    "    def __init__(self, num, prime=None):\n",
    "        super().__init__(num=num, prime=Prime)\n",
    "\n",
    "    def __repr__(self):\n",
    "        return '{:x}'.format(self.num).zfill(64)"
   ]
  },
  {
   "cell_type": "markdown",
   "id": "c170b8bf",
   "metadata": {},
   "source": [
    "Besides specifying the prime order and the curve parameters `a` and `b`, secp256k1 also specifies a specific point on the elliptic curve, the so-called _generator point_ `G`. It is defined via its $x$- and $y$-coordinates $G=(G_x,G_y)$."
   ]
  },
  {
   "cell_type": "code",
   "execution_count": 4,
   "id": "5e4e0e4c",
   "metadata": {},
   "outputs": [],
   "source": [
    "A = 0\n",
    "B = 7\n",
    "n = 0xfffffffffffffffffffffffffffffffebaaedce6af48a03bbfd25e8cd0364141 # order of group generated by generator point G\n",
    "\n",
    "class S256Point(Point):\n",
    "\n",
    "    def __init__(self, x, y, a=None, b=None):\n",
    "        a, b = S256Field(A), S256Field(B)\n",
    "        if type(x) == int:\n",
    "            super().__init__(x=S256Field(x), y=S256Field(y), a=a, b=b)\n",
    "        else:\n",
    "            super().__init__(x=x, y=y, a=a, b=b)  # <1>\n",
    "\n",
    "    def __repr__(self):\n",
    "        if self.x is None:\n",
    "            return 'S256Point(infinity)'\n",
    "        else:\n",
    "            return 'S256Point({}, {})'.format(self.x, self.y)\n",
    "\n",
    "    def __rmul__(self, coefficient):\n",
    "        coef = coefficient % n\n",
    "        return super().__rmul__(coef)\n",
    "\n",
    "G = S256Point(0x79be667ef9dcbbac55a06295ce870b07029bfcdb2dce28d959f2815b16f81798,\n",
    "    0x483ada7726a3c4655da4fbfc0e1108a8fd17b448a68554199c47d08ffb10d4b8)"
   ]
  },
  {
   "cell_type": "markdown",
   "id": "35b41b1b",
   "metadata": {},
   "source": [
    "The group order $n$ of the group generated by $G$ corresponds to the smallest integer that satisfies \n",
    "$$\n",
    "n \\cdot G = O,\n",
    "$$\n",
    "(scalar multplication of $n$ with $G$), where $O$ is the additive identity element of the elliptic curve $S_{0,7} = \\{(x,y) \\in F_p \\times F_p: y^2 = x^3 + 7\\}$ with $p=$`Prime`. You can see in the definition of `__rmul__` above that this group order can be used to simplify a scalar multiplication coefficient `coefficient`; this is due to the fact that all calculations done within our signature schemes are within the generator group."
   ]
  },
  {
   "cell_type": "markdown",
   "id": "1b555498",
   "metadata": {},
   "source": [
    "## Generation of Private Key"
   ]
  },
  {
   "cell_type": "code",
   "execution_count": 5,
   "id": "a6b60945",
   "metadata": {},
   "outputs": [
    {
     "name": "stdout",
     "output_type": "stream",
     "text": [
      "Private key (decimal integer representation): \n",
      " 84747631942840761409198475171043116002924132430274400095798688737583350222083\n"
     ]
    }
   ],
   "source": [
    "import random\n",
    "random.seed(1337)\n",
    "e = random.randint(0,n) # generation of private key\n",
    "print(\"Private key (decimal integer representation): \\n\", e)"
   ]
  },
  {
   "cell_type": "code",
   "execution_count": 6,
   "id": "35a3e8b8",
   "metadata": {},
   "outputs": [
    {
     "name": "stdout",
     "output_type": "stream",
     "text": [
      "Private key (hex representation): \n",
      " 0xbb5d75b895f628f2922badb05da83cffb5bab1cd888417a5ecefe37b9e250d03\n"
     ]
    }
   ],
   "source": [
    "e_hex = hex(e)\n",
    "print(\"Private key (hex representation): \\n\", e_hex)"
   ]
  },
  {
   "cell_type": "markdown",
   "id": "f473af55",
   "metadata": {},
   "source": [
    "## Computation of Public Key from Private Key"
   ]
  },
  {
   "cell_type": "code",
   "execution_count": 7,
   "id": "d7bcb0a7",
   "metadata": {},
   "outputs": [],
   "source": [
    "P = e*G"
   ]
  },
  {
   "cell_type": "code",
   "execution_count": 8,
   "id": "52527575",
   "metadata": {},
   "outputs": [
    {
     "data": {
      "text/plain": [
       "S256Point(e49a3e63ffb8649dc976bdf178bbc2a6035f5085f805fed8100ff017e4a397b2, cd3376eddb0561f70b82f11228f17d2809b9cd00f7dc86ca4a4f240bdd06582b)"
      ]
     },
     "execution_count": 8,
     "metadata": {},
     "output_type": "execute_result"
    }
   ],
   "source": [
    "P"
   ]
  },
  {
   "cell_type": "markdown",
   "id": "7af58bde",
   "metadata": {},
   "source": [
    "### Derivation of Uncompressed SEC format of private key P\n",
    "Calculate uncompressed SEC format of public key `P` above."
   ]
  },
  {
   "cell_type": "code",
   "execution_count": 9,
   "id": "861406a6",
   "metadata": {},
   "outputs": [],
   "source": [
    "P_uncompressedSEC = P.y"
   ]
  },
  {
   "cell_type": "code",
   "execution_count": 10,
   "id": "fffc112c",
   "metadata": {},
   "outputs": [
    {
     "name": "stdout",
     "output_type": "stream",
     "text": [
      "Uncompressed SEC format of public key: \n",
      " 04e49a3e63ffb8649dc976bdf178bbc2a6035f5085f805fed8100ff017e4a397b2cd3376eddb0561f70b82f11228f17d2809b9cd00f7dc86ca4a4f240bdd06582b\n"
     ]
    }
   ],
   "source": [
    "P_uncompressedSEC = '04'+P.x.__repr__()+P.y.__repr__()\n",
    "print(\"Uncompressed SEC format of public key: \\n\", P_uncompressedSEC)"
   ]
  },
  {
   "cell_type": "markdown",
   "id": "8f3e85e1",
   "metadata": {},
   "source": [
    "### Derivation of Compressed SEC format of private key P\n",
    "Calculate compressed SEC format of public key `P` above."
   ]
  },
  {
   "cell_type": "code",
   "execution_count": 11,
   "id": "2dcb7569",
   "metadata": {},
   "outputs": [
    {
     "name": "stdout",
     "output_type": "stream",
     "text": [
      "y-coordinate of public key P: \n",
      " cd3376eddb0561f70b82f11228f17d2809b9cd00f7dc86ca4a4f240bdd06582b\n"
     ]
    }
   ],
   "source": [
    "print('y-coordinate of public key P: \\n',P.y.__repr__())"
   ]
  },
  {
   "cell_type": "markdown",
   "id": "f34b4bd6",
   "metadata": {},
   "source": [
    "The last byte is a `2b` in hex representation, which correspond to s to the decimal number $2*16^1+11*16^0$ which is an add number. Therefore, we prepend a `03` byte (otherwise, in case of an odd y-coordinate, it would be a `04` byte)."
   ]
  },
  {
   "cell_type": "code",
   "execution_count": 12,
   "id": "1375d22b",
   "metadata": {},
   "outputs": [
    {
     "name": "stdout",
     "output_type": "stream",
     "text": [
      "Compressed SEC format of public key: \n",
      " 03e49a3e63ffb8649dc976bdf178bbc2a6035f5085f805fed8100ff017e4a397b2\n"
     ]
    }
   ],
   "source": [
    "P_compressedSEC = '03'+P.x.__repr__()\n",
    "print(\"Compressed SEC format of public key: \\n\",P_compressedSEC)"
   ]
  },
  {
   "cell_type": "markdown",
   "id": "fac44953",
   "metadata": {},
   "source": [
    "## Derivation of P2PKH address\n",
    "\n",
    "Obtain the hash160 image of the above public key in compressed SEC format. The hash160 image is computed by applying first the sha256 hash function to the byte-wise serialization of the compressed SEC public key, and then the RIPEMD-160 hash function to the resulting image.\n",
    "\n",
    "Finally, the result will be encoded using the base58check encoding, which corresponds then to the desired P2PKH address."
   ]
  },
  {
   "cell_type": "markdown",
   "id": "bc6f2492",
   "metadata": {},
   "source": [
    "### Create Byte-representation of Compressed SEC public key"
   ]
  },
  {
   "cell_type": "code",
   "execution_count": 13,
   "id": "73e4b791",
   "metadata": {
    "scrolled": true
   },
   "outputs": [
    {
     "name": "stdout",
     "output_type": "stream",
     "text": [
      "b'\\x03\\xe4\\x9a>c\\xff\\xb8d\\x9d\\xc9v\\xbd\\xf1x\\xbb\\xc2\\xa6\\x03_P\\x85\\xf8\\x05\\xfe\\xd8\\x10\\x0f\\xf0\\x17\\xe4\\xa3\\x97\\xb2'\n"
     ]
    }
   ],
   "source": [
    "P_compressedSEC_str = bytes.fromhex(P_compressedSEC)\n",
    "print(P_compressedSEC_str)"
   ]
  },
  {
   "cell_type": "markdown",
   "id": "784a1fa7",
   "metadata": {},
   "source": [
    "### Compute SHA-256 image"
   ]
  },
  {
   "cell_type": "code",
   "execution_count": 14,
   "id": "af343f34",
   "metadata": {},
   "outputs": [],
   "source": [
    "import hashlib"
   ]
  },
  {
   "cell_type": "code",
   "execution_count": 15,
   "id": "3a58a48c",
   "metadata": {},
   "outputs": [
    {
     "name": "stdout",
     "output_type": "stream",
     "text": [
      "Hex representation of SHA-256 image: \n",
      " 89e15acf1714db44d995d9bd5c8fef69afef4931e6cee18b29c803dc428999fb\n",
      "Bytes of SHA-256 image: \n",
      " b'\\x89\\xe1Z\\xcf\\x17\\x14\\xdbD\\xd9\\x95\\xd9\\xbd\\\\\\x8f\\xefi\\xaf\\xefI1\\xe6\\xce\\xe1\\x8b)\\xc8\\x03\\xdcB\\x89\\x99\\xfb'\n"
     ]
    }
   ],
   "source": [
    "Sha256hash_P_bytes = hashlib.sha256(P_compressedSEC_str).digest()\n",
    "Sha256hash_P_hex = hashlib.sha256(P_compressedSEC_str).hexdigest()\n",
    "print(\"Hex representation of SHA-256 image: \\n\",Sha256hash_P_hex)\n",
    "print(\"Bytes of SHA-256 image: \\n\", Sha256hash_P_bytes)"
   ]
  },
  {
   "cell_type": "markdown",
   "id": "162cbdb1",
   "metadata": {},
   "source": [
    "### Compute RIPEMD-160 image of SHA-256 image"
   ]
  },
  {
   "cell_type": "code",
   "execution_count": 16,
   "id": "92dee10f",
   "metadata": {},
   "outputs": [
    {
     "name": "stdout",
     "output_type": "stream",
     "text": [
      "Public Key Hash (hex representation): \n",
      " a302954979e0a0bc0610afa3c9c2e9e97e73ed93\n",
      "Public Key Hash (bytes): \n",
      " b'\\xa3\\x02\\x95Iy\\xe0\\xa0\\xbc\\x06\\x10\\xaf\\xa3\\xc9\\xc2\\xe9\\xe9~s\\xed\\x93'\n"
     ]
    }
   ],
   "source": [
    "ripmd160 = hashlib.new('ripemd160')\n",
    "ripmd160.update(Sha256hash_P_bytes)\n",
    "publickeyhash_bytes = ripmd160.digest()\n",
    "publickeyhash = ripmd160.hexdigest()\n",
    "print(\"Public Key Hash (hex representation): \\n\",publickeyhash)\n",
    "print(\"Public Key Hash (bytes): \\n\",publickeyhash_bytes)"
   ]
  },
  {
   "cell_type": "markdown",
   "id": "2c65e850",
   "metadata": {},
   "source": [
    "### Compute Base58check encoding"
   ]
  },
  {
   "cell_type": "code",
   "execution_count": 17,
   "id": "637e8243",
   "metadata": {},
   "outputs": [
    {
     "name": "stdout",
     "output_type": "stream",
     "text": [
      "Requirement already satisfied: base58 in /opt/anaconda3/lib/python3.11/site-packages (2.1.1)\r\n"
     ]
    }
   ],
   "source": [
    "!pip install base58 # install base56 Python package if necessary"
   ]
  },
  {
   "cell_type": "code",
   "execution_count": 18,
   "id": "31dc8d28",
   "metadata": {},
   "outputs": [
    {
     "name": "stdout",
     "output_type": "stream",
     "text": [
      "b'\\x00\\xa3\\x02\\x95Iy\\xe0\\xa0\\xbc\\x06\\x10\\xaf\\xa3\\xc9\\xc2\\xe9\\xe9~s\\xed\\x93'\n"
     ]
    }
   ],
   "source": [
    "wprefix_publickeyhash = b'\\x00'+publickeyhash_bytes ## prepend prefix byte '00' denoting a P2PKH adress\n",
    "print(wprefix_publickeyhash)"
   ]
  },
  {
   "cell_type": "code",
   "execution_count": 19,
   "id": "38732e1a",
   "metadata": {},
   "outputs": [],
   "source": [
    "import base58\n",
    "bitcoinaddress = base58.b58encode_check(wprefix_publickeyhash)"
   ]
  },
  {
   "cell_type": "code",
   "execution_count": 20,
   "id": "c4897059",
   "metadata": {},
   "outputs": [
    {
     "name": "stdout",
     "output_type": "stream",
     "text": [
      "P2PKH address: \n",
      " b'1FrvEkSR2X4KpP7aYHAGZYksfBmRx3t9r9'\n"
     ]
    }
   ],
   "source": [
    "print(\"P2PKH address: \\n\",bitcoinaddress)"
   ]
  }
 ],
 "metadata": {
  "kernelspec": {
   "display_name": "Python 3 (ipykernel)",
   "language": "python",
   "name": "python3"
  },
  "language_info": {
   "codemirror_mode": {
    "name": "ipython",
    "version": 3
   },
   "file_extension": ".py",
   "mimetype": "text/x-python",
   "name": "python",
   "nbconvert_exporter": "python",
   "pygments_lexer": "ipython3",
   "version": "3.11.8"
  }
 },
 "nbformat": 4,
 "nbformat_minor": 5
}
