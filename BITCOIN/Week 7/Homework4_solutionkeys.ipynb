{
 "cells": [
  {
   "cell_type": "markdown",
   "id": "19d53131-b8bb-4fea-89cf-9dd5b92ed8c7",
   "metadata": {},
   "source": [
    "# Topics in Computer Science - Bitcoin: Programming the Future of Money - ITCS 4010 & 5010 - Spring 2025 - UNC Charlotte\n",
    "\n",
    "# Homework 4 - Digital Signatures in Bitcoin (100 Points)"
   ]
  },
  {
   "cell_type": "markdown",
   "id": "7a255941-f2cd-4a13-b0e1-f3af36e0ce72",
   "metadata": {},
   "source": [
    "# <font color=\"blue\"> Submission instructions</font>\n",
    "\n",
    "1. Click the Save button at the top of the Jupyter Notebook.\n",
    "2. Please make sure to have entered your name above.\n",
    "3. Select Cell -> All Output -> Clear. This will clear all the outputs from all cells (but will keep the content of all cells). \n",
    "4. Select Cell -> Run All. This will run all the cells in order, and will take several minutes.\n",
    "5. Once you've rerun everything, create a PDF version of the executed Jupyter Notebook via \"File\" -> \"Download As\" and then choosing on of the options \"PDF via LaTeX\", \"PDF via HTML\" or \"HTML\" and download a PDF or HTML version showing the code and the output of all cells. If you download a HTML version, you can print this HTML file as a PDF in a second step. Save the PDF version in the same folder that contains the notebook file.\n",
    "6. Look at the PDF file and make sure all your solutions are there, displayed correctly.\n",
    "7. Submit **both** your PDF and the notebook file .ipynb on Gradescope.\n",
    "8. Make sure your your Gradescope submission contains the correct files by downloading it after posting it on Gradescope."
   ]
  },
  {
   "cell_type": "code",
   "execution_count": 2,
   "id": "d267e687-bbd7-4159-bad6-3e4a665b5e59",
   "metadata": {},
   "outputs": [],
   "source": [
    "class FieldElement:\n",
    "\n",
    "    def __init__(self, num, prime):\n",
    "        #check if 0 > num >= prime. Raise ValueError if num is out of range.\n",
    "        if num >= prime or num < 0:\n",
    "            error = 'Num {} not in field range 0 to {}'.format(num, prime - 1)\n",
    "            raise ValueError(error)\n",
    "        #Initialize num and prime\n",
    "        self.num = num\n",
    "        self.prime = prime\n",
    "\n",
    "    def __repr__(self):\n",
    "        return 'FieldElement_{}({})'.format(self.prime, self.num)\n",
    "\n",
    "    def __eq__(self, other):\n",
    "        if other is None:\n",
    "            return False\n",
    "        #Return True if the FieldElement objects are equal\n",
    "        return self.num == other.num and self.prime == other.prime\n",
    "\n",
    "    def __ne__(self, other):\n",
    "        # This should be the inverse of the == operator\n",
    "        return not (self == other)\n",
    "\n",
    "    def __add__(self, other):\n",
    "        # Two numbers have to be in same field, otherwise raise error\n",
    "        if self.prime != other.prime:\n",
    "            raise TypeError('Cannot add two numbers in different Fields')\n",
    "        #Perform addition of two finite field elements\n",
    "        num = (self.num + other.num) % self.prime\n",
    "        # Return an element of the same class\n",
    "        return self.__class__(num, self.prime)\n",
    "\n",
    "    def __sub__(self, other):\n",
    "        # Two numbers have to be in same field, otherwise raise error\n",
    "        if self.prime != other.prime:\n",
    "            raise TypeError('Cannot subtract two numbers in different Fields')\n",
    "        #Perform subtraction of two finite field elements\n",
    "        num = (self.num - other.num) % self.prime\n",
    "        return self.__class__(num, self.prime)\n",
    "\n",
    "    def __mul__(self, other):\n",
    "        # Two numbers have to be in same field, otherwise raise error\n",
    "        if self.prime != other.prime:\n",
    "            raise TypeError('Cannot multiply two numbers in different Fields')\n",
    "        # Perform muliplication of two finite field elements\n",
    "        num = (self.num * other.num) % self.prime\n",
    "        return self.__class__(num, self.prime)\n",
    "\n",
    "    def __pow__(self, exponent):\n",
    "        #Implement finite field exponentation\n",
    "        n = exponent % (self.prime - 1)\n",
    "        num = pow(self.num, n, self.prime)\n",
    "        return self.__class__(num, self.prime)\n",
    "\n",
    "    def __truediv__(self, other):\n",
    "        # Two numbers have to be in same field, otherwise raise error\n",
    "        if self.prime != other.prime:\n",
    "            raise TypeError('Cannot divide two numbers in different Fields')\n",
    "        # perform division of two finite field elements\n",
    "        # Hint: Use fermat's little theorem:\n",
    "        num = (self.num * pow(other.num, self.prime - 2, self.prime)) % self.prime\n",
    "        return self.__class__(num, self.prime)\n",
    "\n",
    "    def __rmul__(self, coefficient):\n",
    "        # Implement scalar multiplication: Multiply the scalar 'coeffiecient' with finite field element.\n",
    "        num = (self.num * coefficient) % self.prime\n",
    "        return self.__class__(num=num, prime=self.prime)"
   ]
  },
  {
   "cell_type": "code",
   "execution_count": 3,
   "id": "4f7352b9-cef6-47fe-bc90-af3003a33d93",
   "metadata": {},
   "outputs": [],
   "source": [
    "class Point:\n",
    "\n",
    "    def __init__(self, x, y, a, b):\n",
    "        self.a = a\n",
    "        self.b = b\n",
    "        self.x = x\n",
    "        self.y = y\n",
    "        if self.x is None and self.y is None:\n",
    "            return\n",
    "        if self.y**2 != self.x**3 + a * x + b:\n",
    "            # if not, throw a ValueError\n",
    "            raise ValueError('({}, {}) is not on the curve'.format(x, y))\n",
    "\n",
    "    def __eq__(self, other):\n",
    "        return self.x == other.x and self.y == other.y \\\n",
    "            and self.a == other.a and self.b == other.b\n",
    "\n",
    "    def __ne__(self, other):\n",
    "        # this should be the inverse of the == operator\n",
    "        return not (self == other)\n",
    "\n",
    "    def __repr__(self):\n",
    "        if self.x is None:\n",
    "            return 'Point(infinity)'\n",
    "        elif isinstance(self.x, FieldElement):\n",
    "            return 'Point({},{})_{}_{} FieldElement({})'.format(\n",
    "                self.x.num, self.y.num, self.a.num, self.b.num, self.x.prime)\n",
    "        else:\n",
    "            return 'Point({},{})_{}_{}'.format(self.x, self.y, self.a, self.b)\n",
    "\n",
    "    def __add__(self, other):\n",
    "        if self.a != other.a or self.b != other.b:\n",
    "            raise TypeError('Points {}, {} are not on the same curve'.format(self, other))\n",
    "        \n",
    "        if self.x is None:\n",
    "            return other\n",
    "        if other.x is None:\n",
    "            return self\n",
    "\n",
    "        if self.x == other.x and self.y != other.y:\n",
    "            return self.__class__(None, None, self.a, self.b)\n",
    "\n",
    "        if self.x != other.x:\n",
    "            s = (other.y - self.y) / (other.x - self.x)\n",
    "            x = s**2 - self.x - other.x\n",
    "            y = s * (self.x - x) - self.y\n",
    "            return self.__class__(x, y, self.a, self.b)\n",
    "\n",
    "        if self == other and self.y == 0 * self.x:\n",
    "            return self.__class__(None, None, self.a, self.b)\n",
    "\n",
    "        if self == other:\n",
    "            s = (3 * self.x**2 + self.a) / (2 * self.y)\n",
    "            x = s**2 - 2 * self.x\n",
    "            y = s * (self.x - x) - self.y\n",
    "            return self.__class__(x, y, self.a, self.b)\n",
    "\n",
    "    def __rmul__(self, coefficient):\n",
    "        coef = coefficient\n",
    "        current = self\n",
    "        result = self.__class__(None, None, self.a, self.b)\n",
    "        while coef:\n",
    "            if coef & 1:\n",
    "                result += current\n",
    "            current += current\n",
    "            coef >>= 1\n",
    "        return result\n"
   ]
  },
  {
   "cell_type": "markdown",
   "id": "b511f28c-9361-4253-8751-b7159d0af8bf",
   "metadata": {},
   "source": [
    "The classes `S256Field` and `S256Point` are subclasses of `FieldElement` and `Point`, respectively, specifically designed to work with the parameters of secp256k1. These subclasses simplify the process of initializing a point on the secp256k1 curve by eliminating the need to repeatedly define the curve parameters `a` and `b`, as required when using the Point class."
   ]
  },
  {
   "cell_type": "code",
   "execution_count": 4,
   "id": "be405ed2",
   "metadata": {},
   "outputs": [],
   "source": [
    "Prime = 2**256 - 2**32 - 977 # this is the prime that determines the size of the finite field F_p on which the secp256k1 points live\n",
    "class S256Field(FieldElement):\n",
    "\n",
    "    def __init__(self, num, prime=None):\n",
    "        super().__init__(num=num, prime=Prime)\n",
    "\n",
    "    def __repr__(self):\n",
    "        return '{:x}'.format(self.num).zfill(64)"
   ]
  },
  {
   "cell_type": "code",
   "execution_count": 5,
   "id": "e3a30f17-af13-499d-9ccf-33548ea30594",
   "metadata": {},
   "outputs": [],
   "source": [
    "A = 0\n",
    "B = 7\n",
    "n = 0xfffffffffffffffffffffffffffffffebaaedce6af48a03bbfd25e8cd0364141 # order of group generated by generator point G\n",
    "\n",
    "class S256Point(Point):\n",
    "\n",
    "    def __init__(self, x, y, a=None, b=None):\n",
    "        a, b = S256Field(A), S256Field(B)\n",
    "        if type(x) == int:\n",
    "            super().__init__(x=S256Field(x), y=S256Field(y), a=a, b=b)\n",
    "        else:\n",
    "            super().__init__(x=x, y=y, a=a, b=b)  # <1>\n",
    "\n",
    "    def __repr__(self):\n",
    "        if self.x is None:\n",
    "            return 'S256Point(infinity)'\n",
    "        else:\n",
    "            return 'S256Point({}, {})'.format(self.x, self.y)\n",
    "\n",
    "    def __rmul__(self, coefficient):\n",
    "        coef = coefficient % n\n",
    "        return super().__rmul__(coef)\n",
    "\n",
    "G = S256Point(0x79be667ef9dcbbac55a06295ce870b07029bfcdb2dce28d959f2815b16f81798,\n",
    "    0x483ada7726a3c4655da4fbfc0e1108a8fd17b448a68554199c47d08ffb10d4b8)"
   ]
  },
  {
   "cell_type": "markdown",
   "id": "a3cd47a3-6321-4b96-8f5d-8229b05eb550",
   "metadata": {},
   "source": [
    "The generator point `G` on the secp256k1 curve used in Bitcoin is defined as follows:\n",
    "\n",
    "$G = (G_x, G_y)$\n",
    "\n"
   ]
  },
  {
   "cell_type": "code",
   "execution_count": 6,
   "id": "8512b75c-1844-40f8-b0a6-714c7f36e57f",
   "metadata": {},
   "outputs": [],
   "source": [
    "G = S256Point(0x79be667ef9dcbbac55a06295ce870b07029bfcdb2dce28d959f2815b16f81798,\n",
    "    0x483ada7726a3c4655da4fbfc0e1108a8fd17b448a68554199c47d08ffb10d4b8)"
   ]
  },
  {
   "cell_type": "code",
   "execution_count": 7,
   "id": "fbf0d39d-d78f-4f01-b55b-caab1299e6da",
   "metadata": {},
   "outputs": [],
   "source": [
    "import hashlib\n",
    "def hash256(s):\n",
    "    '''two rounds of sha256'''\n",
    "    return hashlib.sha256(hashlib.sha256(s).digest()).digest()"
   ]
  },
  {
   "cell_type": "markdown",
   "id": "927a5dc9-7b81-41e4-8404-55d9f79edfe6",
   "metadata": {},
   "source": [
    "### 1. ECDSA\n",
    "#### a. \n",
    "Write a function `ecdsa_sign` that implements the signing function of ECDSA on the secp256k1 elliptic curve with generator (or base) point `G` from above, and computes and returns the ECDSA signature pair $(r,s)$ for the given private key `e`, message `m` and private nonce `k`. Use `hash256` from above as the hash function $\\operatorname{hash}(\\cdot)$ of the scheme."
   ]
  },
  {
   "cell_type": "code",
   "execution_count": 8,
   "id": "12dbe4f8-a4a8-42e0-b84c-27ace84ec134",
   "metadata": {},
   "outputs": [],
   "source": [
    "def ecdsa_sign(e, m, k):\n",
    "    m = m.encode()\n",
    "    # Compute R = KG\n",
    "    R = (k*G)\n",
    "    # Calculate r (R's x-coordinate)\n",
    "    r = R.x.num\n",
    "    #Compute z = sha256(sha256(m))\n",
    "    z = int.from_bytes(hash256(m), 'big')\n",
    "    # Calculate s = (z+re)/k\n",
    "    k_inv = pow(k, N-2, N)\n",
    "    s = (z+r*e) * k_inv % N\n",
    "    return (r,s)"
   ]
  },
  {
   "cell_type": "markdown",
   "id": "2c02f570-8100-4820-a190-bd542d9aac34",
   "metadata": {},
   "source": [
    "#### b.\n",
    "Write a function `ecdsa_verify` to verify if the generated signature `s` is valid or not using the public key `P`, message `m`, x coordinate of the public nonce `r`. Return `True` if signature is valid, `False` otherwise."
   ]
  },
  {
   "cell_type": "code",
   "execution_count": 9,
   "id": "36529b86-ac9a-4404-9038-d58f974b9cb5",
   "metadata": {},
   "outputs": [],
   "source": [
    "def ecdsa_verify(P, m, r, s):\n",
    "    m = m.encode()\n",
    "    z = int.from_bytes(hash256(m), 'big')\n",
    "    s_inv = pow(s, N-2, N)\n",
    "    u = z * s_inv % N\n",
    "    v = r * s_inv % N\n",
    "    return (u * G + v * P).x.num == r"
   ]
  },
  {
   "cell_type": "markdown",
   "id": "91c4853c-c813-4239-add5-bff665732964",
   "metadata": {},
   "source": [
    "#### Testcases\n",
    "\n",
    "Verfiy the workings of the the functions implemented in *a.* and *b.* above using the messages `m1`, `m2` defined below and the random private nonces `k1` and `k2` defined below, each for the private key `e`.\n",
    "\n",
    "**Generate the output of `schnorr_sign` in the cases 1.-4. from Exercise 1. \"ECDSA\" above, and print this output successively.**\n"
   ]
  },
  {
   "cell_type": "code",
   "execution_count": 10,
   "id": "ce2921d3-0304-4b23-9afb-9941d9692b75",
   "metadata": {},
   "outputs": [],
   "source": [
    "Prime = 2**256 - 2**32 - 977\n",
    "N = 0xfffffffffffffffffffffffffffffffebaaedce6af48a03bbfd25e8cd0364141 #Group order\n",
    "e = 246835 #private key\n",
    "# messages\n",
    "m1 = 'Bitcoin'\n",
    "m2 = 'Lightning'\n"
   ]
  },
  {
   "cell_type": "code",
   "execution_count": 11,
   "id": "ba54511e-fc14-43e8-9cb9-f084faab7c63",
   "metadata": {},
   "outputs": [
    {
     "name": "stdout",
     "output_type": "stream",
     "text": [
      "53563162965150739642758196075283649051494876524252451189941645365582255059155\n",
      "45510187412815177975571940105204457996594329113615379591172816318882246202515\n"
     ]
    }
   ],
   "source": [
    "import random\n",
    "random.seed(10)\n",
    "k1 = random.randint(0,n) # private nonce k1\n",
    "print(k1)\n",
    "random.seed(100)\n",
    "k2 = random.randint(0,n) # private nonce k2\n",
    "print(k2)"
   ]
  },
  {
   "cell_type": "markdown",
   "id": "d66eb834",
   "metadata": {},
   "source": [
    "**Note:** It is *unsafe* to use the pseudo-random number generator of the Python module `random` in production software such as for generating your own private key or random nonce to be used on the actual Bitcoin network, see [discussion here](https://docs.python.org/3/library/random.html)."
   ]
  },
  {
   "cell_type": "markdown",
   "id": "f60fd36d-e7c4-4aa3-8e8d-36e62e200f1e",
   "metadata": {},
   "source": [
    "**Generate the output of `ecdsa_sign` in  the following cases, and print this output successively:**\n",
    "\n",
    "1. For the message `m1` and private nonce `k1`\n",
    "2. For `m2` and `k1`\n",
    "3. For `m1` and `k2`\n",
    "4. For `m2` and `k2`\n",
    "\n",
    "(Print your answers for all the above cases)"
   ]
  },
  {
   "cell_type": "code",
   "execution_count": 12,
   "id": "b6e5d94e-ec0e-4e3b-a6c5-ba18e76cf6b7",
   "metadata": {},
   "outputs": [
    {
     "name": "stdout",
     "output_type": "stream",
     "text": [
      "(17475157730576101221922219781495314687234679970816515184941578315767911417842, 19660279264506430846191789191043658456529652824310696416138487341954076124048)\n"
     ]
    }
   ],
   "source": [
    "P = e*G\n",
    "(r1, s11) = ecdsa_sign(e, m1, k1)\n",
    "print((r1,s11))"
   ]
  },
  {
   "cell_type": "code",
   "execution_count": 13,
   "id": "c269405f-b5a5-4631-810a-0263b598e6f2",
   "metadata": {},
   "outputs": [
    {
     "name": "stdout",
     "output_type": "stream",
     "text": [
      "(17475157730576101221922219781495314687234679970816515184941578315767911417842, 33322851105363613992326303623689941992523767831842844914406511441389261349046)\n"
     ]
    }
   ],
   "source": [
    "(r1, s21) = ecdsa_sign(e, m2, k1)\n",
    "print((r1,s21))"
   ]
  },
  {
   "cell_type": "code",
   "execution_count": 14,
   "id": "877b183c-1ce7-4cb3-ae5e-23ee3f25a6c5",
   "metadata": {},
   "outputs": [
    {
     "name": "stdout",
     "output_type": "stream",
     "text": [
      "(13614136033041484195754855738883558962512156503117353260198194967466378178770, 102434461432272869824313281266879855732702769532194605636940878443543330997803)\n"
     ]
    }
   ],
   "source": [
    "(r2, s12) = ecdsa_sign(e, m1, k2)\n",
    "print((r2,s12))"
   ]
  },
  {
   "cell_type": "code",
   "execution_count": 15,
   "id": "42baa7cf-5b42-4e60-b7ec-2433980a3215",
   "metadata": {},
   "outputs": [
    {
     "ename": "NameError",
     "evalue": "name 'r22' is not defined",
     "output_type": "error",
     "traceback": [
      "\u001b[0;31m---------------------------------------------------------------------------\u001b[0m",
      "\u001b[0;31mNameError\u001b[0m                                 Traceback (most recent call last)",
      "Cell \u001b[0;32mIn[15], line 2\u001b[0m\n\u001b[1;32m      1\u001b[0m (r2, s22) \u001b[38;5;241m=\u001b[39m ecdsa_sign(e, m2, k2)\n\u001b[0;32m----> 2\u001b[0m \u001b[38;5;28mprint\u001b[39m((r22,s22))\n",
      "\u001b[0;31mNameError\u001b[0m: name 'r22' is not defined"
     ]
    }
   ],
   "source": [
    "(r2, s22) = ecdsa_sign(e, m2, k2)\n",
    "print((r22,s22))"
   ]
  },
  {
   "cell_type": "markdown",
   "id": "c8a0b2b3",
   "metadata": {},
   "source": [
    "**Then, verify the generated signatures for the four cases 1.-4. using `ecdsa_verify`, and print the output.**\n"
   ]
  },
  {
   "cell_type": "code",
   "execution_count": 16,
   "id": "94dd3227-8deb-4827-95d8-a0cbdfb58070",
   "metadata": {},
   "outputs": [
    {
     "name": "stdout",
     "output_type": "stream",
     "text": [
      "True\n",
      "True\n",
      "True\n",
      "True\n"
     ]
    }
   ],
   "source": [
    "print(ecdsa_verify(P, m1, r1, s11))\n",
    "print(ecdsa_verify(P, m2, r1, s21))\n",
    "print(ecdsa_verify(P, m1, r2, s12))\n",
    "print(ecdsa_verify(P, m2, r2, s22))"
   ]
  },
  {
   "cell_type": "markdown",
   "id": "fed2b4ef",
   "metadata": {},
   "source": [
    "**c. What is the result of the signature verification of the output of setup 1. using the public nonce of the setup of 3.?** Explain your result."
   ]
  },
  {
   "cell_type": "code",
   "execution_count": 17,
   "id": "95bf78a8",
   "metadata": {},
   "outputs": [
    {
     "name": "stdout",
     "output_type": "stream",
     "text": [
      "False\n"
     ]
    }
   ],
   "source": [
    "print(ecdsa_verify(P, m1, r2, s11))"
   ]
  },
  {
   "cell_type": "markdown",
   "id": "01b30f53",
   "metadata": {},
   "source": [
    "Setup 1 and 3 both try to create a signature of for the same message (`m1`) using the same private-public key pair (`e`,`P`). However, they are using a different private nonce (`k1` and `k2`), respectively, which leads to different public nonces `r1` and `r2`. Therefore, using the a pair of public nonce r and signatures s that do not match leads to a `False` result in the `ecdsa_verify` function. "
   ]
  },
  {
   "cell_type": "markdown",
   "id": "9acec33b",
   "metadata": {},
   "source": [
    "#### d. (Multiple signatures for same nonce, message and key?)\n",
    "Assume that $(r,s)$ is a valid ECDSA signature for the message `m`, private key `e`, and private nonce `k`.\n",
    "\n",
    "Recall that $n$ is the order of the group $\\{j G \\in S_{0,7}: j$ is a positive integer$\\}$ generated by the generator point $G$. <br>\n",
    "**Show that then $(r,n−s)$ is also a valid signature for the same message, key and nonce.**\n",
    "\n",
    "(**Hint:** You will not be able to solve this problem by coding. If you are not familiar with writing equations and formula in LaTeX/Markdown, we suggest that you write down your solution on a paper, take a picture/scan and insert the scan below.)"
   ]
  },
  {
   "cell_type": "code",
   "execution_count": 18,
   "id": "93b1a9a6",
   "metadata": {},
   "outputs": [
    {
     "name": "stdout",
     "output_type": "stream",
     "text": [
      "True\n",
      "True\n"
     ]
    }
   ],
   "source": [
    "e = 12345 #private key\n",
    "# messages\n",
    "m = 'Bitcoin'\n",
    "# Private nonce\n",
    "k = 987654321\n",
    "P = e*G\n",
    "(r, s) = ecdsa_sign(e, m, k)\n",
    "print(ecdsa_verify(P, m, r, s))\n",
    "print(ecdsa_verify(P, m, r, N-s))"
   ]
  },
  {
   "cell_type": "code",
   "execution_count": 19,
   "id": "3d86621f",
   "metadata": {},
   "outputs": [
    {
     "name": "stdout",
     "output_type": "stream",
     "text": [
      "104631914286407385980319307529796271411987572269560988302605005079211003539381\n"
     ]
    }
   ],
   "source": [
    "print(s)"
   ]
  },
  {
   "cell_type": "code",
   "execution_count": 20,
   "id": "26304e7d",
   "metadata": {},
   "outputs": [
    {
     "name": "stdout",
     "output_type": "stream",
     "text": [
      "11160174950908809443251677478891636440849992009513916080000158062307157954956\n"
     ]
    }
   ],
   "source": [
    "print(N-s)"
   ]
  },
  {
   "cell_type": "markdown",
   "id": "4f727506",
   "metadata": {},
   "source": [
    "#### e. (ECDSA Signature Length Reduction)\n",
    "**Explain how the statement from *d.* above can be used to reduce the maximum length of a DER-encoded ECDSA signature used in the Bitcoin blockchain from 73 bytes to 72 bytes.**"
   ]
  },
  {
   "cell_type": "markdown",
   "id": "c975563e",
   "metadata": {},
   "source": [
    "Including the SIGHASH flag, DER-encoded ECDSA signatures used in the Bitcoin blockchain can have up to 73 bytes of length (Lecture 13) in general. The DER encoding rules state that:\n",
    "    \n",
    "    Encode s as a (signed) big-endian integer, but prepend with the 0x00 byte if s’s first byte ≥ 0x80. Prepend the resulting length to s. Add this to the result.\n",
    "    \n",
    "The encoding of $s$ thus includes an additional byte `0x00` if the value of $s$ is larger than $2^{256} /2$. This byte will be prevented to appear in the DER encoding of the signature if, among $s$ and $n-s$, the smaller one is chosen."
   ]
  },
  {
   "cell_type": "markdown",
   "id": "1f57f3d9",
   "metadata": {},
   "source": [
    "#### f. (Public Key Recovery)\n",
    "Assume you are given a message `m` and the output (`r`,`s`) of an ECDSA signing function, but you do not know the underlying private key `e`, neither do you know the private nonce `k`. Furthermore, you are even not provided with the public key `P` that corresponds to this signing function.\n",
    "\n",
    "I claim that from this information, it is possible to \"narrow\" down what this public key `P` to at least two different possible options `P1` and `P2`, so that very likely, either `P == P1` or `P == P2`.\n",
    "\n",
    "**Show below what these two options `P1` and `P2` are.**"
   ]
  },
  {
   "cell_type": "markdown",
   "id": "0ae9da52",
   "metadata": {},
   "source": [
    "Let $z = \\operatorname{hash}($ `m` $ )$ if `m` is the message. From the condition checked in `ecdsa_verify` we see that the $x$-coordinate of\n",
    "$$\n",
    "u G + v P = \\frac{z}{s}G + \\frac{r}{s} P\n",
    "$$\n",
    "is supposed to coincide with $r=$ `r`. Let $R = (r,r_y)$ be the elliptic curve point obtained by taking $r_y = \\sqrt{r^3 + 7}$ (see \"how to derive $y$-coordinate from $x$-coordinate in Compressed SEC\" in Lecture 13 for how to compute this square root explicitly). <br>\n",
    "**Case 1:** It holds that $R = \\frac{z}{s}G + \\frac{r}{s} P$. <br>\n",
    "In this case, we can solve for $P$ as follows:\n",
    "\\begin{align*}\n",
    "R &= s^{-1}(zG + rP)  \\\\ \n",
    "sR &= zG + rP  \\\\\n",
    "rP &= sR - zG  \\\\\n",
    " P &= r^{-1}(sR - zG)  \\\\\n",
    "\\end{align*}\n",
    "In the above equation, the inverse $r^{-1}$ of $r$ is taken within $F_n$, where $n$ is the order of the group generated by the generator point $G$.\n",
    "\n",
    "Alternatively, a second case can be true: <br>\n",
    "**Case 2:** It holds that $-R = \\frac{z}{s}G + \\frac{r}{s} P$. <br>\n",
    "Similarly to above, we can rearrange this to\n",
    "\\begin{align*}\n",
    "-R &= s^{-1}(zG + rP)  \\\\ \n",
    "-sR &= zG + rP  \\\\\n",
    "rP &= -sR - zG  \\\\\n",
    " P &= r^{-1}(-sR - zG)  \\\\\n",
    "\\end{align*}\n",
    "\n",
    "Since we are only given the $x$-coordinate $r$ of $R$, either case could be true, so `P1`=$= r^{-1}(sR - zG)$ and `P2`$= r^{-1}(-sR - zG)$ are two options for the public key. that corresponds to the given information."
   ]
  },
  {
   "cell_type": "markdown",
   "id": "d4680797",
   "metadata": {},
   "source": [
    "#### g. (BONUS QUESTION: Public Key Recovery, 20 bonus points)\n",
    "\n",
    "**Note:** Answering this question is not required, but can provide you with bonus points to the homework assignment.\n",
    "\n",
    "In fact, in the setup of *f.* above, there might be actually **four** possibilities for the public key `P` to be recovered (among which two are very unlikely). **Describe what the two unlikely possibilities for the public key `P` are.**"
   ]
  },
  {
   "cell_type": "markdown",
   "id": "ce9ced85",
   "metadata": {},
   "source": [
    "We recall that scalars of elliptic curve points (such as $s$) are in $F_n$, whereas coordinates of elliptic curve points are in $F_p$, where $p$ is the prime order of the finite field ($p= 2**256 - 2**32 - 977$ for secp256k1). $n$ is of the same order of magnitude as $p$ (`n = 0xfffffffffffffffffffffffffffffffebaaedce6af48a03bbfd25e8cd0364141` vs. `p = 0xfffffffffffffffffffffffffffffffffffffffffffffffffffffffefffffc2f` in  in hexadecimal), but it holds that $n < p$.\n",
    "\n",
    "In the case of very small values of $r \\in F_n$, it could be that the associated public nonce point is \n",
    "$$R_3 = (r + n, \\sqrt{(r+n)^3 + 7}),$$\n",
    "or, \n",
    "$$R_4 = (r + n, -\\sqrt{(r+n)^3 + 7}),$$\n",
    "respectively.\n",
    "This leads to the possibilities for the public keys to be `P3`=$= r^{-1}(sR_3 - zG)$ or `P4`=$= r^{-1}(sR_4 - zG)$.\n",
    "\n",
    "However, we note that these cases cannot occur (or rather, coincide with `P1` and `P2` above) unless $(r +n) \\operatorname{mod} p \\neq (r +n) \\operatorname{mod} n$. This is only the case if  $0 < r < p - n$, which occurs approximately with probability $\\frac{p-n}{n} \\approx 3.7345\\cdot 10^{-39}$ (over the choice of a random private nonce $k$), which is very very small.  "
   ]
  },
  {
   "cell_type": "markdown",
   "id": "0d6602d7-b762-423c-b414-1e26178a72ad",
   "metadata": {},
   "source": [
    "### 2. Schnorr Signatures (40 Points)\n",
    "\n",
    "In the [Taproot update of the Bitcoin protocol](https://github.com/bitcoin/bips/blob/master/bip-0341.mediawiki), which was introduced as a [soft fork](https://en.wikipedia.org/wiki/Fork_(blockchain)) in August 2021, a new digital signature scheme was introduced in a new address format, which is based on [Schnorr signatures](https://github.com/bitcoin/bips/blob/master/bip-0340.mediawiki).\n",
    "\n",
    "#### a.\n",
    "Write a function `schnorr_sign` that computes and returns Schnorr signature and public nonce pair $(s, R)$ for the given private key `e`, message `m` and private nonce `k`.\n",
    "\n",
    "(**Hint:** You can use the version of the Schnorr signature scheme that has been discussed in class (R is returned as an (uncompressed) elliptic curve point); a strict adherence to the serialization of BIP 340 is not necessary.)"
   ]
  },
  {
   "cell_type": "code",
   "execution_count": 53,
   "id": "77f4f0e4-6bd9-4c32-8443-b263a00315f1",
   "metadata": {},
   "outputs": [],
   "source": [
    "def schnorr_sign(e, m, k):\n",
    "    R = k*G\n",
    "    P = e*G\n",
    "    R_xonly = R.x.num.to_bytes(32, 'big')\n",
    "    P_xonly = P.x.num.to_bytes(32, 'big')\n",
    "    m = m.encode()\n",
    "    z = int.from_bytes(hash256(R_xonly + P_xonly + m), 'big') % N\n",
    "    s = (k + z*e) % N\n",
    "    return (s, R)"
   ]
  },
  {
   "cell_type": "markdown",
   "id": "5779b870-169c-4855-ad07-56fdd569a816",
   "metadata": {},
   "source": [
    "#### b.\n",
    "Write a function `schnorr_verify` to verify if the generated schnorr signature `s` is valid or not using the public key `P`, message `m`, x coordinate of the public nonce `r`. Return `True` if signature is valid, `False` otherwise."
   ]
  },
  {
   "cell_type": "code",
   "execution_count": 54,
   "id": "585c504c-f9b3-4b13-bbb8-958b278ac160",
   "metadata": {},
   "outputs": [],
   "source": [
    "def schnorr_verify(P, m, s, R):\n",
    "    P_xonly = P.x.num.to_bytes(32, 'big')\n",
    "    R_xonly = R.x.num.to_bytes(32, 'big')\n",
    "    m = m.encode()\n",
    "    z = int.from_bytes(hash256(R_xonly + P_xonly + m), 'big') % N\n",
    "    target = z*P + R\n",
    "    return target == s*G"
   ]
  },
  {
   "cell_type": "markdown",
   "id": "3737cf0a-f8e7-4d79-8a71-27324ade2437",
   "metadata": {},
   "source": [
    "#### Testcases\n",
    "\n",
    "**Generate the output of `schnorr_sign` in the cases 1.-4. from Exercise 1. \"ECDSA\" above, and print this output successively.**\n",
    "\n",
    "Verfiy the workings of the the functions implemented in *a.* and *b.* above using the messages `m1`, `m2` defined below and the random private nonces `k1` and `k2` defined below, each for the private key `e`."
   ]
  },
  {
   "cell_type": "code",
   "execution_count": null,
   "id": "970b6ab9-662e-4670-8b1a-7fb17cdc035b",
   "metadata": {},
   "outputs": [],
   "source": []
  },
  {
   "cell_type": "code",
   "execution_count": null,
   "id": "b70556fe-ccc5-473e-bfad-c84ae1013386",
   "metadata": {},
   "outputs": [],
   "source": []
  },
  {
   "cell_type": "markdown",
   "id": "0c901079-7e3c-4b1c-815a-74c6d61fc303",
   "metadata": {},
   "source": [
    "Generate signatures for the following cases:\n",
    "1. For the message `m1` and private nonce `k1`\n",
    "2. For `m2` and `k1`\n",
    "3. For `m1` and `k2`\n",
    "4. For `m2` and `k2`\n",
    "\n",
    "Also, Verify the generated signatures in each case.\n",
    "\n",
    "(Print your answers for all the above cases)"
   ]
  },
  {
   "cell_type": "code",
   "execution_count": 56,
   "id": "4beeee2b-80ce-4027-b62e-3f8dfc1a0b46",
   "metadata": {},
   "outputs": [
    {
     "name": "stdout",
     "output_type": "stream",
     "text": [
      "(19433819383232933904554569276503717832929153680935985500499855567107670990681, S256Point(26a296b96285ff81f10721ee78d3a3cea2f66e85220eac5fd60c9321aaf207f2, acc9a985c4e25b1d69c1d491633e3407c25c491c09445b70290368cbecccb829))\n"
     ]
    }
   ],
   "source": [
    "P = e*G\n",
    "(s11, R1) = schnorr_sign(e, m1, k1)\n",
    "print((s11,R1))"
   ]
  },
  {
   "cell_type": "code",
   "execution_count": 57,
   "id": "350385a7-79ed-485e-b73d-da8441fae7b9",
   "metadata": {},
   "outputs": [
    {
     "name": "stdout",
     "output_type": "stream",
     "text": [
      "(78146440728767369034061725880925276201589829893812490721339413417531144024687, S256Point(26a296b96285ff81f10721ee78d3a3cea2f66e85220eac5fd60c9321aaf207f2, acc9a985c4e25b1d69c1d491633e3407c25c491c09445b70290368cbecccb829))\n"
     ]
    }
   ],
   "source": [
    "(s12, R1) = schnorr_sign(e, m2, k1)\n",
    "print((s12,R1))"
   ]
  },
  {
   "cell_type": "code",
   "execution_count": 58,
   "id": "668eb791-9775-4960-94bd-1a48468ff3c1",
   "metadata": {},
   "outputs": [
    {
     "name": "stdout",
     "output_type": "stream",
     "text": [
      "(63906732418935910857572104945439580557798766310031731787931150638898440201174, S256Point(1e1953f319bc2753b47231caaa25061bc6dc29b017eb01a848809ba70b12b0d2, 7aee36a5d36d5ad5919d5d8325ddfcb1d502e97f10ba512589e56abaf0de233a))\n"
     ]
    }
   ],
   "source": [
    "(s21, R2) = schnorr_sign(e, m1, k2)\n",
    "print((s21,R2))"
   ]
  },
  {
   "cell_type": "code",
   "execution_count": 59,
   "id": "98e30c84-0f98-42f1-9214-a93e6ba5d8d0",
   "metadata": {},
   "outputs": [
    {
     "name": "stdout",
     "output_type": "stream",
     "text": [
      "(101107292127574130836778977377221679966129011648684875611092108941656427460959, S256Point(1e1953f319bc2753b47231caaa25061bc6dc29b017eb01a848809ba70b12b0d2, 7aee36a5d36d5ad5919d5d8325ddfcb1d502e97f10ba512589e56abaf0de233a))\n"
     ]
    }
   ],
   "source": [
    "(s22, R2) = schnorr_sign(e, m2, k2)\n",
    "print((s22,R2))"
   ]
  },
  {
   "cell_type": "markdown",
   "id": "e061fc19",
   "metadata": {},
   "source": [
    "**Then, verify the generated signatures for the four cases 1.-4. using `ecdsa_verify`, and print the output.**\n"
   ]
  },
  {
   "cell_type": "code",
   "execution_count": 60,
   "id": "b01719d4",
   "metadata": {},
   "outputs": [
    {
     "name": "stdout",
     "output_type": "stream",
     "text": [
      "True\n",
      "True\n",
      "True\n",
      "True\n"
     ]
    }
   ],
   "source": [
    "print(schnorr_verify(P, m1, s11, R1))\n",
    "print(schnorr_verify(P, m2, s12, R1))\n",
    "print(schnorr_verify(P, m1, s21, R2))\n",
    "print(schnorr_verify(P, m2, s22, R2))"
   ]
  },
  {
   "cell_type": "markdown",
   "id": "ac6bdc7e",
   "metadata": {},
   "source": [
    "**c. What is the result of the signature verification of the output of setup 1. using the public nonce of the setup of 3.?** Explain your result."
   ]
  },
  {
   "cell_type": "code",
   "execution_count": 62,
   "id": "df7dadd7",
   "metadata": {},
   "outputs": [
    {
     "name": "stdout",
     "output_type": "stream",
     "text": [
      "False\n"
     ]
    }
   ],
   "source": [
    "print(schnorr_verify(P, m1, s11, R2))"
   ]
  },
  {
   "cell_type": "markdown",
   "id": "c08a5d32",
   "metadata": {},
   "source": [
    "The explanation is analogous to the part c) of the ECDSA exercise above."
   ]
  },
  {
   "cell_type": "markdown",
   "id": "1b2d7560-47c1-4c1d-902f-25970e52ea00",
   "metadata": {},
   "source": [
    "#### c. (Leaking of Private Key after Reuse of Nonce)\n",
    "\n",
    "Assume that a signer with access to the private key `e` publishes a valid signature Schnorr $(s_1,R_1)$ and $(s_2,R_2)$ for the two different messages `m1` and `m2`, respectively, generated using same the private nonce `k`.\n",
    "\n",
    "**You are now an attacker that has access to $(s_1,R_1)$ and $(s_2,R_2)$ as well as the public key `P`. Can you obtain the private key from this information?**\n",
    "\n",
    "Explain your answer and writing code that takes the signatures generated for `m1` and `m2` using `k1` above, as well as the public key `P` as input and returns `e`.\n",
    "\n",
    "Print the output of this code."
   ]
  },
  {
   "cell_type": "code",
   "execution_count": 66,
   "id": "f6144f88-0fcd-432d-8b9e-471cadde605d",
   "metadata": {},
   "outputs": [
    {
     "name": "stdout",
     "output_type": "stream",
     "text": [
      "Private Key: 246835\n",
      "Reconstructed Private Key: 246835\n"
     ]
    }
   ],
   "source": [
    "print(\"Private Key:\", e)\n",
    "(s1, R1) = schnorr_sign(e, m1, k1)\n",
    "(s2, R2) = schnorr_sign(e, m2, k1)\n",
    "P = e*G\n",
    "\n",
    "P_xonly = P.x.num.to_bytes(32, 'big')\n",
    "R_xonly = R1.x.num.to_bytes(32, 'big')\n",
    "m = m1.encode()\n",
    "z1 = int.from_bytes(hash256(R_xonly + P_xonly + m), 'big') % N\n",
    "\n",
    "\n",
    "R_xonly = R2.x.num.to_bytes(32, 'big')\n",
    "m = m2.encode()\n",
    "z2 = int.from_bytes(hash256(R_xonly + P_xonly + m), 'big') % N\n",
    "\n",
    "z_inv = pow(z1 - z2, -1, N)\n",
    "\n",
    "e_obtained = (s1-s2) * z_inv % N\n",
    "\n",
    "print(\"Reconstructed Private Key:\",e_obtained)"
   ]
  }
 ],
 "metadata": {
  "kernelspec": {
   "display_name": "Python 3 (ipykernel)",
   "language": "python",
   "name": "python3"
  },
  "language_info": {
   "codemirror_mode": {
    "name": "ipython",
    "version": 3
   },
   "file_extension": ".py",
   "mimetype": "text/x-python",
   "name": "python",
   "nbconvert_exporter": "python",
   "pygments_lexer": "ipython3",
   "version": "3.11.8"
  }
 },
 "nbformat": 4,
 "nbformat_minor": 5
}
