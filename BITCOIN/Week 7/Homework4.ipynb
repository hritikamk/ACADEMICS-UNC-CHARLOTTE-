{
 "cells": [
  {
   "cell_type": "markdown",
   "id": "19d53131-b8bb-4fea-89cf-9dd5b92ed8c7",
   "metadata": {},
   "source": [
    "# Topics in Computer Science - Bitcoin: Programming the Future of Money - ITCS 4010 & 5010 - Spring 2025 - UNC Charlotte\n",
    "\n",
    "# Homework 4 - Digital Signatures in Bitcoin (100 Points)\n",
    "\n",
    "Name:\n",
    "\n",
    "Charlotte ID:\n",
    "\n",
    "List of students collaborated with:\n"
   ]
  },
  {
   "cell_type": "markdown",
   "id": "7a255941-f2cd-4a13-b0e1-f3af36e0ce72",
   "metadata": {},
   "source": [
    "# <font color=\"blue\"> Submission instructions</font>\n",
    "\n",
    "1. Click the Save button at the top of the Jupyter Notebook.\n",
    "2. Please make sure to have entered your name above.\n",
    "3. Select Cell -> All Output -> Clear. This will clear all the outputs from all cells (but will keep the content of all cells). \n",
    "4. Select Cell -> Run All. This will run all the cells in order, and will take several minutes.\n",
    "5. Once you've rerun everything, create a PDF version of the executed Jupyter Notebook via \"File\" -> \"Download As\" and then choosing on of the options \"PDF via LaTeX\", \"PDF via HTML\" or \"HTML\" and download a PDF or HTML version showing the code and the output of all cells. If you download a HTML version, you can print this HTML file as a PDF in a second step. Save the PDF version in the same folder that contains the notebook file.\n",
    "6. Look at the PDF file and make sure all your solutions are there, displayed correctly.\n",
    "7. Submit **both** your PDF and the notebook file .ipynb on Gradescope.\n",
    "8. Make sure your your Gradescope submission contains the correct files by downloading it after posting it on Gradescope.\n",
    "\n",
    "<hr/>"
   ]
  },
  {
   "cell_type": "markdown",
   "id": "49504896",
   "metadata": {},
   "source": [
    "The following classes `FieldElement` and `Point` implement instances of elements of a finite field and of points on a elliptic curve, and their respective arithmetic operations. You might be familiar with them from the last homework assignment."
   ]
  },
  {
   "cell_type": "code",
   "execution_count": null,
   "id": "d267e687-bbd7-4159-bad6-3e4a665b5e59",
   "metadata": {},
   "outputs": [],
   "source": [
    "class FieldElement:\n",
    "\n",
    "    def __init__(self, num, prime):\n",
    "        #check if 0 > num >= prime. Raise ValueError if num is out of range.\n",
    "        if num >= prime or num < 0:\n",
    "            error = 'Num {} not in field range 0 to {}'.format(num, prime - 1)\n",
    "            raise ValueError(error)\n",
    "        #Initialize num and prime\n",
    "        self.num = num\n",
    "        self.prime = prime\n",
    "\n",
    "    def __repr__(self):\n",
    "        return 'FieldElement_{}({})'.format(self.prime, self.num)\n",
    "\n",
    "    def __eq__(self, other):\n",
    "        if other is None:\n",
    "            return False\n",
    "        #Return True if the FieldElement objects are equal\n",
    "        return self.num == other.num and self.prime == other.prime\n",
    "\n",
    "    def __ne__(self, other):\n",
    "        # This should be the inverse of the == operator\n",
    "        return not (self == other)\n",
    "\n",
    "    def __add__(self, other):\n",
    "        # Two numbers have to be in same field, otherwise raise error\n",
    "        if self.prime != other.prime:\n",
    "            raise TypeError('Cannot add two numbers in different Fields')\n",
    "        #Perform addition of two finite field elements\n",
    "        num = (self.num + other.num) % self.prime\n",
    "        # Return an element of the same class\n",
    "        return self.__class__(num, self.prime)\n",
    "\n",
    "    def __sub__(self, other):\n",
    "        # Two numbers have to be in same field, otherwise raise error\n",
    "        if self.prime != other.prime:\n",
    "            raise TypeError('Cannot subtract two numbers in different Fields')\n",
    "        #Perform subtraction of two finite field elements\n",
    "        num = (self.num - other.num) % self.prime\n",
    "        return self.__class__(num, self.prime)\n",
    "\n",
    "    def __mul__(self, other):\n",
    "        # Two numbers have to be in same field, otherwise raise error\n",
    "        if self.prime != other.prime:\n",
    "            raise TypeError('Cannot multiply two numbers in different Fields')\n",
    "        # Perform muliplication of two finite field elements\n",
    "        num = (self.num * other.num) % self.prime\n",
    "        return self.__class__(num, self.prime)\n",
    "\n",
    "    def __pow__(self, exponent):\n",
    "        #Implement finite field exponentation\n",
    "        n = exponent % (self.prime - 1)\n",
    "        num = pow(self.num, n, self.prime)\n",
    "        return self.__class__(num, self.prime)\n",
    "\n",
    "    def __truediv__(self, other):\n",
    "        # Two numbers have to be in same field, otherwise raise error\n",
    "        if self.prime != other.prime:\n",
    "            raise TypeError('Cannot divide two numbers in different Fields')\n",
    "        # perform division of two finite field elements\n",
    "        # Hint: Use fermat's little theorem:\n",
    "        num = (self.num * pow(other.num, self.prime - 2, self.prime)) % self.prime\n",
    "        return self.__class__(num, self.prime)\n",
    "\n",
    "    def __rmul__(self, coefficient):\n",
    "        # Implement scalar multiplication: Multiply the scalar 'coeffiecient' with finite field element.\n",
    "        num = (self.num * coefficient) % self.prime\n",
    "        return self.__class__(num=num, prime=self.prime)"
   ]
  },
  {
   "cell_type": "code",
   "execution_count": null,
   "id": "4f7352b9-cef6-47fe-bc90-af3003a33d93",
   "metadata": {},
   "outputs": [],
   "source": [
    "class Point:\n",
    "\n",
    "    def __init__(self, x, y, a, b):\n",
    "        self.a = a\n",
    "        self.b = b\n",
    "        self.x = x\n",
    "        self.y = y\n",
    "        if self.x is None and self.y is None:\n",
    "            return\n",
    "        if self.y**2 != self.x**3 + a * x + b:\n",
    "            # if not, throw a ValueError\n",
    "            raise ValueError('({}, {}) is not on the curve'.format(x, y))\n",
    "\n",
    "    def __eq__(self, other):\n",
    "        return self.x == other.x and self.y == other.y \\\n",
    "            and self.a == other.a and self.b == other.b\n",
    "\n",
    "    def __ne__(self, other):\n",
    "        # this should be the inverse of the == operator\n",
    "        return not (self == other)\n",
    "\n",
    "    def __repr__(self):\n",
    "        if self.x is None:\n",
    "            return 'Point(infinity)'\n",
    "        elif isinstance(self.x, FieldElement):\n",
    "            return 'Point({},{})_{}_{} FieldElement({})'.format(\n",
    "                self.x.num, self.y.num, self.a.num, self.b.num, self.x.prime)\n",
    "        else:\n",
    "            return 'Point({},{})_{}_{}'.format(self.x, self.y, self.a, self.b)\n",
    "\n",
    "    def __add__(self, other):\n",
    "        if self.a != other.a or self.b != other.b:\n",
    "            raise TypeError('Points {}, {} are not on the same curve'.format(self, other))\n",
    "        \n",
    "        if self.x is None:\n",
    "            return other\n",
    "        if other.x is None:\n",
    "            return self\n",
    "\n",
    "        if self.x == other.x and self.y != other.y:\n",
    "            return self.__class__(None, None, self.a, self.b)\n",
    "\n",
    "        if self.x != other.x:\n",
    "            s = (other.y - self.y) / (other.x - self.x)\n",
    "            x = s**2 - self.x - other.x\n",
    "            y = s * (self.x - x) - self.y\n",
    "            return self.__class__(x, y, self.a, self.b)\n",
    "\n",
    "        if self == other and self.y == 0 * self.x:\n",
    "            return self.__class__(None, None, self.a, self.b)\n",
    "\n",
    "        if self == other:\n",
    "            s = (3 * self.x**2 + self.a) / (2 * self.y)\n",
    "            x = s**2 - 2 * self.x\n",
    "            y = s * (self.x - x) - self.y\n",
    "            return self.__class__(x, y, self.a, self.b)\n",
    "\n",
    "    def __rmul__(self, coefficient):\n",
    "        coef = coefficient\n",
    "        current = self\n",
    "        result = self.__class__(None, None, self.a, self.b)\n",
    "        while coef:\n",
    "            if coef & 1:\n",
    "                result += current\n",
    "            current += current\n",
    "            coef >>= 1\n",
    "        return result\n"
   ]
  },
  {
   "cell_type": "markdown",
   "id": "b511f28c-9361-4253-8751-b7159d0af8bf",
   "metadata": {},
   "source": [
    "The classes `S256Field` and `S256Point` are subclasses of `FieldElement` and `Point`, respectively, specifically designed to work with the parameters of [secp256k1](https://en.bitcoin.it/wiki/Secp256k1). These subclasses simplify the process of initializing a point on the secp256k1 curve by eliminating the need to repeatedly define the curve parameters `a` and `b`, as required when using the Point class."
   ]
  },
  {
   "cell_type": "code",
   "execution_count": null,
   "id": "f66198c1",
   "metadata": {},
   "outputs": [],
   "source": [
    "Prime = 2**256 - 2**32 - 977 # this is the prime that determines the size of the finite field F_p on which the secp256k1 points live\n",
    "class S256Field(FieldElement):\n",
    "\n",
    "    def __init__(self, num, prime=None):\n",
    "        super().__init__(num=num, prime=Prime)\n",
    "\n",
    "    def __repr__(self):\n",
    "        return '{:x}'.format(self.num).zfill(64)"
   ]
  },
  {
   "cell_type": "markdown",
   "id": "c170b8bf",
   "metadata": {},
   "source": [
    "Besides specifying the prime order and the curve parameters `a` and `b`, secp256k1 also specifies a specific point on the elliptic curve, the so-called _generator point_ `G`. It is defined via its $x$- and $y$-coordinates $G=(G_x,G_y)$."
   ]
  },
  {
   "cell_type": "code",
   "execution_count": null,
   "id": "5e4e0e4c",
   "metadata": {},
   "outputs": [],
   "source": [
    "A = 0\n",
    "B = 7\n",
    "n = 0xfffffffffffffffffffffffffffffffebaaedce6af48a03bbfd25e8cd0364141 # order of group generated by generator point G\n",
    "\n",
    "class S256Point(Point):\n",
    "\n",
    "    def __init__(self, x, y, a=None, b=None):\n",
    "        a, b = S256Field(A), S256Field(B)\n",
    "        if type(x) == int:\n",
    "            super().__init__(x=S256Field(x), y=S256Field(y), a=a, b=b)\n",
    "        else:\n",
    "            super().__init__(x=x, y=y, a=a, b=b)  # <1>\n",
    "\n",
    "    def __repr__(self):\n",
    "        if self.x is None:\n",
    "            return 'S256Point(infinity)'\n",
    "        else:\n",
    "            return 'S256Point({}, {})'.format(self.x, self.y)\n",
    "\n",
    "    def __rmul__(self, coefficient):\n",
    "        coef = coefficient % n\n",
    "        return super().__rmul__(coef)\n",
    "\n",
    "G = S256Point(0x79be667ef9dcbbac55a06295ce870b07029bfcdb2dce28d959f2815b16f81798,\n",
    "    0x483ada7726a3c4655da4fbfc0e1108a8fd17b448a68554199c47d08ffb10d4b8)"
   ]
  },
  {
   "cell_type": "markdown",
   "id": "35b41b1b",
   "metadata": {},
   "source": [
    "The group order $n$ of the group generated by $G$ corresponds to the smallest integer that satisfies \n",
    "$$\n",
    "n \\cdot G = O,\n",
    "$$\n",
    "(scalar multplication of $n$ with $G$), where $O$ is the additive identity element of the elliptic curve $S_{0,7} = \\{(x,y) \\in F_p \\times F_p: y^2 = x^3 + 7\\}$ with $p=$`Prime`. You can see in the definition of `__rmul__` above that this group order can be used to simplify a scalar multiplication coefficient `coefficient`; this is due to the fact that all calculations done within our signature schemes are within the generator group."
   ]
  },
  {
   "cell_type": "markdown",
   "id": "30922152-5f2b-4c21-9c1e-08ad430cc195",
   "metadata": {},
   "source": [
    "`hash256` function computes 'sha256' hash twice for a given bytes of message."
   ]
  },
  {
   "cell_type": "code",
   "execution_count": null,
   "id": "fbf0d39d-d78f-4f01-b55b-caab1299e6da",
   "metadata": {},
   "outputs": [],
   "source": [
    "import hashlib\n",
    "def hash256(s):\n",
    "    '''two rounds of sha256'''\n",
    "    return hashlib.sha256(hashlib.sha256(s).digest()).digest()"
   ]
  },
  {
   "cell_type": "markdown",
   "id": "927a5dc9-7b81-41e4-8404-55d9f79edfe6",
   "metadata": {},
   "source": [
    "### 1. ECDSA (60 Points)\n",
    "\n",
    "In this exercise, we recap and implement the Elliptic Curve Digital Signature Algorithm (ECDSA), is the main digital signature scheme used in the Bitcoin protocol.\n",
    "\n",
    "#### a. \n",
    "Write a function `ecdsa_sign` that implements the signing function of ECDSA on the secp256k1 elliptic curve with generator (or base) point `G` from above, and computes and returns the ECDSA signature pair $(r,s)$ for the given private key `e`, message `m` and private nonce `k`. Use `hash256` from above as the hash function $\\operatorname{hash}(\\cdot)$ of the scheme."
   ]
  },
  {
   "cell_type": "code",
   "execution_count": null,
   "id": "12dbe4f8-a4a8-42e0-b84c-27ace84ec134",
   "metadata": {},
   "outputs": [],
   "source": [
    "def ecdsa_sign(e, m, k):\n",
    "   #YOUR CODE HERE\n",
    "    return"
   ]
  },
  {
   "cell_type": "markdown",
   "id": "2c02f570-8100-4820-a190-bd542d9aac34",
   "metadata": {},
   "source": [
    "#### b.\n",
    "Write a function `ecdsa_verify` to verify if the generated signature `s` is valid or not using the public key `P`, message `m`, x coordinate of the public nonce `r`. Return `True` if signature is valid, `False` otherwise."
   ]
  },
  {
   "cell_type": "code",
   "execution_count": null,
   "id": "36529b86-ac9a-4404-9038-d58f974b9cb5",
   "metadata": {},
   "outputs": [],
   "source": [
    "def ecdsa_verify(P, m, r, s):\n",
    "    #YOUR CODE HERE\n",
    "    return"
   ]
  },
  {
   "cell_type": "markdown",
   "id": "91c4853c-c813-4239-add5-bff665732964",
   "metadata": {},
   "source": [
    "#### Testcases\n",
    "\n",
    "Verfiy the workings of the the functions implemented in *a.* and *b.* above using the messages `m1`, `m2` defined below and the random private nonces `k1` and `k2` defined below, each for the private key `e`."
   ]
  },
  {
   "cell_type": "code",
   "execution_count": null,
   "id": "e03ee119",
   "metadata": {},
   "outputs": [],
   "source": [
    "e = 246835 # fix private key\n",
    "print(\"Private Key used: e =\",e)\n",
    "# set messages\n",
    "m1 = 'Bitcoin'\n",
    "m2 = 'Lightning'"
   ]
  },
  {
   "cell_type": "code",
   "execution_count": null,
   "id": "b9783965",
   "metadata": {},
   "outputs": [],
   "source": [
    "import random\n",
    "random.seed(10)\n",
    "k1 = random.randint(0,n) # private nonce k1\n",
    "print(k1)\n",
    "random.seed(100)\n",
    "k2 = random.randint(0,n) # private nonce k2\n",
    "print(k2)"
   ]
  },
  {
   "cell_type": "markdown",
   "id": "62843929",
   "metadata": {},
   "source": [
    "**Note:** It is *unsafe* to use the pseudo-random number generator of the Python module `random` in production software such as for generating your own private key or random nonce to be used on the actual Bitcoin network, see [discussion here](https://docs.python.org/3/library/random.html)."
   ]
  },
  {
   "cell_type": "markdown",
   "id": "d6d91d48",
   "metadata": {},
   "source": [
    "**Generate the output of `ecdsa_sign` in  the following cases, and print this output successively:**\n",
    "\n",
    "1. For the message `m1` and private nonce `k1`\n",
    "2. For `m2` and `k1`\n",
    "3. For `m1` and `k2`\n",
    "4. For `m2` and `k2`"
   ]
  },
  {
   "cell_type": "code",
   "execution_count": null,
   "id": "fdebe91d",
   "metadata": {},
   "outputs": [],
   "source": [
    "#ADD YOUR CODE HERE\n"
   ]
  },
  {
   "cell_type": "markdown",
   "id": "f60fd36d-e7c4-4aa3-8e8d-36e62e200f1e",
   "metadata": {},
   "source": [
    "**Then, verify the generated signatures for the four cases 1.-4. using `ecdsa_verify`, and print the output.**\n"
   ]
  },
  {
   "cell_type": "code",
   "execution_count": null,
   "id": "f65fd840-1673-4c49-acbd-ea3765f6f980",
   "metadata": {},
   "outputs": [],
   "source": [
    "#ADD YOUR CODE HERE\n"
   ]
  },
  {
   "cell_type": "markdown",
   "id": "fb882df0",
   "metadata": {},
   "source": [
    "**What is the result of the signature verification of the output of setup 1. using the public nonce of the setup of 3.?** Explain your result."
   ]
  },
  {
   "cell_type": "code",
   "execution_count": null,
   "id": "6af9e461-ad4b-47ed-a3c8-93b47f3738ac",
   "metadata": {},
   "outputs": [],
   "source": [
    "#ADD YOUR CODE HERE\n"
   ]
  },
  {
   "cell_type": "markdown",
   "id": "cb33f201",
   "metadata": {},
   "source": [
    "[Add your explanation here.]"
   ]
  },
  {
   "cell_type": "markdown",
   "id": "c3a11f40-a703-42e9-9301-baf8cbecbbfe",
   "metadata": {},
   "source": [
    "#### d. (Multiple signatures for same nonce, message and key?)\n",
    "Assume that $(r,s)$ is a valid ECDSA signature for the message `m`, private key `e`, and private nonce `k`.\n",
    "\n",
    "Recall that $n$ is the order of the group $\\{j G \\in S_{0,7}: j$ is a positive integer$\\}$ generated by the generator point $G$. <br>\n",
    "**Show that then $(r,n−s)$ is also a valid signature for the same message, key and nonce.**\n",
    "\n",
    "(**Hint:** You will not be able to solve this problem by coding. If you are not familiar with writing equations and formula in LaTeX/Markdown, we suggest that you write down your solution on a paper, take a picture/scan and insert the scan below."
   ]
  },
  {
   "cell_type": "markdown",
   "id": "311d5ce8",
   "metadata": {},
   "source": [
    "[Add your solution here.]"
   ]
  },
  {
   "cell_type": "markdown",
   "id": "71053899-ad28-4f9c-88bb-16e1cd96d49a",
   "metadata": {},
   "source": [
    "#### e. (ECDSA Signature Length Reduction)\n",
    "**Explain how the statement from *d.* above can be used to reduce the maximum length of a DER-encoded ECDSA signature used in the Bitcoin blockchain from 73 bytes to 72 bytes.**"
   ]
  },
  {
   "cell_type": "markdown",
   "id": "329a1415",
   "metadata": {},
   "source": [
    "[Add your answer here.]"
   ]
  },
  {
   "cell_type": "markdown",
   "id": "7bf16395",
   "metadata": {},
   "source": [
    "#### f. (Public Key Recovery)\n",
    "Assume you are given a message `m` and the output (`r`,`s`) of an ECDSA signing function, but you do not know the underlying private key `e`, neither do you know the private nonce `k`. Furthermore, you are even not provided with the public key `P` that corresponds to this signing function.\n",
    "\n",
    "I claim that from this information, it is possible to \"narrow\" down what this public key `P` to at least two different possible options `P1` and `P2`, so that very likely, either `P == P1` or `P == P2`.\n",
    "\n",
    "**Show below what these two options `P1` and `P2` are.**"
   ]
  },
  {
   "cell_type": "markdown",
   "id": "ae34c7bc",
   "metadata": {},
   "source": [
    "[Add your answer here.]"
   ]
  },
  {
   "cell_type": "markdown",
   "id": "52108640",
   "metadata": {},
   "source": [
    "#### g. (BONUS QUESTION: Public Key Recovery, 20 bonus points)\n",
    "\n",
    "**Note:** Answering this question is not required, but can provide you with bonus points to the homework assignment.\n",
    "\n",
    "In fact, in the setup of *f.* above, there might be actually **four** possibilities for the public key `P` to be recovered (among which two are very unlikely). **Describe what the two unlikely possibilities for the public key `P` are.**"
   ]
  },
  {
   "cell_type": "markdown",
   "id": "349d01a4",
   "metadata": {},
   "source": [
    "[Add your answer here.]"
   ]
  },
  {
   "cell_type": "markdown",
   "id": "0d6602d7-b762-423c-b414-1e26178a72ad",
   "metadata": {},
   "source": [
    "### 2. Schnorr Signatures (40 Points)\n",
    "\n",
    "In the [Taproot update of the Bitcoin protocol](https://github.com/bitcoin/bips/blob/master/bip-0341.mediawiki), which was introduced as a [soft fork](https://en.wikipedia.org/wiki/Fork_(blockchain)) in August 2021, a new digital signature scheme was introduced in a new address format, which is based on [Schnorr signatures](https://github.com/bitcoin/bips/blob/master/bip-0340.mediawiki).\n",
    "\n",
    "#### a.\n",
    "Write a function `schnorr_sign` that computes and returns Schnorr signature and public nonce pair $(s, R)$ for the given private key `e`, message `m` and private nonce `k`.\n",
    "\n",
    "(**Hint:** You can use the version of the Schnorr signature scheme that has been discussed in class (R is returned as an (uncompressed) elliptic curve point); a strict adherence to the serialization of BIP 340 is not necessary.)"
   ]
  },
  {
   "cell_type": "code",
   "execution_count": null,
   "id": "77f4f0e4-6bd9-4c32-8443-b263a00315f1",
   "metadata": {},
   "outputs": [],
   "source": [
    "def schnorr_sign(e, m, k):\n",
    "    #YOUR CODE HERE\n",
    "    return"
   ]
  },
  {
   "cell_type": "markdown",
   "id": "5779b870-169c-4855-ad07-56fdd569a816",
   "metadata": {},
   "source": [
    "#### b.\n",
    "Write a function `schnorr_verify` to verify if the generated Schnorr signature `s` is valid or not using the public key `P`, message `m`, x coordinate of the public nonce `R`. Return `True` if signature is valid, `False` otherwise."
   ]
  },
  {
   "cell_type": "code",
   "execution_count": null,
   "id": "585c504c-f9b3-4b13-bbb8-958b278ac160",
   "metadata": {},
   "outputs": [],
   "source": [
    "def schnorr_verify(P, m, s, R):\n",
    "    #YOUR CODE HERE\n",
    "    return"
   ]
  },
  {
   "cell_type": "markdown",
   "id": "3737cf0a-f8e7-4d79-8a71-27324ade2437",
   "metadata": {},
   "source": [
    "#### Testcases\n",
    "\n",
    "**Generate the output of `schnorr_sign` in the cases 1.-4. from Exercise 1. \"ECDSA\" above, and print this output successively.**\n"
   ]
  },
  {
   "cell_type": "code",
   "execution_count": null,
   "id": "a9e969b2",
   "metadata": {},
   "outputs": [],
   "source": [
    "#ADD YOUR CODE HERE\n"
   ]
  },
  {
   "cell_type": "markdown",
   "id": "06a299eb",
   "metadata": {},
   "source": [
    "**Then, verify the generated signatures for the four cases 1.-4. using `schnorr_verify`, and print the output.**\n"
   ]
  },
  {
   "cell_type": "code",
   "execution_count": null,
   "id": "e3a142cf",
   "metadata": {},
   "outputs": [],
   "source": [
    "#ADD YOUR CODE HERE\n"
   ]
  },
  {
   "cell_type": "markdown",
   "id": "6bb4837c",
   "metadata": {},
   "source": [
    "**What is the result of the signature verification of the output of setup 1. using the public nonce of the setup of 3.?**"
   ]
  },
  {
   "cell_type": "code",
   "execution_count": null,
   "id": "621a48ba",
   "metadata": {},
   "outputs": [],
   "source": [
    "#ADD YOUR CODE HERE\n"
   ]
  },
  {
   "cell_type": "markdown",
   "id": "d1284f5b-013f-4390-a816-a7baba595dc8",
   "metadata": {},
   "source": [
    "#### c. (Leaking of Private Key after Reuse of Nonce)\n",
    "\n",
    "Assume that a signer with access to the private key `e` publishes a valid signature Schnorr $(s_1,R_1)$ and $(s_2,R_2)$ for the two different messages `m1` and `m2`, respectively, generated using same the private nonce `k`.\n",
    "\n",
    "**You are now an attacker that has access to $(s_1,R_1)$ and $(s_2,R_2)$ as well as the public key `P`. Can you obtain the private key from this information?**\n",
    "\n",
    "Explain your answer and writing code that takes the signatures generated for `m1` and `m2` using `k1` above, as well as the public key `P` as input and returns `e`.\n",
    "\n",
    "Print the output of this code."
   ]
  },
  {
   "cell_type": "markdown",
   "id": "2160fb11",
   "metadata": {},
   "source": [
    "[Add your explanation here.]"
   ]
  },
  {
   "cell_type": "code",
   "execution_count": null,
   "id": "40481fec",
   "metadata": {},
   "outputs": [],
   "source": [
    "#ADD YOUR CODE HERE\n"
   ]
  }
 ],
 "metadata": {
  "kernelspec": {
   "display_name": "Python 3 (ipykernel)",
   "language": "python",
   "name": "python3"
  },
  "language_info": {
   "codemirror_mode": {
    "name": "ipython",
    "version": 3
   },
   "file_extension": ".py",
   "mimetype": "text/x-python",
   "name": "python",
   "nbconvert_exporter": "python",
   "pygments_lexer": "ipython3",
   "version": "3.11.8"
  }
 },
 "nbformat": 4,
 "nbformat_minor": 5
}
